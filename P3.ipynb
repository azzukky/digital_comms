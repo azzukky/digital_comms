{
 "cells": [
  {
   "cell_type": "markdown",
   "id": "6fa38644",
   "metadata": {},
   "source": [
    "# Problem 3\n",
    "\n",
    "In this problem, you will \"receive\" a stream of samples that you need to demodulate. If you succeed, the decoded message conatins an image that you can view as a reward.\n",
    "\n",
    "You should use this notebook as the starting point for your work.\n",
    "\n",
    "This document is fairly long because it contains some code to make your work easier and because I want to make sure that you can see exactly how the transmitter works. You should step through this code before you attempt to demodulate as there are also a few variables and definitions that are set along the way.\n",
    "\n",
    "In a nut-shell, the received samples encode nearly 200,000 bytes of image data. They are transmitted over multiple burst that are contained in the received samples that you will load into this notebook.\n",
    "\n",
    "Each burst contains a preamble, a fixed-length header, and a variable length payload. The payload is modulated using one of three possible modulation formats; the header always uses BPSK. The format of the header and functions for reading the header are given below.\n",
    "\n",
    "There is a variable size gap between consecutive bursts. The channel adds noise and introduces a an amplitude, phase, and frequency shift; the the frequency offset is slowly time-varying.\n",
    "\n",
    "More details are provided as you read through the notebook.\n",
    "\n"
   ]
  },
  {
   "cell_type": "code",
   "execution_count": 3,
   "id": "e7a0d205",
   "metadata": {},
   "outputs": [],
   "source": [
    "## Boilerplate instructions for importing NumPy and Matplotlib\n",
    "# Import NumPy\n",
    "import numpy as np\n",
    "\n",
    "import struct # for header\n",
    "\n",
    "# To plot pretty figures, use matplotlib\n",
    "%matplotlib inline\n",
    "import matplotlib as mpl\n",
    "import matplotlib.pyplot as plt\n",
    "import matplotlib.image as mpimg\n",
    "\n",
    "mpl.rc('axes', labelsize=14)\n",
    "mpl.rc('xtick', labelsize=12)\n",
    "mpl.rc('ytick', labelsize=12)"
   ]
  },
  {
   "cell_type": "markdown",
   "id": "d14e51b8",
   "metadata": {},
   "source": [
    "## Helper functions\n",
    "\n",
    "The following functions are from notebooks used in class. They should look familiar. Make sure that they have all been \"run\" so that you can use them for your work."
   ]
  },
  {
   "cell_type": "code",
   "execution_count": 4,
   "id": "106d38dc",
   "metadata": {},
   "outputs": [],
   "source": [
    "def srrc_pulse(a, fsT, N=5):\n",
    "    \"\"\"Construct a raised cosine pulse\n",
    "    \n",
    "    Inputs:\n",
    "    a - roll-off factor\n",
    "    fsT - number of samples per symbol period\n",
    "    N - lenght of pulse in symbol periods; pulse ranges for -N \\leq t/T \\leq N (default: 5).\n",
    "\n",
    "    Returns:\n",
    "    Length 2*N*fsT+1 vector\n",
    "    \"\"\"\n",
    "    # time axis with spacing 1/(fs*T)\n",
    "    tt = np.linspace(-N, N, 2*N*fsT + 1)\n",
    "    \n",
    "    num = np.sin(np.pi*tt*(1-a)) + 4*a*tt*np.cos(np.pi*tt*(1+a))\n",
    "    den = np.pi*tt*(1-(4*a*tt)**2)\n",
    "    \n",
    "    # deal with divide-by-zeros: at zero location, place \"L'Hospital value\" in numerator\n",
    "    # and 1 in denominator.\n",
    "    # First divide-by-zero location is t=0; by L-Hospital, the value is (1 + a*(4/pi - 1))\n",
    "    ind_0 = np.where(np.abs(tt) < 1e-6)\n",
    "    num[ind_0] = (1 + a*(4/np.pi - 1))\n",
    "    den[ind_0] = 1\n",
    "    # Second divide-by-zero location is t=+/-1/(4*a); by L-Hospital, the value is as shown below\n",
    "    ind_0 = np.where(np.abs(np.abs(tt) - 1/(4*a)) < 1e-6)\n",
    "    num[ind_0] = a/np.sqrt(2) * ((1+2/np.pi)*np.sin(np.pi/(4*a)) + (1-2/np.pi)*np.cos(np.pi/(4*a)))\n",
    "    den[ind_0] = 1\n",
    "    \n",
    "    # scaling: we scale the pulse such that the convolution of two SRRC pulse yields\n",
    "    # a RC pulse with amplitude 1 in the center of the pulse. This implies that\n",
    "    # np.sum(hh**2) must equal 1. This replace the scaling by 1/T in the formula above.\n",
    "    hh = num/den\n",
    "    \n",
    "    return hh / np.sqrt(np.sum(hh*hh))"
   ]
  },
  {
   "cell_type": "code",
   "execution_count": 5,
   "id": "1bb806b8",
   "metadata": {},
   "outputs": [],
   "source": [
    "def pulse_shape(symbols, pulse, fsT):\n",
    "    \"\"\"Generate a pulse-shaped QAM signal\n",
    "    \n",
    "    Inputs:\n",
    "    symbols - a sequence of information symbols; rate 1/T\n",
    "    pulse - sampled pulse shape; rate fsT/T\n",
    "    fsT - samples per symbol period\n",
    "\n",
    "    Returns:\n",
    "    Numpy array with fsT*(len(symbols) - 1) + len(pulse)  samples\n",
    "    \"\"\"\n",
    "    # step 1: upsample the symbol sequence\n",
    "    up_symbols = np.zeros(fsT * (len(symbols) - 1) + 1, dtype=symbols.dtype)\n",
    "    up_symbols[::fsT] = symbols\n",
    "\n",
    "    # step 2: filter\n",
    "    return np.convolve(up_symbols, pulse)"
   ]
  },
  {
   "cell_type": "markdown",
   "id": "da52aae3",
   "metadata": {},
   "source": [
    "This version of the MPE decision rule is slightly different; it returns the index of the best symbol - not the symbol itself"
   ]
  },
  {
   "cell_type": "code",
   "execution_count": 6,
   "id": "993ba9af",
   "metadata": {},
   "outputs": [],
   "source": [
    "def MPE_decision_rule(Z, A):\n",
    "    \"\"\"Decide which symbol was most likely transmitted\n",
    "    \n",
    "    This function examines matched filter outputs (in vector Z) and for each element of Z selects the symbol \n",
    "    from constellation A that is closest.\n",
    "\n",
    "    Inputs:\n",
    "    Z - Vector of matched filter outputs\n",
    "    A - Constellation\n",
    "\n",
    "    Returns:\n",
    "    Numpy array of the same length as Z\n",
    "    \"\"\"\n",
    "    #dec = np.empty_like(Z)\n",
    "    ind = np.empty_like(Z, dtype=np.uint8)\n",
    "\n",
    "    for n in range(len(Z)):\n",
    "        this_Z = Z[n]\n",
    "        ind[n] = np.argmin(np.abs(A-this_Z))\n",
    "        # dec[n] = A[ind[n]]\n",
    "\n",
    "    return ind"
   ]
  },
  {
   "cell_type": "markdown",
   "id": "ae054b6e",
   "metadata": {},
   "source": [
    "### Functions for converting between byte sequences and symbol sequences\n",
    "\n",
    "The transmitted information is a sequence of bytes. However, transmission occurs in symbols that can carry `bps` bits per symbol.\n",
    "\n",
    "The following two functions convert between bytes and symbol indices. More precisely, between base $2^8$ for bytes and base $2^{bps}$ for symbols. \n",
    "\n",
    "You will see how they are used in both the header and the transmitter."
   ]
  },
  {
   "cell_type": "code",
   "execution_count": 7,
   "id": "105f82c3",
   "metadata": {},
   "outputs": [],
   "source": [
    "def bytes_to_symbols(msg, bps):\n",
    "    \"\"\"Convert a sequence of bytes to symbols\n",
    "    \n",
    "    Inputs:\n",
    "    msg - a vector of bytes\n",
    "    bps - bits per symbol\n",
    "    \n",
    "    Returns:\n",
    "    vector of ints (all ints are between 0 and 2**bps - 1)\n",
    "    \n",
    "    Note: only works for bps in [1, 2, 4]\n",
    "    \"\"\"\n",
    "    \n",
    "    syms_per_byte = 8 // bps\n",
    "    mask = np.uint8(2**bps - 1)\n",
    "    \n",
    "    out = np.zeros(syms_per_byte * len(msg), dtype=np.uint8)\n",
    "\n",
    "    for n in range(len(msg)):\n",
    "        b = msg[n]\n",
    "        for m in range(syms_per_byte):\n",
    "            out[n*syms_per_byte + m] = (b >> (m*bps)) & mask\n",
    "            \n",
    "    return out"
   ]
  },
  {
   "cell_type": "code",
   "execution_count": 8,
   "id": "dd0c4939",
   "metadata": {},
   "outputs": [
    {
     "data": {
      "text/plain": [
       "array([ 8,  4,  5,  6, 12,  6, 12,  6, 15,  6], dtype=uint8)"
      ]
     },
     "execution_count": 8,
     "metadata": {},
     "output_type": "execute_result"
    }
   ],
   "source": [
    "bytes_to_symbols(b'Hello', 4)"
   ]
  },
  {
   "cell_type": "code",
   "execution_count": 9,
   "id": "97255392",
   "metadata": {},
   "outputs": [],
   "source": [
    "def symbols_to_bytes(syms, bps):\n",
    "    \"\"\"Convert a sequence of symbols to bytes\n",
    "    \n",
    "    Inputs:\n",
    "    syms - a vector of bytes\n",
    "    bps - bits per symbol\n",
    "    \n",
    "    Returns:\n",
    "    vector of uint8 (aka char)\n",
    "    \n",
    "    Note: only works for bps in [1, 2, 4]\n",
    "    \"\"\"\n",
    "    syms_per_byte = 8 // bps\n",
    "    \n",
    "    msg = np.zeros(len(syms) // syms_per_byte, dtype=np.uint8)\n",
    "    \n",
    "    for n in range(len(msg)):\n",
    "        for m in range(syms_per_byte):\n",
    "            msg[n] += syms[n*syms_per_byte + m] << (m*bps)\n",
    "            \n",
    "    return msg"
   ]
  },
  {
   "cell_type": "code",
   "execution_count": 10,
   "id": "6731194c",
   "metadata": {},
   "outputs": [
    {
     "data": {
      "text/plain": [
       "b'Hello'"
      ]
     },
     "execution_count": 10,
     "metadata": {},
     "output_type": "execute_result"
    }
   ],
   "source": [
    "# round-trip test\n",
    "symbols_to_bytes( bytes_to_symbols(b'Hello', 4), 4).tobytes()"
   ]
  },
  {
   "cell_type": "markdown",
   "id": "40722748",
   "metadata": {},
   "source": [
    "## Signal Definitions\n",
    "\n",
    "We are now ready to dive into the details of the transmitted signal, beginning with the three modulation formats use in the transmitter.\n",
    "\n",
    "### Constellations\n",
    "\n",
    "We will use three different constellations: BPSK, QPSK, and 16-QAM. For each, we define a dictionary that shows the mapping of bit-patterns to symbols.\n",
    "\n",
    "For each of the three constellations, we have:\n",
    "* a dictionary that shows the mapping from bit-patterns to symbols\n",
    "* an array that list the symbols in the order indicated by the bit-pattern; e.g., the symbol for `0b0000` (decimal 0) is first, followed by the symbol for `0b0001` (decimal 1).\n",
    "* an integer that is used as a unique code to refere to the constellation.\n",
    "\n"
   ]
  },
  {
   "cell_type": "code",
   "execution_count": 11,
   "id": "2217d320",
   "metadata": {},
   "outputs": [],
   "source": [
    "BPSK_d = {\n",
    "    0b0: 1.  + 0j,\n",
    "    0b1: -1. + 0j\n",
    "}\n",
    "\n",
    "# normalized alphabet in order\n",
    "A_BPSK = np.array([BPSK_d[n] for n in range(2)])\n",
    "\n",
    "BPSK_MOD_CODE = 0"
   ]
  },
  {
   "cell_type": "code",
   "execution_count": 12,
   "id": "a89c47db",
   "metadata": {},
   "outputs": [],
   "source": [
    "QPSK_d = {\n",
    "    0b00:  1. + 1.j,\n",
    "    0b01: -1. + 1.j,\n",
    "    0b11: -1. - 1.j,\n",
    "    0b10:  1. - 1j\n",
    "}\n",
    "\n",
    "# normalized alphabet in order\n",
    "A_QPSK = np.array([QPSK_d[n] for n in range(4)])/np.sqrt(2)\n",
    "\n",
    "QPSK_MOD_CODE = 1"
   ]
  },
  {
   "cell_type": "code",
   "execution_count": 13,
   "id": "fbd5abde",
   "metadata": {},
   "outputs": [],
   "source": [
    "QAM16_d = {\n",
    "    0b0000: -3. + 3.j,\n",
    "    0b0100: -1. + 3.j,\n",
    "    0b1100:  1. + 3.j,\n",
    "    0b1000:  3. + 3.j,\n",
    "    0b0001: -3. + 1.j,\n",
    "    0b0101: -1. + 1.j,\n",
    "    0b1101:  1. + 1.j,\n",
    "    0b1001:  3. + 1.j,\n",
    "    0b0011: -3. - 1.j,\n",
    "    0b0111: -1. - 1.j,\n",
    "    0b1111:  1. - 1.j,\n",
    "    0b1011:  3. - 1.j,\n",
    "    0b0010: -3. - 3.j,\n",
    "    0b0110: -1. - 3.j,\n",
    "    0b1110:  1. - 3.j,\n",
    "    0b1010:  3. - 3.j,\n",
    "}\n",
    "\n",
    "# normalized alphabet in order\n",
    "A_QAM16 = np.array([QAM16_d[n] for n in range(16)])/np.sqrt(4*2 + 8*10 + 4*18)\n",
    "\n",
    "QAM16_MOD_CODE = 2"
   ]
  },
  {
   "cell_type": "markdown",
   "id": "425c9044",
   "metadata": {},
   "source": [
    "This dictionary below collects all three modulations into a single table. It is used by the transmitter to look up details of the constellation in use for a given frame. \n",
    "\n",
    "The inverse table `rev_mod_table` in particular is useful to translate between numerical `mod_codes` and the constellation names that are keys into the table.\n",
    "\n",
    "These tables are used by the trasnmitter. You will need them for your receiver as well."
   ]
  },
  {
   "cell_type": "code",
   "execution_count": 14,
   "id": "3d2a22b7",
   "metadata": {},
   "outputs": [],
   "source": [
    "mod_table = {\n",
    "    'BPSK': {\n",
    "        'name': 'BPSK',\n",
    "        'mod_code': BPSK_MOD_CODE,\n",
    "        'bps': 1,\n",
    "        'alphabet': A_BPSK,\n",
    "        'map': BPSK_d,\n",
    "    },\n",
    "    'QPSK': {\n",
    "        'name': 'QPSK',\n",
    "        'mod_code': QPSK_MOD_CODE,\n",
    "        'bps': 2,\n",
    "        'alphabet': A_QPSK,\n",
    "        'map': QPSK_d,\n",
    "    },\n",
    "    'QAM16': {\n",
    "        'name': '16-QAM',\n",
    "        'mod_code': QAM16_MOD_CODE,\n",
    "        'bps': 4,\n",
    "        'alphabet': A_QAM16,\n",
    "        'map': QAM16_d,\n",
    "    }\n",
    "}\n",
    "\n",
    "# make an inverse table for looking up names by mod_code\n",
    "rev_mod_table = {}\n",
    "for k,v in mod_table.items():\n",
    "    rev_mod_table[v['mod_code']] = k"
   ]
  },
  {
   "cell_type": "markdown",
   "id": "668d67cc",
   "metadata": {},
   "source": [
    "### Preamble\n",
    "\n",
    "The preamble is a known pattern of BPSK symbols. There is not much ealse to say. The preamble pattern is shown below:"
   ]
  },
  {
   "cell_type": "code",
   "execution_count": 15,
   "id": "e281a968",
   "metadata": {},
   "outputs": [],
   "source": [
    "preamble_seq = np.array([-1.,  1.,  1.,  1., -1.,  1.,  1., -1., \n",
    "                         -1.,  1., -1.,  1., -1., -1., -1.])"
   ]
  },
  {
   "cell_type": "markdown",
   "id": "eaebfd43",
   "metadata": {},
   "source": [
    "### Header \n",
    "\n",
    "Information is transmitted in bursts that vary in size and that may be using different modulation formats. To support this feature, the frames contain a *header* that is located between the preamble and the *payload* portion of the burst.\n",
    "\n",
    "The header is always the same length and it is always BPSK modulated. It contains the following fields:\n",
    "* `seq`: a sequence number that is incremented from one burst to the next. You can use this to determine if you missed a burst (8-bit unsigned integer, rolls over at 256)\n",
    "* `mod_code`: an integer that indicates the modulation format for the *payload*. Permitted values are 0, 1, 2 corresponding to the three modulation formats given above, e.g., 0 indicates BPSK. (8-bit unigned integer)\n",
    "* `pld_n_syms`: number of symbols in the payload. (16-bit unsigned int)\n",
    "\n",
    "The header always contains 32 bits.\n",
    "\n",
    "The following two functions, encode and decode the header. Specifically, they translate to and from three integers and an array of 32 bits (stored as uint8)."
   ]
  },
  {
   "cell_type": "code",
   "execution_count": 16,
   "id": "4288c0e7",
   "metadata": {},
   "outputs": [],
   "source": [
    "def encode_hdr(seq, mod_code, pld_n_syms):\n",
    "    \"\"\"encode the header\n",
    "    \n",
    "    Inputs:\n",
    "    seq - sequence number\n",
    "    mod_code - integer indicating modulation for payload\n",
    "    pld_n_syms - number of symbols in the payload\n",
    "    \n",
    "    Returns:\n",
    "    NumPy array of 32 unsigned \n",
    "    \n",
    "    \"\"\"\n",
    "    hdr_bytes = struct.pack('BBH', seq % 256, mod_code, pld_n_syms)\n",
    "                \n",
    "    return bytes_to_symbols(hdr_bytes, 1)"
   ]
  },
  {
   "cell_type": "code",
   "execution_count": 17,
   "id": "6e7e2850",
   "metadata": {},
   "outputs": [
    {
     "data": {
      "text/plain": [
       "array([1, 0, 0, 0, 0, 0, 0, 0, 0, 1, 0, 0, 0, 0, 0, 0, 1, 1, 0, 0, 0, 0,\n",
       "       0, 0, 0, 0, 0, 0, 0, 0, 0, 0], dtype=uint8)"
      ]
     },
     "execution_count": 17,
     "metadata": {},
     "output_type": "execute_result"
    }
   ],
   "source": [
    "# try it out\n",
    "encode_hdr(1,2,3)"
   ]
  },
  {
   "cell_type": "code",
   "execution_count": 18,
   "id": "9a1a8e5c",
   "metadata": {},
   "outputs": [],
   "source": [
    "def decode_hdr(bit_vec):\n",
    "    \"\"\"decode a vector of header bits\n",
    "    \n",
    "    Input:\n",
    "    bit_vec - vector of bits to be decoded\n",
    "    \n",
    "    Returns:\n",
    "    (seq, mod_code, pld_n_syms) tuple\n",
    "    \n",
    "    \"\"\"\n",
    "    n_bytes = struct.calcsize('BBH')\n",
    "    assert len(bit_vec) == 8*n_bytes\n",
    "    \n",
    "    tmp = symbols_to_bytes(bit_vec, 1)\n",
    "            \n",
    "    return struct.unpack('BBH', tmp.tobytes())"
   ]
  },
  {
   "cell_type": "code",
   "execution_count": 20,
   "id": "c1034321",
   "metadata": {},
   "outputs": [
    {
     "data": {
      "text/plain": [
       "(12, 1, 12345)"
      ]
     },
     "execution_count": 20,
     "metadata": {},
     "output_type": "execute_result"
    }
   ],
   "source": [
    "# round-trip: encode, then decode\n",
    "decode_hdr( encode_hdr(12, 1, 12345) )"
   ]
  },
  {
   "cell_type": "markdown",
   "id": "e2aebcb2",
   "metadata": {},
   "source": [
    "### Transmitter\n",
    "\n",
    "We now have everything we need to constructs signal bursts (or frames) from a given message of bytes. There are only a few remaining parameters we need to fix.\n",
    "\n",
    "The received signal is oversampled `fst = 8` times. The transmitter always uses pulse shaping with SRRC pulses with roll-off factor equal to 0.5."
   ]
  },
  {
   "cell_type": "code",
   "execution_count": 21,
   "id": "edb21ec9",
   "metadata": {},
   "outputs": [],
   "source": [
    "fsT = 8\n",
    "alpha = 0.5\n",
    "hh = srrc_pulse(alpha, fsT)"
   ]
  },
  {
   "cell_type": "markdown",
   "id": "6387c4d1",
   "metadata": {},
   "source": [
    "The following function generates transmitted samples from a sequence of bytes. It is the main function of the transmitter and includes both the preamble as well as the header.\n",
    "\n",
    "If you have any lingering questions, this function should clarify them."
   ]
  },
  {
   "cell_type": "code",
   "execution_count": 22,
   "id": "6a66f402",
   "metadata": {},
   "outputs": [],
   "source": [
    "def transmit_burst(msg_bytes, seq, mod_code):\n",
    "    \"\"\"generate samples from a sequence of bytes\n",
    "    \n",
    "    msg_bytes - a vector of bytes that are to be transmitted\n",
    "    seq - a sequence number; the frames in the received message are numbered uniquely\n",
    "    mod_code - the code that indicates how the payload is modulated\n",
    "    \n",
    "    Returns:\n",
    "    A vector of IQ samples\n",
    "    \"\"\"\n",
    "    \n",
    "    # look up the modulation format\n",
    "    mod_name = rev_mod_table[mod_code]\n",
    "    mod_data = mod_table[mod_name]\n",
    "    A = mod_data['alphabet']\n",
    "    \n",
    "    # convert msg_bytes to modulated symbols \n",
    "    syms = bytes_to_symbols(msg_bytes, mod_data['bps'])\n",
    "    mod_syms = A[syms]\n",
    "    \n",
    "    # construct the header and turn it into BPSK symbols\n",
    "    hdr = encode_hdr(seq, mod_code, len(syms))\n",
    "    mod_hdr = A_BPSK[hdr]\n",
    "    \n",
    "    # concatenate preamble, header, and payload\n",
    "    frame = np.concatenate((preamble_seq, mod_hdr, mod_syms))\n",
    "    \n",
    "    # only thing left is pulse shaping\n",
    "    return pulse_shape(frame, hh, fsT)"
   ]
  },
  {
   "cell_type": "markdown",
   "id": "02db6c10",
   "metadata": {},
   "source": [
    "### Recovering a burst\n",
    "\n",
    "The round-trip test below shows that a message can be receovered from transmitted samples. It is not intended to be a working receiver, but it demonstrates that the message bytes can be recovered and how to do so."
   ]
  },
  {
   "cell_type": "code",
   "execution_count": 174,
   "id": "fb430327",
   "metadata": {},
   "outputs": [
    {
     "name": "stdout",
     "output_type": "stream",
     "text": [
      "(seq, mod_code, pld_len) =  0 2 10\n",
      "Message: b'Hello'\n"
     ]
    }
   ],
   "source": [
    "# round-trip test - no noise, no nothing\n",
    "# The transmitted message is just 'Hello'\n",
    "samples = transmit_burst(b'Hello', 0, 2)\n",
    "\n",
    "# received starts here\n",
    "# first, pass signal through a matched filter\n",
    "mf_out = np.convolve(samples, hh)\n",
    "\n",
    "# down-sample, as there is no delay we know the right sampling phase\n",
    "Z = mf_out[len(hh)-1::fsT]\n",
    "\n",
    "# check that the preamble matches, preamble is 15 symbols long\n",
    "assert np.abs(np.sum(Z[:15] - preamble_seq)) < 0.1\n",
    "\n",
    "# then, demod the header - the 32 symbols after the preamble\n",
    "hdr_Z = Z[15:47]\n",
    "hdr_syms = MPE_decision_rule(hdr_Z, A_BPSK)\n",
    "seq, mod_code, pld_len = decode_hdr(hdr_syms)\n",
    "print(\"(seq, mod_code, pld_len) = \", seq, mod_code, pld_len)\n",
    "\n",
    "# now the payload\n",
    "# we learned how long it is (see pld_len below)\n",
    "pld_Z = Z[47 : 47+pld_len]\n",
    "# and how it's modulated (see mod_code below)\n",
    "# use that to look up pertinent info about the modulation\n",
    "mod_name = rev_mod_table[mod_code]\n",
    "mod_data = mod_table[mod_name]\n",
    "A = mod_data['alphabet']\n",
    "\n",
    "# hard decision\n",
    "pld = MPE_decision_rule(pld_Z, A)\n",
    "\n",
    "# print the decode message\n",
    "print(\"Message:\", symbols_to_bytes(pld, mod_data['bps']).tobytes())\n"
   ]
  },
  {
   "cell_type": "markdown",
   "id": "b3f51c4f",
   "metadata": {},
   "source": [
    "## Load the data\n",
    "\n",
    "That's it. Now it's time to load the received samples and for you to demodulate them.\n",
    "\n",
    "You can check that you received all frames by lookin at the sequence numbers. If all works well, you should end up with 187,500 (375 x 500) bytes.\n",
    "\n",
    "These bytes represent a grayscale image that you can display with the command:\n",
    "```\n",
    "plt.imshow(img_seq.reshape(375, 500), cmap='gray', vmax=255)\n",
    "```\n",
    "where `img_seq` is the byte sequence that you recovered.\n",
    "\n",
    "Ok, here is the command to load the samples. The variable `rr` holds the entire sequence of samples - all 7,231,013 of them."
   ]
  },
  {
   "cell_type": "code",
   "execution_count": 35,
   "id": "645b20d3",
   "metadata": {},
   "outputs": [],
   "source": [
    "import requests\n",
    "import io\n",
    "\n",
    "response = requests.get('https://www.dropbox.com/s/u1wqgnwhfy3x2g9/samples.npy?dl=1')\n",
    "response.raise_for_status()\n",
    "rr = np.load(io.BytesIO(response.content), allow_pickle=True) \n"
   ]
  },
  {
   "cell_type": "code",
   "execution_count": 36,
   "id": "30a98c20",
   "metadata": {},
   "outputs": [
    {
     "data": {
      "text/plain": [
       "array([ 0.01417607+0.01527566j, -0.00072523+0.04899158j,\n",
       "       -0.00179149-0.02089944j, -0.02164281+0.03086397j,\n",
       "       -0.00588557-0.01808985j,  0.08452638-0.04749704j,\n",
       "       -0.01872568-0.01456672j,  0.11407796-0.0319316j ,\n",
       "       -0.0077451 +0.02264611j, -0.00696297-0.00700862j])"
      ]
     },
     "execution_count": 36,
     "metadata": {},
     "output_type": "execute_result"
    }
   ],
   "source": [
    "# This should produce:\n",
    "# array([ 0.01417607+0.01527566j, -0.00072523+0.04899158j,\n",
    "#        -0.00179149-0.02089944j, -0.02164281+0.03086397j,\n",
    "#        -0.00588557-0.01808985j,  0.08452638-0.04749704j,\n",
    "#        -0.01872568-0.01456672j,  0.11407796-0.0319316j ,\n",
    "#        -0.0077451 +0.02264611j, -0.00696297-0.00700862j])\n",
    "\n",
    "rr[:10]"
   ]
  },
  {
   "cell_type": "code",
   "execution_count": null,
   "id": "d476e79f",
   "metadata": {},
   "outputs": [],
   "source": []
  }
 ],
 "metadata": {
  "kernelspec": {
   "display_name": "Python 3 (ipykernel)",
   "language": "python",
   "name": "python3"
  },
  "language_info": {
   "codemirror_mode": {
    "name": "ipython",
    "version": 3
   },
   "file_extension": ".py",
   "mimetype": "text/x-python",
   "name": "python",
   "nbconvert_exporter": "python",
   "pygments_lexer": "ipython3",
   "version": "3.9.14"
  }
 },
 "nbformat": 4,
 "nbformat_minor": 5
}
