{
 "cells": [
  {
   "cell_type": "markdown",
   "metadata": {},
   "source": [
    "# Digital Communications Notebooks\n",
    "Welcome to the notebooks on Digital Communications Systems.\n",
    "\n",
    "<a href=\"https://colab.research.google.com/github/bepepa/digital_comms/blob/main/index.ipynb\" target=\"_parent\"><img src=\"https://colab.research.google.com/assets/colab-badge.svg\" alt=\"Open In Colab\"/></a>"
   ]
  },
  {
   "cell_type": "markdown",
   "metadata": {},
   "source": [
    "## Notebooks\n",
    "\n",
    "1. [Non-linearities in the Analog Frontend](010_nonlinear_frontend.ipynb)\n",
    "2. [Linear Modulation and Matched Filter](020_matched_filter.ipynb)\n",
    "3. [Pulse-shaping](030_pulse_shaping.ipynb)\n",
    "4. [OFDM](040_ofdm.ipynb)\n",
    "5. [Estimating Signal Amplitude and Phase](050_phasor_estimation.ipynb)\n",
    "6. [Initial Signal Acquisition](060_initial_synch.ipynb)\n",
    "7. [Tracking Loops](070_tracking_loops.ipynb)\n",
    "8. [Linear Equalization](080_equalization.ipynb)\n",
    "9. [DFE and Initial Acquisition in Dispersive Channels](090_dispersive_acquisition_dfe.ipynb)\n",
    "10. [Initial Acquisition and Equalization in OFDM](100_ofdm_dispersive.ipynb)"
   ]
  },
  {
   "cell_type": "markdown",
   "metadata": {},
   "source": [
    "## Scientific Python\n",
    "\n",
    "* [Numpy](https://github.com/ageron/handson-ml2/blob/master/tools_numpy.ipynb)\n",
    "* [Matplotlib](https://github.com/ageron/handson-ml2/blob/master/tools_matplotlib.ipynb)"
   ]
  },
  {
   "cell_type": "markdown",
   "metadata": {},
   "source": [
    "## Prerequisites\n",
    "\n",
    "### To understand\n",
    "\n",
    "* **Python** – you don't need to be an expert python programmer, but you do need to know the basics. If you don't, the official [Python tutorial](https://docs.python.org/3/tutorial/) is a good place to start.\n",
    "* **Scientific Python** – We will be using a few popular python libraries, in particular NumPy and matplotlib. If you are not familiar with these libraries, you should probably start by going through the tutorials linked above.\n",
    "* **Math** – We will also use Linear Algebra, Calculus, Statistics and Probability theory as appropriate for a graduate level course in communications.\n",
    "\n",
    "### To run the examples\n",
    "\n",
    "**Jupyter** – These notebooks are based on Jupyter. You can run these notebooks in just one click using a hosted platform such as Colaboratory (no installation required), or you can just view them using Jupyter.org's viewer, or you can install everything on your machine, as you prefer. Check out the [home page](https://github.com/bepepa/digital_comms/) for more details."
   ]
  },
  {
   "cell_type": "markdown",
   "metadata": {},
   "source": []
  }
 ],
 "metadata": {
  "kernelspec": {
   "display_name": "Python 3.9.13 64-bit",
   "language": "python",
   "name": "python3"
  },
  "language_info": {
   "name": "python",
   "version": "3.9.15"
  },
  "orig_nbformat": 4,
  "vscode": {
   "interpreter": {
    "hash": "5984c07bd85a09704efeebc43c280456997f3d9e1810f10980d19f89f173e200"
   }
  }
 },
 "nbformat": 4,
 "nbformat_minor": 2
}
