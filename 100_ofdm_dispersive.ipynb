{
 "cells": [
  {
   "cell_type": "markdown",
   "metadata": {},
   "source": [
    "# Initial Acquisition and Equalization in OFDM\n",
    "\n",
    "This notebook focuses on Orthogonal Frequency Division Multiplexing (OFDM). Specifically, we focus on synchronizing to the OFDM symbol structure, estimating and correcting frequency offset, and frequency domain equalization for signals received over dispersive channels.\n",
    "\n",
    "<a href=\"https://colab.research.google.com/github/bepepa/digital_comms/blob/master/100_ofdm_dispersive.ipynb\" target=\"_parent\"><img src=\"https://colab.research.google.com/assets/colab-badge.svg\" alt=\"Open In Colab\"/></a> (Executable notebook)\n",
    "\n",
    "<a href=\"https://nbviewer.org/format/slides/github/bepepa/digital_comms/blob/main/100_ofdm_dispersive.ipynb\"><img src=\"https://raw.githubusercontent.com/jupyter/design/master/logos/Badges/nbviewer_badge.svg\" alt=\"Render nbviewer\" /> </a> (read-only, slides view)"
   ]
  },
  {
   "cell_type": "code",
   "execution_count": 12,
   "metadata": {},
   "outputs": [],
   "source": [
    "## Boilerplate instructions for importing NumPy and Matplotlib\n",
    "# Import NumPy\n",
    "import numpy as np\n",
    "\n",
    "from typing import Tuple\n",
    "\n",
    "# To plot pretty figures, use matplotlib\n",
    "%matplotlib inline\n",
    "import matplotlib as mpl\n",
    "import matplotlib.pyplot as plt\n",
    "mpl.rc('axes', labelsize=14)\n",
    "mpl.rc('xtick', labelsize=12)\n",
    "mpl.rc('ytick', labelsize=12)\n",
    "\n",
    "## The code below imports functions defined in earlier notebooks"
   ]
  },
  {
   "cell_type": "code",
   "execution_count": 10,
   "metadata": {},
   "outputs": [],
   "source": [
    "def pop_count32(x: np.uint32) -> np.uint8:\n",
    "    \"\"\"count the number of 1s in 32-bit integer x using Wegner's method\n",
    "    \n",
    "    Inputs:\n",
    "    x - a 32 bit integer\n",
    "\n",
    "    Returns:\n",
    "    an integer between 0 and 32 indicating the number of 1s in x\n",
    "    \"\"\"\n",
    "    \n",
    "    count: np.uint8 = 0\n",
    "    \n",
    "    while (x > 0):\n",
    "        x = x & (x-1)\n",
    "        count += 1\n",
    "        \n",
    "    return count"
   ]
  },
  {
   "cell_type": "code",
   "execution_count": 13,
   "metadata": {},
   "outputs": [],
   "source": [
    "def lfsr_step(state: np.uint32, fb: np.uint32, N: int = 31) -> Tuple[np.uint8, np.uint32]:\n",
    "    \"\"\"Single update step of LFSR with feedback connections fb\n",
    "    \n",
    "    Inputs:\n",
    "    * state (uint32): initial state of the feedback shift register\n",
    "    * fb (uint32): bit map indicating feedback connections; the LSB corresponds to bit 0 in the LFSR\n",
    "    * N (int) order if the LFSR; must be less than 32 (default: 31)\n",
    "    \n",
    "    Returns:\n",
    "    * elem - next element of the LFSR sequence\n",
    "    * state - updated state\n",
    "    \n",
    "    Example: Generate the first 10 elements of a LFSR sequence with fb=0b1001 and initial state=0b1111\n",
    "    >>> state = 0b1111\n",
    "    >>> seq = np.empty(10, dtype=np.uint8)\n",
    "    >>> for n in range(10):\n",
    "    >>>     seq[n], state = lfsr31_step(state, 0b1001)\n",
    "    >>> seq\n",
    "    \n",
    "    array([1, 1, 1, 1, 0, 0, 0, 0, 0, 0], dtype=uint8)\n",
    "    \"\"\"\n",
    "    \n",
    "    # save the LSB before updating state; it will be returned\n",
    "    elem: np.uint8 = state & 0b1\n",
    "        \n",
    "    # update state\n",
    "    fb_vec: np.uint32 = state & fb\n",
    "    fb_bit: np.uint8 = (pop_count32(fb_vec) & 0b1)\n",
    "    \n",
    "    # insert feedback bit at position N, then shift\n",
    "    state = (state | fb_bit << N) >> 1\n",
    "    \n",
    "    return elem, state"
   ]
  },
  {
   "cell_type": "code",
   "execution_count": 14,
   "metadata": {},
   "outputs": [],
   "source": [
    "def lfsr(init: np.uint32, fb: np.uint32, M: int, N: int = 31, Nc:int = 0):\n",
    "    \"\"\"Compute M samples of a LFSR sequence\n",
    "    \n",
    "    Inputs:\n",
    "    init - initial state of the LFSR\n",
    "    fb - feedback connection for the LFSR\n",
    "    M - number of samples to generate\n",
    "    N - order of the LFSR (default: 31)\n",
    "    Nc - statrting sample (default 0)\n",
    "\n",
    "    Returns:\n",
    "    length-M vector of bits (stored as np.uint8)\n",
    "    \"\"\"\n",
    "    seq = np.empty(M, dtype=np.uint8)\n",
    "\n",
    "    state = init\n",
    "\n",
    "    for n in range(Nc):\n",
    "        _, state = lfsr_step(state, fb, N)          # discard the first Nc\n",
    "\n",
    "    for n in range(M):  \n",
    "        seq[n], state = lfsr_step(state, fb, N)     # keep the next Mc\n",
    "\n",
    "    return seq"
   ]
  },
  {
   "cell_type": "code",
   "execution_count": 53,
   "metadata": {},
   "outputs": [],
   "source": [
    "def random_symbols(A, N):\n",
    "    \"\"\"generate random symbols from the constallation A\n",
    "    \n",
    "    Inputs:\n",
    "    A - np.ndarray of symbols in constellation, e.g., A = np.array([1, -1]) for BPSK\n",
    "    N - number of random symbols to produce\n",
    "\n",
    "    Returns:\n",
    "    Numpy array of length N\n",
    "    \"\"\"\n",
    "    return A[np.random.randint(len(A), size=N)]"
   ]
  },
  {
   "cell_type": "markdown",
   "metadata": {},
   "source": [
    "## Transmitted Signal\n",
    "\n",
    "For this notebook, we define a signalling format that is meant to resemble the downlink of  LTE and 5G NR formats. It is characterized by\n",
    "* Subcarrier spacing is 15KHz\n",
    "* FFT size is 2048\n",
    "* Only 1272 of the subcarriers are occupied; active subcarriers are numbered from $k=0$ to $k=1271$.\n",
    "* The Cyclic Prefix is 160 samples long; that corresponds to $\\frac{160}{2048} \\cdot \\frac{1}{15\\text{KHz}} = 5.2\\mu s$.\n",
    "\n",
    "Information is transmitted in slots that contain 14 OFDM symbols; the length of a slot is just under 1ms.\n",
    "\n",
    "The first OFDM symbol in each slot contains a known synchronization reference signal. This signal occupies 127 subcarriers in the center of the active subcarriers (i.e., from $k=573$ to $k=699$).\n",
    "\n",
    "The remaining 13 OFDM symbols contain information for three users. Eacch of the three signals occupies a different portion of the resource elements in the slot.\n",
    "* user 1 occupies all 1272 active subcarriers in OFDM symbols $l=1$ to $l=4$.\n",
    "* user 2 ocuppies subcarriers $k=0$ through $k=635$ in OFDM symbols $l=5$ to $l=13$\n",
    "* user 3 ocuppies subcarriers $k=636$ through $k=1271$ in OFDM symbols $l=5$ to $l=13$\n",
    "\n",
    "Each of the three signals is preceded by a demodulation reference signal (DMRS) that is located in the first allocated symbol and spans the entrire allocated bandwidth."
   ]
  },
  {
   "cell_type": "markdown",
   "metadata": {},
   "source": [
    "### Construction of a Transmitted Slot\n",
    "\n",
    "Construction of the transmitted slot involves:\n",
    "* allocating storage to hold the slot\n",
    "* insertion of the synchronization reference signal\n",
    "* insertion of the user data (with accompanying DMRS)\n",
    "* OFDM; inverse DFT, cyclic prefix, and parallel-to-serial conversion"
   ]
  },
  {
   "cell_type": "code",
   "execution_count": 123,
   "metadata": {},
   "outputs": [],
   "source": [
    "## Parameters\n",
    "sc_spacing = 15e3\n",
    "N_FFT = 2048\n",
    "N_active = 1272\n",
    "N_syms = 14\n",
    "N_CP = 160\n",
    "\n",
    "N_guard = (N_FFT - N_active) // 2\n",
    "\n",
    "fs = sc_spacing * N_FFT\n",
    "\n",
    "## Allocate space for a slot\n",
    "Slot_active = np.zeros((N_syms, N_active), dtype=complex)"
   ]
  },
  {
   "cell_type": "markdown",
   "metadata": {},
   "source": [
    "#### Synchronization Reference Signal\n",
    "\n",
    "The synchronization reference signal is defined in the frequency domain. The resource elements holding the synchronization signal are chosen from a length 127 M-sequence. Specifically, the M-sequence generated by a linear feedback shift register with initial value $c_{init}=1$ and feedback connections described by $0x3$ is used."
   ]
  },
  {
   "cell_type": "code",
   "execution_count": 124,
   "metadata": {},
   "outputs": [],
   "source": [
    "## Generate LFSR sequence \n",
    "c_init = 1\n",
    "fb = 3\n",
    "M = 127\n",
    "N = 7\n",
    "\n",
    "# generate M-sequence and convert to BPSK (0 -> -1, 1 -> 1)\n",
    "seq = 2.0*lfsr(c_init, fb, M, N) - 1\n",
    "\n",
    "# insert seq into slot\n",
    "Slot_active[0, 573:700] = seq"
   ]
  },
  {
   "cell_type": "markdown",
   "metadata": {},
   "source": [
    "#### User signals\n",
    "\n",
    "The signals for each of the three users consists of a training sequence DMRS that occupies the first symbol of the allocated resource elements. That is followed by the payload. We model the payload as randomQPSK symbols."
   ]
  },
  {
   "cell_type": "code",
   "execution_count": 125,
   "metadata": {},
   "outputs": [],
   "source": [
    "## define a list of dictionaries that describes where each user's signals goes\n",
    "sliv_l = [\n",
    "    {'id': 1,\n",
    "    'l0' : 1,    # first symbol\n",
    "    'le': 4,     # last symbol\n",
    "    'k0': 0,     # first subcarrier\n",
    "    'ke': 1271}, # last subcarrier\n",
    "    {'id': 2,\n",
    "    'l0': 5,\n",
    "    'le': 13,\n",
    "    'k0': 0,\n",
    "    'ke': 635},\n",
    "    {'id': 3,\n",
    "    'l0': 5,\n",
    "    'le': 13,\n",
    "    'k0': 636,\n",
    "    'ke': 1271},\n",
    "]"
   ]
  },
  {
   "cell_type": "markdown",
   "metadata": {},
   "source": [
    "##### DMRS signals\n",
    "\n",
    " The DMRS training sequences are intended to provide initialization fot the frequency domain equalizer. We will use Gold sequences that were derived from a pair of M-sequences of order 31. \n",
    "\n",
    " The DMRS sequences are iitialized by the user's ID, so that the reference sequences are all distinct.\n",
    "\n",
    " Reference sequences are always generated to cover all subcarriers. Only the subcarriers in the user's active bandwidth will be transmitted.\n",
    "\n",
    " Only every fourth subcarrier will be used for training. The empty subcarriers can be used in a MIMO configuration to provide training separately for each transmit antenna."
   ]
  },
  {
   "cell_type": "code",
   "execution_count": 178,
   "metadata": {},
   "outputs": [],
   "source": [
    "## Generate the DMRS sequences for all users and insert in slot\n",
    "M_dmrs = 4   # use only every fourth subcarrier\n",
    "\n",
    "for user in sliv_l:\n",
    "    id = user['id']\n",
    "\n",
    "    # make a Gold sequence from 2 M-sequences, the second is initialized by user's id\n",
    "    dmrs = lfsr(1, 9, N_active, 31, 1600) ^ lfsr(id, 15, N_active, 31, 1600)\n",
    "    # convert binary to BPSK\n",
    "    dmrs = 2.0*dmrs - 1.0\n",
    "\n",
    "    # insert dmrs in first symbol of allocated bandwidth\n",
    "    l0 = user['l0']\n",
    "    k0 = user['k0']\n",
    "    ke = user['ke']\n",
    "\n",
    "    all_sc = np.arange(N_active)\n",
    "    use_for_dmrs = np.logical_and(np.logical_and(all_sc >= k0, all_sc <= ke), all_sc % 4 == 2) # really?\n",
    "    Slot_active[l0, use_for_dmrs] = dmrs[use_for_dmrs]"
   ]
  },
  {
   "cell_type": "markdown",
   "metadata": {},
   "source": [
    "##### Payload\n",
    "\n",
    "For the payoad, we insert randomly generated QPSK symbols in the allocated subcarriers."
   ]
  },
  {
   "cell_type": "code",
   "execution_count": 179,
   "metadata": {},
   "outputs": [],
   "source": [
    "A = np.exp(1j*np.pi/4*np.arange(1, 8, 2))\n",
    "\n",
    "payloads = {}     # for storing the payloads for later comparison\n",
    "\n",
    "for user in sliv_l:\n",
    "    l0 = user['l0']\n",
    "    k0 = user['k0']\n",
    "    ke = user['ke']\n",
    "    le = user['le']\n",
    "\n",
    "    L = le - l0\n",
    "    K = ke - k0 + 1\n",
    "    pld = random_symbols(A, L*K).reshape(L,K) \n",
    "\n",
    "    # place in slot\n",
    "    Slot_active[l0+1:le+1, k0:ke+1] = pld\n",
    "    \n",
    "    # store in dict for later\n",
    "    payloads[user['id']] = pld\n",
    "\n"
   ]
  },
  {
   "cell_type": "markdown",
   "metadata": {},
   "source": [
    "#### OFDM\n",
    "\n",
    "Now that the slot has been constructed in the frequency domain, we need to perform OFDM. This consists of\n",
    "* zero-padding to the FFT size; this also adds guard bands\n",
    "* inverse DFT\n",
    "* insert the cyclic prefix\n",
    "* P/S conversion "
   ]
  },
  {
   "cell_type": "code",
   "execution_count": 186,
   "metadata": {},
   "outputs": [],
   "source": [
    "\n",
    "## OFDM\n",
    "# zero-pad in frequency\n",
    "Slot_FD = np.zeros((N_syms, N_FFT), dtype=complex)\n",
    "Slot_FD[:, N_guard:N_guard+N_active] = Slot_active\n",
    "\n",
    "# inverse DFT (we also need to FFT shift)\n",
    "Slot = np.fft.ifft(np.fft.fftshift(Slot_FD, axes=(1,))) * np.sqrt(N_FFT)\n",
    "\n",
    "# P/S and cyclic prefix\n",
    "sig = np.zeros(N_syms * (N_FFT+N_CP), dtype=complex)\n",
    "for n in range(N_syms):\n",
    "    start = n * (N_FFT + N_CP)\n",
    "    sig[start : start+N_CP] = Slot[n, -N_CP:]\n",
    "    start += N_CP\n",
    "    sig[start : start+N_FFT] = Slot[n, :]"
   ]
  },
  {
   "cell_type": "code",
   "execution_count": 187,
   "metadata": {},
   "outputs": [
    {
     "data": {
      "image/png": "[encoded data removed]",
      "text/plain": [
       "<Figure size 432x288 with 1 Axes>"
      ]
     },
     "metadata": {
      "needs_background": "light"
     },
     "output_type": "display_data"
    }
   ],
   "source": [
    "## check that the PSD is as expected\n",
    "f,s = plt.psd(sig, Fs=fs)"
   ]
  },
  {
   "cell_type": "markdown",
   "metadata": {},
   "source": [
    "## Channel\n",
    "\n",
    "The channel introduces a delay, a frequency offset, and multi-path distortion."
   ]
  },
  {
   "cell_type": "code",
   "execution_count": 188,
   "metadata": {},
   "outputs": [],
   "source": [
    "## channel\n",
    "# delay\n",
    "delay_samples = 1025\n",
    "\n",
    "# frequency offset\n",
    "df = 1e3 / fs  # 1KHz\n",
    "\n",
    "# delay by pre-pending zeros and apply frequency error\n",
    "rr = np.concatenate(( np.zeros(delay_samples, dtype=complex), \n",
    "                      sig * np.exp(2j * np.pi * df * np.arange(len(sig))),\n",
    "                      np.zeros(N_FFT, dtype=complex) ))\n",
    "\n",
    "\n",
    "# dispersive channel\n",
    "delay_spread = 1e-6  # 1 microsecond\n",
    "ds_samples = int( delay_spread * fs )\n",
    "\n",
    "c = np.zeros(ds_samples, dtype=complex)\n",
    "c[:len(c)//2] = 0.5*np.exp(-0.25*np.arange(len(c)//2))\n",
    "c[len(c)//2:] = 0.1*np.exp(-0.3*np.arange(len(c)//2))\n",
    "c *= np.exp(2j*np.pi*np.random.rand(len(c)))\n",
    "c = c / np.linalg.norm(c)\n",
    "\n",
    "rr = np.convolve(rr, c)\n",
    "\n",
    "# AWGN\n",
    "SNR_dB = 20\n",
    "SNR = 10**(SNR_dB/10)\n",
    "noise_var = np.var(sig) / SNR \n",
    "\n",
    "# add noise \n",
    "rr = rr + np.sqrt(0.5 * noise_var) * (np.random.randn(len(rr)) + 1j*np.random.randn(len(rr))) "
   ]
  },
  {
   "cell_type": "code",
   "execution_count": 189,
   "metadata": {},
   "outputs": [
    {
     "data": {
      "image/png": "[encoded data removed]",
      "text/plain": [
       "<Figure size 432x288 with 1 Axes>"
      ]
     },
     "metadata": {
      "needs_background": "light"
     },
     "output_type": "display_data"
    }
   ],
   "source": [
    "## check that the PSD is as expected\n",
    "f,s = plt.psd(rr, Fs=fs)"
   ]
  },
  {
   "cell_type": "markdown",
   "metadata": {},
   "source": [
    "## Receiver Processing\n",
    "\n",
    "To recover the users' payloads successfully, we must:\n",
    "* locate the slot and symbol boundaries boundaries\n",
    "* estimate and compensate the frequency offset\n",
    "* locate the resource elements that contain the users' data and perform frequency domain equalization\n",
    "\n",
    "We perform these stepts in the indicated order."
   ]
  },
  {
   "cell_type": "markdown",
   "metadata": {},
   "source": [
    "### Find symbol boundaries via the cyclic prefix\n",
    "\n",
    "The cyclic prefix provides a feature that can be used to identify symbol boundaries and also to derive an estimate of the frequency error.\n",
    "\n",
    "The cyclic prefix repeats the last $N_{CP}$ samples of an OFDM symbols before the start of the symbol. We compute the following correlation to test if the cyclic prefix starts at sample index $n$\n",
    "$$\n",
    "\\rho[n] = \\sum_{k=0}^{N_{CP}-1} r[n]*r^*[n+N_{FFT}].\n",
    "$$\n",
    "\n",
    "A large absolute value of $\\rho[n]$ marks the start of the preamble. Moreover. the phase of $\\rho[n]$ can be used to estimate the frequency error.\n",
    "\n",
    "As usual, it may be advantageous to use a normalized metric, e.g.,\n",
    "$$\n",
    "\\tilde{\\rho}[n] = \\frac{|\\sum_{k=0}^{N_{CP}-1} r[n]*r^*[n+N_{FFT}]|}{\\sum_{k=0}^{N_{CP}-1} |r[n]|^2}.\n",
    "$$\n",
    "\n",
    "Additionally, in highly dispersive channels it may be beneficial to truncate the summations by eliminating the first few terms that are most impacted by the switching transient between symbols.\n",
    "\n",
    "Below, we compute the metric $\\tilde{\\rho[n]}$ for all samples $n$ (for which enough data are present)."
   ]
  },
  {
   "cell_type": "code",
   "execution_count": 204,
   "metadata": {},
   "outputs": [],
   "source": [
    "## Compute the correlation rho for all signal samples\n",
    "# \n",
    "rho = np.zeros_like(rr)\n",
    "\n",
    "for n in range(len(rr) - N_CP - N_FFT):\n",
    "    denom = np.sum( np.abs(rr[n : n+N_CP])**2 )\n",
    "    rho[n] = np.sum(rr[n : n+N_CP].conj() * rr[n+N_FFT : n+N_FFT+N_CP]) / denom"
   ]
  },
  {
   "cell_type": "code",
   "execution_count": 205,
   "metadata": {},
   "outputs": [
    {
     "data": {
      "image/png": "[encoded data removed]",
      "text/plain": [
       "<Figure size 432x288 with 1 Axes>"
      ]
     },
     "metadata": {
      "needs_background": "light"
     },
     "output_type": "display_data"
    }
   ],
   "source": [
    "plt.plot(np.abs(rho))\n",
    "plt.grid()\n",
    "plt.xlabel(\"Sample\")\n",
    "plt.ylabel(\"Correlation Coefficient\")\n",
    "\n",
    "plt.show()"
   ]
  },
  {
   "cell_type": "markdown",
   "metadata": {},
   "source": [
    "The normalized correlation $\\tilde{\\rho}[n]$ shows 14 clearly defined peaks. Each of these peaks corresponds to the start of a cyclic prefix.\n",
    "\n",
    "Note that the regions during symbol $l=0, 1, 5$ appear noisier than the remaining symbols. This is caused by the fact that these symbols are only partially occupied.\n",
    "\n",
    "Let's find the location of the peaks and examine their phases."
   ]
  },
  {
   "cell_type": "code",
   "execution_count": 206,
   "metadata": {},
   "outputs": [],
   "source": [
    "loc = np.zeros(N_syms, dtype=int)\n",
    "corr = np.zeros(N_syms, dtype=complex)\n",
    "\n",
    "for n in range(N_syms):\n",
    "    start = delay_samples - N_FFT // 2 + n * (N_FFT + N_CP)\n",
    "    end = start + N_FFT\n",
    "\n",
    "    loc[n] = np.argmax(np.abs(rho[start:end])) + start\n",
    "    corr[n] = rho[loc[n]]"
   ]
  },
  {
   "cell_type": "markdown",
   "metadata": {},
   "source": [
    "We expect the difference between the locations of correlation peaks to be $N_{FFT} + N_{CP} = 2208$. Let's see if that holds."
   ]
  },
  {
   "cell_type": "code",
   "execution_count": 207,
   "metadata": {},
   "outputs": [
    {
     "name": "stdout",
     "output_type": "stream",
     "text": [
      "[2215 2209 2198 2215 2208 2207 2208 2209 2215 2200 2208 2203 2214]\n"
     ]
    }
   ],
   "source": [
    "## compute the difference between consecutive correlation peaks\n",
    "print( np.diff(loc) )"
   ]
  },
  {
   "cell_type": "markdown",
   "metadata": {},
   "source": [
    "#### Frequency Estimation from Cyclic Prefixes\n",
    "\n",
    "The phase difference between the cyclic prefix and the symbols at the end of the preamble is a result of frequency offset. Specifically,\n",
    "the phase difference is \n",
    "$$\n",
    "    \\Delta \\phi = 2 \\pi  \\frac{\\Delta f}{f_s}  N_{FFT} \n",
    "$$\n",
    "\n",
    "The phase at the locations of the correlation peaks measures this phase difference."
   ]
  },
  {
   "cell_type": "code",
   "execution_count": 215,
   "metadata": {},
   "outputs": [
    {
     "data": {
      "image/png": "[encoded data removed]",
      "text/plain": [
       "<Figure size 432x288 with 1 Axes>"
      ]
     },
     "metadata": {
      "needs_background": "light"
     },
     "output_type": "display_data"
    }
   ],
   "source": [
    "## plot phase of correlation peaks\n",
    "plt.plot(np.angle(corr)/np.pi)\n",
    "plt.grid()\n",
    "\n",
    "plt.xlabel('Symbol')\n",
    "plt.ylabel('Phase of correlation ($1/\\pi$)')\n",
    "\n",
    "plt.show()"
   ]
  },
  {
   "cell_type": "markdown",
   "metadata": {},
   "source": [
    "The phase of the correlation peaks is approximately constant in each symbol period. The measured value is approximately $0.13 \\pi$.\n",
    "\n",
    "From this measurement, we can estimate the frequency offset as\n",
    "$$\n",
    "    \\frac{2 \\pi  \\Delta f}{f_s} = \\frac{\\Delta \\phi}{N_{FFT}} \\quad \\text{radians per sample}\n",
    "$$\n",
    "\n",
    "In absolute terms, a the measured phase difference of $0.13 \\pi$ corresponds to a frequency error of 975Hz (true value is 1KHz).\n",
    "\n",
    "We can use this estimate to initialize a frequency-locked loop and update that loop once per symbol period from a new phase measurement."
   ]
  },
  {
   "cell_type": "markdown",
   "metadata": {},
   "source": [
    "### Find slot boundaries from Synchronization reference signal\n",
    "\n",
    "From the correlations of the cyclic prefix, we know where the symbol boundaries are. However, we must also know where the slot boundaries are since user data are arranged relative to the slot boundaries.\n",
    "\n",
    "The synchronization reference signal provides the means to identify slot boundaries.  According to our specifications, if a symbol contains the refeence signal then it must be the first symbol in the slot.\n",
    "\n",
    "Without knowledge about the symbol boundaries, we would have to search sample by sample for the reference signal. Knowing the sybol boundaries, we only need to check if the signal that occupies the current symbol contains the reference signal.\n",
    "\n",
    "To do so, we correlate the time-domain reference signal against the received samples in the given symbol. This provides an opportunity to search over a few samples around the assumed start of the symbol to solidify our estimate of the symbol boundary.\n",
    "\n",
    "We begin by constructing the reference signal."
   ]
  },
  {
   "cell_type": "code",
   "execution_count": 220,
   "metadata": {},
   "outputs": [],
   "source": [
    "## First, construct the reference signal\n",
    "# Generate LFSR sequence \n",
    "c_init = 1\n",
    "fb = 3\n",
    "M = 127\n",
    "N = 7\n",
    "\n",
    "# generate M-sequence and convert to BPSK (0 -> -1, 1 -> 1)\n",
    "seq = 2.0*lfsr(c_init, fb, M, N) - 1\n",
    "\n",
    "# construct FD reference signal\n",
    "ref_active = np.zeros(N_active, dtype=complex)\n",
    "ref_active[573:700] = seq\n",
    "ref_fd = np.zeros(N_FFT, dtype=complex)\n",
    "ref_fd[N_guard:N_guard+N_active] = ref_active\n",
    "\n",
    "# inverse DFT\n",
    "ref_sig = np.fft.ifft(np.fft.fftshift(ref_fd)) * np.sqrt(N_FFT)"
   ]
  },
  {
   "cell_type": "markdown",
   "metadata": {},
   "source": [
    "Now, we can correlate the reference signal against the received signals during each of the symbol periods. Obviously, we would do this only until we have found the reference signal. The other correlations are intended only to show that they don't correlate against the reference signal.\n",
    "\n",
    "We use the estimated symbol boundaries from the cyclic prefix and search $\\pm 50$ samples around these estimates for the best correlation.\n",
    "\n",
    "Also, the correlation must be performed over the symbol itself - not the cyclic prefix.\n",
    "\n",
    "**Note:** The computational efficiency of the correlation can be improved greatly by exploiting the fact that the reference signal is narrow-band as it occupies only 127 sub-carriers"
   ]
  },
  {
   "cell_type": "code",
   "execution_count": 230,
   "metadata": {},
   "outputs": [],
   "source": [
    "## check each symbol to see if it contains the reference signal\n",
    "corr_ref = np.zeros(N_syms, dtype=float)\n",
    "loc_s = np.zeros(N_syms, dtype=int)\n",
    "\n",
    "for n in range(N_syms):\n",
    "    U = 50\n",
    "    corrs = np.zeros(2*U, dtype=complex)\n",
    "\n",
    "    for m in range(2*U):\n",
    "        this_loc = loc[n] + N_CP + m - U\n",
    "        corrs[m] = np.sum(rr[this_loc : this_loc+N_FFT] * ref_sig.conj())\n",
    "\n",
    "    loc_s[n] = loc[n] + np.argmax(np.abs(corrs)) - U\n",
    "    corr_ref[n] = np.max(np.abs(corrs))"
   ]
  },
  {
   "cell_type": "code",
   "execution_count": 234,
   "metadata": {},
   "outputs": [
    {
     "data": {
      "image/png": "[encoded data removed]",
      "text/plain": [
       "<Figure size 432x288 with 1 Axes>"
      ]
     },
     "metadata": {
      "needs_background": "light"
     },
     "output_type": "display_data"
    },
    {
     "name": "stdout",
     "output_type": "stream",
     "text": [
      "Best correlation starts at sample 1027 + N_CP\n"
     ]
    }
   ],
   "source": [
    "plt.plot(corr_ref)\n",
    "plt.grid()\n",
    "plt.xlabel('Symbol')\n",
    "plt.ylabel('|Correlation|')\n",
    "\n",
    "plt.show()\n",
    "\n",
    "print(\"Best correlation starts at sample {:d} + N_CP\".format(loc_s[0]))"
   ]
  },
  {
   "cell_type": "markdown",
   "metadata": {},
   "source": [
    "### Demodulation\n",
    "\n",
    "We have shown how the symbol and slot boundaries can be found from the synchronization reference signal and the cyclic prefix. \n",
    "\n",
    "Also, we have a solid estimate of the frequency error that we can use to correct the frequency error; a tracking loop is omitted here but should be included when the frequency error is time-varying.\n",
    "\n",
    "Demodulation proceeds as follows:\n",
    "* For each symbol, we extract the pertinent samples (after the cyclic prefix) and perform frequency correction\n",
    "* The frequency corrected samples are then transformed to the frequency domain\n",
    "* Finally, the resource elements for each user are demodulated as described in more detail below."
   ]
  },
  {
   "cell_type": "code",
   "execution_count": 236,
   "metadata": {},
   "outputs": [],
   "source": [
    "## transform signal to frequency domain\n",
    "RX_fd = np.zeros((N_syms, N_FFT), dtype=complex)\n",
    "\n",
    "for n in range(N_syms):\n",
    "    # find first sample of n-th symbol\n",
    "    start = loc_s[0] + N_CP + n * (N_CP + N_FFT)\n",
    "\n",
    "    # frequency correction\n",
    "    df = 0.13*np.pi /(2*np.pi)/N_FFT\n",
    "    this_rr = rr[start:start+N_FFT] * np.exp(-1j * 2*np.pi * np.arange(N_FFT))\n",
    "\n",
    "    RX_fd[n, :] = np.fft.fftshift(np.fft.fft(this_rr))\n",
    "\n",
    "RX_active = RX_fd[:, N_guard:N_guard+N_active]"
   ]
  },
  {
   "cell_type": "markdown",
   "metadata": {},
   "source": [
    "#### Extract the DMRS symbols\n",
    "\n",
    "The DMRS symbols are used to initialize the frequency domain equalizer. We extract the resource elements that hold the DMRS symbols and multiply them with the conjugate complex of the DMRS symbols.\n",
    "\n",
    "This provides an estimate for the complex gain for the subcarrriers holding the DMRS symbols.\n",
    "\n",
    "For each user we needs the pertinent DMRS symbols."
   ]
  },
  {
   "cell_type": "code",
   "execution_count": 240,
   "metadata": {},
   "outputs": [],
   "source": [
    "## Generate the DMRS sequences for all users and insert in slot\n",
    "M_dmrs = 4   # use only every fourth subcarrier\n",
    "\n",
    "dmrs_seqs = {}\n",
    "\n",
    "for user in sliv_l:\n",
    "    id = user['id']\n",
    "\n",
    "    # make a Gold sequence from 2 M-sequences, the second is initialized by user's id\n",
    "    dmrs = lfsr(1, 9, N_active, 31, 1600) ^ lfsr(id, 15, N_active, 31, 1600)\n",
    "    # convert binary to BPSK\n",
    "    dmrs = 2.0*dmrs - 1.0\n",
    "\n",
    "    # insert dmrs in first symbol of allocated bandwidth\n",
    "    l0 = user['l0']\n",
    "    k0 = user['k0']\n",
    "    ke = user['ke']\n",
    "\n",
    "    all_sc = np.arange(N_active)\n",
    "    use_for_dmrs = np.logical_and(np.logical_and(all_sc >= k0, all_sc <= ke), all_sc % M_dmrs == 2) # really?\n",
    "\n",
    "    this_dmrs = np.zeros(N_active, dtype=complex)\n",
    "    this_dmrs[use_for_dmrs] = dmrs[use_for_dmrs]\n",
    "\n",
    "    dmrs_seqs[id] = this_dmrs"
   ]
  },
  {
   "cell_type": "markdown",
   "metadata": {},
   "source": []
  },
  {
   "cell_type": "code",
   "execution_count": 244,
   "metadata": {},
   "outputs": [],
   "source": [
    "## Derive initial equalizer values\n",
    "eqs = {}\n",
    "\n",
    "for user in sliv_l:\n",
    "    # at the DMRS locations, equalizer weights can be computed directly\n",
    "    id = user['id']\n",
    "    l0 = user['l0']\n",
    "    k0 = user['k0']\n",
    "    ke = user['ke']\n",
    "\n",
    "    # pull out the symbol that holds the DMRS\n",
    "    rx_dmrs = RX_active[l0,:]\n",
    "    this_dmrs = dmrs_seqs[id]\n",
    "\n",
    "    this_eq = np.zeros_like(rx_dmrs)\n",
    "\n",
    "    # linear interpolation between measured subcarriers\n",
    "    for  k in range(k0, ke+1):\n",
    "        if k % M_dmrs == 2:\n",
    "            this_eq[k] = rx_dmrs[k] / this_dmrs[k]\n",
    "            prior = this_eq[k]\n",
    "\n",
    "    for  k in range(k0, ke+1):\n",
    "        j = k % M_dmrs\n",
    "        if j == 0:\n",
    "            if k-k0 < 2:\n",
    "                this_eq[k] = this_eq[k+2]\n",
    "            if ke-k < 2:\n",
    "                this_eq[k] = this_eq[k-2]\n",
    "            else:\n",
    "                this_eq[k] = 0.5*(this_eq[k+2] + this_eq[k-2])\n",
    "        elif j == 1:\n",
    "            if k-k0 < 2:\n",
    "                this_eq[k] = this_eq[k+1]\n",
    "            if ke-k < 2:\n",
    "                this_eq[k] = this_eq[k-1]\n",
    "            else:\n",
    "                this_eq[k] = 0.25*(3*this_eq[k+1] + this_eq[k-3])\n",
    "        elif j == 3:\n",
    "            if k-k0 < 2:\n",
    "                this_eq[k] = this_eq[k+3]\n",
    "            if ke-k < 2:\n",
    "                this_eq[k] = this_eq[k-3]\n",
    "            else:\n",
    "                this_eq[k] = 0.25*(3*this_eq[k-1] + this_eq[k+3])\n",
    "            \n",
    "    eqs[id] = this_eq\n",
    "\n"
   ]
  },
  {
   "cell_type": "code",
   "execution_count": 245,
   "metadata": {},
   "outputs": [
    {
     "data": {
      "text/plain": [
       "array([-20.91921677-1.354205j  , -15.89911328-2.63808997j,\n",
       "       -10.8790098 -3.92197494j, -10.36189844-3.13191775j,\n",
       "        -9.84478709-2.34186056j,  -9.32767574-1.55180338j,\n",
       "        -8.81056438-0.76174619j,  -8.24322039-1.15160348j,\n",
       "        -7.67587639-1.54146077j,  -7.10853239-1.93131806j])"
      ]
     },
     "execution_count": 245,
     "metadata": {},
     "output_type": "execute_result"
    }
   ],
   "source": [
    "eqs[1][:10]"
   ]
  },
  {
   "cell_type": "code",
   "execution_count": null,
   "metadata": {},
   "outputs": [],
   "source": []
  }
 ],
 "metadata": {
  "kernelspec": {
   "display_name": "Python 3.9.15 64-bit",
   "language": "python",
   "name": "python3"
  },
  "language_info": {
   "codemirror_mode": {
    "name": "ipython",
    "version": 3
   },
   "file_extension": ".py",
   "mimetype": "text/x-python",
   "name": "python",
   "nbconvert_exporter": "python",
   "pygments_lexer": "ipython3",
   "version": "3.9.15"
  },
  "orig_nbformat": 4,
  "vscode": {
   "interpreter": {
    "hash": "5984c07bd85a09704efeebc43c280456997f3d9e1810f10980d19f89f173e200"
   }
  }
 },
 "nbformat": 4,
 "nbformat_minor": 2
}
