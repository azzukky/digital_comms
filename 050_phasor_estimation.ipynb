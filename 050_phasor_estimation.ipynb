{
 "cells": [
  {
   "cell_type": "markdown",
   "metadata": {
    "slideshow": {
     "slide_type": "slide"
    }
   },
   "source": [
    "# Estimating Signal Amplitude and Phase\n",
    "\n",
    "Until now, we have assummed that the received signal is known completely - except for the information symbols and the additive noise. In reality, several signal parameters are unknown, including\n",
    "* signal amplitude $A$\n",
    "* carrier phase $\\phi$\n",
    "* carrier frequency offset $\\Delta f$\n",
    "* signal delay $\\tau$\n",
    "\n",
    "The receiver can **not** recover the information symbols without knowing and correcting for these unknow signal parameters.\n",
    "\n",
    "The unknown signal parameters must be measured (estimated) from the received signal. Usually, this is accomplised by sending a training sequence of known symbols before the information bearing signal.\n",
    "\n",
    "Signal parameters are determined from this training sequence and are then used to enable the transmitter to receive the information symbols.\n",
    "\n",
    "Today, we illustrate the principles of this procedure by estimating the complex amplitude (phasor) $Ae^{j\\phi}$ of the signal. This is the easiest signal parameter to estimate. We will continue to assume that the signal is synchronized in time (delay $\\tau=0$) and frequency (offset $\\Delta f = 0$).\n",
    "\n",
    "<a href=\"https://colab.research.google.com/github/bepepa/digital_comms/blob/master/050_phasor_estimation.ipynb\" target=\"_parent\"><img src=\"https://colab.research.google.com/assets/colab-badge.svg\" alt=\"Open In Colab\"/></a> (Executable notebook)\n",
    "\n",
    "<a href=\"https://nbviewer.org/format/slides/github/bepepa/digital_comms/blob/main/050_phasor_estimation.ipynb\"><img src=\"https://raw.githubusercontent.com/jupyter/design/master/logos/Badges/nbviewer_badge.svg\" alt=\"Render nbviewer\" /> </a> (read-only, slides view)"
   ]
  },
  {
   "cell_type": "code",
   "execution_count": 4,
   "metadata": {
    "slideshow": {
     "slide_type": "skip"
    }
   },
   "outputs": [],
   "source": [
    "## Boilerplate instructions for importing NumPy and Matplotlib\n",
    "# Import NumPy\n",
    "import numpy as np\n",
    "\n",
    "# To plot pretty figures, use matplotlib\n",
    "%matplotlib inline\n",
    "import matplotlib as mpl\n",
    "import matplotlib.pyplot as plt\n",
    "mpl.rc('axes', labelsize=14)\n",
    "mpl.rc('xtick', labelsize=12)\n",
    "mpl.rc('ytick', labelsize=12)\n",
    "\n",
    "# the next cells, repeat code from earlier notebooks. It would be better to import these but\n",
    "# then the notebook is no longer self-contained"
   ]
  },
  {
   "cell_type": "code",
   "execution_count": 2,
   "metadata": {
    "slideshow": {
     "slide_type": "skip"
    }
   },
   "outputs": [],
   "source": [
    "def random_symbols(A, N):\n",
    "    \"\"\"generate random symbols from the constallation A\n",
    "    \n",
    "    Inputs:\n",
    "    A - np.ndarray of symbols in constellation, e.g., A = np.array([1, -1]) for BPSK\n",
    "    N - number of random symbols to produce\n",
    "\n",
    "    Returns:\n",
    "    Numpy array of length N\n",
    "    \"\"\"\n",
    "    return A[np.random.randint(len(A), size=N)]"
   ]
  },
  {
   "cell_type": "code",
   "execution_count": 3,
   "metadata": {
    "slideshow": {
     "slide_type": "skip"
    }
   },
   "outputs": [],
   "source": [
    "def srrc_pulse(a, fsT, N=5):\n",
    "    \"\"\"Construct a raised cosine pulse\n",
    "    \n",
    "    Inputs:\n",
    "    a - roll-off factor\n",
    "    fsT - number of samples per symbol period\n",
    "    N - lenght of pulse in symbol periods; pulse ranges for -N \\leq t/T \\leq N (default: 5).\n",
    "\n",
    "    Returns:\n",
    "    Length 2*N*fsT+1 vector\n",
    "    \"\"\"\n",
    "    # time axis with spacing 1/(fs*T)\n",
    "    tt = np.linspace(-N, N, 2*N*fsT + 1)\n",
    "    \n",
    "    num = np.sin(np.pi*tt*(1-a)) + 4*a*tt*np.cos(np.pi*tt*(1+a))\n",
    "    den = np.pi*tt*(1-(4*a*tt)**2)\n",
    "    \n",
    "    # deal with divide-by-zeros: at zero location, place \"L'Hospital value\" in numerator\n",
    "    # and 1 in denominator.\n",
    "    # First divide-by-zero location is t=0; by L-Hospital, the value is (1 + a*(4/pi - 1))\n",
    "    ind_0 = np.where(np.abs(tt) < 1e-6)\n",
    "    num[ind_0] = (1 + a*(4/np.pi - 1))\n",
    "    den[ind_0] = 1\n",
    "    # Second divide-by-zero location is t=+/-1/(4*a); by L-Hospital, the value is as shown below\n",
    "    ind_0 = np.where(np.abs(np.abs(tt) - 1/(4*a)) < 1e-6)\n",
    "    num[ind_0] = a/np.sqrt(2) * ((1+2/np.pi)*np.sin(np.pi/(4*a)) + (1-2/np.pi)*np.cos(np.pi/(4*a)))\n",
    "    den[ind_0] = 1\n",
    "    \n",
    "    # scaling: we scale the pulse such that the convolution of two SRRC pulse yields\n",
    "    # a RC pulse with amplitude 1 in the center of the pulse. This implies that\n",
    "    # np.sum(hh**2) must equal 1. This replace the scaling by 1/T in the formula above.\n",
    "    hh = num/den\n",
    "    \n",
    "    return hh / np.sqrt(np.sum(hh*hh))"
   ]
  },
  {
   "cell_type": "code",
   "execution_count": 5,
   "metadata": {
    "slideshow": {
     "slide_type": "skip"
    }
   },
   "outputs": [],
   "source": [
    "def pulse_shape(symbols, pulse, fsT):\n",
    "    \"\"\"Generate a pulse-shaped QAM signal\n",
    "    \n",
    "    Inputs:\n",
    "    symbols - a sequence of information symbols; rate 1/T\n",
    "    pulse - sampled pulse shape; rate fsT/T\n",
    "    fsT - samples per symbol period\n",
    "\n",
    "    Returns:\n",
    "    Numpy array with fsT*(len(symbols) - 1) + len(pulse)  samples\n",
    "    \"\"\"\n",
    "    # step 1: upsample the symbol sequence\n",
    "    up_symbols = np.zeros(fsT * (len(symbols) - 1) + 1, dtype=symbols.dtype)\n",
    "    up_symbols[::fsT] = symbols\n",
    "\n",
    "    # step 2: filter\n",
    "    return np.convolve(up_symbols, pulse)"
   ]
  },
  {
   "cell_type": "code",
   "execution_count": 59,
   "metadata": {
    "slideshow": {
     "slide_type": "skip"
    }
   },
   "outputs": [],
   "source": [
    "def MPE_decision_rule(Z, A):\n",
    "    \"\"\"Decide which symbol was most likely transmitted\n",
    "    \n",
    "    This function examines matched filter outputs (in vector Z) and for each element of Z selects the symbol \n",
    "    from constellation A that is closest.\n",
    "\n",
    "    Inputs:\n",
    "    Z - Vector of matched filter outputs\n",
    "    A - Constellation\n",
    "\n",
    "    Returns:\n",
    "    Numpy array of the same length as Z\n",
    "    \"\"\"\n",
    "    dec = np.empty_like(Z)\n",
    "\n",
    "    for n in range(len(Z)):\n",
    "        this_Z = Z[n]\n",
    "        ind = np.argmin(np.abs(A-this_Z))\n",
    "        dec[n] = A[ind]\n",
    "\n",
    "    return dec"
   ]
  },
  {
   "cell_type": "code",
   "execution_count": 99,
   "metadata": {
    "slideshow": {
     "slide_type": "skip"
    }
   },
   "outputs": [],
   "source": [
    "from scipy import special\n",
    "\n",
    "def Q(x):\n",
    "    \"\"\"Gaussian error integral\"\"\"\n",
    "    return 0.5 - 0.5*special.erf(x/np.sqrt(2))"
   ]
  },
  {
   "cell_type": "markdown",
   "metadata": {
    "slideshow": {
     "slide_type": "slide"
    }
   },
   "source": [
    "## Maximum Likelihood Estimation of Phasor\n",
    "\n",
    "### Training Signal\n",
    "\n",
    "Our goal is to demonstrate how the phasor $Ae^{j\\phi}$ can be estimated from a received training sequence. The training signal (usually) has the same form as the information bearing signal, except all the training symbols $p_n$ are known. \n",
    "\n",
    "For the estimation of the phasor, the choice of training symbols is not critical. We will see that for estimating the signal delay, i.e., for time synchronization, good autocorrelation properties of the training sequence are critical.\n",
    "\n",
    "Hence, our training signal will be derived from $N_p$ randomly selected information symbols. We can write our training signal as\n",
    "$$\n",
    "    s_p(t) = \\sum_{n=0}^{N_p-1} p_n p(t-nT),\n",
    "$$\n",
    "where $p(t)$ is a suitable pulse shape for symbol period $T$."
   ]
  },
  {
   "cell_type": "markdown",
   "metadata": {
    "slideshow": {
     "slide_type": "subslide"
    }
   },
   "source": [
    "For our experiments, we will assume that the training symbols are drawn randomly from a 16-QAM constellation $\\cal A$. For pulse-shaping, a square-root raised-cosine (SRRC) filter with roll-off $a=0.5$ is used. To ensure that tme-domain plots are smooth, the signal is sampled 32 times per symbol period (`fsT = 5`)."
   ]
  },
  {
   "cell_type": "code",
   "execution_count": 41,
   "metadata": {
    "slideshow": {
     "slide_type": "fragment"
    }
   },
   "outputs": [],
   "source": [
    "## Parameters\n",
    "# pulse shaping\n",
    "fsT = 32\n",
    "a = 0.5\n",
    "N = 5\n",
    "\n",
    "hh = srrc_pulse(a, fsT, N)\n",
    "\n",
    "# constellation: 16-QAM, normalized to unit average energy per symbol\n",
    "Alphabet = np.array([a +1j*b for a in [-3, -1, 1, 3] for b in [-3, -1, 1, 3]]) / np.sqrt(10)\n",
    "\n",
    "# number of training symbols\n",
    "Np = 16"
   ]
  },
  {
   "cell_type": "code",
   "execution_count": 42,
   "metadata": {
    "slideshow": {
     "slide_type": "subslide"
    }
   },
   "outputs": [],
   "source": [
    "## construct the training signal\n",
    "# training symbols\n",
    "pn = random_symbols(Alphabet, Np)\n",
    "\n",
    "# pulse shaping\n",
    "sp = pulse_shape(pn,hh, fsT)"
   ]
  },
  {
   "cell_type": "code",
   "execution_count": 43,
   "metadata": {
    "slideshow": {
     "slide_type": "subslide"
    }
   },
   "outputs": [
    {
     "data": {
      "image/png": "[encoded data removed]",
      "text/plain": [
       "<Figure size 432x288 with 1 Axes>"
      ]
     },
     "metadata": {
      "needs_background": "light"
     },
     "output_type": "display_data"
    }
   ],
   "source": [
    "tt = np.arange(len(sp))/fsT\n",
    "plt.plot(tt, np.real(sp), label=\"in-phase\")\n",
    "plt.plot(tt, np.imag(sp), label=\"quadrature\")\n",
    "\n",
    "plt.grid()\n",
    "plt.xlabel('Time ($1/T$)')\n",
    "plt.legend()\n",
    "\n",
    "plt.show()"
   ]
  },
  {
   "cell_type": "markdown",
   "metadata": {
    "slideshow": {
     "slide_type": "slide"
    }
   },
   "source": [
    "### Channel\n",
    "\n",
    "The channel multiplies the training signal with the complex phasor $Ae^{j\\phi}$ - this phasor is unknown at the receiver. It is critical that both amplitude $A$ and phase $\\phi$ are estimated accurately.\n",
    "\n",
    "If the phase is not estimated correctly, then the 16-QAM constellation is rotated. If the amplitude is not estimated correctly, then the constellation is scaled. In either case, the error probability will increase.\n",
    "\n",
    "Additionally, the channel adds complex, whithe Gaussian noise of specified SNR. Note, that noise variance must be multiplied by $A^2$ (relative to no channel gain) to maintain correct SNR."
   ]
  },
  {
   "cell_type": "code",
   "execution_count": 44,
   "metadata": {
    "slideshow": {
     "slide_type": "fragment"
    }
   },
   "outputs": [],
   "source": [
    "## Channel parameters\n",
    "A = 0.1\n",
    "phi = np.pi/4\n",
    "X = A*np.exp(1j*phi) # phasor\n",
    "\n",
    "SNR_dB = 20  # a little high because we're using 16-QAM \n",
    "SNR_lin = 10**(SNR_dB/10)\n",
    "noise_var = A**2 / SNR_lin  # total noise variance in I and Q"
   ]
  },
  {
   "cell_type": "code",
   "execution_count": 45,
   "metadata": {
    "slideshow": {
     "slide_type": "subslide"
    }
   },
   "outputs": [],
   "source": [
    "## received training signal\n",
    "rp = X * sp + np.sqrt(0.5 * noise_var) * (np.random.randn(len(sp)) + 1j*np.random.randn(len(sp)))"
   ]
  },
  {
   "cell_type": "code",
   "execution_count": 46,
   "metadata": {
    "slideshow": {
     "slide_type": "fragment"
    }
   },
   "outputs": [
    {
     "data": {
      "image/png": "[encoded data removed]",
      "text/plain": [
       "<Figure size 432x288 with 1 Axes>"
      ]
     },
     "metadata": {
      "needs_background": "light"
     },
     "output_type": "display_data"
    }
   ],
   "source": [
    "plt.plot(tt, np.real(rp), label=\"in-phase\")\n",
    "plt.plot(tt, np.imag(rp), label=\"quadrature\")\n",
    "\n",
    "plt.grid()\n",
    "plt.xlabel('Time ($1/T$)')\n",
    "plt.legend()\n",
    "\n",
    "plt.show()"
   ]
  },
  {
   "cell_type": "markdown",
   "metadata": {
    "slideshow": {
     "slide_type": "fragment"
    }
   },
   "source": [
    "The received signal is\n",
    "* noisy\n",
    "* scaled\n",
    "* phase shifted"
   ]
  },
  {
   "cell_type": "markdown",
   "metadata": {
    "slideshow": {
     "slide_type": "slide"
    }
   },
   "source": [
    "### Estimation\n",
    "\n",
    "We have shown that the maximum-likelihodd estimate (MLE) for the phasor $X = Ae^{j\\phi}$ can be computed from samples of the received signal $r[n]$ and samples of the training signal $s_p[n]$:\n",
    "$$\n",
    "\\hat{X} = \\frac{\\sum_n r[n]s^*[n]}{\\sum_n |s[n]|^2}\n",
    "$$\n",
    "\n",
    "For the given signals $r[n]$ and $s_p[n]$ this yields:"
   ]
  },
  {
   "cell_type": "code",
   "execution_count": 47,
   "metadata": {
    "slideshow": {
     "slide_type": "subslide"
    }
   },
   "outputs": [
    {
     "name": "stdout",
     "output_type": "stream",
     "text": [
      "Estimated amplitude: 0.100\n",
      "Estimated phase: 0.254 * pi\n",
      "Corrected phasor X/X_hat = 0.997 + j -0.012\n"
     ]
    }
   ],
   "source": [
    "## compute the estimate of the phasor\n",
    "X_hat = np.sum(rp*sp.conj())/np.sum(sp*sp.conj())\n",
    "\n",
    "print(\"Estimated amplitude: {:4.3f}\\nEstimated phase: {:4.3f} * pi\".format(np.abs(X_hat), \n",
    "                                                                           np.angle(X_hat)/np.pi))\n",
    "\n",
    "print(\"Corrected phasor X/X_hat = {:4.3f} + j {:4.3f}\". format(np.real(X/X_hat), np.imag(X/X_hat)))"
   ]
  },
  {
   "cell_type": "markdown",
   "metadata": {
    "slideshow": {
     "slide_type": "slide"
    }
   },
   "source": [
    "### Computing the phasor from matched filter outputs\n",
    "\n",
    "Above we computed the phasor estimate from amples of the received signal $r[n]$ and samples of the training signal $s_p[n]$. \n",
    "\n",
    "Let's take a look at the numerator of the estimator $C_{rs} = \\sum_n r[n]s^*[n]$. If we insert our expression for the training signal, the numerator becomes\n",
    "$$\n",
    "    C_{rs} = \\sum_n r[n]s^*[n] = \\sum_n r[n] \\sum_k p^*_k p^*[n - k \\cdot f_sT] = \\sum_k p^*_k \\sum_n r[n] p^*[n - k \\cdot f_sT].\n",
    "$$\n",
    "\n",
    "Notice that $Z_k = \\sum_n r[n] p^*[n - k \\cdot f_sT]$ are the outputs of the matched filter $p^*[-n]$ at sampling instances $k \\cdot f_sT$.\n",
    "\n",
    "Therefore, we can alternatively compute the numerator of the estimate from the matched filter outputs and the training symbols:\n",
    "$$\n",
    "    C_{RS}  = \\sum_{k=0}^{N_p-1} Z_k p^*_k.\n",
    "$$\n",
    "Remember that the filter delays must be taken into account when identifying the proper sampling instances.\n",
    "\n",
    "By a similar argument, it follows that the denominator of the estimate is simply $\\sum_{k=0}{N_p-1} |p_k|^2$, so that the phasor estimate based on matched filter outputs $Z_k$ and training symbols $p_k$ is given by\n",
    "$$\n",
    "    \\hat{X} = \\frac{\\sum_{k=0}^{N-1} Z_k p^*_k}{\\sum_{k=0}^{N-1} |p_k[^2}.\n",
    "$$"
   ]
  },
  {
   "cell_type": "code",
   "execution_count": 48,
   "metadata": {
    "slideshow": {
     "slide_type": "subslide"
    }
   },
   "outputs": [],
   "source": [
    "## Compute matched filter outputs and matched filter samples\n",
    "mf_out = np.convolve(rp, np.flip(hh))\n",
    "\n",
    "# down-sample starting at filter delay\n",
    "d_samples = len(hh) - 1\n",
    "Z = mf_out[d_samples::fsT][:Np]"
   ]
  },
  {
   "cell_type": "code",
   "execution_count": 49,
   "metadata": {
    "slideshow": {
     "slide_type": "subslide"
    }
   },
   "outputs": [
    {
     "data": {
      "image/png": "[encoded data removed]",
      "text/plain": [
       "<Figure size 432x288 with 1 Axes>"
      ]
     },
     "metadata": {
      "needs_background": "light"
     },
     "output_type": "display_data"
    }
   ],
   "source": [
    "tt = np.arange(len(mf_out)) / fsT\n",
    "tt_samples = tt[d_samples::fsT][:Np]\n",
    "\n",
    "plt.plot(tt, np.real(mf_out), label=\"in-phase\")\n",
    "plt.plot(tt, np.imag(mf_out), label=\"quadrature\")\n",
    "\n",
    "plt.plot(tt_samples, np.real(Z), 'ko')\n",
    "plt.plot(tt_samples, np.imag(Z), 'ko')\n",
    "\n",
    "plt.grid()\n",
    "plt.xlabel('Time ($1/T$)')\n",
    "plt.legend()\n",
    "\n",
    "plt.show()"
   ]
  },
  {
   "cell_type": "code",
   "execution_count": 50,
   "metadata": {
    "slideshow": {
     "slide_type": "subslide"
    }
   },
   "outputs": [
    {
     "name": "stdout",
     "output_type": "stream",
     "text": [
      "Estimated amplitude: 0.100\n",
      "Estimated phase: 0.254 * pi\n",
      "Corrected phasor X/X_hat = 0.997 + j -0.012\n"
     ]
    }
   ],
   "source": [
    "X_hat = np.sum(Z * pn.conj())/np.sum(pn*pn.conj())\n",
    "\n",
    "print(\"Estimated amplitude: {:4.3f}\\nEstimated phase: {:4.3f} * pi\".format(np.abs(X_hat), \n",
    "                                                                           np.angle(X_hat)/np.pi))\n",
    "\n",
    "print(\"Corrected phasor X/X_hat = {:4.3f} + j {:4.3f}\". format(np.real(X/X_hat), np.imag(X/X_hat)))"
   ]
  },
  {
   "cell_type": "markdown",
   "metadata": {
    "slideshow": {
     "slide_type": "fragment"
    }
   },
   "source": [
    "The estimate based on matched filter outputs matches the estimate based on samples.\n",
    "\n",
    "We capture our findings by creating a function for estimating the phasor based on matched filter outputs."
   ]
  },
  {
   "cell_type": "code",
   "execution_count": 51,
   "metadata": {
    "slideshow": {
     "slide_type": "subslide"
    }
   },
   "outputs": [],
   "source": [
    "def estimate_phasor_mf(Zk, pk):\n",
    "    \"\"\"Estimate phasor from matched filter outputs\n",
    "    \n",
    "    Inputs:\n",
    "    Zk - matched filter outputs\n",
    "    pk - training symbols\n",
    "\n",
    "    Returns:\n",
    "    complex scalar - estimated phasor\n",
    "    \"\"\"\n",
    "    return np.sum(Zk * pk.conj())/np.sum(pk*pk.conj())"
   ]
  },
  {
   "cell_type": "markdown",
   "metadata": {
    "slideshow": {
     "slide_type": "slide"
    }
   },
   "source": [
    "## Using the phasor estimate in the receiver\n",
    "\n",
    "The received signal consists of the training signal followed by the information bearing signal. The receiver will \n",
    "\n",
    "* pass both portions of the received signal through its matched filter,\n",
    "* the matched filter outputs are sampled at the symbol locations (i.e., down-sampled by `fsT` starting at the filter delay).\n",
    "*  The first $N_p$ outputs are the training symbols; these are used to form the phasor estimate $\\hat{X}$.\n",
    "* The remaining matched filter outputs $Z_k$ are scaled by $1/\\hat{X} = \\frac{\\hat{X}^*}{|\\hat{X}|^2}$.\n",
    "* The scaled matched filter outputs are then input to the decision rule to make final symbol decisions.\n",
    "\n",
    "These steps are illustrated below for a burst of symbols."
   ]
  },
  {
   "cell_type": "code",
   "execution_count": 57,
   "metadata": {
    "slideshow": {
     "slide_type": "subslide"
    }
   },
   "outputs": [],
   "source": [
    "## generate the transmitted signal\n",
    "Ns = 1024\n",
    "syms = random_symbols(Alphabet, Ns)\n",
    "\n",
    "# concatenate training and symbols, then pulse shape\n",
    "sig = pulse_shape(np.concatenate((pn, syms)), hh, fsT)\n"
   ]
  },
  {
   "cell_type": "code",
   "execution_count": 87,
   "metadata": {
    "slideshow": {
     "slide_type": "subslide"
    }
   },
   "outputs": [],
   "source": [
    "## channel: scale by A e^{j\\phi}, then add noise\n",
    "A = 0.25\n",
    "phi = np.pi/4\n",
    "X = A*np.exp(1j*phi) # phasor\n",
    "\n",
    "SNR_dB = 20  # a little high because we're using 16-QAM \n",
    "SNR_lin = 10**(SNR_dB/10)\n",
    "noise_var = A**2 / SNR_lin  # total noise variance in I and Q\n",
    "\n",
    "rr = X * sig + np.sqrt(0.5 * noise_var) * (np.random.randn(len(sig)) + 1j*np.random.randn(len(sig)))"
   ]
  },
  {
   "cell_type": "code",
   "execution_count": 88,
   "metadata": {
    "slideshow": {
     "slide_type": "subslide"
    }
   },
   "outputs": [
    {
     "name": "stdout",
     "output_type": "stream",
     "text": [
      "Estimated amplitude: 0.256\n",
      "Estimated phase: 0.251 * pi\n",
      "Found 0 errors\n"
     ]
    }
   ],
   "source": [
    "## receiver processing\n",
    "# 1. pass rr through matched filter\n",
    "mf_out = np.convolve(rr, np.flip(hh))\n",
    "\n",
    "# 2. down-sample\n",
    "Z = mf_out[d_samples::fsT][:Np + Ns]\n",
    "\n",
    "# 3. form the estimate from the first Np samples of Z\n",
    "X_hat = estimate_phasor_mf(Z[:Np], pn)\n",
    "\n",
    "# 4. scale the MF outputs during the information portion\n",
    "Z_scaled = Z[Np:] * 1/X_hat\n",
    "\n",
    "# 5. make bit decisions\n",
    "dec = MPE_decision_rule(Z_scaled, Alphabet)\n",
    "\n",
    "# summarize results\n",
    "print(\"Estimated amplitude: {:4.3f}\\nEstimated phase: {:4.3f} * pi\".format(np.abs(X_hat), \n",
    "                                                                           np.angle(X_hat)/np.pi))\n",
    "print(\"Found {:d} errors\".format(np.sum(np.not_equal(dec, syms))))\n"
   ]
  },
  {
   "cell_type": "markdown",
   "metadata": {
    "slideshow": {
     "slide_type": "slide"
    }
   },
   "source": [
    "### Constellations\n",
    "\n",
    "For additional insight, we plot the constellation at different points in the process. We begin with the transmitted, ideal constellation. Then, show the received (scaled and rotated) constellation and, finally, the recovered constellation after scaling with the estimated phasor.\n",
    "\n",
    "The corrected constellation is very close to the transmitted constellation. In contrast, the received constellation is not usable."
   ]
  },
  {
   "cell_type": "code",
   "execution_count": 89,
   "metadata": {
    "slideshow": {
     "slide_type": "subslide"
    }
   },
   "outputs": [
    {
     "data": {
      "image/png": "[encoded data removed]",
      "text/plain": [
       "<Figure size 432x288 with 1 Axes>"
      ]
     },
     "metadata": {
      "needs_background": "light"
     },
     "output_type": "display_data"
    }
   ],
   "source": [
    "# Plot of constellation at different points in the process\n",
    "plt.plot(np.real(Alphabet), np.imag(Alphabet), 'o', label=\"Transmitted\")\n",
    "plt.plot(np.real(X*Alphabet), np.imag(X*Alphabet), '.', label=\"Received\")\n",
    "plt.plot(np.real(X/X_hat*Alphabet), np.imag(X/X_hat*Alphabet), 'x', label=\"Corrected\")\n",
    "plt.grid()\n",
    "for n in range(3):\n",
    "    plt.plot(1.2*np.array([-1,1]), (-2+n*2)/np.sqrt(10)*np.ones(2) , 'r--')\n",
    "    plt.plot((-2+n*2)/np.sqrt(10)*np.ones(2) , 1.2*np.array([-1,1]), 'r--')\n",
    "\n",
    "plt.axis('equal')\n",
    "plt.legend()\n",
    "\n",
    "plt.show()"
   ]
  },
  {
   "cell_type": "markdown",
   "metadata": {
    "slideshow": {
     "slide_type": "subslide"
    }
   },
   "source": [
    "Next, we look at a scatter plot of the received symbols (after matched filter and correction). Since, no errors were observed above, we expect that the scatter plot shows tight clusters that are confined to the correct decision regions."
   ]
  },
  {
   "cell_type": "code",
   "execution_count": 91,
   "metadata": {
    "slideshow": {
     "slide_type": "fragment"
    }
   },
   "outputs": [
    {
     "data": {
      "image/png": "[encoded data removed]",
      "text/plain": [
       "<Figure size 432x288 with 1 Axes>"
      ]
     },
     "metadata": {
      "needs_background": "light"
     },
     "output_type": "display_data"
    }
   ],
   "source": [
    "# Plot of constellation at different points in the process\n",
    "plt.plot(np.real(Z_scaled), np.imag(Z_scaled), 'o', label=\"Corrected\")\n",
    "\n",
    "plt.grid()\n",
    "for n in range(3):\n",
    "    plt.plot(1.2*np.array([-1,1]), (-2+n*2)/np.sqrt(10)*np.ones(2) , 'r--')\n",
    "    plt.plot((-2+n*2)/np.sqrt(10)*np.ones(2) , 1.2*np.array([-1,1]), 'r--')\n",
    "\n",
    "plt.axis('equal')\n",
    "\n",
    "plt.show()"
   ]
  },
  {
   "cell_type": "markdown",
   "metadata": {
    "slideshow": {
     "slide_type": "slide"
    }
   },
   "source": [
    "### Monte Carlo Simulation\n",
    "\n",
    "As before, we conduct a Monte Carlo Simulation to assess the symbol error probability. \n",
    "\n",
    "Since the phasor of the received signal is unknown and must be estimated, the error probability will be increased relative to that for a known amplitude and phase. The exact error probability is difficult to compute and simulations are an appropriate means to obtain an estimate of the error rate.\n",
    "\n",
    "Besides, measuring the error rate, we also collect the estimated phasors so that we can analyze it's statistics."
   ]
  },
  {
   "cell_type": "code",
   "execution_count": 106,
   "metadata": {
    "slideshow": {
     "slide_type": "subslide"
    }
   },
   "outputs": [],
   "source": [
    "## Simulation parameters\n",
    "# parameters\n",
    "from random import random\n",
    "\n",
    "\n",
    "fsT = 16\n",
    "N = 5\n",
    "a = 0.5\n",
    "\n",
    "pp = srrc_pulse(a, fsT, N)   # Recall that SRRC pulse is normalized to unit energy\n",
    "d_samples = len(pp) - 1      # filter delay\n",
    "\n",
    "SNR_dB = 17\n",
    "SNR = 10**(SNR_dB/10)\n",
    "A = 0.25\n",
    "phi = np.pi/4\n",
    "X = A*np.exp(1j*phi)\n",
    "\n",
    "# Alphabet remains 16-QAM\n",
    "Ns = 1024                    # number of symbols per burst\n",
    "Np = 16\n",
    "pn = random_symbols(Alphabet, Np)\n",
    "\n",
    "# simulation parameters\n",
    "max_bursts = 1000\n",
    "max_errors = 400\n",
    "\n",
    "N_bursts = 0\n",
    "N_errors = 0\n",
    "\n",
    "# list for storing estimates\n",
    "all_X_hat = []"
   ]
  },
  {
   "cell_type": "code",
   "execution_count": 107,
   "metadata": {
    "slideshow": {
     "slide_type": "subslide"
    }
   },
   "outputs": [
    {
     "name": "stdout",
     "output_type": "stream",
     "text": [
      "Found 402 errors in 141312 symbols; estimated symbol error rate 0.002845\n",
      "The exact value for the symbol error rate is: 0.002317\n"
     ]
    }
   ],
   "source": [
    "# the Monte Carlo loop\n",
    "while N_bursts < max_bursts and N_errors < max_errors:\n",
    "    # Transmitter\n",
    "    sym = random_symbols(Alphabet, Ns)\n",
    "    ss = pulse_shape(np.concatenate((pn,sym)), pp, fsT)\n",
    "    # Channel\n",
    "    rr = X*ss + np.sqrt(0.5 * A**2/SNR) * (np.random.randn(len(ss)) + 1j*np.random.randn(len(ss)))\n",
    "    # receiver\n",
    "    mf_out = np.convolve(rr, np.flip(pp))\n",
    "    Z = mf_out[d_samples::fsT][:Np+Ns]        # down-sample, starting at filter delay\n",
    "    X_hat = estimate_phasor_mf(Z[:Np], pn)    # estimation\n",
    "    dec = MPE_decision_rule(Z[Np:]*1/X_hat, Alphabet) # decisions on corrected symbols\n",
    "\n",
    "    # update simulation statistics\n",
    "    N_bursts += 1\n",
    "    N_errors += np.sum(np.not_equal(dec, sym))\n",
    "    all_X_hat.append(X_hat)\n",
    "\n",
    "print(\"Found {:d} errors in {:d} symbols; estimated symbol error rate {:8.6f}\".format(N_errors, N_bursts*Ns, N_errors/(Ns*N_bursts)))\n",
    "print(\"The exact value for the symbol error rate is: {:8.6f}\".format(3*Q(np.sqrt(SNR/5)) - 9/4*Q(np.sqrt(SNR/5))**2))"
   ]
  },
  {
   "cell_type": "markdown",
   "metadata": {
    "slideshow": {
     "slide_type": "slide"
    }
   },
   "source": [
    "### Estimation Accuracy\n",
    "\n",
    "In the simulations above, we stored all estimates $\\hat{X}$ of the phasor $X$. That allows us to analyze the statistical properties of the estimator.\n",
    "\n",
    "We begin with a scatter plot of all estimates in the complex plane."
   ]
  },
  {
   "cell_type": "code",
   "execution_count": 123,
   "metadata": {
    "slideshow": {
     "slide_type": "subslide"
    }
   },
   "outputs": [
    {
     "data": {
      "image/png": "[encoded data removed]",
      "text/plain": [
       "<Figure size 432x288 with 1 Axes>"
      ]
     },
     "metadata": {
      "needs_background": "light"
     },
     "output_type": "display_data"
    }
   ],
   "source": [
    "all_X_hat = np.array(all_X_hat)\n",
    "\n",
    "plt.plot(all_X_hat.real, all_X_hat.imag, '.')\n",
    "plt.plot(X.real, X.imag, 'o')\n",
    "plt.grid()\n",
    "\n",
    "plt.xlim(0, A)\n",
    "plt.ylim(0, A)\n",
    "\n",
    "plt.show()\n"
   ]
  },
  {
   "cell_type": "markdown",
   "metadata": {
    "slideshow": {
     "slide_type": "subslide"
    }
   },
   "source": [
    "The scatter plot shows a tight cluster of estimates around the true value of $X$. \n",
    "\n",
    "Next, we compute the mean over all estimates and compare it to the true value. According to the theory discussed in class, the estimator is unbiased so that the average of all estimates should be very close to the true value.\n",
    "\n",
    "Similarly, we can compute the variance (or standard deviation). We have shown that the variance of $\\hat{X}$ is given by\n",
    "$$\n",
    "\\text{Var}[\\hat{X}] = \\frac{\\sigma_N^2}{\\sum_{k=1}^{N_p-1} |s_k|^2}.\n",
    "$$\n",
    "In the simulations, the noise variance $\\sigma_N^2 = \\frac{A^2}{\\text{SNR}}$."
   ]
  },
  {
   "cell_type": "code",
   "execution_count": 124,
   "metadata": {
    "slideshow": {
     "slide_type": "subslide"
    }
   },
   "outputs": [
    {
     "name": "stdout",
     "output_type": "stream",
     "text": [
      "Statistics of estimator X_hat:\n",
      "True X = 0.177 + j0.177\n",
      "Mean = 0.178 + j0.177\n",
      "Standard Deviation = 0.0085, theoretical: 0.0088\n"
     ]
    }
   ],
   "source": [
    "print('Statistics of estimator X_hat:')\n",
    "print('True X = {:4.3f} + j{:4.3f}'.format(X.real, X.imag))\n",
    "m_X_hat = np.mean(all_X_hat)\n",
    "print('Mean = {:4.3f} + j{:4.3f}'.format(m_X_hat.real, m_X_hat.imag))\n",
    "s_X_hat = np.std(all_X_hat)\n",
    "print('Standard Deviation = {:5.4f}, theoretical: {:5.4f}'.format(s_X_hat, \n",
    "                                                                  np.sqrt(A**2/SNR / np.sum(np.abs(pn)**2))))"
   ]
  },
  {
   "cell_type": "markdown",
   "metadata": {
    "slideshow": {
     "slide_type": "fragment"
    }
   },
   "source": [
    "The results are in very good agreement with our expectations."
   ]
  }
 ],
 "metadata": {
  "celltoolbar": "Slideshow",
  "kernelspec": {
   "display_name": "Python 3 (ipykernel)",
   "language": "python",
   "name": "python3"
  },
  "language_info": {
   "codemirror_mode": {
    "name": "ipython",
    "version": 3
   },
   "file_extension": ".py",
   "mimetype": "text/x-python",
   "name": "python",
   "nbconvert_exporter": "python",
   "pygments_lexer": "ipython3",
   "version": "3.9.13"
  },
  "vscode": {
   "interpreter": {
    "hash": "5984c07bd85a09704efeebc43c280456997f3d9e1810f10980d19f89f173e200"
   }
  }
 },
 "nbformat": 4,
 "nbformat_minor": 2
}
