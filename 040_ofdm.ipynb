{
 "cells": [
  {
   "cell_type": "markdown",
   "metadata": {
    "slideshow": {
     "slide_type": "slide"
    }
   },
   "source": [
    "# OFDM\n",
    "\n",
    "This notebook focuses on Orthogonal Frequency Division Multiplexing (OFDM). It provides an example implementation of a basic OFDM transmitter and receiver. We analyze the spectral properties of an OFDM signal and demonstrate that the symbol error rate in AWGN is identical to the theoretical limit. For a diespersive channel, we show that the cyclic prefix effectively removes inter-symbol interference.\n",
    "\n",
    "<a href=\"https://colab.research.google.com/github/bepepa/digital_comms/blob/master/040_ofdm.ipynb\" target=\"_parent\"><img src=\"https://colab.research.google.com/assets/colab-badge.svg\" alt=\"Open In Colab\"/></a> (Executable notebook)\n",
    "\n",
    "<a href=\"https://nbviewer.org/format/slides/github/bepepa/digital_comms/blob/main/040_ofdm.ipynb\"><img src=\"https://raw.githubusercontent.com/jupyter/design/master/logos/Badges/nbviewer_badge.svg\" alt=\"Render nbviewer\" /> </a> (read-only, slides view)"
   ]
  },
  {
   "cell_type": "code",
   "execution_count": 1,
   "metadata": {
    "slideshow": {
     "slide_type": "skip"
    }
   },
   "outputs": [],
   "source": [
    "## Boilerplate instructions for importing NumPy and Matplotlib\n",
    "# Import NumPy\n",
    "import numpy as np\n",
    "\n",
    "# To plot pretty figures, use matplotlib\n",
    "%matplotlib inline\n",
    "import matplotlib as mpl\n",
    "import matplotlib.pyplot as plt\n",
    "mpl.rc('axes', labelsize=14)\n",
    "mpl.rc('xtick', labelsize=12)\n",
    "mpl.rc('ytick', labelsize=12)"
   ]
  },
  {
   "cell_type": "code",
   "execution_count": 72,
   "metadata": {
    "slideshow": {
     "slide_type": "skip"
    }
   },
   "outputs": [],
   "source": [
    "def random_symbols(A, N):\n",
    "    \"\"\"generate random symbols from the constallation A\n",
    "    \n",
    "    Inputs:\n",
    "    A - np.ndarray of symbols in constellation, e.g., A = np.array([1, -1]) for BPSK\n",
    "    N - number of random symbols to produce\n",
    "\n",
    "    Returns:\n",
    "    Numpy array of length N\n",
    "    \"\"\"\n",
    "    return A[np.random.randint(len(A), size=N)]"
   ]
  },
  {
   "cell_type": "code",
   "execution_count": 140,
   "metadata": {
    "slideshow": {
     "slide_type": "skip"
    }
   },
   "outputs": [],
   "source": [
    "from scipy import special\n",
    "\n",
    "def Q(x):\n",
    "    \"\"\"Gaussian error integral\"\"\"\n",
    "    return 0.5 - 0.5*special.erf(x/np.sqrt(2))"
   ]
  },
  {
   "cell_type": "code",
   "execution_count": 139,
   "metadata": {
    "slideshow": {
     "slide_type": "skip"
    }
   },
   "outputs": [],
   "source": [
    "def MPE_decision_rule(Z, A):\n",
    "    \"\"\"Decide which symbol was most likely transmitted\n",
    "    \n",
    "    This function examines matched filter outputs (in vector Z) and for each element of Z selects the symbol \n",
    "    from constellation A that is closest.\n",
    "\n",
    "    Inputs:\n",
    "    Z - Vector of matched filter outputs\n",
    "    A - Constellation\n",
    "\n",
    "    Returns:\n",
    "    Numpy array of the same length as Z\n",
    "    \"\"\"\n",
    "    dec = np.empty_like(Z)\n",
    "\n",
    "    for n in range(len(Z)):\n",
    "        this_Z = Z[n]\n",
    "        ind = np.argmin(np.abs(A-this_Z))\n",
    "        dec[n] = A[ind]\n",
    "\n",
    "    return dec"
   ]
  },
  {
   "cell_type": "markdown",
   "metadata": {
    "slideshow": {
     "slide_type": "slide"
    }
   },
   "source": [
    "## OFDM Transmitter\n",
    "\n",
    "An OFDM signal is a multi-carrier signal. Each OFDM subcarrier supports a narrowband, linearly modulated signal. We will assume that the information to be transmitted consists of a length-$L$ sequence of symbols $s_n$. To generate a baseband OFDM signal, the following steps are performed.\n"
   ]
  },
  {
   "cell_type": "markdown",
   "metadata": {
    "slideshow": {
     "slide_type": "slide"
    }
   },
   "source": [
    "### Step 1: Serial-to-Parallel Conversion\n",
    "\n",
    "In the first step, we convert the length-$L$ symbol sequence into consecutive blocks containing $M$-symbols. If necessary, the last block is padded with 0s to fill it to length-$M$.\n",
    "\n",
    "In Python, we accomplish S/P conversion by reshaping the (possibly padded) vector holding symbols into a matrix with trailing dimension equal to $M$. This choice is compatible with how the FFT routine in NumPy works.\n",
    "\n"
   ]
  },
  {
   "cell_type": "code",
   "execution_count": 119,
   "metadata": {
    "slideshow": {
     "slide_type": "fragment"
    }
   },
   "outputs": [],
   "source": [
    "def serial_to_parallel(syms, M):\n",
    "    \"\"\"Convert a vector of symbols to a matrix with trailing dimension M\n",
    "    \n",
    "    Inputs:\n",
    "    * syms - vector of information symbols\n",
    "    * M - block size\n",
    "\n",
    "    Returns:\n",
    "    matrix of dimensions (*,M)\n",
    "    \"\"\"\n",
    "    L = len(syms)\n",
    "    K = L % M      # L mod M\n",
    "\n",
    "    if K != 0:\n",
    "        syms = np.append(syms, np.zeros(M-K))  # zero-padding\n",
    "\n",
    "    return np.reshape(syms, (-1, M))           # -1 means: figure out first dimension"
   ]
  },
  {
   "cell_type": "code",
   "execution_count": 120,
   "metadata": {
    "slideshow": {
     "slide_type": "subslide"
    }
   },
   "outputs": [
    {
     "name": "stdout",
     "output_type": "stream",
     "text": [
      "syms =  [ 0  1  2  3  4  5  6  7  8  9 10 11 12]\n",
      "block_syms =  [[ 0.  1.  2.  3.  4.]\n",
      " [ 5.  6.  7.  8.  9.]\n",
      " [10. 11. 12.  0.  0.]]\n"
     ]
    }
   ],
   "source": [
    "# quick check\n",
    "L = 13\n",
    "# make L random QPSK symbols\n",
    "syms = (1 - 2*np.random.randint(2, size=L)) + 1j*(1 - 2*np.random.randint(2, size=L))\n",
    "# this sequence is easier to follow\n",
    "syms = np.arange(L)\n",
    "\n",
    "# S/P with M symbols per block\n",
    "M = 5\n",
    "block_syms = serial_to_parallel(syms, M)\n",
    "print(\"syms = \", syms)\n",
    "print(\"block_syms = \", block_syms)"
   ]
  },
  {
   "cell_type": "markdown",
   "metadata": {
    "slideshow": {
     "slide_type": "slide"
    }
   },
   "source": [
    "### Step 2: Sub-carrier Mapping\n",
    "\n",
    "In addition to what was discussed in class, a mechanism to select subcarriers is introduced. The goal is to select $M$ of the $N$ subcarriers that the (inverse) DFT provides. This facility can be used, for example, \n",
    "\n",
    "* to leave some subcarriers near the band edge unoccupied, or \n",
    "* to provide a flexible mechanism to control bandwidth, or\n",
    "* to leave a subset of the subcarriers for use by other users; this facilitates multiple access referred to as OFDMA.\n",
    "\n",
    "To indicate which subcarriers are occupied, we use a (boolean) vector of length $N$, where $N$ is the length of the FFT. This vector contains $M$ 1s to mark the subcarrier positions that will be used. The active subcarriers will be filled with the elements of a matrix of symbols.\n",
    "\n",
    "Recall that the (I)FFT assumes subcarrier numbers from $0$ to $N-1$, i.e., from $f=0$ to $f=f_s$. Therefore, the band-edges are located in the center of the IFFT input."
   ]
  },
  {
   "cell_type": "code",
   "execution_count": 121,
   "metadata": {
    "slideshow": {
     "slide_type": "subslide"
    }
   },
   "outputs": [],
   "source": [
    "def map_to_subcarriers(block_syms, active_sc):\n",
    "    \"\"\"Map a matrix of symbols to active subcarriers\n",
    "    \n",
    "    Inputs:\n",
    "    * block_syms - matrix of symbols, dimension (*,M)\n",
    "    * active_sc - length N vector that marks active subcarries with 1's \n",
    "\n",
    "    Returns:\n",
    "    matrix of dimension (*,N)\n",
    "    \"\"\"\n",
    "    # make an array to hold the result; figure out dimensions and data type\n",
    "    N = len(active_sc)\n",
    "    L = block_syms.shape[0]\n",
    "    res = np.zeros((L,N), dtype=syms.dtype)\n",
    "\n",
    "    res[:,np.equal(active_sc, 1)] = block_syms\n",
    "\n",
    "    return res"
   ]
  },
  {
   "cell_type": "code",
   "execution_count": 122,
   "metadata": {
    "slideshow": {
     "slide_type": "subslide"
    }
   },
   "outputs": [
    {
     "name": "stdout",
     "output_type": "stream",
     "text": [
      "block_sc =  [[ 0  1  2  0  0  0  3  4]\n",
      " [ 5  6  7  0  0  0  8  9]\n",
      " [10 11 12  0  0  0  0  0]]\n"
     ]
    }
   ],
   "source": [
    "# Quick check: we expand from 5 to 8 subcarriers\n",
    "active = [1, 1, 1, 0, 0, 0, 1, 1]  # leave the middle subcarriers empty\n",
    "block_sc = map_to_subcarriers(block_syms, active)\n",
    "\n",
    "print(\"block_sc = \", block_sc)"
   ]
  },
  {
   "cell_type": "markdown",
   "metadata": {
    "slideshow": {
     "slide_type": "slide"
    }
   },
   "source": [
    "### Step 3: Inverse DFT\n",
    "\n",
    "The heart of the OFDM transmitter is the inverse DFT, computed efficiently using an IFFT. The result of the IFFT is scaled by $\\sqrt{N_{FFT}}$ to make the transform energy preserving; i.e., the energy of the input signal equals that of the output."
   ]
  },
  {
   "cell_type": "code",
   "execution_count": 123,
   "metadata": {
    "slideshow": {
     "slide_type": "fragment"
    }
   },
   "outputs": [],
   "source": [
    "def idft(block_sc):\n",
    "    \"\"\"inverse DFT of matrix of symbols\n",
    "    \n",
    "    Inputs:\n",
    "    block_sc - matrix of symbols (and empty subcarriers)\n",
    "\n",
    "    Returns:\n",
    "    matrix of the same size as the input\n",
    "    \"\"\"\n",
    "    N_FFT = block_sc.shape[1]\n",
    "    return np.fft.ifft(block_sc) * np.sqrt(N_FFT)"
   ]
  },
  {
   "cell_type": "code",
   "execution_count": 124,
   "metadata": {
    "slideshow": {
     "slide_type": "subslide"
    }
   },
   "outputs": [
    {
     "name": "stdout",
     "output_type": "stream",
     "text": [
      "block_sig =  [[ 3.53553391+0.j          1.25      -1.10355339j -1.76776695-1.06066017j\n",
      "  -1.25      -0.39644661j  0.        +0.j         -1.25      +0.39644661j\n",
      "  -1.76776695+1.06066017j  1.25      +1.10355339j]\n",
      " [12.37436867+0.j          5.51776695-1.10355339j -3.53553391-1.06066017j\n",
      "  -1.98223305-0.39644661j  1.76776695+0.j         -1.98223305+0.39644661j\n",
      "  -3.53553391+1.06066017j  5.51776695+1.10355339j]\n",
      " [11.66726189+0.j          6.28553391+6.99264069j -0.70710678+3.8890873j\n",
      "   0.78553391-1.49264069j  3.8890873 +0.j          0.78553391+1.49264069j\n",
      "  -0.70710678-3.8890873j   6.28553391-6.99264069j]]\n"
     ]
    }
   ],
   "source": [
    "# Quick check\n",
    "block_sig = idft(block_sc)\n",
    "\n",
    "print(\"block_sig = \", block_sig)"
   ]
  },
  {
   "cell_type": "markdown",
   "metadata": {
    "slideshow": {
     "slide_type": "slide"
    }
   },
   "source": [
    "### Step 4: Insert Cyclic Prefix\n",
    "\n",
    "To insert a cyclic prefix, the last $N_{CP}$ samples from each block are pre-pended to to the start of each block."
   ]
  },
  {
   "cell_type": "code",
   "execution_count": 165,
   "metadata": {
    "slideshow": {
     "slide_type": "fragment"
    }
   },
   "outputs": [],
   "source": [
    "def insert_cyclic_prefix(block_sig, N_CP):\n",
    "    \"\"\"Insert cyclic prefix\n",
    "    \n",
    "    Inputs:\n",
    "    block_sig - matrix of signal samples\n",
    "    N_CP - length of cyclic prefix in samples\n",
    "\n",
    "    Returns:\n",
    "    signal matrix with cyclic prefix inserted; second dimension increases by N_CP\n",
    "    \"\"\"\n",
    "    if N_CP > 0:\n",
    "        return np.append(block_sig[:,-N_CP:], block_sig, axis=1)\n",
    "    else:\n",
    "        return block_sig"
   ]
  },
  {
   "cell_type": "code",
   "execution_count": 166,
   "metadata": {
    "slideshow": {
     "slide_type": "subslide"
    }
   },
   "outputs": [
    {
     "name": "stdout",
     "output_type": "stream",
     "text": [
      "block_sig_cp =  [[-1.76776695+1.06066017j  1.25      +1.10355339j  3.53553391+0.j\n",
      "   1.25      -1.10355339j -1.76776695-1.06066017j -1.25      -0.39644661j\n",
      "   0.        +0.j         -1.25      +0.39644661j -1.76776695+1.06066017j\n",
      "   1.25      +1.10355339j]\n",
      " [-3.53553391+1.06066017j  5.51776695+1.10355339j 12.37436867+0.j\n",
      "   5.51776695-1.10355339j -3.53553391-1.06066017j -1.98223305-0.39644661j\n",
      "   1.76776695+0.j         -1.98223305+0.39644661j -3.53553391+1.06066017j\n",
      "   5.51776695+1.10355339j]\n",
      " [-0.70710678-3.8890873j   6.28553391-6.99264069j 11.66726189+0.j\n",
      "   6.28553391+6.99264069j -0.70710678+3.8890873j   0.78553391-1.49264069j\n",
      "   3.8890873 +0.j          0.78553391+1.49264069j -0.70710678-3.8890873j\n",
      "   6.28553391-6.99264069j]]\n",
      "dimensions prior to CP:  (3, 8)\n",
      "dimensions after CP:  (3, 10)\n"
     ]
    }
   ],
   "source": [
    "# Quick check\n",
    "N_CP = 2\n",
    "block_sig_cp = insert_cyclic_prefix(block_sig, N_CP)\n",
    "\n",
    "print(\"block_sig_cp = \", block_sig_cp)\n",
    "print(\"dimensions prior to CP: \", block_sig.shape)\n",
    "print(\"dimensions after CP: \", block_sig_cp.shape)"
   ]
  },
  {
   "cell_type": "markdown",
   "metadata": {
    "slideshow": {
     "slide_type": "slide"
    }
   },
   "source": [
    "### Step 5: Parallel-to-Serial Conversion\n",
    "\n",
    "The final processing step is to concatenate the signal blocks and turn them into a vector."
   ]
  },
  {
   "cell_type": "code",
   "execution_count": 127,
   "metadata": {
    "slideshow": {
     "slide_type": "fragment"
    }
   },
   "outputs": [],
   "source": [
    "def parallel_to_serial(block_sig):\n",
    "    \"\"\"convert a matrix of signal samples into a vector\n",
    "    \n",
    "    Inputs:\n",
    "    block_sig - matrix of signal samples\n",
    "\n",
    "    Returns:\n",
    "    vector of signal samples\n",
    "    \"\"\"\n",
    "    return np.reshape(block_sig, -1)  # -1 means: figure out how many samples"
   ]
  },
  {
   "cell_type": "code",
   "execution_count": 128,
   "metadata": {
    "slideshow": {
     "slide_type": "subslide"
    }
   },
   "outputs": [
    {
     "name": "stdout",
     "output_type": "stream",
     "text": [
      "sig =  [-1.76776695+1.06066017j  1.25      +1.10355339j  3.53553391+0.j\n",
      "  1.25      -1.10355339j -1.76776695-1.06066017j -1.25      -0.39644661j\n",
      "  0.        +0.j         -1.25      +0.39644661j -1.76776695+1.06066017j\n",
      "  1.25      +1.10355339j -3.53553391+1.06066017j  5.51776695+1.10355339j\n",
      " 12.37436867+0.j          5.51776695-1.10355339j -3.53553391-1.06066017j\n",
      " -1.98223305-0.39644661j  1.76776695+0.j         -1.98223305+0.39644661j\n",
      " -3.53553391+1.06066017j  5.51776695+1.10355339j -0.70710678-3.8890873j\n",
      "  6.28553391-6.99264069j 11.66726189+0.j          6.28553391+6.99264069j\n",
      " -0.70710678+3.8890873j   0.78553391-1.49264069j  3.8890873 +0.j\n",
      "  0.78553391+1.49264069j -0.70710678-3.8890873j   6.28553391-6.99264069j]\n",
      "signal has 30 samples\n"
     ]
    }
   ],
   "source": [
    "# quick check\n",
    "sig = parallel_to_serial(block_sig_cp)\n",
    "\n",
    "print(\"sig = \", sig)\n",
    "print(\"signal has {:d} samples\".format(len(sig)))"
   ]
  },
  {
   "cell_type": "markdown",
   "metadata": {
    "slideshow": {
     "slide_type": "slide"
    }
   },
   "source": [
    "### Transmitter Object\n",
    "\n",
    "For convenience, we define a class to represent an OFDM transmitter. The transmitter class wraps the above functions. The class is used like this:\n",
    "\n",
    "``` Python\n",
    "# instantiate an OFDM_Transmitter object ...\n",
    "tx = OFDM_Transmitter(N_CP, active)\n",
    "# ... and use it to convert a sequence of symbols into a signal\n",
    "sig = tx(syms)\n",
    "```\n",
    "\n",
    "where `N_CP`, `active`, and `syms` are described above."
   ]
  },
  {
   "cell_type": "code",
   "execution_count": 129,
   "metadata": {
    "slideshow": {
     "slide_type": "subslide"
    }
   },
   "outputs": [],
   "source": [
    "class OFDM_Transmitter():\n",
    "    \"\"\"OFDM transmitter class\n",
    "    \n",
    "    Parameters:\n",
    "    N_CP - length of cyclic prefix\n",
    "    active_sc - length N_FFT vector marking active subcarriers\n",
    "\n",
    "    Example:\n",
    "    # create a transmitter object\n",
    "    tx = OFDM_Transmitter(N_CP, active_sc) \n",
    "\n",
    "    # pass symbols to tx object to generate signal\n",
    "    sig = tx(syms)\n",
    "    \"\"\"\n",
    "    def __init__(self, N_CP, active):\n",
    "        self.N_CP = N_CP\n",
    "        self.active = active\n",
    "        self.N_FFT = len(active)\n",
    "\n",
    "        self.M = int(np.sum(active))  # number of active subcarriers\n",
    "\n",
    "    def __call__(self, syms):\n",
    "        block_syms = serial_to_parallel(syms, self.M)\n",
    "        block_sc = map_to_subcarriers(block_syms, self.active)\n",
    "        block_sig = idft(block_sc)\n",
    "        block_sig_cp = insert_cyclic_prefix(block_sig, self.N_CP)\n",
    "        return parallel_to_serial(block_sig_cp)"
   ]
  },
  {
   "cell_type": "code",
   "execution_count": 130,
   "metadata": {
    "slideshow": {
     "slide_type": "subslide"
    }
   },
   "outputs": [
    {
     "name": "stdout",
     "output_type": "stream",
     "text": [
      "Got same signal\n"
     ]
    }
   ],
   "source": [
    "# verify that we get the same result as with step-by-step\n",
    "tx = OFDM_Transmitter(N_CP, active)\n",
    "if np.allclose(sig, tx(syms)):\n",
    "    print(\"Got same signal\")"
   ]
  },
  {
   "cell_type": "markdown",
   "metadata": {
    "slideshow": {
     "slide_type": "slide"
    }
   },
   "source": [
    "## OFDM Receiver\n",
    "\n",
    "The OFDM receiver performs the functions of the transmitter in reverse order. \n",
    "\n",
    "### S/P conversion and Removal of Cyclic Prefix\n",
    "The initial serial-to-parallel conversion must convert the signal vector into a matrix with second dimesnion equal to $N + N_{CP}$, where $N$ is the length of the FFT. The function `serial_to_parallel` can perform this task.\n",
    "\n",
    "Next, the cyclic prefix must be stripped off. This involves simply removing the first $N_{CP}$ samples from each signal block.\n"
   ]
  },
  {
   "cell_type": "code",
   "execution_count": 131,
   "metadata": {
    "slideshow": {
     "slide_type": "subslide"
    }
   },
   "outputs": [],
   "source": [
    "def strip_cyclic_prefix(block_sig_cp, N_CP):\n",
    "    \"\"\"remove the leading N_CP samples from each signal block\n",
    "    \n",
    "    Inputs:\n",
    "    block_sig_cp - matrix of signal blocks with cyclic prefix\n",
    "    N_CP - length of cyclic prefix in samples\n",
    "\n",
    "    Returns:\n",
    "    matrix of signal blocks without cyclic prefix\n",
    "    \"\"\"\n",
    "    return block_sig_cp[:, N_CP:]"
   ]
  },
  {
   "cell_type": "code",
   "execution_count": 132,
   "metadata": {
    "slideshow": {
     "slide_type": "subslide"
    }
   },
   "outputs": [
    {
     "name": "stdout",
     "output_type": "stream",
     "text": [
      "Matches signals at transmitter\n"
     ]
    }
   ],
   "source": [
    "# Quick check\n",
    "N = len(active)  \n",
    "rx_block_sig_cp = serial_to_parallel(sig, N + N_CP)\n",
    "rx_block_sig = strip_cyclic_prefix(rx_block_sig_cp, N_CP)\n",
    "\n",
    "if np.allclose(block_sig, rx_block_sig):\n",
    "    print(\"Matches signals at transmitter\")"
   ]
  },
  {
   "cell_type": "markdown",
   "metadata": {
    "slideshow": {
     "slide_type": "slide"
    }
   },
   "source": [
    "### DFT\n",
    "\n",
    "The inverse peration to the IFFT performed at the transmitter is a DFT which can be carried out computationally efficiently using the FFT. The result of the FFT is scaled by $1/\\sqrt{N_{FFT}}$ to make the transform energy preserving; i.e., the energy of the input signal equals that of the output."
   ]
  },
  {
   "cell_type": "code",
   "execution_count": 133,
   "metadata": {
    "slideshow": {
     "slide_type": "subslide"
    }
   },
   "outputs": [],
   "source": [
    "def dft(block_sig):\n",
    "    \"\"\" DFT of matrix of signal blocks\n",
    "    \n",
    "    Inputs:\n",
    "    block_sig - matrix of signals\n",
    "\n",
    "    Returns:\n",
    "    matrix of the same size as the input\n",
    "    \"\"\"\n",
    "    N_FFT = block_sig.shape[1]\n",
    "    return np.fft.fft(block_sig) * 1/np.sqrt(N_FFT)"
   ]
  },
  {
   "cell_type": "code",
   "execution_count": 134,
   "metadata": {
    "slideshow": {
     "slide_type": "subslide"
    }
   },
   "outputs": [
    {
     "name": "stdout",
     "output_type": "stream",
     "text": [
      "Matches subcarrier symbols at transmitter\n"
     ]
    }
   ],
   "source": [
    "# Quick check\n",
    "rx_block_sc = dft(rx_block_sig)\n",
    "\n",
    "if np.allclose(block_sc, rx_block_sc):\n",
    "    print(\"Matches subcarrier symbols at transmitter\")"
   ]
  },
  {
   "cell_type": "markdown",
   "metadata": {
    "slideshow": {
     "slide_type": "slide"
    }
   },
   "source": [
    "### Removal of empty subcarriers and P/S conversion\n",
    "\n",
    "The final two steps in the receiver processing chain remove the inactive, empty subcarriers and then convert the matrix of symbol blocks back into a sequence. For the latter operation, the existing `parallel_to_serial` function can be re-used.\n",
    "\n",
    "Note: when the channel is dispersive an **equalizer** must be inserted either before or between these two steps."
   ]
  },
  {
   "cell_type": "code",
   "execution_count": 135,
   "metadata": {
    "slideshow": {
     "slide_type": "subslide"
    }
   },
   "outputs": [],
   "source": [
    "def remove_inactive_subcarriers(block_sc, active_sc):\n",
    "    \"\"\"Extract symbols from active subcarriers\n",
    "    \n",
    "    Inputs:\n",
    "    block_sc - matrix of symbols and empty subcarriers\n",
    "    active_sc - length N vector that marks active subcarries with 1's \n",
    "\n",
    "    Returns:\n",
    "    Matrix of symbols without empty subcarriers\n",
    "    \"\"\"\n",
    "    return block_sc[:,np.equal(active_sc, 1)]"
   ]
  },
  {
   "cell_type": "code",
   "execution_count": 136,
   "metadata": {
    "slideshow": {
     "slide_type": "subslide"
    }
   },
   "outputs": [
    {
     "name": "stdout",
     "output_type": "stream",
     "text": [
      "received symbols match transmitted symbols\n"
     ]
    }
   ],
   "source": [
    "# Quick check\n",
    "rx_block_syms = remove_inactive_subcarriers(rx_block_sc, active)\n",
    "rx_syms = parallel_to_serial(rx_block_syms)\n",
    "\n",
    "# minor problem, we need to know how many symbols were sent (b/c of zero padding)\n",
    "if np.allclose(syms, rx_syms[:len(syms)]):\n",
    "    print(\"received symbols match transmitted symbols\")"
   ]
  },
  {
   "cell_type": "markdown",
   "metadata": {
    "slideshow": {
     "slide_type": "slide"
    }
   },
   "source": [
    "### Receiver Object\n",
    "\n",
    "For convenience, we define a class to represent an OFDM receiver. The receiver class wraps the above functions. The class is used like this:\n",
    "\n",
    "``` Python\n",
    "# instantiate an OFDM_Receiver object ...\n",
    "rx = OFDM_Receiver(N_CP, active)\n",
    "# ... and use it to convert a received signal into a sequence of (soft-decision) symbols;\n",
    "# these must still be passed through the decision rule\n",
    "syms = rx(sig, N_syms)\n",
    "```\n",
    "\n",
    "where `N_CP`, `active`, and `sig` are described above. `N_syms` is the number of symbols to receive; this must be known since the transmitter may have zero-padded the symbol sequence."
   ]
  },
  {
   "cell_type": "code",
   "execution_count": 137,
   "metadata": {
    "slideshow": {
     "slide_type": "subslide"
    }
   },
   "outputs": [],
   "source": [
    "class OFDM_Receiver():\n",
    "    \"\"\"OFDM receiver class\n",
    "    \n",
    "    Parameters:\n",
    "    N_CP - length of cyclic prefix\n",
    "    active_sc - length N_FFT vector marking active subcarriers\n",
    "\n",
    "    Example:\n",
    "    # create a receiver object\n",
    "    rx = OFDM_Receiver(N_CP, active_sc) \n",
    "\n",
    "    # pass signal to rx object to recover symbols; \n",
    "    # number of symbols to receive must be provided, unless there was no zero padding.\n",
    "    syms = rx(sig, N_syms)\n",
    "    \"\"\"\n",
    "    def __init__(self, N_CP, active):\n",
    "        self.N_CP = N_CP\n",
    "        self.active = active\n",
    "        self.N_FFT = len(active)\n",
    "\n",
    "        self.M = np.sum(active)  # number of active subcarriers\n",
    "\n",
    "    def __call__(self, sig, N_syms=None):\n",
    "        block_sig_cp = serial_to_parallel(sig, self.N_FFT + self.N_CP)\n",
    "        block_sig = strip_cyclic_prefix(block_sig_cp, self.N_CP)\n",
    "        block_sc = dft(block_sig)\n",
    "        block_syms = remove_inactive_subcarriers(block_sc, self.active)\n",
    "        syms = parallel_to_serial(block_syms)\n",
    "\n",
    "        if N_syms is None:\n",
    "            N_syms = len(syms)\n",
    "\n",
    "        return syms[:N_syms]"
   ]
  },
  {
   "cell_type": "code",
   "execution_count": 138,
   "metadata": {
    "slideshow": {
     "slide_type": "slide"
    }
   },
   "outputs": [
    {
     "name": "stdout",
     "output_type": "stream",
     "text": [
      "all symbols received correctly\n"
     ]
    }
   ],
   "source": [
    "# Round-trip test without noise\n",
    "N_syms = 10000\n",
    "\n",
    "# 128 subcarriers with 96 of them occupied\n",
    "N_FFT = 128\n",
    "N_active = 96\n",
    "active = np.ones(128)\n",
    "active[N_active//2 : -N_active//2] = 0 # gap in the center (maps to band-edges)\n",
    "N_CP = 6\n",
    "\n",
    "# define a normalized QPSK constellation\n",
    "A = np.array([1+1j, 1-1j, -1+1j, -1-1j]) / np.sqrt(2) \n",
    "\n",
    "# generate random symbols\n",
    "syms = random_symbols(A, N_syms)\n",
    "\n",
    "# instantiate tx and rx objects\n",
    "tx = OFDM_Transmitter(N_CP, active)\n",
    "rx = OFDM_Receiver(N_CP, active)\n",
    "\n",
    "sig = tx(syms)\n",
    "if np.allclose(rx(sig, N_syms), syms):\n",
    "    print(\"all symbols received correctly\")"
   ]
  },
  {
   "cell_type": "markdown",
   "metadata": {
    "slideshow": {
     "slide_type": "slide"
    }
   },
   "source": [
    "### Questions:\n",
    "\n",
    "Let the OFDM transmitter be characterized by an FFT length of $N$ and the number of active sub-carriers is $M \\leq N$. The cyclic prefix is $N_{CP}$. \n",
    "\n",
    "1. How many samples does the transmitted signal have when $L$ symbols are sent?\n",
    "2. When the sample rate of the DAC is $f_s$, what is the frequency spacing between adjacent subcarriers?\n",
    "3. Assume that the $N-M$ inactive subcarriers are located at the band edge. What is the occupied bandwidth of the signal?\n",
    "4. How long is each OFDM symbol, including cyclic prefix?"
   ]
  },
  {
   "cell_type": "markdown",
   "metadata": {
    "slideshow": {
     "slide_type": "slide"
    }
   },
   "source": [
    "### PAPR\n",
    "\n",
    "A well-known drawback of OFDM is its large peak-to-average-power-ratio (PAPR). PAPR is the ratio of the maximum power, $\\max |s(t)|^2$, amd the average power, $\\frac{1}{T_0} \\int_0^{T_0} |s(t)|^2 \\,dt$.\n",
    "\n",
    "For the signal `sig` generated above, we can estimate PAPR as follows:"
   ]
  },
  {
   "cell_type": "code",
   "execution_count": 179,
   "metadata": {
    "slideshow": {
     "slide_type": "fragment"
    }
   },
   "outputs": [
    {
     "name": "stdout",
     "output_type": "stream",
     "text": [
      "PAPR is 9.62dB\n"
     ]
    }
   ],
   "source": [
    "# estimate PAPR\n",
    "s_sq = np.real(sig*sig.conj())\n",
    "PAPR = np.max(s_sq) / np.mean(s_sq)\n",
    "\n",
    "print(\"PAPR is {:4.2f}dB\".format(PAPR))"
   ]
  },
  {
   "cell_type": "markdown",
   "metadata": {
    "slideshow": {
     "slide_type": "subslide"
    }
   },
   "source": [
    "This is a large PAPR value. With single-carrier modulation, it is possible to keep PAPR much closer to 0dB. An approximate value for the PAPR is $\\sqrt{M}$, where $M$ is the number of active subcarriers.\n",
    "\n",
    "The fundamental reason for the large PAPR is that the sum of the narrowband signals yields a signal that appears noise-like (see plot below)."
   ]
  },
  {
   "cell_type": "code",
   "execution_count": 183,
   "metadata": {
    "slideshow": {
     "slide_type": "subslide"
    }
   },
   "outputs": [
    {
     "data": {
      "image/png": "[encoded data removed]",
      "text/plain": [
       "<Figure size 432x288 with 1 Axes>"
      ]
     },
     "metadata": {
      "needs_background": "light"
     },
     "output_type": "display_data"
    }
   ],
   "source": [
    "# plot the magnitude of OFDM signal\n",
    "plt.plot(np.abs(sig[:1000]))\n",
    "plt.grid()\n",
    "plt.xlabel('Sample number')\n",
    "plt.ylabel('$|s(t)|$')\n",
    "\n",
    "plt.show()"
   ]
  },
  {
   "cell_type": "markdown",
   "metadata": {
    "slideshow": {
     "slide_type": "slide"
    }
   },
   "source": [
    "## Spectral analysis of transmitted OFDM signal\n",
    "\n",
    "With the transmitted signal `sig` in hand, we can estimate the power spectral density of the transmitted signal.\n",
    "\n",
    "The signal uses $N_{FFT}=128$ subcarriers of which the central $M=96$ are occupied.\n",
    "\n",
    "We assume (arbitrarily) that the sampling rate of the signal is 2MHz.\n",
    "\n",
    "With these assumptions, the bandwidth of the signal will be\n",
    "$$\n",
    "    W = f_s \\cdot \\frac{M}{N_{FFT}} = \\text{1.5MHz}\n",
    "$$"
   ]
  },
  {
   "cell_type": "code",
   "execution_count": 115,
   "metadata": {
    "slideshow": {
     "slide_type": "subslide"
    }
   },
   "outputs": [
    {
     "data": {
      "image/png": "[encoded data removed]",
      "text/plain": [
       "<Figure size 432x288 with 1 Axes>"
      ]
     },
     "metadata": {
      "needs_background": "light"
     },
     "output_type": "display_data"
    }
   ],
   "source": [
    "# estimate the PSD of the transmitted signal\n",
    "plt.psd(sig, 256, 2e6)\n",
    "plt.show()"
   ]
  },
  {
   "cell_type": "markdown",
   "metadata": {
    "slideshow": {
     "slide_type": "fragment"
    }
   },
   "source": [
    "The estimated PSD is consistent with our expectations:\n",
    "\n",
    "* the central 1.5MHz of the band are occupied,\n",
    "* the center of the band shows a flat spectrum\n",
    "\n",
    "Note that the spectrum does not decay very rapidly at the band-edges; after all we're using rectangular pulse-shaping!\n"
   ]
  },
  {
   "cell_type": "markdown",
   "metadata": {
    "slideshow": {
     "slide_type": "slide"
    }
   },
   "source": [
    "## Error Rate Simulation\n",
    "\n",
    "As before, we simulate the symbol error rate of our OFDM transmitter and receiver. We still restrict ourselves to AWGN channels, i.e., channels without dispersion.\n",
    "\n",
    "Since we do not have channel dispersion, for the initial simulation the cyclic prefix is $N_{CP}=0$."
   ]
  },
  {
   "cell_type": "code",
   "execution_count": 169,
   "metadata": {
    "slideshow": {
     "slide_type": "subslide"
    }
   },
   "outputs": [],
   "source": [
    "# parameters\n",
    "# 128 subcarriers with 96 of them occupied\n",
    "N_FFT = 128\n",
    "N_active = 96\n",
    "active = np.ones(128)\n",
    "active[N_active//2 : -N_active//2] = 0 # gap in the center (maps to band-edges)\n",
    "N_CP = 0\n",
    "\n",
    "# channel (AWGN)\n",
    "SNR_dB = 10\n",
    "SNR = 10**(SNR_dB/10)\n",
    "\n",
    "A = np.array([1+1j, 1-1j, -1+1j, -1-1j]) / np.sqrt(2) # define a normalized QPSK constellation\n",
    "N = N_active * 64                    # number of symbols per OFDM burst\n",
    "\n",
    "# simulation parameters\n",
    "max_bursts = 1000\n",
    "max_errors = 400\n",
    "\n",
    "N_bursts = 0\n",
    "N_errors = 0\n",
    "\n",
    "# instantiate tx and rx\n",
    "tx = OFDM_Transmitter(N_CP, active)\n",
    "rx = OFDM_Receiver(N_CP, active)"
   ]
  },
  {
   "cell_type": "code",
   "execution_count": 170,
   "metadata": {
    "slideshow": {
     "slide_type": "subslide"
    }
   },
   "outputs": [
    {
     "name": "stdout",
     "output_type": "stream",
     "text": [
      "Found 407 errors in 258048 symbols; estimated symbol error rate 0.001577\n",
      "The exact value for the symbol error rate is: 0.001565\n"
     ]
    }
   ],
   "source": [
    "# the Monte Carlo loop\n",
    "while N_bursts < max_bursts and N_errors < max_errors:\n",
    "    # Transmitter\n",
    "    sym = random_symbols(A, N)\n",
    "    ss = tx(sym)\n",
    "    # make sure that the signal has unit energy per symbol\n",
    "    ss = ss * np.sqrt(N)/np.linalg.norm(ss)\n",
    "    # Channel\n",
    "    rr = ss + np.sqrt(0.5 * 1/SNR) * (np.random.randn(len(ss)) + 1j*np.random.randn(len(ss)))\n",
    "    # receiver\n",
    "    Z = rx(rr)\n",
    "    dec = MPE_decision_rule(Z, A) # Z[:N] trims extra samples from the filter transisent\n",
    "\n",
    "    # update simulation statistics\n",
    "    N_bursts += 1\n",
    "    N_errors += np.sum(np.not_equal(dec, sym))\n",
    "\n",
    "print(\"Found {:d} errors in {:d} symbols; estimated symbol error rate {:8.6f}\".format(N_errors, N_bursts*N, N_errors/(N*N_bursts)))\n",
    "print(\"The exact value for the symbol error rate is: {:8.6f}\".format(2*Q(np.sqrt(SNR)) - Q(np.sqrt(SNR))**2))"
   ]
  },
  {
   "cell_type": "markdown",
   "metadata": {
    "slideshow": {
     "slide_type": "subslide"
    }
   },
   "source": [
    "The symbol error rate is just the symbol error rate for QPSK over AWGN channels. This should not be surprising as there is no transmitter-induced (orthogonal signals) or channel-induced ISI. The only signal corruption is from AWGN.\n",
    "\n",
    "The story changes slightly when we include a cyclic prefix. The cyclic prefix consumes energy that is not used for making signal decisions. Therefore, the (useful) energy per symbol decreases (usually slightly); specifically SNR decreases by a factor equal to $\\frac{N_{FFT}}{N_{FFT}+N_{CP}}$. To make this point obvious, we set $N_{CP}$ to a fairly large value ($N_CP=N_{FFT}/4=32$); approximately 1dB SNR loss. \n",
    "\n",
    "*Remark:* In the absence of channel dispersion, we could try to include the cyclic prefix in the receiver processing. However, over the period covering both the symbol and the cyclic prefix subcarriers are not (quite) orthogonal. That induces ISI between subcarriers, this is called inter-carrier interference (ICI)."
   ]
  },
  {
   "cell_type": "code",
   "execution_count": 173,
   "metadata": {
    "slideshow": {
     "slide_type": "subslide"
    }
   },
   "outputs": [],
   "source": [
    "# parameters - only change N_CP\n",
    "N_CP = N_FFT // 4\n",
    "\n",
    "# reset simulation counters\n",
    "N_bursts = 0\n",
    "N_errors = 0\n",
    "\n",
    "# instantiate tx and rx with changed N_CP\n",
    "tx = OFDM_Transmitter(N_CP, active)\n",
    "rx = OFDM_Receiver(N_CP, active)"
   ]
  },
  {
   "cell_type": "code",
   "execution_count": 177,
   "metadata": {
    "slideshow": {
     "slide_type": "subslide"
    }
   },
   "outputs": [
    {
     "name": "stdout",
     "output_type": "stream",
     "text": [
      "Found 408 errors in 92160 symbols; estimated symbol error rate 0.004427\n",
      "Effective SNR is 9.03dB\n",
      "The exact value for the symbol error rate is: 0.004672\n"
     ]
    }
   ],
   "source": [
    "# the Monte Carlo loop\n",
    "while N_bursts < max_bursts and N_errors < max_errors:\n",
    "    # Transmitter\n",
    "    sym = random_symbols(A, N)\n",
    "    ss = tx(sym)\n",
    "    # make sure that the signal has unit energy per symbol\n",
    "    ss = ss * np.sqrt(N)/np.linalg.norm(ss)\n",
    "    # Channel\n",
    "    rr = ss + np.sqrt(0.5 * 1/SNR) * (np.random.randn(len(ss)) + 1j*np.random.randn(len(ss)))\n",
    "    # receiver\n",
    "    Z = rx(rr)\n",
    "    dec = MPE_decision_rule(Z, A) # Z[:N] trims extra samples from the filter transisent\n",
    "\n",
    "    # update simulation statistics\n",
    "    N_bursts += 1\n",
    "    N_errors += np.sum(np.not_equal(dec, sym))\n",
    "\n",
    "print(\"Found {:d} errors in {:d} symbols; estimated symbol error rate {:8.6f}\".format(N_errors, N_bursts*N, N_errors/(N*N_bursts)))\n",
    "SNR_new = SNR * N_FFT/(N_CP+N_FFT)\n",
    "print(\"Effective SNR is {:4.2f}dB\".format(10*np.log10(SNR_new)))\n",
    "print(\"The exact value for the symbol error rate is: {:8.6f}\".format(2*Q(np.sqrt(SNR_new)) - Q(np.sqrt(SNR_new))**2))"
   ]
  },
  {
   "cell_type": "markdown",
   "metadata": {
    "slideshow": {
     "slide_type": "slide"
    }
   },
   "source": [
    "## Channel Dispersion\n",
    "\n",
    "A primary benefit of OFDM is its resilience to channel dispersion. \n",
    "\n",
    "Since the individual subcarrier signals are narrowband, it is possible to ensure that the symbol period $T$ is much greater than the delay spread $\\tau_h$.\n",
    "\n",
    "The symbol period (without cyclic prefix) is equal to\n",
    "$$\n",
    "T = \\frac{N_{FFT}}{f_s}.\n",
    "$$\n",
    "Hence, the requirement $T \\gg \\tau$ translates into\n",
    "$$\n",
    "N_{FFT} \\gg f_s \\tau_h.\n",
    "$$\n",
    "Notice that $f_s \\tau$ is the delay spread in sample periods.\n",
    "\n",
    "The goal of inserting a cyclic prefix of $N_{CP}$ samples is to confine the transient at the symbol boundaries to the cyclic extension. This implies that\n",
    "$$\n",
    "    N_{CP} \\gtrsim \\lceil f_s \\tau_h \\rceil.\n",
    "$$"
   ]
  },
  {
   "cell_type": "markdown",
   "metadata": {
    "slideshow": {
     "slide_type": "slide"
    }
   },
   "source": [
    "### Illustration - Cyclic prefix\n",
    "\n",
    "Assume that the delay spread covers 3 symbol periods, i.e., $\\lceil f_s \\tau_h \\rceil = 3$. Specifically, we assume that the sampled impulse response of the channel is\n",
    "$$\n",
    "    h[n] = h(n/f_s) = [1, \\frac{1}{2}j, -\\frac{1}{4}] \\cdot \\sqrt{\\frac{16}{21}}.\n",
    "$$\n",
    "This channel has unit energy (i.e., does not introduce a gain) because $\\sum_n |h[n]|^2 = 1$.\n",
    "\n",
    "The frequency response of this channel at the subcarrier frequencies is \n",
    "$$\n",
    "    H(e^{j2\\pi k/N_{FFT}}) = \\sum_n h[n] \\cdot e^{-j2\\pi nk/N_{FFT}} = \n",
    "    \\sqrt{\\frac{16}{21}} \\cdot \\left(1 + \\frac{1}{2}j e^{-j2\\pi k/N_{FFT}} - \\frac{1}{4} e^{-j4\\pi k/N_{FFT}}\\right)\n",
    "$$\n",
    "\n",
    "Magnitude and phase of this frequency response are plotted below."
   ]
  },
  {
   "cell_type": "code",
   "execution_count": 203,
   "metadata": {
    "slideshow": {
     "slide_type": "subslide"
    }
   },
   "outputs": [
    {
     "data": {
      "image/png": "[encoded data removed]",
      "text/plain": [
       "<Figure size 432x288 with 2 Axes>"
      ]
     },
     "metadata": {
      "needs_background": "light"
     },
     "output_type": "display_data"
    }
   ],
   "source": [
    "hh = np.array([1, 0.5j, -0.25]) * np.sqrt(16/21)\n",
    "w = np.arange(N_FFT)/N_FFT * 2 * np.pi \n",
    "HH = np.zeros_like(w, dtype=complex)\n",
    "\n",
    "for n in range(len(hh)):\n",
    "    HH += hh[n] * np.exp(-1j * n * w)\n",
    "\n",
    "plt.subplot(211)\n",
    "plt.plot(np.arange(N_FFT), np.abs(HH))\n",
    "plt.grid()\n",
    "plt.ylabel('$|H(e^{j2\\pi k/N_{FFT}})|$')\n",
    "\n",
    "plt.subplot(212)\n",
    "plt.plot(np.arange(N_FFT), np.angle(HH) * 180/np.pi)\n",
    "plt.grid()\n",
    "plt.ylabel(r'$\\angle H(e^{j2\\pi k/N_{FFT}})$')\n",
    "plt.xlabel('subcarrier number')\n",
    "\n",
    "plt.show()"
   ]
  },
  {
   "cell_type": "markdown",
   "metadata": {
    "slideshow": {
     "slide_type": "slide"
    }
   },
   "source": [
    "This is a fairly benign channel. However, subcarriers near $k=0$, $k=60$, and $k=128$ experience phase changes of $\\pm 30^o$. \n",
    "\n",
    "To communicate over this channel, we use an OFDM signal with $N_{FFT} = 128$ and $N_{CP}=4$. All subcarriers are active."
   ]
  },
  {
   "cell_type": "code",
   "execution_count": 223,
   "metadata": {
    "slideshow": {
     "slide_type": "subslide"
    }
   },
   "outputs": [],
   "source": [
    "# parameters\n",
    "N_FFT = 128\n",
    "N_active = N_FFT\n",
    "active = np.ones(N_FFT)\n",
    "N_CP = 4\n",
    "\n",
    "# channel (AWGN)\n",
    "SNR_dB = 20\n",
    "SNR = 10**(SNR_dB/10)\n",
    "\n",
    "# channel dispersion\n",
    "hh = np.array([1, 0.5j, -0.25]) * np.sqrt(16/21)\n",
    "\n",
    "A = np.array([1+1j, 1-1j, -1+1j, -1-1j]) / np.sqrt(2) # define a normalized QPSK constellation\n",
    "N = N_active * 128                   # number of symbols per OFDM burst\n",
    "\n",
    "\n",
    "# instantiate tx and rx\n",
    "tx = OFDM_Transmitter(N_CP, active)\n",
    "rx = OFDM_Receiver(N_CP, active)"
   ]
  },
  {
   "cell_type": "code",
   "execution_count": 224,
   "metadata": {
    "slideshow": {
     "slide_type": "subslide"
    }
   },
   "outputs": [
    {
     "name": "stdout",
     "output_type": "stream",
     "text": [
      "Found 27 symbol errors.\n"
     ]
    }
   ],
   "source": [
    "# Transmitter\n",
    "sym = random_symbols(A, N)\n",
    "ss = tx(sym)\n",
    "\n",
    "# Channel\n",
    "# dispersion\n",
    "rr = np.convolve(ss, hh)\n",
    "# noise\n",
    "rr = rr[:len(ss)] + np.sqrt(0.5 * 1/SNR) * (np.random.randn(len(ss)) + 1j*np.random.randn(len(ss)))\n",
    "\n",
    "# receiver\n",
    "Z = rx(rr)\n",
    "\n",
    "dec = MPE_decision_rule(Z, A)\n",
    "if np.sum(np.not_equal(dec, sym)) > 0:\n",
    "    print(\"Found {:d} symbol errors.\".format(np.sum(np.not_equal(dec, sym)) ) )\n",
    "else:\n",
    "    print(\"no symbol errors\")"
   ]
  },
  {
   "cell_type": "markdown",
   "metadata": {
    "slideshow": {
     "slide_type": "subslide"
    }
   },
   "source": [
    "Despite high SNR (SNR = 20dB), there are multiple symbol errors. \n",
    "\n",
    "The cyclic prefix by itself does not prevent these symbol errors!\n",
    "\n",
    "To understand what causes these errors, we need to look at the OFDM demodulator outputs `Z` separately for each subcarrier.\n",
    "\n",
    "The OFDM demodulator outputs for subcarrier $k$ are located at positions $k + n \\cdot N_{FFT}$ in the vector `Z`.\n",
    "\n",
    "First, we look at subcarrier $k=90$. The frequency response at this subcarrier is approximately $0.6 \\cdot e^{j0}$, i.e., there is no phase shift at this subcarrier.\n",
    "\n",
    "We plot a scatter plot of received symbols in the complex plane."
   ]
  },
  {
   "cell_type": "code",
   "execution_count": 214,
   "metadata": {
    "slideshow": {
     "slide_type": "subslide"
    }
   },
   "outputs": [
    {
     "data": {
      "image/png": "[encoded data removed]",
      "text/plain": [
       "<Figure size 432x288 with 1 Axes>"
      ]
     },
     "metadata": {
      "needs_background": "light"
     },
     "output_type": "display_data"
    }
   ],
   "source": [
    "k = 90\n",
    "Z_k = Z[k::N_FFT]\n",
    "\n",
    "plt.plot(Z_k.real, Z_k.imag, 'o')\n",
    "plt.grid()\n",
    "plt.axis('equal')\n",
    "\n",
    "plt.xlabel('I')\n",
    "plt.ylabel('Q')\n",
    "\n",
    "plt.show()"
   ]
  },
  {
   "cell_type": "markdown",
   "metadata": {
    "slideshow": {
     "slide_type": "subslide"
    }
   },
   "source": [
    "For this subcarrier, the QPSK constellation is clearly discernible.\n",
    "\n",
    "The constellation has shrunk (by 60%) which increases the error probability; the SNR on this subcarrier is approximately 4dB reduced.\n",
    "\n",
    "However at SNR=20dB, no errors occur on this subcarrier.\n",
    "\n",
    "Next, we look at subcarrier $k=0$. The frequency response at this subcarrier is approximately $0.8 \\cdot e^{j33^o}$, i.e., there is a phase shift of nearly $45^o$ at this subcarrier.\n"
   ]
  },
  {
   "cell_type": "code",
   "execution_count": 218,
   "metadata": {
    "slideshow": {
     "slide_type": "slide"
    }
   },
   "outputs": [
    {
     "data": {
      "image/png": "[encoded data removed]",
      "text/plain": [
       "<Figure size 432x288 with 1 Axes>"
      ]
     },
     "metadata": {
      "needs_background": "light"
     },
     "output_type": "display_data"
    }
   ],
   "source": [
    "k = 0\n",
    "Z_k = Z[k::N_FFT]\n",
    "\n",
    "plt.plot(Z_k.real, Z_k.imag, 'o')\n",
    "plt.grid()\n",
    "plt.axis('equal')\n",
    "\n",
    "plt.xlabel('I')\n",
    "plt.ylabel('Q')\n",
    "\n",
    "plt.show()"
   ]
  },
  {
   "cell_type": "markdown",
   "metadata": {
    "slideshow": {
     "slide_type": "subslide"
    }
   },
   "source": [
    "For this subcarrier, the QPSK constellation is still clearly discernible. However it is rotated by $33^o$. It is also slightly shrunk.\n",
    "\n",
    "The phase rotation causes the constellation clusters to be very close to the decision boundary (the axes).\n",
    "\n",
    "A few of the constellation points fall on the wrong side of the decision boundaries. This causes errors!"
   ]
  },
  {
   "cell_type": "markdown",
   "metadata": {
    "slideshow": {
     "slide_type": "slide"
    }
   },
   "source": [
    "#### We still need an equalizer\n",
    "\n",
    "The examples above illustrate that a cyclic prefix does **not** prevent the impact of channel dispersion on the received signal.\n",
    "\n",
    "On each subcarrier, we still see:\n",
    "\n",
    "* amplitude scaling\n",
    "* phase rotation\n",
    "* both are determined by the frequency response $H(e^{j2\\pi k/N_{FFT}})$ for subcarrier $k$\n",
    "\n",
    "The effect of the channel is fairly easy to compensate: just divide the OFDM modulator outputs (`Z`) on subcarrier $k$ by $H(e^{j2\\pi k/N_{FFT}})$.\n",
    "\n",
    "This is what a frequency domain equalizer does.\n",
    "\n",
    "To underscore this point, let's remove the noise and produce a scatter plot affected only by dispersion"
   ]
  },
  {
   "cell_type": "code",
   "execution_count": 225,
   "metadata": {
    "slideshow": {
     "slide_type": "subslide"
    }
   },
   "outputs": [
    {
     "data": {
      "image/png": "[encoded data removed]",
      "text/plain": [
       "<Figure size 432x288 with 1 Axes>"
      ]
     },
     "metadata": {
      "needs_background": "light"
     },
     "output_type": "display_data"
    }
   ],
   "source": [
    "# channel (AWGN)\n",
    "SNR_dB = 200  # essentially no noise\n",
    "SNR = 10**(SNR_dB/10)\n",
    "\n",
    "# Transmitter\n",
    "sym = random_symbols(A, N)\n",
    "ss = tx(sym)\n",
    "\n",
    "# Channel\n",
    "# dispersion\n",
    "rr = np.convolve(ss, hh)\n",
    "# noise\n",
    "rr = rr[:len(ss)] + np.sqrt(0.5 * 1/SNR) * (np.random.randn(len(ss)) + 1j*np.random.randn(len(ss)))\n",
    "\n",
    "# receiver\n",
    "Z = rx(rr)\n",
    "\n",
    "k = 0\n",
    "Z_k = Z[k::N_FFT]\n",
    "\n",
    "plt.plot(Z_k.real, Z_k.imag, 'o')\n",
    "plt.grid()\n",
    "plt.axis('equal')\n",
    "\n",
    "plt.xlabel('I')\n",
    "plt.ylabel('Q')\n",
    "\n",
    "plt.show()\n"
   ]
  },
  {
   "cell_type": "markdown",
   "metadata": {
    "slideshow": {
     "slide_type": "subslide"
    }
   },
   "source": [
    "There are only four points but they are rotated and scaled from the original QPSK constellation. This rotation and scaling must be fixed by the equalizer to ensure that performance holds up with noise."
   ]
  },
  {
   "cell_type": "markdown",
   "metadata": {
    "slideshow": {
     "slide_type": "slide"
    }
   },
   "source": [
    "### Illustration - No Cyclic prefix\n",
    "\n",
    "So, what does the cyclic prefix do for us, then?\n",
    "\n",
    "Well, let's see what happens if we don't include it.\n",
    "\n",
    "We pass a noise-free OFDM signal without cyclic prefix through the OFDM receiver and examine the constellation scatter plot for one of the subcarriers:"
   ]
  },
  {
   "cell_type": "code",
   "execution_count": 229,
   "metadata": {
    "slideshow": {
     "slide_type": "subslide"
    }
   },
   "outputs": [],
   "source": [
    "# changed parameters\n",
    "N_CP = 0\n",
    "\n",
    "# channel (AWGN)\n",
    "SNR_dB = 200  # essentially no noise\n",
    "SNR = 10**(SNR_dB/10)\n",
    "\n",
    "# instantiate tx and rx with new N_CP\n",
    "tx = OFDM_Transmitter(N_CP, active)\n",
    "rx = OFDM_Receiver(N_CP, active)"
   ]
  },
  {
   "cell_type": "code",
   "execution_count": 230,
   "metadata": {
    "slideshow": {
     "slide_type": "subslide"
    }
   },
   "outputs": [],
   "source": [
    "# Transmitter\n",
    "sym = random_symbols(A, N)\n",
    "ss = tx(sym)\n",
    "\n",
    "# Channel\n",
    "# dispersion\n",
    "rr = np.convolve(ss, hh)\n",
    "# noise\n",
    "rr = rr[:len(ss)] + np.sqrt(0.5 * 1/SNR) * (np.random.randn(len(ss)) + 1j*np.random.randn(len(ss)))\n",
    "\n",
    "# receiver\n",
    "Z = rx(rr)"
   ]
  },
  {
   "cell_type": "code",
   "execution_count": 231,
   "metadata": {
    "slideshow": {
     "slide_type": "subslide"
    }
   },
   "outputs": [
    {
     "data": {
      "image/png": "[encoded data removed]",
      "text/plain": [
       "<Figure size 432x288 with 1 Axes>"
      ]
     },
     "metadata": {
      "needs_background": "light"
     },
     "output_type": "display_data"
    }
   ],
   "source": [
    "k = 90\n",
    "Z_k = Z[k::N_FFT]\n",
    "\n",
    "plt.plot(Z_k.real, Z_k.imag, 'o')\n",
    "plt.grid()\n",
    "plt.axis('equal')\n",
    "\n",
    "plt.xlabel('I')\n",
    "plt.ylabel('Q')\n",
    "\n",
    "plt.show()"
   ]
  },
  {
   "cell_type": "markdown",
   "metadata": {
    "slideshow": {
     "slide_type": "subslide"
    }
   },
   "source": [
    "What the scatter plot above  shows is ISI: a small part of the prior symbol \"spills\" into the next symbol.\n",
    "\n",
    "So, the benefit of the cyclic prefix is that it \"traps\" the intersymbol interference that occurs at the beginning of a symbol period.\n",
    "\n",
    "However, the cyclic prefix can *not* prevent constellation scaling and rotation due to the frequency response of the channel - that requires an equalizer!"
   ]
  }
 ],
 "metadata": {
  "celltoolbar": "Slideshow",
  "kernelspec": {
   "display_name": "Python 3 (ipykernel)",
   "language": "python",
   "name": "python3"
  },
  "language_info": {
   "codemirror_mode": {
    "name": "ipython",
    "version": 3
   },
   "file_extension": ".py",
   "mimetype": "text/x-python",
   "name": "python",
   "nbconvert_exporter": "python",
   "pygments_lexer": "ipython3",
   "version": "3.9.13"
  },
  "vscode": {
   "interpreter": {
    "hash": "5984c07bd85a09704efeebc43c280456997f3d9e1810f10980d19f89f173e200"
   }
  }
 },
 "nbformat": 4,
 "nbformat_minor": 2
}
