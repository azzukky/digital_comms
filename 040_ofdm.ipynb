{
 "cells": [
  {
   "cell_type": "markdown",
   "metadata": {},
   "source": [
    "# OFDM\n",
    "\n",
    "This notebook focuses on Orthogonal Frequency Division Multiplexing (OFDM). It provides an example implementation of a basic OFDM transmitter and receiver. We analyze the spectral properties of an OFDM signal and demonstrate that the symbol error rate in AWGN is identical to the theoretical limit. For a diespersive channel, we show that the cyclic prefix effectively removes inter-symbol interference.\n",
    "\n",
    "<a href=\"https://colab.research.google.com/github/bepepa/digital_comms/blob/master/040_ofdm.ipynb\" target=\"_parent\"><img src=\"https://colab.research.google.com/assets/colab-badge.svg\" alt=\"Open In Colab\"/></a> (Executable notebook)\n",
    "\n",
    "<a href=\"https://nbviewer.org/format/slides/github/bepepa/digital_comms/blob/main/040_ofdm.ipynb\"><img src=\"https://raw.githubusercontent.com/jupyter/design/master/logos/Badges/nbviewer_badge.svg\" alt=\"Render nbviewer\" /> </a> (read-only, slides view)"
   ]
  },
  {
   "cell_type": "code",
   "execution_count": 1,
   "metadata": {},
   "outputs": [],
   "source": [
    "## Boilerplate instructions for importing NumPy and Matplotlib\n",
    "# Import NumPy\n",
    "import numpy as np\n",
    "\n",
    "# To plot pretty figures, use matplotlib\n",
    "%matplotlib inline\n",
    "import matplotlib as mpl\n",
    "import matplotlib.pyplot as plt\n",
    "mpl.rc('axes', labelsize=14)\n",
    "mpl.rc('xtick', labelsize=12)\n",
    "mpl.rc('ytick', labelsize=12)"
   ]
  },
  {
   "cell_type": "markdown",
   "metadata": {},
   "source": [
    "## OFDM Transmitter and Receiver\n",
    "\n",
    "An OFDM signal is a multi-carrier signal. Each OFDM subcarrier supports a narrowband, linearly modulated signal. We will assume that the information to be transmitted consists of a length-$L$ sequence of symbols $s_n$. To generate a baseband OFDM signal, the following steps are performed.\n"
   ]
  },
  {
   "cell_type": "markdown",
   "metadata": {},
   "source": [
    "### Step 1: Serial-to-Parallel Conversion\n",
    "\n",
    "In the first step, we convert the length-$L$ symbol sequence into consecutive blocks containing $M$-symbols. If necessary, the last block is padded with 0s to fill it to length-$M$.\n",
    "\n",
    "In Python, we accomplish S/P conversion by reshaping the (possibly padded) vector holding symbols into a matrix with trailing dimension equal to $M$. This choice is compatible with how the FFT routine in NumPy works.\n",
    "\n"
   ]
  },
  {
   "cell_type": "code",
   "execution_count": 7,
   "metadata": {},
   "outputs": [],
   "source": [
    "def serial_to_parallel(syms, M):\n",
    "    \"\"\"Convert a vector of symbols to a matrix with trailing dimension M\n",
    "    \n",
    "    Inputs:\n",
    "    * syms - vector of information symbols\n",
    "    * M - block size\n",
    "\n",
    "    Returns:\n",
    "    matrix of dimensions (*,M)\n",
    "    \"\"\"\n",
    "    L = len(syms)\n",
    "    K = L % M      # L mod M\n",
    "\n",
    "    if K != 0:\n",
    "        syms = np.append(syms, np.zeros(M-K))  # zero-padding\n",
    "\n",
    "    return np.reshape(syms, (-1, M))           # -1 means: figure out first dimension"
   ]
  },
  {
   "cell_type": "code",
   "execution_count": 29,
   "metadata": {},
   "outputs": [
    {
     "name": "stdout",
     "output_type": "stream",
     "text": [
      "syms =  [-1.+1.j -1.+1.j  1.+1.j  1.-1.j -1.-1.j -1.-1.j  1.-1.j  1.+1.j  1.-1.j\n",
      "  1.-1.j -1.-1.j -1.+1.j  1.-1.j]\n",
      "block_syms =  [[-1.+1.j -1.+1.j  1.+1.j  1.-1.j -1.-1.j]\n",
      " [-1.-1.j  1.-1.j  1.+1.j  1.-1.j  1.-1.j]\n",
      " [-1.-1.j -1.+1.j  1.-1.j  0.+0.j  0.+0.j]]\n"
     ]
    }
   ],
   "source": [
    "# quick check\n",
    "# make L random QPSK symbols\n",
    "L = 13\n",
    "syms = (1 - 2*np.random.randint(2, size=L)) + 1j*(1 - 2*np.random.randint(2, size=L))\n",
    "\n",
    "# S/P with M symbols per block\n",
    "M = 5\n",
    "block_syms = serial_to_parallel(syms, M)\n",
    "print(\"syms = \", syms)\n",
    "print(\"block_syms = \", block_syms)"
   ]
  },
  {
   "cell_type": "markdown",
   "metadata": {},
   "source": [
    "### Step 2: Sub-carrier Mapping\n",
    "\n",
    "In addition to what was discussed in class, a mechanism to select subcarriers is introduced. The goal is to select $M$ of the $N$ subcarriers that the (inverse) DFT provides. This facility can be used, for example, \n",
    "\n",
    "* to leave some subcarriers near the band edge unoccupied, or \n",
    "* to provide a flexible mechanism to control bandwidth, or\n",
    "* to leave a subset of the subcarriers for use by other users; this facilitates multiple access referred to as OFDMA.\n",
    "\n",
    "To indicate which subcarriers are occupied, we use a (boolean) vector of length $N$, where $N$ is the length of the FFT. This vector contains $M$ 1s to mark the subcarrier positions that will be used. The active subcarriers will be filled with the elements of a matrix of symbols.\n",
    "\n",
    "Recall that the (I)FFT assumes subcarrier numbers from $0$ to $N-1$, i.e., from $f=0$ to $f=f_s$. Therefore, the band-edges are located in the center of the IFFT input."
   ]
  },
  {
   "cell_type": "code",
   "execution_count": 31,
   "metadata": {},
   "outputs": [],
   "source": [
    "def map_to_subcarriers(block_syms, active_sc):\n",
    "    \"\"\"Map a matrix of symbols to active subcarriers\n",
    "    \n",
    "    Inputs:\n",
    "    * block_syms - matrix of symbols, dimension (*,M)\n",
    "    * active_sc - length N vector that marks active subcarries with 1's \n",
    "\n",
    "    Returns:\n",
    "    matrix of dimension (*,N)\n",
    "    \"\"\"\n",
    "    # make an array to hold the result; figure out dimensions and data type\n",
    "    N = len(active_sc)\n",
    "    L = block_syms.shape[0]\n",
    "    res = np.zeros((L,N), dtype=syms.dtype)\n",
    "\n",
    "    res[:,np.equal(active_sc, 1)] = block_syms\n",
    "\n",
    "    return res"
   ]
  },
  {
   "cell_type": "code",
   "execution_count": 32,
   "metadata": {},
   "outputs": [
    {
     "name": "stdout",
     "output_type": "stream",
     "text": [
      "block_sc =  [[-1.+1.j -1.+1.j  1.+1.j  0.+0.j  0.+0.j  0.+0.j  1.-1.j -1.-1.j]\n",
      " [-1.-1.j  1.-1.j  1.+1.j  0.+0.j  0.+0.j  0.+0.j  1.-1.j  1.-1.j]\n",
      " [-1.-1.j -1.+1.j  1.-1.j  0.+0.j  0.+0.j  0.+0.j  0.+0.j  0.+0.j]]\n"
     ]
    }
   ],
   "source": [
    "# Quick check: we expand from 5 to 8 subcarriers\n",
    "active = [1, 1, 1, 0, 0, 0, 1, 1]  # leave the middle subcarriers empty\n",
    "block_sc = map_to_subcarriers(block_syms, active)\n",
    "\n",
    "print(\"block_sc = \", block_sc)"
   ]
  },
  {
   "cell_type": "markdown",
   "metadata": {},
   "source": [
    "### Step 3: Inverse DFT\n",
    "\n",
    "The heart of the OFDM transmitter is the inverse DFT, computed efficiently using an IFFT."
   ]
  },
  {
   "cell_type": "code",
   "execution_count": 33,
   "metadata": {},
   "outputs": [],
   "source": [
    "def idft(block_sc):\n",
    "    \"\"\"inverse DFT of matrix of symbols\n",
    "    \n",
    "    Inputs:\n",
    "    block_sc - matrix of symbols (and empty subcarriers)\n",
    "\n",
    "    Returns:\n",
    "    matrix of the same size as the input\n",
    "    \"\"\"\n",
    "    return np.fft.ifft(block_sc)"
   ]
  },
  {
   "cell_type": "code",
   "execution_count": 42,
   "metadata": {},
   "outputs": [
    {
     "name": "stdout",
     "output_type": "stream",
     "text": [
      "block_sig =  [[-0.125     +0.125j     -0.72855339+0.125j     -0.625     +0.125j\n",
      "   0.125     +0.125j      0.375     +0.125j     -0.02144661+0.125j\n",
      "  -0.125     +0.125j      0.125     +0.125j    ]\n",
      " [ 0.375     -0.375j     -0.1982233 -0.3017767j -0.375     -0.125j\n",
      "  -0.0517767 +0.0517767j -0.125     +0.125j     -0.5517767 +0.0517767j\n",
      "  -0.375     -0.125j      0.3017767 -0.3017767j]\n",
      " [-0.125     -0.125j     -0.1767767 +0.j        -0.375     -0.125j\n",
      "  -0.25      -0.4267767j  0.125     -0.375j      0.1767767 +0.j\n",
      "  -0.125     +0.125j     -0.25      -0.0732233j]]\n"
     ]
    }
   ],
   "source": [
    "# Quick check\n",
    "block_sig = idft(block_sc)\n",
    "\n",
    "print(\"block_sig = \", block_sig)"
   ]
  },
  {
   "cell_type": "markdown",
   "metadata": {},
   "source": [
    "### Step 4: Insert Cyclic Prefix\n",
    "\n",
    "To insert a cyclic prefix, the last $N_{CP}$ samples from each block are pre-pended to to the start of each block."
   ]
  },
  {
   "cell_type": "code",
   "execution_count": 44,
   "metadata": {},
   "outputs": [],
   "source": [
    "def insert_cyclic_prefix(block_sig, N_CP):\n",
    "    \"\"\"Insert cyclic prefix\n",
    "    \n",
    "    Inputs:\n",
    "    block_sig - matrix of signal samples\n",
    "    N_CP - length of cyclic prefix in samples\n",
    "\n",
    "    Returns:\n",
    "    signal matrix with cyclic prefix inserted; second dimension increases by N_CP\n",
    "    \"\"\"\n",
    "    return np.append(block_sig[:,-N_CP:], block_sig, axis=1)"
   ]
  },
  {
   "cell_type": "code",
   "execution_count": 48,
   "metadata": {},
   "outputs": [
    {
     "name": "stdout",
     "output_type": "stream",
     "text": [
      "block_sig_cp =  [[-0.125     +0.125j      0.125     +0.125j     -0.125     +0.125j\n",
      "  -0.72855339+0.125j     -0.625     +0.125j      0.125     +0.125j\n",
      "   0.375     +0.125j     -0.02144661+0.125j     -0.125     +0.125j\n",
      "   0.125     +0.125j    ]\n",
      " [-0.375     -0.125j      0.3017767 -0.3017767j  0.375     -0.375j\n",
      "  -0.1982233 -0.3017767j -0.375     -0.125j     -0.0517767 +0.0517767j\n",
      "  -0.125     +0.125j     -0.5517767 +0.0517767j -0.375     -0.125j\n",
      "   0.3017767 -0.3017767j]\n",
      " [-0.125     +0.125j     -0.25      -0.0732233j -0.125     -0.125j\n",
      "  -0.1767767 +0.j        -0.375     -0.125j     -0.25      -0.4267767j\n",
      "   0.125     -0.375j      0.1767767 +0.j        -0.125     +0.125j\n",
      "  -0.25      -0.0732233j]]\n",
      "dimensions prior to CP:  (3, 8)\n",
      "dimensions after CP:  (3, 10)\n"
     ]
    }
   ],
   "source": [
    "# Quick check\n",
    "block_sig_cp = insert_cyclic_prefix(block_sig, 2)\n",
    "\n",
    "print(\"block_sig_cp = \", block_sig_cp)\n",
    "print(\"dimensions prior to CP: \", block_sig.shape)\n",
    "print(\"dimensions after CP: \", block_sig_cp.shape)"
   ]
  },
  {
   "cell_type": "markdown",
   "metadata": {},
   "source": [
    "### Step 5: Parallel-to-Serial Conversion\n",
    "\n",
    "The final processing step is to concatenate the signal blocks and turn them into a vector."
   ]
  },
  {
   "cell_type": "code",
   "execution_count": 52,
   "metadata": {},
   "outputs": [],
   "source": [
    "def parallel_to_serial(block_sig):\n",
    "    \"\"\"convert a matrix of signal samples into a vector\n",
    "    \n",
    "    Inputs:\n",
    "    block_sig - matrix of signal samples\n",
    "\n",
    "    Returns:\n",
    "    vector of signal samples\n",
    "    \"\"\"\n",
    "    return np.reshape(block_sig, -1)  # -1 means: figure out how many samples"
   ]
  },
  {
   "cell_type": "code",
   "execution_count": 53,
   "metadata": {},
   "outputs": [
    {
     "name": "stdout",
     "output_type": "stream",
     "text": [
      "sig =  [-0.125     +0.125j      0.125     +0.125j     -0.125     +0.125j\n",
      " -0.72855339+0.125j     -0.625     +0.125j      0.125     +0.125j\n",
      "  0.375     +0.125j     -0.02144661+0.125j     -0.125     +0.125j\n",
      "  0.125     +0.125j     -0.375     -0.125j      0.3017767 -0.3017767j\n",
      "  0.375     -0.375j     -0.1982233 -0.3017767j -0.375     -0.125j\n",
      " -0.0517767 +0.0517767j -0.125     +0.125j     -0.5517767 +0.0517767j\n",
      " -0.375     -0.125j      0.3017767 -0.3017767j -0.125     +0.125j\n",
      " -0.25      -0.0732233j -0.125     -0.125j     -0.1767767 +0.j\n",
      " -0.375     -0.125j     -0.25      -0.4267767j  0.125     -0.375j\n",
      "  0.1767767 +0.j        -0.125     +0.125j     -0.25      -0.0732233j]\n",
      "signal has 30 samples\n"
     ]
    }
   ],
   "source": [
    "# quick check\n",
    "sig = parallel_to_serial(block_sig_cp)\n",
    "\n",
    "print(\"sig = \", sig)\n",
    "print(\"signal has {:d} samples\".format(len(sig)))"
   ]
  },
  {
   "cell_type": "markdown",
   "metadata": {},
   "source": [
    "### Trasmitter Object\n",
    "\n",
    "For convenience, we define a class to represent an OFDM transmitter. The transmitter class wraps the above functions."
   ]
  },
  {
   "cell_type": "code",
   "execution_count": 54,
   "metadata": {},
   "outputs": [],
   "source": [
    "class OFDM_Transmitter():\n",
    "    \"\"\"OFDM transmitter class\n",
    "    \n",
    "    Parameters:\n",
    "    N_CP - length of cyclic prefix\n",
    "    active_sc - length N_FFT vector marking active subcarriers\n",
    "\n",
    "    Example:\n",
    "    # create a transmitter object\n",
    "    tx = OFDM_Transmitter(N_FFT, N_CP, active_sc) \n",
    "\n",
    "    # pass symbols to tx object to generate signal\n",
    "    sig = tx(syms)\n",
    "    \"\"\"\n",
    "    def __init__(self, N_CP, active):\n",
    "        self.N_CP = N_CP\n",
    "        self.active = active\n",
    "\n",
    "        self.M = np.sum(active)  # number of active subcarriers\n",
    "\n",
    "    def __call__(self, syms):\n",
    "        block_syms = serial_to_parallel(syms, self.M)\n",
    "        block_sc = map_to_subcarriers(block_syms, self.active)\n",
    "        block_sig = idft(block_sc)\n",
    "        block_sig_cp = insert_cyclic_prefix(block_sig, self.N_CP)\n",
    "        return parallel_to_serial(block_sig_cp)"
   ]
  },
  {
   "cell_type": "code",
   "execution_count": 56,
   "metadata": {},
   "outputs": [
    {
     "name": "stdout",
     "output_type": "stream",
     "text": [
      "Got same result\n"
     ]
    }
   ],
   "source": [
    "tx = OFDM_Transmitter(2, active)\n",
    "if np.allclose(sig, tx(syms)):\n",
    "    print(\"Got same result\")"
   ]
  },
  {
   "cell_type": "code",
   "execution_count": null,
   "metadata": {},
   "outputs": [],
   "source": []
  }
 ],
 "metadata": {
  "kernelspec": {
   "display_name": "Python 3.9.13 64-bit",
   "language": "python",
   "name": "python3"
  },
  "language_info": {
   "codemirror_mode": {
    "name": "ipython",
    "version": 3
   },
   "file_extension": ".py",
   "mimetype": "text/x-python",
   "name": "python",
   "nbconvert_exporter": "python",
   "pygments_lexer": "ipython3",
   "version": "3.9.13"
  },
  "orig_nbformat": 4,
  "vscode": {
   "interpreter": {
    "hash": "5984c07bd85a09704efeebc43c280456997f3d9e1810f10980d19f89f173e200"
   }
  }
 },
 "nbformat": 4,
 "nbformat_minor": 2
}
