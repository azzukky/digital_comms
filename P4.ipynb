{
 "cells": [
  {
   "cell_type": "markdown",
   "metadata": {},
   "source": [
    "# Demodulate an OFDM Signal\n",
    "\n",
    "In this problem, you will be given samples of an OFDM signal. That signal contains messages for $N=10$ users. \n",
    "\n",
    "Your task is to recover the message that is intended for you (where you will be identified by a user id that consists of the last two digits of your GMU ID). The following user ids are used to construct the signal:\n",
    "``` python\n",
    "user_ids = [87, 67, 6, 66, 32, 90, 25, 71, 13, 21]\n",
    "```\n",
    "One of them should correspond to the last two (or one if the first is zero) digits of your GMU id. If you can't find your user id, just pick any of them.\n",
    "\n",
    "The format of the OFDM signal will be described in detail below with illustrations/clarifications in Python code. \n",
    "\n",
    "The signal is transmitted over a (simulated) channel that is also described below."
   ]
  },
  {
   "cell_type": "code",
   "execution_count": 1,
   "metadata": {},
   "outputs": [],
   "source": [
    "## Boilerplate instructions for importing NumPy and Matplotlib\n",
    "# Import NumPy\n",
    "import numpy as np\n",
    "\n",
    "import struct # for header\n",
    "from typing import Tuple\n",
    "\n",
    "# To plot pretty figures, use matplotlib\n",
    "%matplotlib inline\n",
    "import matplotlib as mpl\n",
    "import matplotlib.pyplot as plt\n",
    "import matplotlib.image as mpimg\n",
    "\n",
    "mpl.rc('axes', labelsize=14)\n",
    "mpl.rc('xtick', labelsize=12)\n",
    "mpl.rc('ytick', labelsize=12)"
   ]
  },
  {
   "cell_type": "markdown",
   "metadata": {},
   "source": [
    "## Functions from other notebooks\n",
    "\n",
    "Before describing the OFDM signal, \n",
    "hera are a few functions copied from other notebooks. These are either used to construct the signal or are likely useful in receiving the signal."
   ]
  },
  {
   "cell_type": "code",
   "execution_count": 2,
   "metadata": {},
   "outputs": [],
   "source": [
    "def crc16(data: bytes, poly=0x8408):\n",
    "    \"\"\"\n",
    "    CRC-16-CCITT Algorithm\n",
    "\n",
    "    Args:\n",
    "        data (bytes): byte sequence to be checked (type bytes)\n",
    "        poly (int): 16-bit integer indicating the polynomial used by CRC (default 0x8408)\n",
    "\n",
    "    Returns:\n",
    "        16-bit CRC\n",
    "    \"\"\"\n",
    "    data = bytearray(data)\n",
    "    crc = 0xFFFF\n",
    "    for b in data:\n",
    "        cur_byte = 0xFF & b\n",
    "        for _ in range(0, 8):\n",
    "            if (crc & 0x0001) ^ (cur_byte & 0x0001):\n",
    "                crc = (crc >> 1) ^ poly\n",
    "            else:\n",
    "                crc >>= 1\n",
    "            cur_byte >>= 1\n",
    "    crc = ~crc & 0xFFFF\n",
    "    crc = (crc << 8) | ((crc >> 8) & 0xFF)\n",
    "\n",
    "    return crc & 0xFFFF\n"
   ]
  },
  {
   "cell_type": "code",
   "execution_count": 3,
   "metadata": {},
   "outputs": [],
   "source": [
    "def pop_count32(x: np.uint32) -> np.uint8:\n",
    "    \"\"\"count the number of 1s in 32-bit integer x using Wegner's method\n",
    "    \n",
    "    Inputs:\n",
    "    x - a 32 bit integer\n",
    "\n",
    "    Returns:\n",
    "    an integer between 0 and 32 indicating the number of 1s in x\n",
    "    \"\"\"\n",
    "    \n",
    "    count: np.uint8 = 0\n",
    "    \n",
    "    while (x > 0):\n",
    "        x = x & (x-1)\n",
    "        count += 1\n",
    "        \n",
    "    return count"
   ]
  },
  {
   "cell_type": "code",
   "execution_count": 4,
   "metadata": {},
   "outputs": [],
   "source": [
    "def lfsr_step(state: np.uint32, fb: np.uint32, N: int = 31) -> Tuple[np.uint8, np.uint32]:\n",
    "    \"\"\"Single update step of LFSR with feedback connections fb\n",
    "    \n",
    "    Inputs:\n",
    "    * state (uint32): initial state of the feedback shift register\n",
    "    * fb (uint32): bit map indicating feedback connections; the LSB corresponds to bit 0 in the LFSR\n",
    "    * N (int) order if the LFSR; must be less than 32 (default: 31)\n",
    "    \n",
    "    Returns:\n",
    "    * elem - next element of the LFSR sequence\n",
    "    * state - updated state\n",
    "    \n",
    "    Example: Generate the first 10 elements of a LFSR sequence with fb=0b1001 and initial state=0b1111\n",
    "    >>> state = 0b1111\n",
    "    >>> seq = np.empty(10, dtype=np.uint8)\n",
    "    >>> for n in range(10):\n",
    "    >>>     seq[n], state = lfsr31_step(state, 0b1001)\n",
    "    >>> seq\n",
    "    \n",
    "    array([1, 1, 1, 1, 0, 0, 0, 0, 0, 0], dtype=uint8)\n",
    "    \"\"\"\n",
    "    \n",
    "    # save the LSB before updating state; it will be returned\n",
    "    elem: np.uint8 = state & 0b1\n",
    "        \n",
    "    # update state\n",
    "    fb_vec: np.uint32 = state & fb\n",
    "    fb_bit: np.uint8 = (pop_count32(fb_vec) & 0b1)\n",
    "    \n",
    "    # insert feedback bit at position N, then shift\n",
    "    state = (state | fb_bit << N) >> 1\n",
    "    \n",
    "    return elem, state"
   ]
  },
  {
   "cell_type": "code",
   "execution_count": 5,
   "metadata": {},
   "outputs": [],
   "source": [
    "def lfsr(init: np.uint32, fb: np.uint32, M: int, N: int = 31, Nc:int = 0):\n",
    "    \"\"\"Compute M samples of a LFSR sequence\n",
    "    \n",
    "    Inputs:\n",
    "    init - initial state of the LFSR\n",
    "    fb - feedback connection for the LFSR\n",
    "    M - number of samples to generate\n",
    "    N - order of the LFSR (default: 31)\n",
    "    Nc - statrting sample (default 0)\n",
    "\n",
    "    Returns:\n",
    "    length-M vector of bits (stored as np.uint8)\n",
    "    \"\"\"\n",
    "    seq = np.empty(M, dtype=np.uint8)\n",
    "\n",
    "    state = init\n",
    "\n",
    "    for n in range(Nc):\n",
    "        _, state = lfsr_step(state, fb, N)          # discard the first Nc\n",
    "\n",
    "    for n in range(M):  \n",
    "        seq[n], state = lfsr_step(state, fb, N)     # keep the next Mc\n",
    "\n",
    "    return seq"
   ]
  },
  {
   "cell_type": "code",
   "execution_count": 6,
   "metadata": {},
   "outputs": [],
   "source": [
    "def MPE_decision_rule(Z, A):\n",
    "    \"\"\"Decide which symbol was most likely transmitted\n",
    "    \n",
    "    This function examines matched filter outputs (in vector Z) and for each element of Z selects the symbol \n",
    "    from constellation A that is closest.\n",
    "\n",
    "    Inputs:\n",
    "    Z - Vector of matched filter outputs\n",
    "    A - Constellation\n",
    "\n",
    "    Returns:\n",
    "    Numpy array of the same length as Z\n",
    "    \"\"\"\n",
    "    dec = np.empty_like(Z)\n",
    "\n",
    "    for n in range(len(Z)):\n",
    "        this_Z = Z[n]\n",
    "        ind = np.argmin(np.abs(A-this_Z))\n",
    "        dec[n] = A[ind]\n",
    "\n",
    "    return dec"
   ]
  },
  {
   "cell_type": "code",
   "execution_count": 7,
   "metadata": {},
   "outputs": [],
   "source": [
    "def bytes_to_symbols(msg, bps):\n",
    "    \"\"\"Convert a sequence of bytes to symbols\n",
    "    \n",
    "    Inputs:\n",
    "    msg - a vector of bytes\n",
    "    bps - bits per symbol\n",
    "    \n",
    "    Returns:\n",
    "    vector of ints (all ints are between 0 and 2**bps - 1)\n",
    "    \n",
    "    Note: only works for bps in [1, 2, 4]\n",
    "    \"\"\"\n",
    "    \n",
    "    syms_per_byte = 8 // bps\n",
    "    mask = np.uint8(2**bps - 1)\n",
    "    \n",
    "    out = np.zeros(syms_per_byte * len(msg), dtype=np.uint8)\n",
    "\n",
    "    for n in range(len(msg)):\n",
    "        b = msg[n]\n",
    "        for m in range(syms_per_byte):\n",
    "            out[n*syms_per_byte + m] = (b >> (m*bps)) & mask\n",
    "            \n",
    "    return out"
   ]
  },
  {
   "cell_type": "code",
   "execution_count": 8,
   "metadata": {},
   "outputs": [],
   "source": [
    "def symbols_to_bytes(syms, bps):\n",
    "    \"\"\"Convert a sequence of symbols to bytes\n",
    "    \n",
    "    Inputs:\n",
    "    syms - a vector of bytes\n",
    "    bps - bits per symbol\n",
    "    \n",
    "    Returns:\n",
    "    vector of uint8 (aka char)\n",
    "    \n",
    "    Note: only works for bps in [1, 2, 4]\n",
    "    \"\"\"\n",
    "    syms_per_byte = 8 // bps\n",
    "    \n",
    "    msg = np.zeros(len(syms) // syms_per_byte, dtype=np.uint8)\n",
    "    \n",
    "    for n in range(len(msg)):\n",
    "        for m in range(syms_per_byte):\n",
    "            msg[n] += syms[n*syms_per_byte + m] << (m*bps)\n",
    "            \n",
    "    return msg"
   ]
  },
  {
   "cell_type": "code",
   "execution_count": 9,
   "metadata": {},
   "outputs": [],
   "source": [
    "def bytes_to_img(seq):\n",
    "    \"\"\"Interpret the recovered message and display image\n",
    "    \n",
    "    Inputs:\n",
    "    \"\"\"\n",
    "    FORMAT = '!HH'\n",
    "    s = struct.calcsize(FORMAT)\n",
    "\n",
    "    h, w = struct.unpack(FORMAT, seq[:s])\n",
    "\n",
    "    plt.imshow(seq[s:].reshape(h,w), cmap='gray')"
   ]
  },
  {
   "cell_type": "markdown",
   "metadata": {},
   "source": [
    "### Description of the OFDM Signal\n",
    "\n",
    "The OFDM signal is made up of a sequence of slots, where each slot contains 14 OFDM symbols. \n",
    "\n",
    "Each slot contains three distinct elements:\n",
    "1. Symbol 0 always contains a known synchronization reference signal\n",
    "2. Symbol 1 always contains dedicated control information (DCI) for each user; this control information is needed to locate the payload within the remainder of the slot\n",
    "3. The remaining 12 slots contain users' payload. The payload is located within the slot as indicated by the control information.\n",
    "\n",
    "Note: The location of the DCI and the payload for a user will vary from slot-to-slot. Hence, in each slot, you must first find and decode the DCI and then locate and demodulate the payload."
   ]
  },
  {
   "cell_type": "markdown",
   "metadata": {},
   "source": [
    "### OFDM parameters\n",
    "\n",
    "We define a signalling format that is meant to resemble the downlink of  LTE and 5G NR formats. It is characterized by\n",
    "* Subcarrier spacing is 15KHz\n",
    "* FFT size is 2048\n",
    "* Only 1272 of the subcarriers are occupied; active subcarriers are numbered from $k=0$ to $k=1271$.\n",
    "* The Cyclic Prefix is 160 samples long; that corresponds to $\\frac{160}{2048} \\cdot \\frac{1}{15\\text{KHz}} = 5.2\\mu s$.\n",
    "\n",
    "Information is transmitted in slots that contain 14 OFDM symbols; the length of a slot is just under 1ms. In ach slot, information for $N=10$ users is transmitted as detailed further below.\n",
    "\n",
    "The first OFDM symbol in each slot contains a known synchronization reference signal. This signal occupies 127 subcarriers in the center of the active subcarriers (i.e., from $k=573$ to $k=699$).\n",
    "\n",
    "The second symbol contains control information (DCI) from which each user can determine where to find his payload within the slot.\n",
    "\n",
    "The remaining 12 OFDM symbols carry the users' payloads. The payload for each user occupies a rectangular region in the time-frequency space defined by the slot. The location where a user's payload is found changes from slot to slot; it is described by the DCI information transmitted in the second symbol.\n",
    "\n",
    "Subcarriers that carry a DCI block or a user's payload are divided into blocks of 12 subcarriers. Put differently, the frequency part of the rectangular regions begins and ends on subcarriers with indices that are divisible by 12.\n"
   ]
  },
  {
   "cell_type": "code",
   "execution_count": 10,
   "metadata": {},
   "outputs": [],
   "source": [
    "## OFDM Parameters\n",
    "sc_spacing = 15e3\n",
    "N_FFT = 2048\n",
    "N_active = 1272\n",
    "N_syms = 14\n",
    "N_CP = 160\n",
    "\n",
    "Fs = sc_spacing * N_FFT\n",
    "\n",
    "# number of subcarriers per SC block\n",
    "sc_per_scb = 12\n"
   ]
  },
  {
   "cell_type": "markdown",
   "metadata": {},
   "source": [
    "### DMRS signals\n",
    "\n",
    " The DMRS training sequences are intended to provide initialization for the frequency domain equalizer. We will use Gold sequences that were derived from a pair of M-sequences of order 31. \n",
    "\n",
    " The DMRS sequences are initialized by the user's ID, so that the reference sequences are all distinct.\n",
    "\n",
    " Reference sequences are always generated to cover all subcarriers. Only the subcarriers in the user's active bandwidth will be transmitted.\n",
    "\n",
    " The function below generates the (BPSK modulated) DMRS sequence for all `N_active` subcarriers for a given user id.\n",
    "\n",
    " These DMRS sequence are needed in each slot for both the DCI and payload. It's worth to pre-compute and store them."
   ]
  },
  {
   "cell_type": "code",
   "execution_count": 11,
   "metadata": {},
   "outputs": [],
   "source": [
    "def make_DMRS(user_id, N_active):\n",
    "    \"\"\"Construct the DMRS sequence for given user id\n",
    "    \n",
    "    Input:\n",
    "    user_id - usr id\n",
    "    N_active - number of active subcarriers\n",
    "\n",
    "    Returns:\n",
    "    length N_active sequence of BPSK symbols\n",
    "    \"\"\"\n",
    "    # make a Gold sequence from 2 M-sequences, the second is initialized by user's id\n",
    "    dmrs = lfsr(1, 9, N_active, 31, 1600) ^ lfsr(user_id, 15, N_active, 31, 1600)\n",
    "    \n",
    "    # convert binary to BPSK\n",
    "    return 2.0*dmrs - 1.0"
   ]
  },
  {
   "cell_type": "markdown",
   "metadata": {},
   "source": [
    "### Modulation Formats\n",
    "\n",
    "We will use three different constellations: BPSK, QPSK, and 16-QAM for the payload. DCI and DMRS are always transmitted as BPSK.\n",
    "For each constellation, we define a dictionary that shows the mapping of bit-patterns to symbols.\n",
    "\n",
    "For each of the three constellations, we have:\n",
    "* a dictionary that shows the mapping from bit-patterns to symbols\n",
    "* an array that list the symbols in the order indicated by the bit-pattern; e.g., the symbol for `0b0000` (decimal 0) is first, followed by the symbol for `0b0001` (decimal 1).\n",
    "* an integer that is used as a unique code to refere to the constellation."
   ]
  },
  {
   "cell_type": "code",
   "execution_count": 12,
   "metadata": {},
   "outputs": [],
   "source": [
    "BPSK_d = {\n",
    "    0b0: 1.  + 0j,\n",
    "    0b1: -1. + 0j\n",
    "}\n",
    "\n",
    "# normalized alphabet in order\n",
    "A_BPSK = np.array([BPSK_d[n] for n in range(2)])\n",
    "\n",
    "BPSK_MOD_CODE = 0"
   ]
  },
  {
   "cell_type": "code",
   "execution_count": 13,
   "metadata": {},
   "outputs": [],
   "source": [
    "QPSK_d = {\n",
    "    0b00:  1. + 1.j,\n",
    "    0b01: -1. + 1.j,\n",
    "    0b11: -1. - 1.j,\n",
    "    0b10:  1. - 1j\n",
    "}\n",
    "\n",
    "# normalized alphabet in order\n",
    "A_QPSK = np.array([QPSK_d[n] for n in range(4)])/np.sqrt(2)\n",
    "\n",
    "QPSK_MOD_CODE = 1"
   ]
  },
  {
   "cell_type": "code",
   "execution_count": 14,
   "metadata": {},
   "outputs": [],
   "source": [
    "QAM16_d = {\n",
    "    0b0000: -3. + 3.j,\n",
    "    0b0100: -1. + 3.j,\n",
    "    0b1100:  1. + 3.j,\n",
    "    0b1000:  3. + 3.j,\n",
    "    0b0001: -3. + 1.j,\n",
    "    0b0101: -1. + 1.j,\n",
    "    0b1101:  1. + 1.j,\n",
    "    0b1001:  3. + 1.j,\n",
    "    0b0011: -3. - 1.j,\n",
    "    0b0111: -1. - 1.j,\n",
    "    0b1111:  1. - 1.j,\n",
    "    0b1011:  3. - 1.j,\n",
    "    0b0010: -3. - 3.j,\n",
    "    0b0110: -1. - 3.j,\n",
    "    0b1110:  1. - 3.j,\n",
    "    0b1010:  3. - 3.j,\n",
    "}\n",
    "\n",
    "# normalized alphabet in order\n",
    "avg_symbol_energy = (4*2 + 8*10 + 4*18)/16\n",
    "A_QAM16 = np.array([QAM16_d[n] for n in range(16)])/np.sqrt(avg_symbol_energy)\n",
    "\n",
    "QAM16_MOD_CODE = 2"
   ]
  },
  {
   "cell_type": "code",
   "execution_count": 15,
   "metadata": {},
   "outputs": [],
   "source": [
    "mod_table = {\n",
    "    'BPSK': {\n",
    "        'name': 'BPSK',\n",
    "        'mod_code': BPSK_MOD_CODE,\n",
    "        'bps': 1,\n",
    "        'alphabet': A_BPSK,\n",
    "        'map': BPSK_d,\n",
    "    },\n",
    "    'QPSK': {\n",
    "        'name': 'QPSK',\n",
    "        'mod_code': QPSK_MOD_CODE,\n",
    "        'bps': 2,\n",
    "        'alphabet': A_QPSK,\n",
    "        'map': QPSK_d,\n",
    "    },\n",
    "    'QAM16': {\n",
    "        'name': '16-QAM',\n",
    "        'mod_code': QAM16_MOD_CODE,\n",
    "        'bps': 4,\n",
    "        'alphabet': A_QAM16,\n",
    "        'map': QAM16_d,\n",
    "    }\n",
    "}\n",
    "\n",
    "# make an inverse table for looking up names by mod_code\n",
    "rev_mod_table = {}\n",
    "for k,v in mod_table.items():\n",
    "    rev_mod_table[v['mod_code']] = k\n",
    "\n",
    "# table for looking up bps by mod_code\n",
    "bps_table = {}\n",
    "for k,v in rev_mod_table.items():\n",
    "    bps_table[k] = mod_table[v]['bps']"
   ]
  },
  {
   "cell_type": "markdown",
   "metadata": {},
   "source": [
    "## Synchronization Signal\n",
    "\n",
    "The synchronization reference signal is defined in the frequency domain. The rsynchronization signal are chosen from a length 127 M-sequence. Specifically, the M-sequence generated by a linear feedback shift register with initial value $c_{init}=1$ and feedback connections described by $0x3$ is used.\n",
    "\n",
    "The synchronization signal will be placed starting at active subcarrier 573, so that it is centered in the frequency domain."
   ]
  },
  {
   "cell_type": "code",
   "execution_count": 16,
   "metadata": {},
   "outputs": [],
   "source": [
    "## Generate LFSR sequence \n",
    "c_init = 1\n",
    "fb = 3\n",
    "M = 127\n",
    "N = 7\n",
    "\n",
    "# location of synch signal\n",
    "k_sync = 573\n",
    "\n",
    "# generate M-sequence and convert to BPSK (0 -> -1, 1 -> 1)\n",
    "sync_seq = 2.0*lfsr(c_init, fb, M, N) - 1"
   ]
  },
  {
   "cell_type": "markdown",
   "metadata": {},
   "source": [
    "## DCI Information\n",
    "\n",
    "Dedicated control channel information (DCI) is transmitted in symbol period 1. It provides information about where user data is located within a slot and how it is modulated. Specifically, it contains the following fields:\n",
    "* user id - 8 bits\n",
    "* start symbol - 4 bits: the first symbol that contains user data (actually, this is where the DMRS goes)\n",
    "* length in symbols - 4 bits: number of consecutive symbols holding user data\n",
    "* start subcarrier block - 8 bits: multiply this value by 12 to find the first subcarrier holding user data\n",
    "* length subcarrier block - 8 bits: multiply this number by 12 to find the number of consecutive subcarriers holding user data\n",
    "* modulation code - 8 bits: code that indicates how user data is modulated (see modulation table)\n",
    "* sequence number - 8 bits: sequence number modulo 255\n",
    "* number of bytes - 16 bits: indicates the number of bytes in the payload. It is possible that there are a few empty subcarriers at the end of an allocated block.\n",
    "\n",
    "The DCI information is protected by a cyclic redundancy check (CRC).\n",
    "\n",
    "The function below packs the information for one DCI block into a sequence of bytes."
   ]
  },
  {
   "cell_type": "code",
   "execution_count": 17,
   "metadata": {},
   "outputs": [],
   "source": [
    "## constants related to DCI\n",
    "DCI_FORMAT = \"!BBBBBBH\"\n",
    "DCI_CRC_FORMAT = \"!{:d}sH\".format(struct.calcsize(DCI_FORMAT))\n",
    "\n",
    "DCI_LEN_BYTES = struct.calcsize(DCI_CRC_FORMAT)"
   ]
  },
  {
   "cell_type": "code",
   "execution_count": 18,
   "metadata": {},
   "outputs": [],
   "source": [
    "## DCI structure\n",
    "def make_DCI(user_id, sliv_d, mod_code, seq, n_bytes):\n",
    "    \"\"\"construct a DCI block\n",
    "    \n",
    "    Inputs:\n",
    "    user_id - uint8\n",
    "    sliv_d - dictionary with fields start_sym, len_sym, start_scb, len_scb\n",
    "    mod_code - code indicating the modulation format\n",
    "    seq - sequence number (modulo 255)\n",
    "    num_bytes - length of payload, excluding padding\n",
    "    \"\"\"\n",
    "    # combine start_sym and len_sym into a single byte\n",
    "    sym_sl = (sliv_d['start_sym'] << 4) + sliv_d['len_sym']\n",
    "\n",
    "    dci = struct.pack(DCI_FORMAT, user_id, sym_sl, sliv_d['start_scb'], sliv_d['len_scb'], mod_code, seq % 256, n_bytes)\n",
    "\n",
    "    return struct.pack(DCI_CRC_FORMAT, dci, crc16(dci))"
   ]
  },
  {
   "cell_type": "markdown",
   "metadata": {},
   "source": [
    "And, this function decodes the DCI block to recover the information required to locate the payload."
   ]
  },
  {
   "cell_type": "code",
   "execution_count": 19,
   "metadata": {},
   "outputs": [],
   "source": [
    "def decode_DCI(dci_bytes):\n",
    "    \"\"\"Decode a DCI block\n",
    "    \n",
    "    Input:\n",
    "    byte sequence that makes up the DCI\n",
    "\n",
    "    Returns:\n",
    "    a tuple containing\n",
    "    * user_id\n",
    "    * sliv_d dictionary with fields start_sym, len_sym, start_scb, len_scb\n",
    "    * mod_code - code indicating the modulation format\n",
    "    * seq - sequence number (modulo 255)\n",
    "    * num_bytes - length of payload, excluding padding\n",
    "    * crc_ok - result of CRC check (True means that CRC passed)\n",
    "    \"\"\"\n",
    "    # separate the CRC and check it\n",
    "    dci, check = struct.unpack(DCI_CRC_FORMAT, dci_bytes)\n",
    "    crc_ok = check == crc16(dci)\n",
    "\n",
    "    # unpack the elements of the DCI\n",
    "    user_id, sym_sl, start_scb, len_scb, mod_code, seq, n_bytes = struct.unpack(DCI_FORMAT, dci)\n",
    "\n",
    "    # and pack them into the expected formt\n",
    "    len_sym = sym_sl % (1 << 4)\n",
    "    start_sym = sym_sl >> 4\n",
    "\n",
    "    sliv_d = {\n",
    "        'start_sym': start_sym,\n",
    "        'len_sym': len_sym,\n",
    "        'start_scb': start_scb,\n",
    "        'len_scb': len_scb\n",
    "    }\n",
    "\n",
    "    return user_id, sliv_d, mod_code, seq, n_bytes, crc_ok"
   ]
  },
  {
   "cell_type": "code",
   "execution_count": 20,
   "metadata": {},
   "outputs": [],
   "source": [
    "## constant to capture DCI length (in symbols, including DMRS symbols)\n",
    "DCI_LEN = (DCI_LEN_BYTES * 8 * 3) // 2"
   ]
  },
  {
   "cell_type": "code",
   "execution_count": 21,
   "metadata": {},
   "outputs": [
    {
     "data": {
      "text/plain": [
       "(42,\n",
       " {'start_sym': 2, 'len_sym': 4, 'start_scb': 0, 'len_scb': 12},\n",
       " 0,\n",
       " 1,\n",
       " 128,\n",
       " True)"
      ]
     },
     "execution_count": 21,
     "metadata": {},
     "output_type": "execute_result"
    }
   ],
   "source": [
    "# check that this works\n",
    "sliv_d = {\n",
    "    'start_sym': 2,\n",
    "    'len_sym': 4,\n",
    "    'start_scb': 0,\n",
    "    'len_scb': 12\n",
    "}\n",
    "\n",
    "hdr = make_DCI(42, sliv_d, 0, 1, 128)\n",
    "decode_DCI(hdr)"
   ]
  },
  {
   "cell_type": "markdown",
   "metadata": {},
   "source": [
    "### Transmitting DCI Information\n",
    "\n",
    "DCI information is always transmitted in the second symbol of a slot (symbol 1); immediately following the slot that carries the synchronization signal (see above).\n",
    "\n",
    "There are $N=10$ DCI groups consisting of 10 subcarrier blocks (i.e., 120 subcarriers); each of these groups carries the DCI for one user. The $n$-th DCI group begins at subcarrier block $10n$ (i.e., with subcarrier `120*n`).\n",
    "\n",
    "The DCI information for a user may be transmitted in any of the 10 groups and the location changes from slot-to-slot. Thus, all of the groups must be searched until the DCI block for the given user has been found (as indicated by the user id in the DCI information).\n",
    "\n",
    "Each DCI group contains 120 BPSK symbols: 80 of these symbols come from the DCI information and the remaining 40 are DMRS symbols.\n",
    "\n",
    "We denote the BPSK modulated DCI data by $d[n]$ with $0\\leq n < 80$ and the DMRS sequence by $c[k]$. Moreover, denote the first subcarrier for the give DCI group by $k_0$. Then, the 120 symbols $s[m]$ are constructed by interleaving the DCI symbols $d[n]$ and the DMRS sequence $c[k]$:\n",
    "\n",
    "* DMRS: if $k_0 + m \\mod 3 = 1$, then $s[m] = c[k_0+m]$. Every third symbol is a DMRS symbol, thus, $120/3=40$ DMRS symbols are inserted.\n",
    "* DCI: The remaining $80$ symbols are filled in order with DCI symbols $d[n]$.\n",
    "\n",
    "The embedded DMRS symbols are intended to allow channel estimation for the DCI symbols $d[n]$.\n",
    "\n",
    "The function below constructs the interleaved symbols $s[n]$ from a DMRS sequence and the DCI bytes constructed by function `make_DCI`."
   ]
  },
  {
   "cell_type": "code",
   "execution_count": 22,
   "metadata": {},
   "outputs": [],
   "source": [
    "def interleave_DCI(dci, dmrs, k0):\n",
    "    \"\"\"interleave DCI symbols and DMRS symbols\n",
    "    \n",
    "    Inputs:\n",
    "    dci - DCI byte sequence (length 80 bytes)\n",
    "    dmrs - DMRS sequence for the user identified inside the DCI block\n",
    "    k0 - first subcarrier that will carry this block\n",
    "\n",
    "    Returns:\n",
    "    length DCI_LEN sequence of interleaved symbols\n",
    "    \"\"\"\n",
    "    # storage for result\n",
    "    s = np.ndarray(DCI_LEN, dtype=complex)\n",
    "\n",
    "    # convert DCI message to BPSK\n",
    "    d = A_BPSK[bytes_to_symbols(dci, 1)]\n",
    "\n",
    "    n = 0\n",
    "    for m in range(DCI_LEN):\n",
    "        if ((k0+m) % 3) == 1:\n",
    "            s[m] = dmrs[k0+m]\n",
    "        else:\n",
    "            s[m] = d[n]\n",
    "            n += 1\n",
    "    \n",
    "    return s"
   ]
  },
  {
   "cell_type": "markdown",
   "metadata": {},
   "source": [
    "### Payload\n",
    "\n",
    "Finally, the payload for each user is transmitted in rectangular region indicated by the information in the DCI block. Specifically, the `sliv_d` dictionary that is returned by function `decode_DCI` has four elements that describe the location of the user's payload within the slot.\n",
    "\n",
    "The keys of the `sliv_d` dictionary are:\n",
    "\n",
    "* `'start_sym'`: The OFDM symbol number of the first symbol holding payload data; this OFDM symbol holds the DMRS sequence for adapting the equalizer (see above);\n",
    "* `'len_sym'`: The number of consecutive OFDM symbols holding payload data;\n",
    "* `'start_scb'`: The first subcarrier block that holds payload data; \n",
    "* `'len_scb'`:  The number of consecutive sub carrier blocks holding payload data.\n",
    "\n",
    "For example, assume that `sliv_d` is equal to `{'start_sym': 2, 'len_sym': 4, 'start_scb': 0, 'len_scb': 12}`. Then, the payload will occupy subcarriers 0 through 144 (recall that a subcarrier block contains 12 subcarriers). The DMRS sequence will appear in symbol 2 on those subcarriers. Symbols 3, 4, and 5 will hold payload data on those subcarriers. Hence, there is space for $3 \\cdot 144 = 432$ information symbols.\n",
    "\n",
    "The DMRS sequence will occupy all subcarriers in the indicated range on the first indicated OFDM symbol - there are no gaps. If $c[k]$ denotes the DMRS sequence (length `N_active`), then DMRS element $c[k]$ is transmitted on the $k$-th subcarrier.\n",
    "\n",
    "Payload data is modulated using the modulation format indicated by the DCI block. Note that in each slot only complete (not partial) bytes will be sent. Consequently, it is possible that not all time-frequency resource elements are occupied. This can be deduced from the parameter `num_bytes` in the DCI block.\n",
    "\n",
    "The function below is used to map information bytes to a rectangular region in time-frequency. This rectangular block is intended to be inserted in the transmitted slot"
   ]
  },
  {
   "cell_type": "code",
   "execution_count": 43,
   "metadata": {},
   "outputs": [],
   "source": [
    "def make_payload(info_bytes, dmrs, sliv_d, mod_code):\n",
    "    \"\"\"Construct a rectangular region holding payload and DMRS\n",
    "    \n",
    "    Inputs:\n",
    "    info_bytes - sequence of information bytes to be sent\n",
    "    dmrs - DMRS sequence for given user\n",
    "    sliv_d - dictionary describing time-frequency region\n",
    "    mod_code - code indicating modulation format\n",
    "\n",
    "    Returns:\n",
    "    rectangular time-frequency region with payload and DMRS data\n",
    "    \"\"\"\n",
    "    Nc = sc_per_scb*sliv_d['len_scb'] # number of subcarriers\n",
    "    Ns = sliv_d['len_sym']            # number of symbols\n",
    "\n",
    "    # make space to hold rectangular region\n",
    "    R = np.zeros((Ns, Nc), dtype=complex)\n",
    "\n",
    "    # insert DMRS - make sure we grab the elements that match the allocated subcarriers!\n",
    "    R[0, :] = dmrs[sc_per_scb*sliv_d['start_scb'] + np.arange(Nc)]\n",
    "\n",
    "    # modulate the payload information\n",
    "    mod = rev_mod_table[mod_code]\n",
    "\n",
    "    A = mod_table[mod]['alphabet']\n",
    "    bps = mod_table[mod]['bps']\n",
    "    syms = A[bytes_to_symbols(info_bytes, bps)]\n",
    "\n",
    "    # insert the modulated symbols in frequency first order\n",
    "    start = 0\n",
    "    for n in range(1, Ns):\n",
    "        end = min(start+Nc, len(syms))\n",
    "        R[n, :end-start] = syms[start:end]\n",
    "        n = end\n",
    "        start = end\n",
    "\n",
    "    return R"
   ]
  },
  {
   "cell_type": "markdown",
   "metadata": {},
   "source": [
    "### Assembling the Pieces\n",
    "\n",
    "We now have all pieces in place to construct a slot of 14 OFDM symbols. We will illustrate how the slot is assembled by placing a single user's components into the slot. The actual signal is constructed by placing additional users' data in the empty spaces of the slot.\n",
    "\n",
    "In this illustration, we will assume that:\n",
    "* the user id is `user_id = 42`\n",
    "* the DCI block will be placed in the second group of DCI subcarriers, `n_DCI = 1` (i.e., starting at subcarrier 120)\n",
    "* the data is QPSK modulated (`mod_code = 1`)\n",
    "* the dictionary indicating the rectangular time-frequency region is as above \n",
    "`sliv_d = {'start_sym': 2, 'len_sym': 4, 'start_scb': 0, 'len_scb': 12}`\n",
    "* the sequence number is `seq = 0`.\n",
    "\n",
    "With this configuration, we can transmit $3 \\cdot 12 \\cdot 12 = 432$ symbols (`(sliv_d['len_sym'] - 1) * sliv_d['len_scb'] * sc_per_scb`). As QPSK carries 2 bits per symbol, we can place $2 \\cdot 432 = 864$ bits or $\\lfloor 864/8 \\rfloor = 108$ bytes. We construct an arbitrary payload of 108 bytes."
   ]
  },
  {
   "cell_type": "code",
   "execution_count": 44,
   "metadata": {},
   "outputs": [],
   "source": [
    "## parameters\n",
    "user_id = 42\n",
    "n_DCI = 1\n",
    "mod_code = 1\n",
    "sliv_d = {'start_sym': 2, 'len_sym': 4, 'start_scb': 0, 'len_scb': 12}\n",
    "seq = 0\n",
    "\n",
    "# figure out space for payload\n",
    "mod = rev_mod_table[mod_code]\n",
    "bps = mod_table[mod]['bps']\n",
    "num_bytes = ((sliv_d['len_sym'] - 1) * sliv_d['len_scb'] * sc_per_scb * bps) // 8\n",
    "\n",
    "# make up a payload\n",
    "pld = np.arange(num_bytes, dtype=np.uint8)\n",
    "\n",
    "# compute the DMRS sequence for this user\n",
    "dmrs = make_DMRS(user_id, N_active)"
   ]
  },
  {
   "cell_type": "code",
   "execution_count": 45,
   "metadata": {},
   "outputs": [],
   "source": [
    "## construct the (active part of) the slot\n",
    "# Allocate space for a slot\n",
    "Slot_active = np.zeros((N_syms, N_active), dtype=complex)\n",
    "\n",
    "# insert the synch signal in symbol 0\n",
    "Slot_active[0, k_sync:k_sync+len(sync_seq)] = sync_seq\n",
    "\n",
    "# construct and insert the DCI block in symbol 0\n",
    "k0 = n_DCI * DCI_LEN   # first subcarrier\n",
    "dci = make_DCI(user_id, sliv_d, mod_code, seq, num_bytes)\n",
    "Slot_active[1, k0:k0+DCI_LEN] = interleave_DCI(dci, dmrs, k0)\n",
    "\n",
    "## construct the rectangular block that holds the payload and insert it\n",
    "fs = sliv_d['start_sym']\n",
    "ls = fs + sliv_d['len_sym']\n",
    "fc = sc_per_scb * sliv_d['start_scb']\n",
    "lc = fc + sc_per_scb * sliv_d['len_scb']\n",
    "\n",
    "Slot_active[fs:ls,fc:lc] = make_payload(pld, dmrs, sliv_d, mod_code)"
   ]
  },
  {
   "cell_type": "code",
   "execution_count": 46,
   "metadata": {},
   "outputs": [
    {
     "data": {
      "image/png": "[encoded data removed]",
      "text/plain": [
       "<Figure size 1152x152.151 with 1 Axes>"
      ]
     },
     "metadata": {
      "needs_background": "light"
     },
     "output_type": "display_data"
    }
   ],
   "source": [
    "# check that this is as expected\n",
    "plt.matshow(np.abs(Slot_active[:, ::12]))\n",
    "plt.xlabel('Subcarrier Block')\n",
    "plt.ylabel('OFDM Symbol')\n",
    "plt.show()"
   ]
  },
  {
   "cell_type": "markdown",
   "metadata": {},
   "source": [
    "## OFDM\n",
    "\n",
    "The only thing left to do to produce samples that can be transmitted is to perform OFDM, i.e., insertion of guard bands, inverse FFT, insertion of cyclic prefix and parallel-to-serial conversion.\n",
    "\n",
    "The function below performs all of these steps and produces an array of `N_syms * (N_FFT + N_CP)` (30192) samples."
   ]
  },
  {
   "cell_type": "code",
   "execution_count": 47,
   "metadata": {},
   "outputs": [],
   "source": [
    "def OFDM_TX(Slot_active, N_FFT, N_CP):\n",
    "    \"\"\"Construct OFDM signal for transmission\n",
    "    \n",
    "    Inputs:\n",
    "    Slot_active - 2D array with data for active subcarrier\n",
    "    N_FFT - FFT size\n",
    "    N_CP - length of cyclic prefix\n",
    "\n",
    "    Returns:\n",
    "    length N_syms * (N_FFT + N_CP) array of complex samples\n",
    "    \"\"\"\n",
    "    N_syms = Slot_active.shape[0]\n",
    "    N_active = Slot_active.shape[1]\n",
    "    N_guard = (N_FFT - N_active) // 2\n",
    "    \n",
    "    # zero-pad in frequency\n",
    "    Slot_FD = np.zeros((N_syms, N_FFT), dtype=complex)\n",
    "    Slot_FD[:, N_guard:N_guard+N_active] = Slot_active\n",
    "\n",
    "    # inverse DFT (we also need to FFT shift)\n",
    "    Slot = np.fft.ifft(np.fft.fftshift(Slot_FD, axes=(1,))) * np.sqrt(N_FFT)\n",
    "\n",
    "    # P/S and cyclic prefix\n",
    "    sig = np.zeros(N_syms * (N_FFT+N_CP), dtype=complex)\n",
    "    for n in range(N_syms):\n",
    "        start = n * (N_FFT + N_CP)\n",
    "        sig[start : start+N_CP] = Slot[n, -N_CP:]\n",
    "        start += N_CP\n",
    "        sig[start : start+N_FFT] = Slot[n, :]\n",
    "\n",
    "    return sig"
   ]
  },
  {
   "cell_type": "markdown",
   "metadata": {},
   "source": [
    "To verify the above function, we apply it to the slot that was constructed above (`Slot_active`). The PSD of the resulting signal should show\n",
    "\n",
    "* guard band below -10MHz (the upper guard band is not visible as there is no signal at higher frequencies)\n",
    "* the synch signal in the center of the band\n",
    "* the DCI signal offset 1.8MHz (120 subcarriers) from the lower band edge; this is partially obscured by the payload\n",
    "* the payload extending 2MHz from the lower band edge; this signal should be 6dB stronger than the other two as it extends over 4 symbol periods."
   ]
  },
  {
   "cell_type": "code",
   "execution_count": 48,
   "metadata": {},
   "outputs": [
    {
     "data": {
      "image/png": "[encoded data removed]",
      "text/plain": [
       "<Figure size 432x288 with 1 Axes>"
      ]
     },
     "metadata": {
      "needs_background": "light"
     },
     "output_type": "display_data"
    }
   ],
   "source": [
    "## compute OFDM signal and plot PSD\n",
    "sig = OFDM_TX(Slot_active, N_FFT, N_CP)\n",
    "\n",
    "_, _ =plt.psd(sig, Fs=Fs)"
   ]
  },
  {
   "cell_type": "markdown",
   "metadata": {},
   "source": [
    "## The Complete Received Signal\n",
    "\n",
    "The received signal contains multiple slots like the one describe above. The samples for each slot are concatenated to form the entire transmitted signal.\n",
    "\n",
    "Each slot contains the components described in detail above:\n",
    "1. The synchronization reference signal is always in symbol 0 in the center of the band.\n",
    "2. Up to $N=10$ DCI blocks are located in symbol 1. The arrangement of DCI blocks varies from slot-to-slot. The DCI block for a given user can be identified via the user id that is embedded in the DCI block. A user has to search DCI blocks until it finds its DCI information.\n",
    "3. Up to $N=10$ payload segments are placed in rectangular regions that are indicated by the DCI information. There is a one-to-one correspondence between DCI blocks and payloads.\n",
    "\n",
    "The payloads from consecutive slots form a message that should be recovered. The entire received signal contains messages for $N=10$ users. \n",
    "\n",
    "**Hint:** Each slot will contain a payload for all users unless the transmission to a given user is complete. Once a slot does not contain a payload (and DCI block) for a given user, all following slots will not contain a payload for that user either.\n",
    "\n",
    "**Hint:** The first four bytes of the message contain two 16-bit integers that indicate the length of the entire message in bytes. If you want to know how many bytes your message contains, you can extract that information from the first four received bytes as follows:\n",
    "\n",
    "``` Python\n",
    "# assume that `msg` contains the bytes received in the first slot\n",
    "h, w = struct.unpack('!HH', msg[:4])\n",
    "# length of message is product of `h` and `w` plus 4\n",
    "msg_len = h*w + 4\n",
    "```"
   ]
  },
  {
   "cell_type": "markdown",
   "metadata": {},
   "source": [
    "## Channel\n",
    "\n",
    "Channel introduces:\n",
    "* delay: the signal does not start at a symbol or slot boundary; samples start in the middle of a symbol. Similarly, the received signal does not end on a symbol or slot boundary.\n",
    "* time-varying frequency offset: the frequency error is slowly time-varying; the largest instantaneous frequency error is approximately 3KHz.\n",
    "* dispersive channel: the channel is (mildly) dispersive; the magnitude of the channel response should be good enough to receover signals with very low error rate\n",
    "* AWGN: the nominal SNR is 20dB; however, that varies slightly between subcarriers due to unequal frequency responses.\n",
    "\n",
    "Your receiver must be able to mitigate the adverse channel effects, including location of slot and symbol boundaries, compensation of frequency error, and frequency domain equalization."
   ]
  },
  {
   "cell_type": "markdown",
   "metadata": {},
   "source": [
    "## Load the received signal\n",
    "\n",
    "That's it. Now it's time to load the received samples and for you to demodulate them.\n",
    "\n",
    "You can check that you received all parts of the message by lookin at the sequence numbers. Additionally, you can compute the number of bytes in your message by interpreting the first four bytes as explained earlier.\n",
    "\n",
    "The received messages represent different grayscale images that you can display with the command:\n",
    "``` Python\n",
    "bytes_to_img(msg)\n",
    "```\n",
    "where `msg` is the byte sequence that you recovered, including the four bytes that specify image dimensions.\n",
    "\n",
    "Ok, here is the command to load the samples. The variable `rr` holds the entire sequence of samples - all 13,580,387 of them."
   ]
  },
  {
   "cell_type": "code",
   "execution_count": 49,
   "metadata": {},
   "outputs": [],
   "source": [
    "import requests\n",
    "import io\n",
    "#https://www.dropbox.com/s/thwmobsva2zpr5s/ofdm_samples.npy?dl=0\n",
    "response = requests.get('https://www.dropbox.com/s/thwmobsva2zpr5s/ofdm_samples.npy?dl=1')\n",
    "response.raise_for_status()\n",
    "rr = np.load(io.BytesIO(response.content), allow_pickle=True) \n"
   ]
  },
  {
   "cell_type": "markdown",
   "metadata": {},
   "source": [
    "If all worked well, you can compute the PSD of the received signal and it should look like this."
   ]
  },
  {
   "cell_type": "code",
   "execution_count": 50,
   "metadata": {},
   "outputs": [
    {
     "data": {
      "image/png": "[encoded data removed]",
      "text/plain": [
       "<Figure size 432x288 with 1 Axes>"
      ]
     },
     "metadata": {
      "needs_background": "light"
     },
     "output_type": "display_data"
    }
   ],
   "source": [
    "# check the PSD\n",
    "_, _ = plt.psd(rr, Fs=Fs)"
   ]
  },
  {
   "cell_type": "code",
   "execution_count": 51,
   "metadata": {},
   "outputs": [
    {
     "data": {
      "text/plain": [
       "array([ 0.1014309 -0.14270209j, -0.02681683-0.07107736j,\n",
       "        0.08073202+0.17901753j, -0.0725158 +0.01439013j,\n",
       "        0.00309469-0.04557215j, -0.00365416-0.07286342j,\n",
       "       -0.00079192+0.02458342j, -0.02353382+0.09217308j,\n",
       "        0.02192161-0.00212587j, -0.04593048-0.0781991j ])"
      ]
     },
     "execution_count": 51,
     "metadata": {},
     "output_type": "execute_result"
    }
   ],
   "source": [
    "# Here are the first ten samples\n",
    "rr[:10]"
   ]
  }
 ],
 "metadata": {
  "kernelspec": {
   "display_name": "Python 3.9.15 64-bit",
   "language": "python",
   "name": "python3"
  },
  "language_info": {
   "codemirror_mode": {
    "name": "ipython",
    "version": 3
   },
   "file_extension": ".py",
   "mimetype": "text/x-python",
   "name": "python",
   "nbconvert_exporter": "python",
   "pygments_lexer": "ipython3",
   "version": "3.9.15"
  },
  "orig_nbformat": 4,
  "vscode": {
   "interpreter": {
    "hash": "5984c07bd85a09704efeebc43c280456997f3d9e1810f10980d19f89f173e200"
   }
  }
 },
 "nbformat": 4,
 "nbformat_minor": 2
}
