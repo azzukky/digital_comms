{
 "cells": [
  {
   "cell_type": "markdown",
   "id": "df5c6d37",
   "metadata": {
    "editable": true,
    "slideshow": {
     "slide_type": "slide"
    },
    "tags": []
   },
   "source": [
    "# Modulation Mapper\n",
    "\n",
    "**Goal:** Demonstrate the operation of the modulation mapper and the demodulator\n",
    "\n",
    "**Steps:**\n",
    "\n",
    "* We need a simple source and sink for producing a sequence of bits\n",
    "* How do we describe a constellation?\n",
    "* How do you implement the modulation mapper?\n",
    "* What could go wrong? Noise!\n",
    "* How can we recover the transmitted bits?\n",
    "\n",
    "<a href=\"https://colab.research.google.com/github/bepepa/digital_comms/blob/master/025_mod_mapper.ipynb\" target=\"_parent\"><img src=\"https://colab.research.google.com/assets/colab-badge.svg\" alt=\"Open In Colab\"/></a> (Executable notebook)\n",
    "\n",
    "<a href=\"https://nbviewer.org/format/slides/github/bepepa/digital_comms/blob/main/025_mod_mapper.ipynb\"><img src=\"https://raw.githubusercontent.com/jupyter/design/master/logos/Badges/nbviewer_badge.svg\" alt=\"Render nbviewer\" /> </a> (read-only, slides view)"
   ]
  },
  {
   "cell_type": "code",
   "execution_count": 1,
   "id": "66a6427d",
   "metadata": {
    "editable": true,
    "slideshow": {
     "slide_type": "skip"
    },
    "tags": []
   },
   "outputs": [],
   "source": [
    "# import standard libraries\",\n",
    "import numpy as np\n",
    "\n",
    "import matplotlib.pyplot as plt\n",
    "%matplotlib inline\n",
    "\n",
    "import seaborn as sns\n",
    "sns_context = \"notebook\"\n",
    "sns.set_theme(context=sns_context, style=\"ticks\")"
   ]
  },
  {
   "cell_type": "markdown",
   "id": "4ed49cc3",
   "metadata": {
    "editable": true,
    "slideshow": {
     "slide_type": "slide"
    },
    "tags": []
   },
   "source": [
    "## Sources and Sinks\n",
    "\n",
    "* Sources produce a sequence of bits\n",
    "* Over the course of the semester, we will construct a few different sources, including\n",
    "  + a source for trasmitting a text string\n",
    "  + a source for transmitting a file, e.g., an image\n",
    "  + a source that produces randomly generated bits\n",
    "* The sink is simply an endpoint for a system\n",
    "  + e.g., we might write received information to a file\n",
    "  \n",
    "Today, we implement a string source and sink."
   ]
  },
  {
   "cell_type": "markdown",
   "id": "d8929e40",
   "metadata": {
    "editable": true,
    "slideshow": {
     "slide_type": "subslide"
    },
    "tags": []
   },
   "source": [
    "### A simple source - text strings\n",
    "\n",
    "* For testing, we create a simple source of bits. \n",
    "* The source takes a string as an input and generates a vector of 0's and 1's.\n",
    "* we accomplish this in two steps:\n",
    "  + converting a string into a sequence of bytes\n",
    "  + convert each byte into a sequence of 8 bits\n",
    "* the bit sequence is obtained by concatenating all bits\n",
    "\n",
    "We begin with converting a byte to 8 bits."
   ]
  },
  {
   "cell_type": "markdown",
   "id": "b015a5b0",
   "metadata": {
    "editable": true,
    "slideshow": {
     "slide_type": "subslide"
    },
    "tags": []
   },
   "source": [
    "### Converting bytes to bits\n",
    "\n",
    "* a byte can be viewed as\n",
    "  + a number between 0 and 255\n",
    "  + a sequence of 8 bits\n",
    "  + both perspectives are equivalent\n",
    "* Our goal is to extract the eight bits that make up the byte. The most-significant bit (MSB) is extracted first.\n",
    "* We achieve that as follows:\n",
    "  1. isolate the bit in the first (most significant position)\n",
    "     - compute the `and` of the byte and the mask `1000 000` (decimal 128)\n",
    "     - right shift the result by seven bit positions, using `>> 7`\n",
    "       + this moves the bit we extracted from the MSB position to the LSB position\n",
    "       + result is either $0$ or $1$; store that\n",
    "  2. shift all bits by one position towards the MSB\n",
    "     - computed using the bit-shift operation `<< 1`\n",
    "     - this drops the bit that we just extracted\n",
    "  3. repeat eight times until we have all bits\n",
    " "
   ]
  },
  {
   "cell_type": "code",
   "execution_count": 2,
   "id": "84c834c5",
   "metadata": {
    "editable": true,
    "slideshow": {
     "slide_type": "subslide"
    },
    "tags": []
   },
   "outputs": [],
   "source": [
    "def byte_to_bits(b):\n",
    "    \"\"\"convert a byte to a sequence of 8 bits (MSB first)\"\"\"\n",
    "    \n",
    "    # allocate memory for bits\n",
    "    bits = np.zeros(8, dtype=np.uint8)\n",
    "    \n",
    "    # define the mask\n",
    "    mask = 128\n",
    "    \n",
    "    for n in range(8):\n",
    "        # extract the MSB and store it\n",
    "        bits[n] = (b & mask) >> 7\n",
    "        # shift the bits by one position\n",
    "        b = b << 1\n",
    "        \n",
    "    return bits"
   ]
  },
  {
   "cell_type": "code",
   "execution_count": 3,
   "id": "3f185d5e",
   "metadata": {
    "editable": true,
    "slideshow": {
     "slide_type": "fragment"
    },
    "tags": []
   },
   "outputs": [
    {
     "name": "stdout",
     "output_type": "stream",
     "text": [
      "decimal 30 (binary 00011110) is converted to:  [0 0 0 1 1 1 1 0]\n"
     ]
    }
   ],
   "source": [
    "## Example: \n",
    "# 30 decimal is 2^4 + 2^3 + 2^2 + 2^1 => 0001 1110\n",
    "x = 30\n",
    "print(f\"decimal {x:d} (binary {x:08b}) is converted to: \", byte_to_bits(x))"
   ]
  },
  {
   "cell_type": "markdown",
   "id": "271f573e",
   "metadata": {
    "editable": true,
    "slideshow": {
     "slide_type": "subslide"
    },
    "tags": []
   },
   "source": [
    "### Converting bits to bytes\n",
    "\n",
    "* We will also need the reverse operation: given a sequence of (up to eight) bits, compute the corresponding byte\n",
    "* This can be accomplished as follows:\n",
    "  + initialize the result `res` to zero\n",
    "    - data type must be an 8-bit integer `uint8`\n",
    "  + loop over the bits, assuming that the first bit is the MSB\n",
    "    - left shift the result by one position, using `<< 1`\n",
    "      * this is equivalent to multiplying by 2\n",
    "    - compute the `or` of the current bit and the result"
   ]
  },
  {
   "cell_type": "code",
   "execution_count": 4,
   "id": "2a78ef6d",
   "metadata": {
    "editable": true,
    "slideshow": {
     "slide_type": "subslide"
    },
    "tags": []
   },
   "outputs": [],
   "source": [
    "def bits_to_byte(bits):\n",
    "    \"\"\"convert a sequence of up to eight bits to a byte\"\"\"\n",
    "    assert len(bits) <= 8, \"Can only convert at most 8 bits at a time\"\n",
    "    \n",
    "    res = np.uint8(0)\n",
    "    \n",
    "    for b in bits:\n",
    "        res = res << 1\n",
    "        res = res | b\n",
    "        \n",
    "    return res"
   ]
  },
  {
   "cell_type": "code",
   "execution_count": 5,
   "id": "4574429f",
   "metadata": {
    "editable": true,
    "slideshow": {
     "slide_type": "subslide"
    },
    "tags": []
   },
   "outputs": [
    {
     "name": "stdout",
     "output_type": "stream",
     "text": [
      "OK\n"
     ]
    }
   ],
   "source": [
    "## Check that round-trip conversion works\n",
    "# check all 256 possible byte values\n",
    "for n in range(256):\n",
    "    assert n == bits_to_byte(byte_to_bits(n))\n",
    "\n",
    "# all good if we get here\n",
    "print('OK')"
   ]
  },
  {
   "cell_type": "markdown",
   "id": "79ca17b9",
   "metadata": {
    "editable": true,
    "slideshow": {
     "slide_type": "slide"
    },
    "tags": []
   },
   "source": [
    "### String source: converting a string to bits\n",
    "\n",
    "* With the `byte_to_bits` function in place, converting a string isn't very hard:\n",
    "\n",
    "    * loop over the bytes,\n",
    "    * convert each byte to bits,\n",
    "    * insert the resulting bits into a vector\n",
    "\n",
    "* The only complication is that (today) strings may contain *Unicode* characters - not just ASCII.\n",
    "\n",
    "    * Fortunately, the function `decode()` converts a Unicode string to a sequence of bytes."
   ]
  },
  {
   "cell_type": "code",
   "execution_count": 6,
   "id": "6ae098fb",
   "metadata": {
    "editable": true,
    "slideshow": {
     "slide_type": "subslide"
    },
    "tags": []
   },
   "outputs": [],
   "source": [
    "def string_source(string):\n",
    "    \"\"\"convert a string to a vector of bits\"\"\"\n",
    "    \n",
    "    # convert a string to a sequence of bytes\n",
    "    bb = string.encode()\n",
    "    Nb = len(bb)\n",
    "    \n",
    "    # make space\n",
    "    bits = np.zeros(8 * Nb, dtype=np.uint8)\n",
    "    \n",
    "    for n in range(Nb):\n",
    "        bits[8*n : 8*(n+1)] = byte_to_bits(bb[n])\n",
    "        \n",
    "    return bits"
   ]
  },
  {
   "cell_type": "code",
   "execution_count": 7,
   "id": "e6d4fef8",
   "metadata": {
    "editable": true,
    "slideshow": {
     "slide_type": "fragment"
    },
    "tags": []
   },
   "outputs": [
    {
     "name": "stdout",
     "output_type": "stream",
     "text": [
      "The string \"Hi\" converts to:  [0 1 0 0 1 0 0 0 0 1 1 0 1 0 0 1]\n"
     ]
    }
   ],
   "source": [
    "## Example:\n",
    "# convert a short string to bits\n",
    "string = \"Hi\"\n",
    "print(f'The string \"{string}\" converts to: ', string_source(string) )"
   ]
  },
  {
   "cell_type": "markdown",
   "id": "2bba1e07",
   "metadata": {
    "editable": true,
    "slideshow": {
     "slide_type": "subslide"
    },
    "tags": []
   },
   "source": [
    "### String sink: converting bits to a string\n",
    "\n",
    "The sink function for strings:\n",
    "* accepts a sequence of bits\n",
    "* converts them into the corresponding sequence of bytes\n",
    "* interprets the sequence of bytes as a Unicode-string (using the `decode()` function)"
   ]
  },
  {
   "cell_type": "code",
   "execution_count": 8,
   "id": "a9918858",
   "metadata": {
    "editable": true,
    "slideshow": {
     "slide_type": "subslide"
    },
    "tags": []
   },
   "outputs": [],
   "source": [
    "def string_sink(bits):\n",
    "    \"convert a sequence of bits into a string\"\n",
    "    \n",
    "    # check that number of bits is a multiple of 8\n",
    "    if len(bits) % 8 != 0:\n",
    "        raise ValueError(f'number of bits {len(bits)} is not divisible by 8.')\n",
    "    \n",
    "    # allocate storage\n",
    "    n_bytes = len(bits) // 8\n",
    "    bytes = np.zeros(n_bytes, dtype=np.uint8)\n",
    "\n",
    "    for n in range(n_bytes):\n",
    "        bytes[n] = bits_to_byte(bits[n*8 : (n+1)*8])\n",
    "\n",
    "    # decode the string (deal with unicode encoding)\n",
    "    return bytes.tobytes().decode(\"utf-8\", \"replace\")"
   ]
  },
  {
   "cell_type": "code",
   "execution_count": 9,
   "id": "6dd7b1a4",
   "metadata": {
    "editable": true,
    "slideshow": {
     "slide_type": "fragment"
    },
    "tags": []
   },
   "outputs": [
    {
     "name": "stdout",
     "output_type": "stream",
     "text": [
      "OK\n"
     ]
    }
   ],
   "source": [
    "## Round-trip test\n",
    "string = \"Hi 😲\"\n",
    "assert string == string_sink( string_source(string) )\n",
    "\n",
    "print('OK')"
   ]
  },
  {
   "cell_type": "markdown",
   "id": "054b9e05",
   "metadata": {
    "editable": true,
    "slideshow": {
     "slide_type": "slide"
    },
    "tags": []
   },
   "source": [
    "## Constellations\n",
    "\n",
    "Constellations are like look-up tables that maps groups of bits to symbols\n",
    "\n",
    "* We use a `dict` to store this table:\n",
    "  + the **keys** hold the group of bits\n",
    "  + the **values** hold the symbols\n",
    "* Here is a table for QPSK"
   ]
  },
  {
   "cell_type": "code",
   "execution_count": 10,
   "id": "c440f876",
   "metadata": {
    "editable": true,
    "slideshow": {
     "slide_type": "fragment"
    },
    "tags": []
   },
   "outputs": [],
   "source": [
    "QPSK = {\n",
    "    0b00: 1,\n",
    "    0b01: 1j,\n",
    "    0b11: -1,\n",
    "    0b10: -1j,\n",
    "}"
   ]
  },
  {
   "cell_type": "code",
   "execution_count": 11,
   "id": "74f7afb3",
   "metadata": {
    "editable": true,
    "slideshow": {
     "slide_type": "subslide"
    },
    "tags": []
   },
   "outputs": [
    {
     "data": {
      "image/png": "[encoded data removed]",
      "text/plain": [
       "<Figure size 640x480 with 1 Axes>"
      ]
     },
     "metadata": {},
     "output_type": "display_data"
    }
   ],
   "source": [
    "# plot the constellation\n",
    "for k,v in QPSK.items():\n",
    "    plt.plot(v.real, v.imag, 'bo', label=f\"{k:02b}\")\n",
    "    plt.text(v.real, v.imag+0.05, f\"{k:02b}\", ha='center', va='bottom')\n",
    "    \n",
    "plt.grid()\n",
    "plt.xlabel('real')\n",
    "plt.ylabel('imag')\n",
    "plt.axis('equal')\n",
    "plt.xlim(-1.2, 1.2)\n",
    "plt.ylim(-1.2, 1.2)\n",
    "#plt.legend()\n",
    "\n",
    "plt.show()"
   ]
  },
  {
   "cell_type": "markdown",
   "id": "106e82f6",
   "metadata": {
    "editable": true,
    "slideshow": {
     "slide_type": "fragment"
    },
    "tags": []
   },
   "source": [
    "Note that any two adjacent symbols differ in exactly one bit position. This is called *Gray coding*."
   ]
  },
  {
   "cell_type": "markdown",
   "id": "6e109607",
   "metadata": {
    "editable": true,
    "slideshow": {
     "slide_type": "subslide"
    },
    "tags": []
   },
   "source": [
    "### Helper Functions for Constellations\n",
    "\n",
    "* Below, we write functions that are useful for characterizing a constellation.\n",
    "\n",
    "#### Energy per Symbol\n",
    "\n",
    "* To start, we compute the average symbol energy:\n",
    "  + that is the average of the squared magnitudes of the symbol values $s[k]$\n",
    "  $$\n",
    "  \\sigma_A^2 = \\frac{1}{K} \\sum_{k=0}^{K-1} |s[k]|^2\n",
    "  $$"
   ]
  },
  {
   "cell_type": "code",
   "execution_count": 12,
   "id": "49ac6ed5",
   "metadata": {
    "editable": true,
    "slideshow": {
     "slide_type": "fragment"
    },
    "tags": []
   },
   "outputs": [],
   "source": [
    "def energy_per_symbol(mod_table):\n",
    "    \"\"\"compute average energy per symbol\"\"\"\n",
    "    Es = 0\n",
    "    \n",
    "    for v in mod_table.values():\n",
    "        Es += np.abs(v) ** 2\n",
    "\n",
    "    return Es / len(mod_table)"
   ]
  },
  {
   "cell_type": "code",
   "execution_count": 13,
   "id": "e12bde3f",
   "metadata": {
    "editable": true,
    "slideshow": {
     "slide_type": "fragment"
    },
    "tags": []
   },
   "outputs": [
    {
     "name": "stdout",
     "output_type": "stream",
     "text": [
      "The energy per symbol is 1.0\n"
     ]
    }
   ],
   "source": [
    "print(f\"The energy per symbol is {energy_per_symbol(QPSK)}\")"
   ]
  },
  {
   "cell_type": "markdown",
   "id": "2c12466f",
   "metadata": {
    "editable": true,
    "slideshow": {
     "slide_type": "subslide"
    },
    "tags": []
   },
   "source": [
    "#### Energy per Bit and Bits per Symbol\n",
    "\n",
    "Next up is the energy per bit.\n",
    "\n",
    "* the energy per bit $E_b$ is the energy per symbol divided by the number of bits per symbol\n",
    "  + so, we need the number of bits per symbol first"
   ]
  },
  {
   "cell_type": "code",
   "execution_count": 14,
   "id": "518dd29f",
   "metadata": {
    "editable": true,
    "slideshow": {
     "slide_type": "fragment"
    },
    "tags": []
   },
   "outputs": [],
   "source": [
    "def num_bits_per_symbol(mod_table):\n",
    "    \"\"\"Compute number of bits per symbol\"\"\"\n",
    "    return int(np.log2(len(mod_table)))"
   ]
  },
  {
   "cell_type": "code",
   "execution_count": 15,
   "id": "7f5ab8b8",
   "metadata": {
    "editable": true,
    "slideshow": {
     "slide_type": "fragment"
    },
    "tags": []
   },
   "outputs": [],
   "source": [
    "def energy_per_bit(mod_table):\n",
    "    \"\"\"compute average energy per bit\"\"\"\n",
    "    \n",
    "    return energy_per_symbol(mod_table) / num_bits_per_symbol(mod_table)"
   ]
  },
  {
   "cell_type": "code",
   "execution_count": 16,
   "id": "2919917c",
   "metadata": {
    "editable": true,
    "slideshow": {
     "slide_type": "fragment"
    },
    "tags": []
   },
   "outputs": [
    {
     "name": "stdout",
     "output_type": "stream",
     "text": [
      "The energy per bit is 0.5\n"
     ]
    }
   ],
   "source": [
    "print(f\"The energy per bit is {energy_per_bit(QPSK)}\")"
   ]
  },
  {
   "cell_type": "markdown",
   "id": "e711ea78",
   "metadata": {
    "editable": true,
    "slideshow": {
     "slide_type": "subslide"
    },
    "tags": []
   },
   "source": [
    "#### Minimum Distance\n",
    "\n",
    "We are also interested in the square of the minimum distance $d_{min}$ between any pair of points in the constellation.\n",
    "$$\n",
    "d_{min} = \\min_{n,m, n\\neq m} |s[n]-s[m]|^2.\n",
    "$$"
   ]
  },
  {
   "cell_type": "code",
   "execution_count": 17,
   "id": "08fe1b28",
   "metadata": {
    "editable": true,
    "slideshow": {
     "slide_type": "fragment"
    },
    "tags": []
   },
   "outputs": [],
   "source": [
    "def min_dist_sq(mod_table):\n",
    "    \"\"\"compute the square of the minimum distance of the constellation\"\"\"\n",
    "    d_min = np.infty\n",
    "\n",
    "    for n, s in mod_table.items():\n",
    "        for m, v in mod_table.items():\n",
    "            # because of symmetry, we only need to check half of all pairs\n",
    "            if m <= n:\n",
    "                continue\n",
    "\n",
    "            d = np.abs(s - v)**2\n",
    "            d_min = d if (d < d_min) else d_min\n",
    "\n",
    "    return d_min"
   ]
  },
  {
   "cell_type": "code",
   "execution_count": 18,
   "id": "7cc80d67",
   "metadata": {
    "editable": true,
    "slideshow": {
     "slide_type": "fragment"
    },
    "tags": []
   },
   "outputs": [
    {
     "name": "stdout",
     "output_type": "stream",
     "text": [
      "The square of the minimum distance is: 2.00\n"
     ]
    }
   ],
   "source": [
    "print(f\"The square of the minimum distance is: {min_dist_sq(QPSK):4.2f}\")"
   ]
  },
  {
   "cell_type": "markdown",
   "id": "cfd2060b",
   "metadata": {
    "editable": true,
    "slideshow": {
     "slide_type": "subslide"
    },
    "tags": []
   },
   "source": [
    "#### Energy Efficiency\n",
    "\n",
    "The energy efficiency $\\eta$ indicates how much SNR is required to achieve a desired level of performance.\n",
    "$$\n",
    "    \\eta = \\frac{d_{min}^2}{E_b}.\n",
    "$$\n"
   ]
  },
  {
   "cell_type": "code",
   "execution_count": 19,
   "id": "f5d25952",
   "metadata": {
    "editable": true,
    "slideshow": {
     "slide_type": "fragment"
    },
    "tags": []
   },
   "outputs": [],
   "source": [
    "def energy_efficiency(mod_table):\n",
    "    \"Energy efficiency of constellation\"\n",
    "\n",
    "    return min_dist_sq(mod_table) / energy_per_bit(mod_table)"
   ]
  },
  {
   "cell_type": "code",
   "execution_count": 20,
   "id": "57a37be5",
   "metadata": {
    "editable": true,
    "slideshow": {
     "slide_type": "fragment"
    },
    "tags": []
   },
   "outputs": [
    {
     "name": "stdout",
     "output_type": "stream",
     "text": [
      "The energy efficiency is: 4.000\n"
     ]
    }
   ],
   "source": [
    "print(f\"The energy efficiency is: {energy_efficiency(QPSK):5.3f}\")"
   ]
  },
  {
   "cell_type": "markdown",
   "id": "7279bf4d",
   "metadata": {
    "editable": true,
    "slideshow": {
     "slide_type": "subslide"
    },
    "tags": []
   },
   "source": [
    "#### Average Number of Nearest Neighbors\n",
    "\n",
    "Finally, we are interested in the average number $N_{min}$ of neighbors at distance $d_{min}$.\n",
    "\n",
    "* this is required for the nearest-neighbor approximation to the symbol error rate."
   ]
  },
  {
   "cell_type": "code",
   "execution_count": 21,
   "id": "c1875a6e",
   "metadata": {
    "editable": true,
    "slideshow": {
     "slide_type": "fragment"
    },
    "tags": []
   },
   "outputs": [],
   "source": [
    "def N_min(mod_table):\n",
    "    \"Compute the average number of nearest neighbors\"\n",
    "\n",
    "    d_min_sq = min_dist_sq(mod_table)\n",
    "\n",
    "    N_min = 0\n",
    "    for n, s in mod_table.items():\n",
    "        for m, v in mod_table.items():\n",
    "            # because of symmetry, we only need to check half of all pairs\n",
    "            if m <= n:\n",
    "                continue\n",
    "\n",
    "            d_sq = np.abs(s - v)**2\n",
    "            if np.abs(d_min_sq - d_sq) < 1e-8:\n",
    "                N_min += 1 \n",
    "    \n",
    "    # multiply by 2, since we only visited half of all pairs\n",
    "    N_min *= 2 / len(mod_table)\n",
    "\n",
    "    return N_min"
   ]
  },
  {
   "cell_type": "code",
   "execution_count": 22,
   "id": "1b967ae8",
   "metadata": {
    "editable": true,
    "slideshow": {
     "slide_type": "fragment"
    },
    "tags": []
   },
   "outputs": [
    {
     "name": "stdout",
     "output_type": "stream",
     "text": [
      "The average number of nearest neighbors is: 2.00\n"
     ]
    }
   ],
   "source": [
    "print(f\"The average number of nearest neighbors is: {N_min(QPSK):4.2f}\")"
   ]
  },
  {
   "cell_type": "markdown",
   "id": "c56ecf66",
   "metadata": {
    "editable": true,
    "slideshow": {
     "slide_type": "subslide"
    },
    "tags": []
   },
   "source": [
    "#### Approximate Error Rate\n",
    "\n",
    "From the above properties we can compute the approximate **symbol error rate** via the nearest neighbor approximation\n",
    "$$\n",
    "    \\text{Pr}\\{\\text{symbol error}\\} \\approx N_{min} \\cdot Q(\\sqrt{\\frac{\\eta E_b}{2 N_0}})\n",
    "$$\n",
    "in terms of $E_b/N_0$."
   ]
  },
  {
   "cell_type": "code",
   "execution_count": 23,
   "id": "06c9580a",
   "metadata": {
    "editable": true,
    "slideshow": {
     "slide_type": "skip"
    },
    "tags": []
   },
   "outputs": [],
   "source": [
    "from scipy import special\n",
    "\n",
    "def Q(x):\n",
    "    \"\"\"Gaussian error integral\"\"\"\n",
    "    return 0.5 - 0.5*special.erf(x/np.sqrt(2))"
   ]
  },
  {
   "cell_type": "code",
   "execution_count": 24,
   "id": "cd827866",
   "metadata": {
    "editable": true,
    "slideshow": {
     "slide_type": "fragment"
    },
    "tags": []
   },
   "outputs": [],
   "source": [
    "def NN_Pr_symbol_error(mod_table, EbN0):\n",
    "    \"\"\"compute nearest-neighbor approximation for symbol error rate\"\"\"\n",
    "\n",
    "    NN = N_min(mod_table)\n",
    "    eta = energy_efficiency(mod_table)\n",
    "\n",
    "    return Q(np.sqrt(eta/2 * EbN0))"
   ]
  },
  {
   "cell_type": "code",
   "execution_count": 25,
   "id": "e78d4f78",
   "metadata": {
    "editable": true,
    "slideshow": {
     "slide_type": "fragment"
    },
    "tags": []
   },
   "outputs": [
    {
     "name": "stdout",
     "output_type": "stream",
     "text": [
      "The symbol error rate for Eb/N0 = 10 dB is approximately 3.9e-06\n"
     ]
    }
   ],
   "source": [
    "EbN0_dB = 10\n",
    "EbN0 = 10**(EbN0_dB/10)\n",
    "\n",
    "print(f\"The symbol error rate for Eb/N0 = {EbN0_dB} dB is approximately {NN_Pr_symbol_error(QPSK, EbN0):5.2g}\")"
   ]
  },
  {
   "cell_type": "markdown",
   "id": "d617f0e6",
   "metadata": {
    "editable": true,
    "slideshow": {
     "slide_type": "slide"
    },
    "tags": []
   },
   "source": [
    "## Modulation Mapper:\n",
    "\n",
    "* A modulation mapper uses a constellation look-up table to map groups of bits to symbols\n",
    "\n",
    "### Modulation Mapper Function\n",
    "\n",
    "* a modulation mapper takes $K=\\log_2(M)$ bits at a time and maps them to a symbol\n",
    "  + first the bits are converted to a integer\n",
    "  + this is very similar to `bits_to_byte`, except the number of bits is often not equal to 8.\n",
    "* then, the constellation lookup table is used to find the symbol that corresponds to the group of bits.\n",
    "\n",
    "Below are functions to convert $K$ bits to an integer and back."
   ]
  },
  {
   "cell_type": "code",
   "execution_count": 26,
   "id": "aced252c",
   "metadata": {
    "editable": true,
    "slideshow": {
     "slide_type": "subslide"
    },
    "tags": []
   },
   "outputs": [],
   "source": [
    "def bits_to_int(bits):\n",
    "    \" convert a sequence of bits to an integer\"\n",
    "    res = 0 \n",
    "    \n",
    "    for b in bits:\n",
    "        res = res << 1\n",
    "        res = res + b\n",
    "        \n",
    "    return res"
   ]
  },
  {
   "cell_type": "code",
   "execution_count": 27,
   "id": "0b983300",
   "metadata": {
    "editable": true,
    "slideshow": {
     "slide_type": "subslide"
    },
    "tags": []
   },
   "outputs": [
    {
     "name": "stdout",
     "output_type": "stream",
     "text": [
      "The bit sequence [1 0 1 1] corresponds to decimal 11\n"
     ]
    }
   ],
   "source": [
    "# Example:\n",
    "bits = np.array([1, 0, 1, 1], dtype=np.uint8)\n",
    "print( f\"The bit sequence {bits} corresponds to decimal {bits_to_int(bits)}\" )"
   ]
  },
  {
   "cell_type": "markdown",
   "id": "a7046166",
   "metadata": {
    "editable": true,
    "slideshow": {
     "slide_type": "subslide"
    },
    "tags": []
   },
   "source": [
    "We will also need the reverse function. This function must specify how many bits to produce."
   ]
  },
  {
   "cell_type": "code",
   "execution_count": 28,
   "id": "75ceee61",
   "metadata": {
    "editable": true,
    "slideshow": {
     "slide_type": "fragment"
    },
    "tags": []
   },
   "outputs": [],
   "source": [
    "def int_to_bits(nn, K):\n",
    "    \"\"\"Convert an integer to a sequence of K bits (MSB) first\"\"\"\n",
    "    # allocate memory for bits\n",
    "    bits = np.zeros(K, dtype=np.uint8)\n",
    "    \n",
    "    # define the mask\n",
    "    mask = 1 << (K-1)\n",
    "    \n",
    "    for k in range(K):\n",
    "        # extract the current MSB and store it\n",
    "        bits[k] = (nn & mask) >> (K-1)\n",
    "        # shift the bits by one position\n",
    "        nn = nn << 1\n",
    "        \n",
    "    return bits"
   ]
  },
  {
   "cell_type": "code",
   "execution_count": 29,
   "id": "b6d372e5",
   "metadata": {
    "editable": true,
    "slideshow": {
     "slide_type": "fragment"
    },
    "tags": []
   },
   "outputs": [
    {
     "name": "stdout",
     "output_type": "stream",
     "text": [
      "OK\n"
     ]
    }
   ],
   "source": [
    "K = 4\n",
    "for n in range(2**K):\n",
    "    assert bits_to_int( int_to_bits(n, K) ) == n\n",
    "    \n",
    "print('OK')"
   ]
  },
  {
   "cell_type": "markdown",
   "id": "8ff03534",
   "metadata": {
    "slideshow": {
     "slide_type": "subslide"
    }
   },
   "source": [
    "Now, we're ready for the modulation mapper itself!"
   ]
  },
  {
   "cell_type": "code",
   "execution_count": 30,
   "id": "67f7fe55",
   "metadata": {
    "editable": true,
    "slideshow": {
     "slide_type": "subslide"
    },
    "tags": []
   },
   "outputs": [],
   "source": [
    "def mod_mapper(bits, mod_table):\n",
    "    \"\"\"map a sequence of bits to a sequence of symbols\"\"\"\n",
    "    \n",
    "    # how many bits per symbol?\n",
    "    K = int( np.log2(len(mod_table)) )\n",
    "    \n",
    "    # how many symbols will we get?\n",
    "    N = len(bits) // K\n",
    "    syms = np.zeros(N, dtype=complex)\n",
    "    \n",
    "    for n in range(N):\n",
    "        key = bits_to_int(bits[K*n : K*(n+1)])\n",
    "        syms[n] = mod_table[key]\n",
    "        \n",
    "    return syms"
   ]
  },
  {
   "cell_type": "code",
   "execution_count": 31,
   "id": "e5a18db1",
   "metadata": {
    "editable": true,
    "slideshow": {
     "slide_type": "fragment"
    },
    "tags": []
   },
   "outputs": [
    {
     "data": {
      "text/plain": [
       "array([ 0.+1.j,  1.+0.j, -0.-1.j,  1.+0.j,  0.+1.j, -0.-1.j, -0.-1.j,\n",
       "        0.+1.j])"
      ]
     },
     "execution_count": 31,
     "metadata": {},
     "output_type": "execute_result"
    }
   ],
   "source": [
    "## Example\n",
    "string = \"Hi\"\n",
    "bits = string_source( string )\n",
    "mod_mapper( bits, QPSK )"
   ]
  },
  {
   "cell_type": "markdown",
   "id": "90fac15d",
   "metadata": {
    "editable": true,
    "slideshow": {
     "slide_type": "slide"
    },
    "tags": []
   },
   "source": [
    "### Channel: discrete Gaussian noise channel\n",
    "\n",
    "* Before implementing the demodulator, we provide a simple, but very relevant channel.\n",
    "  + The channel simulates the output of the matched filter\n",
    "  + the noise variance is $\\sigma^2 = N_0 \\cdot \\int |h(t)|^2 \\; dt$, where $h(t)$ is the impulse response of the matched filter.\n",
    "* Each transmitted symbol is corrupted by Gaussian noise\n",
    "  + the Gaussian noise values are simulated using a random number generator\n",
    "  + the noise has zero mean and\n",
    "  + variance `sigma_sq`\n",
    "* the function `dgnc` below, takes as inputs\n",
    "  + a sequence of symbols, and\n",
    "  + a value for `sigma_sq`\n",
    "* it returns a noisy sequence of symbols"
   ]
  },
  {
   "cell_type": "code",
   "execution_count": 32,
   "id": "b1e57c01",
   "metadata": {
    "editable": true,
    "slideshow": {
     "slide_type": "subslide"
    },
    "tags": []
   },
   "outputs": [],
   "source": [
    "def dgnc(symbols, sigma_sq):\n",
    "    \"\"\"discrete Gaussian noise channel\"\"\"\n",
    "    n_syms = len(symbols)\n",
    "    \n",
    "    if syms.dtype == complex:\n",
    "        noise = np.sqrt(sigma_sq/2) * (np.random.randn(n_syms) + 1j * np.random.randn(n_syms))\n",
    "    else:\n",
    "        noise = np.sqrt(sigma_sq) * np.random.randn(n_syms)\n",
    "    \n",
    "    return symbols + noise"
   ]
  },
  {
   "cell_type": "markdown",
   "id": "11ffb244",
   "metadata": {
    "editable": true,
    "slideshow": {
     "slide_type": "subslide"
    },
    "tags": []
   },
   "source": [
    "### Received symbols\n",
    "\n",
    "Let's see the impact that the noisy channel has on the transmitted symbols\n",
    "\n",
    "* we pass transmitted symbols through the channel, and\n",
    "* plot the received symbols in the complex plane\n",
    "  + true symbol locations are shown for reference"
   ]
  },
  {
   "cell_type": "code",
   "execution_count": 33,
   "id": "784ecff3",
   "metadata": {
    "slideshow": {
     "slide_type": "subslide"
    }
   },
   "outputs": [
    {
     "data": {
      "image/png": "[encoded data removed]",
      "text/plain": [
       "<Figure size 640x480 with 1 Axes>"
      ]
     },
     "metadata": {},
     "output_type": "display_data"
    }
   ],
   "source": [
    "# Transmitter\n",
    "string = \"Now is the time for all good men ...\"\n",
    "bits = string_source( string )\n",
    "syms = mod_mapper( bits, QPSK )\n",
    "\n",
    "# Channel\n",
    "sigma_sq = 0.05\n",
    "rec_syms = dgnc(syms, sigma_sq)\n",
    "\n",
    "# plot the constellation\n",
    "for k,v in QPSK.items():\n",
    "    plt.plot(v.real, v.imag, 'ro', label=f\"{k:02b}\")\n",
    "    plt.text(v.real, v.imag+0.05, f\"{k:02b}\", ha='center', va='bottom')\n",
    "\n",
    "# plot the received symbols\n",
    "plt.plot(rec_syms.real, rec_syms.imag, '.')\n",
    "\n",
    "plt.grid()\n",
    "plt.xlabel('real')\n",
    "plt.ylabel('imag')\n",
    "plt.axis('equal')\n",
    "plt.xlim(-1.2, 1.2)\n",
    "plt.ylim(-1.2, 1.2)\n",
    "#plt.legend()\n",
    "\n",
    "plt.show()"
   ]
  },
  {
   "cell_type": "markdown",
   "id": "27a7d06b",
   "metadata": {
    "slideshow": {
     "slide_type": "subslide"
    }
   },
   "source": [
    "* The noisy symbols are spread out around the transmitted signal locations.\n",
    "\n",
    "* Our final task is to try and recover the original string from the noisy symbols.\n",
    "\n",
    "* That is the task of the demodulator."
   ]
  },
  {
   "cell_type": "markdown",
   "id": "fbd6fcc8",
   "metadata": {},
   "source": [
    "### Demodulator\n",
    "\n",
    "* The demodulator finds the most likely transmitted symbol from the received symbols.\n",
    "* for each received symbol:\n",
    "  - find the symbol in the constellation that is **closest** to the received symbol\n",
    "  - the key ('bit pattern') for that symbol is inserted into the received sequence of bits\n",
    "\n",
    "**Note:** this function is very similar to `MPE_decision_rule`; it returns bits instead of symbols."
   ]
  },
  {
   "cell_type": "code",
   "execution_count": 34,
   "id": "b79e0c36",
   "metadata": {
    "slideshow": {
     "slide_type": "subslide"
    }
   },
   "outputs": [],
   "source": [
    "def demodulator(syms, mod_table):\n",
    "    \"\"\"Recover bit sequence from received symbols\"\"\"\n",
    "    # how many bits per symbol?\n",
    "    K = int( np.log2(len(mod_table)) )\n",
    "    \n",
    "    # how many bits will we get?\n",
    "    N = len(syms) * K\n",
    "    bits = np.zeros(N, dtype=np.uint8)\n",
    "\n",
    "    # put mod_table's symbol values and keys into a Numpy array\n",
    "    alphabet = np.array(list(mod_table.values()))\n",
    "    pattern = np.array(list(mod_table.keys()), dtype=int)\n",
    "    \n",
    "    # find the constellation point closest to received symbol\n",
    "    for n in range(len(syms)):\n",
    "        s = syms[n]\n",
    "        ind = np.argmin(np.abs(alphabet - s))\n",
    "        min_k = pattern[ind]\n",
    "                        \n",
    "        # the index of the closest symbol is integer `min_k`\n",
    "        # convert that to a sequence of K bits\n",
    "        bits[n*K : (n+1)*K] = int_to_bits(min_k, K)\n",
    "        \n",
    "    return bits\n",
    "            "
   ]
  },
  {
   "cell_type": "code",
   "execution_count": 35,
   "id": "1f9ba26f",
   "metadata": {
    "slideshow": {
     "slide_type": "subslide"
    }
   },
   "outputs": [
    {
     "data": {
      "text/plain": [
       "'Now is the time for all good men ...'"
      ]
     },
     "execution_count": 35,
     "metadata": {},
     "output_type": "execute_result"
    }
   ],
   "source": [
    "## Let's see if we can get the transmitted string back ...\n",
    "rec_bits = demodulator(rec_syms, QPSK)\n",
    "string_sink(rec_bits)"
   ]
  },
  {
   "cell_type": "markdown",
   "id": "f9aa0f75",
   "metadata": {
    "slideshow": {
     "slide_type": "slide"
    }
   },
   "source": [
    "## Putting it all together\n",
    "\n",
    "The code below shows off all the processing steps we have discussed so far.  \n",
    "\n",
    "We will build on this example as the semester progressess."
   ]
  },
  {
   "cell_type": "code",
   "execution_count": 36,
   "id": "94f69ca5",
   "metadata": {},
   "outputs": [],
   "source": [
    "## Define another constellation: BPSK\n",
    "BPSK = {0b0: 1,\n",
    "        0b1: -1}"
   ]
  },
  {
   "cell_type": "code",
   "execution_count": 37,
   "id": "ec7a5ef4",
   "metadata": {},
   "outputs": [
    {
     "data": {
      "text/plain": [
       "'ECE 632 is my favorite class'"
      ]
     },
     "execution_count": 37,
     "metadata": {},
     "output_type": "execute_result"
    }
   ],
   "source": [
    "## Transmitter:\n",
    "# Source\n",
    "string = \"ECE 632 is my favorite class\"\n",
    "bits = string_source(string)\n",
    "# Modulation mapper\n",
    "syms = mod_mapper(bits, BPSK)\n",
    "\n",
    "## Channel\n",
    "sigma_sq = 0.1\n",
    "rec_syms = dgnc(syms, sigma_sq)\n",
    "\n",
    "## Receiver\n",
    "# Demodulator\n",
    "rec_bits = demodulator(rec_syms, BPSK)\n",
    "# Sink\n",
    "string_sink(rec_bits)"
   ]
  }
 ],
 "metadata": {
  "celltoolbar": "Slideshow",
  "kernelspec": {
   "display_name": "Python 3 (ipykernel)",
   "language": "python",
   "name": "python3"
  },
  "language_info": {
   "codemirror_mode": {
    "name": "ipython",
    "version": 3
   },
   "file_extension": ".py",
   "mimetype": "text/x-python",
   "name": "python",
   "nbconvert_exporter": "python",
   "pygments_lexer": "ipython3",
   "version": "3.12.5"
  }
 },
 "nbformat": 4,
 "nbformat_minor": 5
}
