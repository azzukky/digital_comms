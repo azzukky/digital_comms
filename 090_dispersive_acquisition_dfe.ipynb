{
 "cells": [
  {
   "cell_type": "markdown",
   "metadata": {
    "slideshow": {
     "slide_type": "slide"
    }
   },
   "source": [
    "# DFE and Acquisition in Dispersive Channels\n",
    "\n",
    "We look at Decision Feedback Equalization and at how to acquire the preamble when the channel is dispersive.\n",
    "\n",
    "<a href=\"https://colab.research.google.com/github/bepepa/digital_comms/blob/master/090_dispersive_acquisition_dfe.ipynb\" target=\"_parent\"><img src=\"https://colab.research.google.com/assets/colab-badge.svg\" alt=\"Open In Colab\"/></a> (Executable notebook)\n",
    "\n",
    "<a href=\"https://nbviewer.org/format/slides/github/bepepa/digital_comms/blob/main/090_dispersive_acquisition_dfe.ipynb\"><img src=\"https://raw.githubusercontent.com/jupyter/design/master/logos/Badges/nbviewer_badge.svg\" alt=\"Render nbviewer\" /> </a> (read-only, slides view)"
   ]
  },
  {
   "cell_type": "code",
   "execution_count": 2,
   "metadata": {
    "slideshow": {
     "slide_type": "skip"
    }
   },
   "outputs": [],
   "source": [
    "## Boilerplate instructions for importing NumPy and Matplotlib\n",
    "# Import NumPy\n",
    "import numpy as np\n",
    "from scipy import signal\n",
    "from scipy.linalg import toeplitz\n",
    "\n",
    "from typing import Tuple\n",
    "\n",
    "# To plot pretty figures, use matplotlib\n",
    "%matplotlib inline\n",
    "import matplotlib as mpl\n",
    "import matplotlib.pyplot as plt\n",
    "mpl.rc('axes', labelsize=14)\n",
    "mpl.rc('xtick', labelsize=12)\n",
    "mpl.rc('ytick', labelsize=12)\n",
    "\n",
    "# the next cells, repeat code from earlier notebooks. It would be better to import these but\n",
    "# then the notebook is no longer self-contained"
   ]
  },
  {
   "cell_type": "code",
   "execution_count": 3,
   "metadata": {
    "slideshow": {
     "slide_type": "skip"
    }
   },
   "outputs": [],
   "source": [
    "def random_symbols(A, N):\n",
    "    \"\"\"generate random symbols from the constallation A\n",
    "    \n",
    "    Inputs:\n",
    "    A - np.ndarray of symbols in constellation, e.g., A = np.array([1, -1]) for BPSK\n",
    "    N - number of random symbols to produce\n",
    "\n",
    "    Returns:\n",
    "    Numpy array of length N\n",
    "    \"\"\"\n",
    "    return A[np.random.randint(len(A), size=N)]"
   ]
  },
  {
   "cell_type": "code",
   "execution_count": 4,
   "metadata": {
    "slideshow": {
     "slide_type": "skip"
    }
   },
   "outputs": [],
   "source": [
    "def pulse_shape(symbols, pulse, fsT):\n",
    "    \"\"\"Generate a pulse-shaped QAM signal\n",
    "    \n",
    "    Inputs:\n",
    "    symbols - a sequence of information symbols; rate 1/T\n",
    "    pulse - sampled pulse shape; rate fsT/T\n",
    "    fsT - samples per symbol period\n",
    "\n",
    "    Returns:\n",
    "    Numpy array with fsT*(len(symbols) - 1) + len(pulse)  samples\n",
    "    \"\"\"\n",
    "    # step 1: upsample the symbol sequence\n",
    "    up_symbols = np.zeros(fsT * (len(symbols) - 1) + 1, dtype=symbols.dtype)\n",
    "    up_symbols[::fsT] = symbols\n",
    "\n",
    "    # step 2: filter\n",
    "    return np.convolve(up_symbols, pulse)"
   ]
  },
  {
   "cell_type": "code",
   "execution_count": 5,
   "metadata": {
    "slideshow": {
     "slide_type": "skip"
    }
   },
   "outputs": [],
   "source": [
    "def pop_count32(x: np.uint32) -> np.uint8:\n",
    "    \"\"\"count the number of 1s in 32-bit integer x using Wegner's method\n",
    "    \n",
    "    Inputs:\n",
    "    x - a 32 bit integer\n",
    "\n",
    "    Returns:\n",
    "    an integer between 0 and 32 indicating the number of 1s in x\n",
    "    \"\"\"\n",
    "    \n",
    "    count: np.uint8 = 0\n",
    "    \n",
    "    while (x > 0):\n",
    "        x = x & (x-1)\n",
    "        count += 1\n",
    "        \n",
    "    return count"
   ]
  },
  {
   "cell_type": "code",
   "execution_count": 6,
   "metadata": {
    "slideshow": {
     "slide_type": "skip"
    }
   },
   "outputs": [],
   "source": [
    "def lfsr_step(state: np.uint32, fb: np.uint32, N: int = 31) -> Tuple[np.uint8, np.uint32]:\n",
    "    \"\"\"Single update step of LFSR with feedback connections fb\n",
    "    \n",
    "    Inputs:\n",
    "    * state (uint32): initial state of the feedback shift register\n",
    "    * fb (uint32): bit map indicating feedback connections; the LSB corresponds to bit 0 in the LFSR\n",
    "    * N (int) order if the LFSR; must be less than 32 (default: 31)\n",
    "    \n",
    "    Returns:\n",
    "    * elem - next element of the LFSR sequence\n",
    "    * state - updated state\n",
    "    \n",
    "    Example: Generate the first 10 elements of a LFSR sequence with fb=0b1001 and initial state=0b1111\n",
    "    >>> state = 0b1111\n",
    "    >>> seq = np.empty(10, dtype=np.uint8)\n",
    "    >>> for n in range(10):\n",
    "    >>>     seq[n], state = lfsr31_step(state, 0b1001)\n",
    "    >>> seq\n",
    "    \n",
    "    array([1, 1, 1, 1, 0, 0, 0, 0, 0, 0], dtype=uint8)\n",
    "    \"\"\"\n",
    "    \n",
    "    # save the LSB before updating state; it will be returned\n",
    "    elem: np.uint8 = state & 0b1\n",
    "        \n",
    "    # update state\n",
    "    fb_vec: np.uint32 = state & fb\n",
    "    fb_bit: np.uint8 = (pop_count32(fb_vec) & 0b1)\n",
    "    \n",
    "    # insert feedback bit at position N, then shift\n",
    "    state = (state | fb_bit << N) >> 1\n",
    "    \n",
    "    return elem, state"
   ]
  },
  {
   "cell_type": "code",
   "execution_count": 7,
   "metadata": {
    "slideshow": {
     "slide_type": "skip"
    }
   },
   "outputs": [],
   "source": [
    "def lfsr(init: np.uint32, fb: np.uint32, M: int, N: int = 31, Nc:int = 0):\n",
    "    \"\"\"Compute M samples of a LFSR sequence\n",
    "    \n",
    "    Inputs:\n",
    "    init - initial state of the LFSR\n",
    "    fb - feedback connection for the LFSR\n",
    "    M - number of samples to generate\n",
    "    N - order of the LFSR (default: 31)\n",
    "    Nc - statrting sample (default 0)\n",
    "\n",
    "    Returns:\n",
    "    length-M vector of bits (stored as np.uint8)\n",
    "    \"\"\"\n",
    "    seq = np.empty(M, dtype=np.uint8)\n",
    "\n",
    "    state = init\n",
    "\n",
    "    for n in range(Nc):\n",
    "        _, state = lfsr_step(state, fb, N)          # discard the first Nc\n",
    "\n",
    "    for n in range(M):  \n",
    "        seq[n], state = lfsr_step(state, fb, N)     # keep the next Mc\n",
    "\n",
    "    return seq"
   ]
  },
  {
   "cell_type": "markdown",
   "metadata": {
    "slideshow": {
     "slide_type": "slide"
    }
   },
   "source": [
    "## DFE\n",
    "\n",
    "The DFE adds a second filter to the equalizer. The feedback filter cancels out the ISI from past symbols.\n",
    "\n",
    "The outputs of the two filters are combined to produce the symbol-rate signal $y[m]$, which is input to the decision device. \n",
    "\n",
    "The signal $y[m]$ is given by\n",
    "$$\n",
    "      y[m] =  \\vec{v}^H \\cdot \\vec{r}[mM] +  \\vec{v}_b^H \\cdot \\vec{\\hat{s}}[m].\n",
    "$$\n",
    "where $\\vec{r}[mM]$ is a length $K_f$ vector of received samples starting at $mM$ and $\\vec{\\hat{s}}[m]$ is a vector of $K_b$ decisions prior to $m$.\n",
    "\n",
    "We can combine the two summands\n",
    "$$\n",
    "      y[m] = \\left[ \\vec{v}, \\vec{v}_b \\right]^H \\cdot\n",
    "      \\left[ \\vec{r}[mM],  \\vec{\\hat{s}}[m] \\right] =\n",
    "      \\langle \\vec{r}_{\\text{DFE}}[m], \\vec{v}_{\\text{DFE}} \\rangle.\n",
    "$$\n",
    "\n",
    "Adaptation of the combined weight vector works exactly like for the linear equalizer. The objective function to minimize is\n",
    "$$\n",
    "      J_n(\\vec{v}) = \\sum_{m=0}^{n} \\lambda^{n-m} |e[m]|^2 =\n",
    "      \\sum_{m=0}^n \\lambda^{n-m} |s_m - \\vec{v}_{\\text{DFE}}^H \\cdot \\vec{r}_{\\text{DFE}}[mM]|^2.\n",
    "$$"
   ]
  },
  {
   "cell_type": "markdown",
   "metadata": {
    "slideshow": {
     "slide_type": "slide"
    }
   },
   "source": [
    "### LMS Adaptation\n",
    "\n",
    "The combined weight vector can be adapted as for the linear equalizer.\n",
    "\n",
    "LMS Update:\n",
    "$$\n",
    "      \\vec{v}_n = \\vec{v}_{n-1} + \\mu \\vec{r}_{\\text{DFE}}[nM] \\cdot e^*[n].\n",
    "$$\n",
    "where the error signal $e[n]$ is \n",
    "$$\n",
    "e[n] = s_n - \\vec{v}_{\\text{DFE}}^H \\cdot \\vec{r}_{\\text{DFE}}[mM].\n",
    "$$"
   ]
  },
  {
   "cell_type": "code",
   "execution_count": 35,
   "metadata": {
    "slideshow": {
     "slide_type": "subslide"
    }
   },
   "outputs": [],
   "source": [
    "class LMS():\n",
    "    \"\"\"class for carrying out the LMS algorithm\"\"\"\n",
    "\n",
    "    def __init__(self, Kf, Kb, mu=0.5):\n",
    "        self.Kf = Kf       # length of FF filter\n",
    "        self.Kb = Kb       # <-- lengh of FB filter\n",
    "        self.mu = mu       # forgetting factor\n",
    "\n",
    "        self.v = np.zeros(Kf+Kb, dtype=complex)\n",
    "        self.alpha = 0.1      # small positive constant\n",
    "\n",
    "        self.sr = np.zeros(Kb, dtype=complex)  # <-- store recent decisions\n",
    "\n",
    "    def update(self, vec_r, sym):\n",
    "        \"\"\"RLS recursion, returns updated weight vector\"\"\"\n",
    "        # error\n",
    "        e = sym - self.equalize(vec_r)\n",
    "\n",
    "        # update weight vector\n",
    "        scale = self.mu / (self.alpha + vec_r.conj() @ vec_r)\n",
    "        # scale = self.mu\n",
    "        self.v += np.concatenate( (vec_r, self.sr) ) * e.conj() * scale \n",
    "\n",
    "        if self.Kb > 0:\n",
    "            self.sr[:] = np.concatenate((self.sr[1:], [sym])) # <-- store new symbol\n",
    "\n",
    "        return self.v\n",
    "\n",
    "    def equalize(self, vec_r):\n",
    "        \"\"\"compute equalizer output\"\"\"\n",
    "        \n",
    "        tmp = np.concatenate( (vec_r, self.sr) )  # <--- work BOTH filters\n",
    "        return self.v.conj() @ tmp"
   ]
  },
  {
   "cell_type": "code",
   "execution_count": 86,
   "metadata": {
    "slideshow": {
     "slide_type": "subslide"
    }
   },
   "outputs": [],
   "source": [
    "## generate a QPSK signal\n",
    "fsT = 2\n",
    "N = 1000\n",
    "A = np.exp(1j*np.pi/4*np.arange(1, 8, 2)) # QPSK alphabet\n",
    "\n",
    "syms = random_symbols(A, N)\n",
    "\n",
    "## dispersive channel\n",
    "ca = np.array([0.1,  -0.3j, 0, 1,  0, 0.3j, 0, 0, 0.2-0.7j, 0, 0, 0.1j])\n",
    "sig = pulse_shape(syms, ca, fsT)\n",
    "\n",
    "SNR_db = 20\n",
    "SNR = 10**(SNR_db/10)\n",
    "\n",
    "# received signal\n",
    "rra = sig + 1/(np.sqrt(2*SNR))*(np.random.randn(len(sig)) + 1j*np.random.randn(len(sig)))\n"
   ]
  },
  {
   "cell_type": "code",
   "execution_count": 87,
   "metadata": {
    "slideshow": {
     "slide_type": "subslide"
    }
   },
   "outputs": [],
   "source": [
    "## measure MSE for different training lengths Nt\n",
    "Kf = 24    # length of FF filter\n",
    "mu = 0.5\n",
    "Kb = 2     # length of FB filter\n",
    "\n",
    "Nt = np.arange(0, 200, 4)\n",
    "MSE_L = np.zeros_like(Nt, dtype=float)\n",
    "\n",
    "for n in range(len(Nt)):\n",
    "    this_Nt = Nt[n]\n",
    "\n",
    "    # instantiate RLS\n",
    "    lms = LMS(Kf, Kb, mu)\n",
    "    \n",
    "    Nm = 0\n",
    "    m = 3\n",
    "    while m*fsT + K < len(rra) and m < len(syms):\n",
    "        vec_r = rra[m*fsT : m*fsT+K]\n",
    "\n",
    "        if m <= this_Nt:\n",
    "            # training\n",
    "            lms.update(vec_r, syms[m])\n",
    "        else:\n",
    "            # equalize\n",
    "            MSE_L[n] += np.abs(syms[m] - lms.equalize(vec_r))**2\n",
    "            Nm += 1\n",
    "\n",
    "        m += 1\n",
    "\n",
    "    MSE_L[n] = MSE_L[n]/Nm"
   ]
  },
  {
   "cell_type": "code",
   "execution_count": 88,
   "metadata": {
    "slideshow": {
     "slide_type": "subslide"
    }
   },
   "outputs": [
    {
     "data": {
      "image/png": "[encoded data removed]",
      "text/plain": [
       "<Figure size 432x288 with 1 Axes>"
      ]
     },
     "metadata": {
      "needs_background": "light"
     },
     "output_type": "display_data"
    }
   ],
   "source": [
    "plt.semilogy(Nt, MSE_L, label=\"LMS\")\n",
    "plt.grid()\n",
    "\n",
    "plt.xlabel('Number of Training Symbols $N_t$')\n",
    "plt.ylabel('MSE')\n",
    "plt.legend()\n",
    "\n",
    "plt.show()"
   ]
  },
  {
   "cell_type": "markdown",
   "metadata": {
    "slideshow": {
     "slide_type": "slide"
    }
   },
   "source": [
    "### RLS Update\n",
    "\n",
    "Similarly, the RLS updates are given by:\n",
    "\n",
    "$$\n",
    "      \\vec{v}_{\\text{DFE},n} = \\vec{v}_{\\text{DFE},n-1} +\n",
    "      \\frac{e^*[n] \\mathbf{R}_{n-1}^{-1} \\vec{r}_{\\text{DFE}}[nM]}\n",
    "      {\\lambda + \\vec{r}_{\\text{DFE}}^H[nM]\\mathbf{R}_{n-1}^{-1} \\vec{r}_{\\text{DFE}}[nM]},\n",
    "$$\n",
    "\n",
    "and\n",
    "\n",
    "$$\n",
    "       \\mathbf{R}_n^{-1} = \\frac{1}{\\lambda} \\mathbf{R}_{n-1}^{-1} +\n",
    "      \\frac{(\\frac{1}{\\lambda}\\mathbf{R}_{n-1}^{-1} \\vec{r}_{\\text{DFE}}[nM])\n",
    "        (\\frac{1}{\\lambda}\\mathbf{R}_{n-1}^{-1} \\vec{r}_{\\text{DFE}}[nM])^H}\n",
    "      {1 + \\vec{r}_{\\text{DFE}}[nM]^H(\\frac{1}{\\lambda}\\mathbf{R}_{n-1}^{-1} \\vec{r}_{\\text{DFE}}[nM])}.\n",
    "$$\n"
   ]
  },
  {
   "cell_type": "code",
   "execution_count": 46,
   "metadata": {
    "slideshow": {
     "slide_type": "subslide"
    }
   },
   "outputs": [],
   "source": [
    "class RLS():\n",
    "    \"\"\"class for carrying out the RLS algorithm\n",
    "    \n",
    "    This class implements the RLS algorithm for a linear or DFE equalizer.\n",
    "\n",
    "    It has the following parameters:\n",
    "    - Kf: length of feedforward filter\n",
    "    - Kb: length of feedback filter, set to 0 for linear equalizer\n",
    "    - fsT: oversampling factor for FF filter\n",
    "    - lam: forgetting factor (0 < lamda <= 1)\n",
    "\n",
    "    The RLS class provides two methods:\n",
    "    - update: computes updated weights based on the difference between the eualizer output and the symbol decision\n",
    "    - equalize: computes the equalizer output\n",
    "    both methods are invoked once per symbol period.\n",
    "\n",
    "    The order of invocation must be: equalize -> decision -> update\n",
    "    \"\"\"\n",
    "\n",
    "    def __init__(self, Kf: int, Kb: int, fsT: int, lam:float = 1.) -> None:\n",
    "        self.Kf = Kf       # length of FF filter\n",
    "        self.Kb = Kb       # length of FB filter\n",
    "        self.M = fsT       # oversampling factor for FF filter\n",
    "        self.lam = lam     # forgetting factor\n",
    "\n",
    "        self.R_inv = 1*np.eye(Kf+Kb, dtype=complex)  # inverse of auto-correlation matrix\n",
    "        self.v = np.zeros(Kf+Kb, dtype=complex)      # weight vector\n",
    "\n",
    "        ## shift register holds both recent samples and recent training symbols (or decsions)\n",
    "        # the received samples are stored in the first Kf positions, the symbols are stored in the \n",
    "        # final Kb positions\n",
    "        self.sr = np.zeros(Kb, dtype=complex)\n",
    "\n",
    "\n",
    "    def update(self, vec_rr, sym):\n",
    "        \"\"\"RLS recursion, returns updated weight vector\n",
    "\n",
    "        Inputs:\n",
    "        - vec_rr - vector of samples\n",
    "        - sym - the most recent training symbol or decision\n",
    "\n",
    "        Returns:\n",
    "        - updated weight vector\n",
    "\n",
    "        Updates:\n",
    "        all state variables are updated with the RLS algorithm \n",
    "        \n",
    "        \"\"\"\n",
    "        # error\n",
    "        e = sym - self.equalize(vec_rr)\n",
    "\n",
    "        # compute R_inv * vec_r\n",
    "        tmp = np.concatenate((vec_rr, self.sr))\n",
    "        vec_g = self.R_inv @ np.expand_dims(tmp, 1)\n",
    "\n",
    "        # update R_inv\n",
    "        denom = (self.lam + tmp.conj() @ vec_g)\n",
    "        self.R_inv = 1/self.lam * (self.R_inv - \n",
    "                    vec_g @ vec_g.conj().T / denom)\n",
    "\n",
    "        # update weight vector\n",
    "        self.v += np.squeeze(vec_g) * e.conj()/denom\n",
    "\n",
    "        # update the shift register that holds decisions\n",
    "        if self.Kf > 0:\n",
    "            self.sr[:] = np.concatenate((self.sr[1:], [sym]))\n",
    "\n",
    "        return self.v\n",
    "\n",
    "    def equalize(self, vec_rr):\n",
    "        \"\"\"compute equalizer output\n",
    "        \n",
    "        Inputs:\n",
    "        vec_rr - vector of samples\n",
    "\n",
    "        Returns:\n",
    "        - equalizer output\n",
    "\n",
    "        Updates:\n",
    "        the state of the equalizer is unchanged\n",
    "        \"\"\"\n",
    "        tmp = np.concatenate((vec_rr, self.sr))\n",
    "        \n",
    "        return self.v.conj() @ tmp"
   ]
  },
  {
   "cell_type": "code",
   "execution_count": 91,
   "metadata": {
    "slideshow": {
     "slide_type": "subslide"
    }
   },
   "outputs": [],
   "source": [
    "## Test RLS equalizer\n",
    "Kf = 8*fsT\n",
    "Kb = 0\n",
    "lam = 0.99\n",
    "\n",
    "Nt = np.arange(0, 200, 4)\n",
    "MSE = np.zeros_like(Nt, dtype=float)\n",
    "\n",
    "for n in range(len(Nt)):\n",
    "    this_Nt = Nt[n]\n",
    "\n",
    "    # instantiate RLS\n",
    "    rls = RLS(Kf, Kb, fsT, lam)\n",
    "    \n",
    "    Nm = 0\n",
    "    m = 0\n",
    "    while  m*fsT+Kf < len(rra) and m < len(syms):\n",
    "        # vec_r = rra[m*fsT : m*fsT+K]\n",
    "        vec_r = rra[m*fsT : m*fsT+Kf]\n",
    "\n",
    "        if m <= this_Nt:\n",
    "            # training\n",
    "            v = rls.update(vec_r, syms[m])\n",
    "        else:\n",
    "            # equalize\n",
    "            MSE[n] += np.abs(syms[m] - rls.equalize(vec_r))**2\n",
    "            Nm += 1\n",
    "\n",
    "        m += 1\n",
    "\n",
    "    MSE[n] = MSE[n]/Nm"
   ]
  },
  {
   "cell_type": "code",
   "execution_count": 92,
   "metadata": {},
   "outputs": [
    {
     "data": {
      "image/png": "[encoded data removed]",
      "text/plain": [
       "<Figure size 432x288 with 1 Axes>"
      ]
     },
     "metadata": {
      "needs_background": "light"
     },
     "output_type": "display_data"
    }
   ],
   "source": [
    "plt.semilogy(Nt, MSE, label=\"RLS\")\n",
    "plt.grid()\n",
    "\n",
    "plt.xlabel('Number of Training Symbols $N_t$')\n",
    "plt.ylabel('MSE')\n",
    "plt.legend()\n",
    "\n",
    "plt.show()"
   ]
  },
  {
   "cell_type": "markdown",
   "metadata": {
    "slideshow": {
     "slide_type": "slide"
    }
   },
   "source": [
    "##  Detection in Dispersive Channels\n",
    "\n",
    "When the channel is dispersive, the detection of the preamble is not obvious. The correlation between the received signal and the preamble sequence will have multiple peaks. The peaks are reflective of the impulse repsonse of the channel.\n",
    "\n",
    "Recall that we modeled the received signal as \n",
    "$$\n",
    "    \\vec{r}[k] = \\mathbf{S} \\vec{c} + \\vec{N}.\n",
    "$$\n",
    "\n",
    "We will use this model to detect the preamble. For that purpose:\n",
    "* $\\vec{r}[k]$ is the vector of received samples starting at sample index $k$; the length of this vector is equal to the length $NM$ of the preamble in sample periods.\n",
    "* $\\mathbf{S}$ is the Toeplitz matrix construted from the symbols of the preamble sequence. It has $NM$ rows and $LM$ columns, where $L$ is the delay spread of the channel in symbol periods.\n",
    "* $\\vec{c}$ is the unknown channel impulse response.\n",
    "\n",
    "The detection problem (if $\\vec{c}$ were known) is\n",
    "$$\n",
    "    \\hat{k} = \\arg \\min \\|\\vec{r}[k] - \\mathbf{SS} \\vec{c}\\|^2.\n",
    "$$\n",
    "\n",
    "Since $\\vec{c}$ is not known, we replace it with its maximum likelihood estimate:\n",
    "$$\n",
    "    \\hat{c} = (\\mathbf{S}^H\\mathbf{S})^{-1}\\mathbf{S}^H\\vec{r}[k].\n",
    "$$\n",
    "\n",
    "Then, the detection criterion becomes\n",
    "$$\n",
    "\\hat{k} = \\arg \\min \\|\\vec{r}[k] - \\mathbf{S}(\\mathbf{S}^H\\mathbf{S})^{-1}\\mathbf{S}^H\\vec{r}[k]\\|^2.\n",
    "$$\n",
    "\n",
    "I.e., the criterion compares $\\vec{r}[k]$ and the projection of $\\vec{r}[k]$ into the suspace spanned by the preamble sequence.\n",
    "\n",
    "In practice, a detection occurs at time $k$ when\n",
    "$$\n",
    "    \\rho[k] = \\frac{\\| \\mathbf{S}(\\mathbf{S}^H\\mathbf{S})^{-1}\\mathbf{S}^H\\vec{r}[k] \\|^2}\n",
    "    {\\|\\vec{r}[k]\\|^2} > \\gamma\n",
    "$$\n",
    "where $0< \\gamma \\leq 1$ is a suitably chose threshold.\n",
    "\n",
    "**Note:** The matrix $\\mathbf{S}$ contains many zeros. This can be exploited to reduce the computational complexity of teh expression above. Similarly, the matrix product $\\mathbf{S}^H\\mathbf{S}$ will be strongly diagonal for a good preamble sequence which can be further exploited. "
   ]
  },
  {
   "cell_type": "code",
   "execution_count": 93,
   "metadata": {
    "slideshow": {
     "slide_type": "subslide"
    }
   },
   "outputs": [],
   "source": [
    "## preamble signal\n",
    "Np = 31      # length of preamble\n",
    "fb = 5      # LFSR feedback\n",
    "\n",
    "Ap = np.array([1.0, -1.0], dtype=complex) # BPSK for preamble\n",
    "pn = Ap[lfsr(1, fb, Np, 5)]"
   ]
  },
  {
   "cell_type": "code",
   "execution_count": 56,
   "metadata": {
    "slideshow": {
     "slide_type": "subslide"
    }
   },
   "outputs": [],
   "source": [
    "## construct preamble followed by signal\n",
    "A = np.exp(1j*np.pi/4*np.arange(1, 8, 2)) # QPSK alphabet\n",
    "\n",
    "N = 100\n",
    "syms = random_symbols(A, N)\n",
    "\n",
    "## dispersive channel\n",
    "fsT = 2\n",
    "ca = np.array([0.1,  -0.3j, 0, 1,  0, 0.3j, 0, 0, 0.2-0.7j, 0, 0, 0.1j])\n",
    "sig = pulse_shape(np.concatenate((pn,syms)), ca, fsT)\n",
    "\n",
    "SNR_db = 20\n",
    "SNR = 10**(SNR_db/10)\n",
    "\n",
    "delay = 31\n",
    "sig = np.concatenate((np.zeros(delay, dtype=complex), sig))\n",
    "\n",
    "# frequency offset\n",
    "f_off = 0.002\n",
    "sig = sig * np.exp(2j*np.pi*f_off*np.arange(len(sig)))\n",
    "\n",
    "# received signal\n",
    "rr = sig + 1/(np.sqrt(2*SNR))*(np.random.randn(len(sig)) + 1j*np.random.randn(len(sig)))\n"
   ]
  },
  {
   "cell_type": "markdown",
   "metadata": {
    "slideshow": {
     "slide_type": "subslide"
    }
   },
   "source": [
    "The matrix $\\mathbf{S}$ can be pre-computed from the preamble symbols."
   ]
  },
  {
   "cell_type": "code",
   "execution_count": 57,
   "metadata": {
    "slideshow": {
     "slide_type": "subslide"
    }
   },
   "outputs": [],
   "source": [
    "## construct the matrix SS\n",
    "sc = np.zeros(Np*fsT, dtype=complex)\n",
    "sc[::fsT] = pn\n",
    "\n",
    "sr = np.zeros_like(ca)\n",
    "sr[0] = pn[0]\n",
    "\n",
    "SS = toeplitz(sc, sr)\n",
    "\n",
    "## compute the projection matrix for SS\n",
    "SSp = SS @ np.linalg.pinv(SS)"
   ]
  },
  {
   "cell_type": "markdown",
   "metadata": {
    "slideshow": {
     "slide_type": "slide"
    }
   },
   "source": [
    "Now we can compute $\\rho[k]$ for sample indices $k$. Usually this would be done in a loop that terminates once the threshold $\\gamma$ is breached."
   ]
  },
  {
   "cell_type": "code",
   "execution_count": 74,
   "metadata": {
    "slideshow": {
     "slide_type": "subslide"
    }
   },
   "outputs": [
    {
     "name": "stdout",
     "output_type": "stream",
     "text": [
      "The maximum of rho occurs at k = 31 (true delay: 31)\n"
     ]
    }
   ],
   "source": [
    "rho = np.zeros(100)\n",
    "\n",
    "for m in range(100):\n",
    "    this_rr = np.expand_dims(rr[m:m+62], 1)\n",
    "    rp = SSp @ this_rr\n",
    "\n",
    "    tmp = np.squeeze( (rp.conj().T @ rp) /  (this_rr.conj().T @ this_rr) )\n",
    "    rho[m] = np.real(tmp)\n",
    "\n",
    "print(\"The maximum of rho occurs at k = {:d} (true delay: {:d})\".format(np.argmax(rho), delay))"
   ]
  },
  {
   "cell_type": "code",
   "execution_count": 75,
   "metadata": {
    "slideshow": {
     "slide_type": "subslide"
    }
   },
   "outputs": [
    {
     "data": {
      "image/png": "[encoded data removed]",
      "text/plain": [
       "<Figure size 432x288 with 1 Axes>"
      ]
     },
     "metadata": {
      "needs_background": "light"
     },
     "output_type": "display_data"
    }
   ],
   "source": [
    "plt.plot(rho)\n",
    "plt.grid()\n",
    "plt.xlabel('$k$')\n",
    "plt.ylabel(r'$\\rho[k]$')\n",
    "plt.show()"
   ]
  },
  {
   "cell_type": "markdown",
   "metadata": {
    "slideshow": {
     "slide_type": "slide"
    }
   },
   "source": [
    "### Estimating the Frequency Offset\n",
    "\n",
    "We have been able to locate the start of the preamble at sample $k=31$. \n",
    "\n",
    "Since the preamble sequence contains 31 symbols sampled at 2 samples per symbol, the preamble contains 62 samples.\n",
    "\n",
    "The projection of $\\vec{r}$ into the subspace spanned by $\\mathbf{S}$ is  \n",
    "$$\n",
    "\\vec{\\hat{r}}[k] = \\mathbf{S}(\\mathbf{S}^H\\mathbf{S})^{-1}\\mathbf{S}^H\\vec{r}[k] = \\mathbf{S} \\vec{\\hat{c}}.\n",
    "$$\n",
    "\n",
    "Since $\\vec{\\hat{c}}$ is constant, it cannnot reflect the frequency offset in the received signal.\n",
    "\n",
    "This suggest that we can estimate the frequency offset from the phase difference between $\\vec{\\hat{r}}$ and $\\vec{r}$."
   ]
  },
  {
   "cell_type": "code",
   "execution_count": 79,
   "metadata": {
    "slideshow": {
     "slide_type": "subslide"
    }
   },
   "outputs": [],
   "source": [
    "## project the received preamble samples onto the space spanned by S\n",
    "d = np.argmax(rho) \n",
    "L = len(pn)*fsT\n",
    "\n",
    "# projection\n",
    "rrp = np.squeeze( SSp @ np.expand_dims(rr[d:d+L], 1) )"
   ]
  },
  {
   "cell_type": "code",
   "execution_count": 81,
   "metadata": {
    "slideshow": {
     "slide_type": "subslide"
    }
   },
   "outputs": [
    {
     "data": {
      "image/png": "[encoded data removed]",
      "text/plain": [
       "<Figure size 432x288 with 1 Axes>"
      ]
     },
     "metadata": {
      "needs_background": "light"
     },
     "output_type": "display_data"
    }
   ],
   "source": [
    "## compute and plot the phase difference between projection and signal\n",
    "plt.plot(np.angle(rrp.conj() * rr[d:d+L])/np.pi)\n",
    "plt.grid()\n",
    "\n",
    "plt.ylabel('phase difference (rad/$\\pi$)')\n",
    "plt.show()"
   ]
  },
  {
   "cell_type": "code",
   "execution_count": 85,
   "metadata": {
    "slideshow": {
     "slide_type": "subslide"
    }
   },
   "outputs": [
    {
     "name": "stdout",
     "output_type": "stream",
     "text": [
      "Estimated frequency offset: 0.0018 (true: 0.0020)\n"
     ]
    }
   ],
   "source": [
    "## estimate the frequency error\n",
    "# since phase error is erratice at the start, we skip the first few samples\n",
    "skip = 12\n",
    "\n",
    "pd = np.angle(rrp.conj() * rr[d:d+L])\n",
    "f_est = (pd[-1] - pd[skip]) / (L-skip) / (2*np.pi)\n",
    "\n",
    "print(\"Estimated frequency offset: {:6.4f} (true: {:6.4f})\".format(f_est, f_off))\n"
   ]
  },
  {
   "cell_type": "code",
   "execution_count": null,
   "metadata": {},
   "outputs": [],
   "source": []
  }
 ],
 "metadata": {
  "celltoolbar": "Slideshow",
  "kernelspec": {
   "display_name": "Python 3 (ipykernel)",
   "language": "python",
   "name": "python3"
  },
  "language_info": {
   "codemirror_mode": {
    "name": "ipython",
    "version": 3
   },
   "file_extension": ".py",
   "mimetype": "text/x-python",
   "name": "python",
   "nbconvert_exporter": "python",
   "pygments_lexer": "ipython3",
   "version": "3.9.15"
  },
  "vscode": {
   "interpreter": {
    "hash": "5984c07bd85a09704efeebc43c280456997f3d9e1810f10980d19f89f173e200"
   }
  }
 },
 "nbformat": 4,
 "nbformat_minor": 2
}
