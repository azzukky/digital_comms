{
 "cells": [
  {
   "cell_type": "markdown",
   "metadata": {
    "slideshow": {
     "slide_type": "slide"
    }
   },
   "source": [
    "# DFE and Acquisition in Dispersive Channels\n",
    "\n",
    "We look at Decision Feedback Equalization and at how to acquire the preamble when the channel is dispersive.\n",
    "\n",
    "<a href=\"https://colab.research.google.com/github/bepepa/digital_comms/blob/master/090_dispersive_acquisition_dfe.ipynb\" target=\"_parent\"><img src=\"https://colab.research.google.com/assets/colab-badge.svg\" alt=\"Open In Colab\"/></a> (Executable notebook)\n",
    "\n",
    "<a href=\"https://nbviewer.org/format/slides/github/bepepa/digital_comms/blob/main/090_dispersive_acquisition_dfe.ipynb\"><img src=\"https://raw.githubusercontent.com/jupyter/design/master/logos/Badges/nbviewer_badge.svg\" alt=\"Render nbviewer\" /> </a> (read-only, slides view)"
   ]
  },
  {
   "cell_type": "code",
   "execution_count": 1,
   "metadata": {
    "slideshow": {
     "slide_type": "skip"
    }
   },
   "outputs": [],
   "source": [
    "## Boilerplate instructions for importing NumPy and Matplotlib\n",
    "# Import NumPy\n",
    "import numpy as np\n",
    "from scipy import signal\n",
    "from scipy.linalg import toeplitz\n",
    "\n",
    "from typing import Tuple\n",
    "\n",
    "# To plot pretty figures, use matplotlib\n",
    "%matplotlib inline\n",
    "import matplotlib as mpl\n",
    "import matplotlib.pyplot as plt\n",
    "mpl.rc('axes', labelsize=14)\n",
    "mpl.rc('xtick', labelsize=12)\n",
    "mpl.rc('ytick', labelsize=12)\n",
    "\n",
    "# the next cells, repeat code from earlier notebooks. It would be better to import these but\n",
    "# then the notebook is no longer self-contained"
   ]
  },
  {
   "cell_type": "code",
   "execution_count": 2,
   "metadata": {
    "slideshow": {
     "slide_type": "skip"
    }
   },
   "outputs": [],
   "source": [
    "def random_symbols(A, N):\n",
    "    \"\"\"generate random symbols from the constallation A\n",
    "    \n",
    "    Inputs:\n",
    "    A - np.ndarray of symbols in constellation, e.g., A = np.array([1, -1]) for BPSK\n",
    "    N - number of random symbols to produce\n",
    "\n",
    "    Returns:\n",
    "    Numpy array of length N\n",
    "    \"\"\"\n",
    "    return A[np.random.randint(len(A), size=N)]"
   ]
  },
  {
   "cell_type": "code",
   "execution_count": 3,
   "metadata": {
    "slideshow": {
     "slide_type": "skip"
    }
   },
   "outputs": [],
   "source": [
    "def srrc_pulse(a, fsT, N=5):\n",
    "    \"\"\"Construct a raised cosine pulse\n",
    "    \n",
    "    Inputs:\n",
    "    a - roll-off factor\n",
    "    fsT - number of samples per symbol period\n",
    "    N - lenght of pulse in symbol periods; pulse ranges for -N \\leq t/T \\leq N (default: 5).\n",
    "\n",
    "    Returns:\n",
    "    Length 2*N*fsT+1 vector\n",
    "    \"\"\"\n",
    "    # time axis with spacing 1/(fs*T)\n",
    "    tt = np.linspace(-N, N, 2*N*fsT + 1)\n",
    "    \n",
    "    num = np.sin(np.pi*tt*(1-a)) + 4*a*tt*np.cos(np.pi*tt*(1+a))\n",
    "    den = np.pi*tt*(1-(4*a*tt)**2)\n",
    "    \n",
    "    # deal with divide-by-zeros: at zero location, place \"L'Hospital value\" in numerator\n",
    "    # and 1 in denominator.\n",
    "    # First divide-by-zero location is t=0; by L-Hospital, the value is (1 + a*(4/pi - 1))\n",
    "    ind_0 = np.where(np.abs(tt) < 1e-6)\n",
    "    num[ind_0] = (1 + a*(4/np.pi - 1))\n",
    "    den[ind_0] = 1\n",
    "    # Second divide-by-zero location is t=+/-1/(4*a); by L-Hospital, the value is as shown below\n",
    "    ind_0 = np.where(np.abs(np.abs(tt) - 1/(4*a)) < 1e-6)\n",
    "    num[ind_0] = a/np.sqrt(2) * ((1+2/np.pi)*np.sin(np.pi/(4*a)) + (1-2/np.pi)*np.cos(np.pi/(4*a)))\n",
    "    den[ind_0] = 1\n",
    "    \n",
    "    # scaling: we scale the pulse such that the convolution of two SRRC pulse yields\n",
    "    # a RC pulse with amplitude 1 in the center of the pulse. This implies that\n",
    "    # np.sum(hh**2) must equal 1. This replace the scaling by 1/T in the formula above.\n",
    "    hh = num/den\n",
    "    \n",
    "    return hh / np.sqrt(np.sum(hh*hh))"
   ]
  },
  {
   "cell_type": "code",
   "execution_count": 4,
   "metadata": {
    "slideshow": {
     "slide_type": "skip"
    }
   },
   "outputs": [],
   "source": [
    "def pulse_shape(symbols, pulse, fsT):\n",
    "    \"\"\"Generate a pulse-shaped QAM signal\n",
    "    \n",
    "    Inputs:\n",
    "    symbols - a sequence of information symbols; rate 1/T\n",
    "    pulse - sampled pulse shape; rate fsT/T\n",
    "    fsT - samples per symbol period\n",
    "\n",
    "    Returns:\n",
    "    Numpy array with fsT*(len(symbols) - 1) + len(pulse)  samples\n",
    "    \"\"\"\n",
    "    # step 1: upsample the symbol sequence\n",
    "    up_symbols = np.zeros(fsT * (len(symbols) - 1) + 1, dtype=symbols.dtype)\n",
    "    up_symbols[::fsT] = symbols\n",
    "\n",
    "    # step 2: filter\n",
    "    return np.convolve(up_symbols, pulse)"
   ]
  },
  {
   "cell_type": "code",
   "execution_count": 5,
   "metadata": {
    "slideshow": {
     "slide_type": "skip"
    }
   },
   "outputs": [],
   "source": [
    "def pop_count32(x: np.uint32) -> np.uint8:\n",
    "    \"\"\"count the number of 1s in 32-bit integer x using Wegner's method\n",
    "    \n",
    "    Inputs:\n",
    "    x - a 32 bit integer\n",
    "\n",
    "    Returns:\n",
    "    an integer between 0 and 32 indicating the number of 1s in x\n",
    "    \"\"\"\n",
    "    \n",
    "    count: np.uint8 = 0\n",
    "    \n",
    "    while (x > 0):\n",
    "        x = x & (x-1)\n",
    "        count += 1\n",
    "        \n",
    "    return count"
   ]
  },
  {
   "cell_type": "code",
   "execution_count": 6,
   "metadata": {
    "slideshow": {
     "slide_type": "skip"
    }
   },
   "outputs": [],
   "source": [
    "def lfsr_step(state: np.uint32, fb: np.uint32, N: int = 31) -> Tuple[np.uint8, np.uint32]:\n",
    "    \"\"\"Single update step of LFSR with feedback connections fb\n",
    "    \n",
    "    Inputs:\n",
    "    * state (uint32): initial state of the feedback shift register\n",
    "    * fb (uint32): bit map indicating feedback connections; the LSB corresponds to bit 0 in the LFSR\n",
    "    * N (int) order if the LFSR; must be less than 32 (default: 31)\n",
    "    \n",
    "    Returns:\n",
    "    * elem - next element of the LFSR sequence\n",
    "    * state - updated state\n",
    "    \n",
    "    Example: Generate the first 10 elements of a LFSR sequence with fb=0b1001 and initial state=0b1111\n",
    "    >>> state = 0b1111\n",
    "    >>> seq = np.empty(10, dtype=np.uint8)\n",
    "    >>> for n in range(10):\n",
    "    >>>     seq[n], state = lfsr31_step(state, 0b1001)\n",
    "    >>> seq\n",
    "    \n",
    "    array([1, 1, 1, 1, 0, 0, 0, 0, 0, 0], dtype=uint8)\n",
    "    \"\"\"\n",
    "    \n",
    "    # save the LSB before updating state; it will be returned\n",
    "    elem: np.uint8 = state & 0b1\n",
    "        \n",
    "    # update state\n",
    "    fb_vec: np.uint32 = state & fb\n",
    "    fb_bit: np.uint8 = (pop_count32(fb_vec) & 0b1)\n",
    "    \n",
    "    # insert feedback bit at position N, then shift\n",
    "    state = (state | fb_bit << N) >> 1\n",
    "    \n",
    "    return elem, state"
   ]
  },
  {
   "cell_type": "code",
   "execution_count": 7,
   "metadata": {
    "slideshow": {
     "slide_type": "skip"
    }
   },
   "outputs": [],
   "source": [
    "def lfsr(init: np.uint32, fb: np.uint32, M: int, N: int = 31, Nc:int = 0):\n",
    "    \"\"\"Compute M samples of a LFSR sequence\n",
    "    \n",
    "    Inputs:\n",
    "    init - initial state of the LFSR\n",
    "    fb - feedback connection for the LFSR\n",
    "    M - number of samples to generate\n",
    "    N - order of the LFSR (default: 31)\n",
    "    Nc - statrting sample (default 0)\n",
    "\n",
    "    Returns:\n",
    "    length-M vector of bits (stored as np.uint8)\n",
    "    \"\"\"\n",
    "    seq = np.empty(M, dtype=np.uint8)\n",
    "\n",
    "    state = init\n",
    "\n",
    "    for n in range(Nc):\n",
    "        _, state = lfsr_step(state, fb, N)          # discard the first Nc\n",
    "\n",
    "    for n in range(M):  \n",
    "        seq[n], state = lfsr_step(state, fb, N)     # keep the next Mc\n",
    "\n",
    "    return seq"
   ]
  },
  {
   "cell_type": "code",
   "execution_count": 8,
   "metadata": {
    "slideshow": {
     "slide_type": "skip"
    }
   },
   "outputs": [],
   "source": [
    "class Second_Order_Filter():\n",
    "    \"\"\"Class representing a second-order loop filter\"\"\"\n",
    "\n",
    "    def __init__(self, alpha1, alpha2, state=0):\n",
    "        \"\"\"Initialize the gains and the state of the filter\n",
    "        \n",
    "        Input:\n",
    "        alpha1 - linear gain\n",
    "        alpha2 - integrator gain\n",
    "        state - value helpd by integrator (optional, default: 0)\n",
    "        \"\"\"\n",
    "        self.alpha1 = alpha1\n",
    "        self.alpha2 = alpha2\n",
    "        self.state = state\n",
    "\n",
    "    def __call__(self, d_n):\n",
    "        \"\"\"invoke the filter\n",
    "        \n",
    "        Input:\n",
    "        d_n - single sample, representing error\n",
    "\n",
    "        Returns:\n",
    "        filtered sample; type is the same as the input\n",
    "        \"\"\"\n",
    "        out = self.alpha1 * d_n + self.state\n",
    "        self.state += self.alpha2 * d_n  # update state\n",
    "        \n",
    "        return out\n",
    "\n",
    "    # below, we check that 0 <= alpha2 < alpha1 < 1\n",
    "    @property\n",
    "    def alpha1(self):\n",
    "        return self._alpha1\n",
    "\n",
    "    @alpha1.setter\n",
    "    def alpha1(self, new_val):\n",
    "        if new_val < 1 and new_val > 0:\n",
    "            self._alpha1 = new_val\n",
    "        else:\n",
    "            raise ValueError(\"alpha1 = {:} can make PLL unstable\".format(new_val))\n",
    "\n",
    "    @property\n",
    "    def alpha2(self):\n",
    "        return self._alpha2\n",
    "\n",
    "    @alpha2.setter\n",
    "    def alpha2(self, new_val):\n",
    "        if new_val < self._alpha1 and new_val > 0:\n",
    "            self._alpha2 = new_val\n",
    "        else:\n",
    "            raise ValueError(\"alpha2 = {:} can make PLL unstable\".format(new_val))\n",
    "\n",
    "    @property\n",
    "    def state(self):\n",
    "        return self._state\n",
    "\n",
    "    @state.setter\n",
    "    def state(self, new_val):\n",
    "        self._state = new_val\n",
    "\n",
    "    @property\n",
    "    def damping_factor(self):\n",
    "        return self.alpha1 / 2 / np.sqrt(self.alpha2) "
   ]
  },
  {
   "cell_type": "code",
   "execution_count": 9,
   "metadata": {
    "slideshow": {
     "slide_type": "skip"
    }
   },
   "outputs": [],
   "source": [
    "class Integrator():\n",
    "    \"\"\"Class representing an integrator\"\"\"\n",
    "\n",
    "    def __init__(self, state=0):\n",
    "        self.state = state\n",
    "\n",
    "    def __call__(self, x_n):\n",
    "        \"Compute the output from the integrator\"\n",
    "        out = self.state\n",
    "        self.state += x_n\n",
    "\n",
    "        return out\n",
    "\n",
    "    @property\n",
    "    def state(self):\n",
    "        return self._state\n",
    "\n",
    "    @state.setter\n",
    "    def state(self, new_val):\n",
    "        self._state = new_val"
   ]
  },
  {
   "cell_type": "code",
   "execution_count": 10,
   "metadata": {
    "slideshow": {
     "slide_type": "skip"
    }
   },
   "outputs": [],
   "source": [
    "def MPE_decision_rule(Z, A):\n",
    "    \"\"\"Decide which symbol was most likely transmitted\n",
    "    \n",
    "    This function examines matched filter outputs (in vector Z) and for each element of Z selects the symbol \n",
    "    from constellation A that is closest.\n",
    "\n",
    "    Inputs:\n",
    "    Z - Vector of matched filter outputs\n",
    "    A - Constellation\n",
    "\n",
    "    Returns:\n",
    "    Numpy array of the same length as Z\n",
    "    \"\"\"\n",
    "    dec = np.empty_like(Z)\n",
    "\n",
    "    for n in range(len(Z)):\n",
    "        this_Z = Z[n]\n",
    "        ind = np.argmin(np.abs(A-this_Z))\n",
    "        dec[n] = A[ind]\n",
    "\n",
    "    return dec"
   ]
  },
  {
   "cell_type": "markdown",
   "metadata": {
    "slideshow": {
     "slide_type": "slide"
    }
   },
   "source": [
    "## DFE\n",
    "\n",
    "The DFE adds a second filter to the equalizer. The feedback filter cancels out the ISI from past symbols.\n",
    "\n",
    "The outputs of the two filters are combined to produce the symbol-rate signal $y[m]$, which is input to the decision device. \n",
    "\n",
    "The signal $y[m]$ is given by\n",
    "$$\n",
    "      y[m] =  \\vec{v}^H \\cdot \\vec{r}[mM] +  \\vec{v}_b^H \\cdot \\vec{\\hat{s}}[m].\n",
    "$$\n",
    "where $\\vec{r}[mM]$ is a length $K_f$ vector of received samples starting at $mM$ and $\\vec{\\hat{s}}[m]$ is a vector of $K_b$ decisions prior to $m$.\n",
    "\n",
    "We can combine the two summands\n",
    "$$\n",
    "      y[m] = \\left[ \\vec{v}, \\vec{v}_b \\right]^H \\cdot\n",
    "      \\left[ \\vec{r}[mM],  \\vec{\\hat{s}}[m] \\right] =\n",
    "      \\langle \\vec{r}_{\\text{DFE}}[m], \\vec{v}_{\\text{DFE}} \\rangle.\n",
    "$$\n",
    "\n",
    "Adaptation of the combined weight vector works exactly like for the linear equalizer. The objective function to minimize is\n",
    "$$\n",
    "      J_n(\\vec{v}) = \\sum_{m=0}^{n} \\lambda^{n-m} |e[m]|^2 =\n",
    "      \\sum_{m=0}^n \\lambda^{n-m} |s_m - \\vec{v}_{\\text{DFE}}^H \\cdot \\vec{r}_{\\text{DFE}}[mM]|^2.\n",
    "$$"
   ]
  },
  {
   "cell_type": "markdown",
   "metadata": {
    "slideshow": {
     "slide_type": "slide"
    }
   },
   "source": [
    "### How does a DFE work\n",
    "\n",
    "The two filters complement each other: \n",
    "\n",
    "* the feedforward (FF) filter is intended to cope with the contributions from the current ($m$-th) symbol and future symbols.\n",
    "* the feedback (FB) filter aims to cancels the interference from past symbols.\n",
    "\n",
    "Correspondingly, The $K_f$ samples processed by the FF filter range from $r[mM]$ to $r[mM+K_f-1]$; these samples are collected in the vector $\\vec{r}[mM]$. \n",
    "\n",
    "Note that these samples depend on symbols $s_m, s_{m+1}, \\ldots, s_{m+\\lceil\\frac{K_f}{M}\\rceil}$ but also on some prior symbols $s_{m-k}$. The number of prior symbols that impact $\\vec{r}[mM]$ is given the length of the channel impulse response in symbol periods.\n",
    "\n",
    "Recall that we can express the received vector $\\vec{r}[mM]$ via the product of the channel matrix $\\mathbf{C}$ and sliding vector of symbols $\\vec{s}$.  The matrix $\\mathbf{C}$ can be split into two parts; \n",
    "* the second part $\\mathbf{C}_f$ consists of the columns that correspond to symbols $s_m, s_{m+1}, \\ldots, s_{m+\\lceil\\frac{K_f}{M}\\rceil}$\n",
    "* the second part $\\mathbf{C}_b$ consists of the columns that correspond to prior symbols.\n"
   ]
  },
  {
   "cell_type": "markdown",
   "metadata": {
    "slideshow": {
     "slide_type": "subslide"
    }
   },
   "source": [
    "#### Example\n",
    "\n",
    "Consider a twice oversampled ($M=2$) channel with impulse response \n",
    "$c[k]=\\begin{bmatrix}1.0 & 0.5j & -0.5\\end{bmatrix}^T$. \n",
    "Assume further that we will employ a four-tap FF filter, i.e., the FF filter processes four received samples.\n",
    "\n",
    "Then, we can write the received signal vector $\\vec{r}[mM]$ as follows:\n",
    "$$\n",
    "\\begin{bmatrix}\n",
    "r[mM] \\\\ r[mM+1] \\\\ r[mM+2] \\\\ r[mM+3]\n",
    "\\end{bmatrix} =\n",
    "\\begin{bmatrix}\n",
    "-0.5 & 1.0 & 0 \\\\\n",
    "0 & 0.5j & 0 \\\\\n",
    "0 & -0.5 & 1 \\\\\n",
    "0 & 0 & 0.5j \\\\\n",
    "\\end{bmatrix} \\cdot\n",
    "\\begin{bmatrix}\n",
    "s_{m-1} \\\\ s_m \\\\ s_{m+1}\n",
    "\\end{bmatrix}\n",
    "+\n",
    "\\begin{bmatrix}\n",
    "N[mM] \\\\ N[mM+1] \\\\ N[mM+2] \\\\ N[mM+3]\n",
    "\\end{bmatrix}.\n",
    "$$\n",
    "\n",
    "We can split the channel matrix into\n",
    "$$\n",
    "\\mathbf{C}_f = \n",
    "\\begin{bmatrix}\n",
    "1.0 & 0 \\\\\n",
    "0.5j & 0 \\\\\n",
    "-0.5 & 1 \\\\\n",
    "0 & 0.5j \\\\\n",
    "\\end{bmatrix} \n",
    "\\quad \\text{and} \\quad\n",
    "\\mathbf{C}_b = \n",
    "\\begin{bmatrix}\n",
    "-0.5j \\\\ 0 \\\\ 0 \\\\ 0\n",
    "\\end{bmatrix}\n",
    "$$"
   ]
  },
  {
   "cell_type": "markdown",
   "metadata": {
    "slideshow": {
     "slide_type": "subslide"
    }
   },
   "source": [
    "The feedforward equalizer weights $\\vec{v}_f$ can now be chosen such that\n",
    "$$\n",
    "    \\vec{v}_f^H \\cdot \\mathbf{C}_f = \\begin{bmatrix} 1 & 0 \\end{bmatrix}\n",
    "$$\n",
    "so that \n",
    "$$\n",
    "    \\vec{v}_f^H \\cdot \\mathbf{C}_f \\cdot \\begin{bmatrix} s_m \\\\ s_{m+1} \\end{bmatrix} = s_m.\n",
    "$$\n",
    "Note that the contribution of the future symbol $s_{m+1}$ has been mitigated.\n",
    "\n",
    "We recognize the above solution as the zero-forcing (ZF) solution for the reduced channel matrix $\\mathbf{C}_f$. Thus, $\\vec{f}_f$ is given by\n",
    "$$\n",
    "    \\vec{\\hat{v}}_f = (\\mathbf{C}_f^+)^H \\cdot \\vec{e}_0 = \\mathbf{C}_f(\\mathbf{C}_f^H \\mathbf{C}_f) \\cdot \\vec{e}_0,\n",
    "$$\n",
    "where $\\vec{e}_0 = \\begin{bmatrix} 1 & 0 \\end{bmatrix}^T$. \n",
    "\n",
    "Alternatively, $\\vec{f}_f$ can be chosen as the MMSE solution\n",
    "$$\n",
    "    \\vec{\\hat{v}}_f = \\arg \\min_{\\vec{v}_f} \\|s_m - \\vec{v}_f^H \\vec{r}[mM] \\|^2.\n",
    "$$\n",
    "\n",
    "We demonstrate the ZF solution."
   ]
  },
  {
   "cell_type": "code",
   "execution_count": 11,
   "metadata": {
    "slideshow": {
     "slide_type": "subslide"
    }
   },
   "outputs": [
    {
     "data": {
      "text/plain": [
       "(array([[ 1. +0.j ,  0. +0.j ],\n",
       "        [ 0. +0.5j,  0. +0.j ],\n",
       "        [-0.5+0.j ,  1. +0.j ],\n",
       "        [ 0. +0.j ,  0. +0.5j]]),\n",
       " array([-0.5+0.j,  0. +0.j,  0. +0.j,  0. +0.j]))"
      ]
     },
     "execution_count": 11,
     "metadata": {},
     "output_type": "execute_result"
    }
   ],
   "source": [
    "## construct the channel matrix and split into two parts\n",
    "c = [1, 0.5j, -0.5]\n",
    "CC = np.array([\n",
    "    [-0.5, 1.0,  0.0],\n",
    "    [ 0.0, 0.5j, 0.0],\n",
    "    [ 0.0, -0.5, 1.0],\n",
    "    [ 0.0,  0.0, 0.5j]\n",
    "])\n",
    "\n",
    "CCf = CC[:, 1:]\n",
    "CCb = CC[:, 0]\n",
    "\n",
    "CCf, CCb"
   ]
  },
  {
   "cell_type": "code",
   "execution_count": 12,
   "metadata": {
    "slideshow": {
     "slide_type": "subslide"
    }
   },
   "outputs": [
    {
     "data": {
      "text/plain": [
       "array([ 0.76923077+0.j        ,  0.        +0.38461538j,\n",
       "       -0.07692308+0.j        ,  0.        +0.15384615j])"
      ]
     },
     "execution_count": 12,
     "metadata": {},
     "output_type": "execute_result"
    }
   ],
   "source": [
    "## Compute the weights for the FF filter\n",
    "vf = np.linalg.pinv(CCf).T.conj() @ np.array([1., 0])\n",
    "\n",
    "vf"
   ]
  },
  {
   "cell_type": "markdown",
   "metadata": {
    "slideshow": {
     "slide_type": "subslide"
    }
   },
   "source": [
    "To complete our example, we compute the weights of the feedback filter.\n",
    "\n",
    "When the received sample vector $\\vec{r}[mM]$ is passed through the FF filter with weights $\\vec{v}_f$, it produces the output sample\n",
    "$$\n",
    "x[m] = \\vec{v}_f^H \\vec{r}[mM] = \\vec{v}_f^H \\mathbf{C} \\vec{s}[m] + \\vec{v}_f^H \\vec{N}[mM].\n",
    "$$\n",
    "\n",
    "The product $\\vec{v}_f^H \\mathbf{C} \\vec{s}[m]$ can be split according to the separation of $\\mathbf{C}$ into $\\mathbf{C}_f$ and $\\mathbf{C}_b$,\n",
    "$$\n",
    "\\vec{v}_f^H \\mathbf{C} \\vec{s}[m] = \n",
    "        \\vec{v}_f^H \\mathbf{C}_f \\cdot \\begin{bmatrix}s_m & s_{m+1}\\end{bmatrix}^T +\n",
    "        \\vec{v}_f^H \\mathbf{C}_b \\cdot \\begin{bmatrix} s_{m-1}\\end{bmatrix}^T.\n",
    "$$\n",
    "\n",
    "when $\\vec{v}_f$ is chosen so that $\\vec{v}_f^H \\mathbf{C}_f \\cdot \\begin{bmatrix}s_m & s_{m+1}\\end{bmatrix}^T = s_m$, the FF filter's outputs\n",
    "is\n",
    "$$\n",
    "x[m] = s_m + \\vec{v}_f^H \\mathbf{C}_b \\cdot \\begin{bmatrix} s_{m-1}\\end{bmatrix}^T.\n",
    "$$\n",
    "\n",
    "The FB filter's task is to cancel the impact of prior symbols $s_{m-k}$. We recognize immediately that the weights of the feedback filter $\\vec{v}_b$ must equal\n",
    "$$\n",
    "\\vec{v}_b = -\\vec{v}_f^H \\mathbf{C}_b.\n",
    "$$\n",
    "As long as correct symbols are fed back, the interference from prior symbols will be cancelled."
   ]
  },
  {
   "cell_type": "code",
   "execution_count": 13,
   "metadata": {
    "slideshow": {
     "slide_type": "subslide"
    }
   },
   "outputs": [
    {
     "data": {
      "text/plain": [
       "(0.3846153846153847+0j)"
      ]
     },
     "execution_count": 13,
     "metadata": {},
     "output_type": "execute_result"
    }
   ],
   "source": [
    "## compute weights of FB filter\n",
    "vb = -vf.conj().T @ CCb\n",
    "\n",
    "vb"
   ]
  },
  {
   "cell_type": "markdown",
   "metadata": {
    "slideshow": {
     "slide_type": "slide"
    }
   },
   "source": [
    "Let's test with some noise-free samples. The equalizer should be able to equalize them perfectly. "
   ]
  },
  {
   "cell_type": "code",
   "execution_count": 14,
   "metadata": {
    "slideshow": {
     "slide_type": "fragment"
    }
   },
   "outputs": [],
   "source": [
    "## construct a noise-free received signal. The zeros at either end are there to give us an s_{-1} and\n",
    "#  enough samples at the end. \n",
    "syms = np.array([0, 1, 1, -1, 1, -1, -1, 1j, 1, 1, -1, -1, 1, 1, 1, 1, 1, -1, -1, 0])\n",
    "\n",
    "# filter with channel impulse response c\n",
    "rr = pulse_shape(syms, c, 2)\n"
   ]
  },
  {
   "cell_type": "code",
   "execution_count": 15,
   "metadata": {
    "slideshow": {
     "slide_type": "subslide"
    }
   },
   "outputs": [
    {
     "name": "stdout",
     "output_type": "stream",
     "text": [
      "All symbols have been successfully equalized\n"
     ]
    }
   ],
   "source": [
    "# pass blocks of 4 samples through the equalizer\n",
    "s_hat = np.zeros(len(syms)-2, dtype=complex)\n",
    "\n",
    "for n in range(len(s_hat)):\n",
    "    rn = rr[2*(n+1) : 2*(n+1)+4]  # <-- (n+1) accounts for the leading zero\n",
    "    s_hat[n] = np.sum(rn*vf.conj()) + np.sum(syms[n]*vb.conj())\n",
    "\n",
    "if np.allclose(s_hat, syms[1:-1]):\n",
    "    print(\"All symbols have been successfully equalized\")\n",
    "else:\n",
    "    print(\"That didn't work\")"
   ]
  },
  {
   "cell_type": "markdown",
   "metadata": {
    "slideshow": {
     "slide_type": "subslide"
    }
   },
   "source": [
    "#### MMSE Equalizer\n",
    "\n",
    "The example above used a ZF equalizer for the FF filter. We can also design an MMSE equalizer.\n",
    "\n",
    "To do so, we first compute the autocorrelation matrix $\\mathbf{R}$ and the cross-correlation vector $\\vec{p}$ and then solve the system of equations\n",
    "$$\n",
    "    \\mathbf{R} \\cdot \\vec{\\tilde{v}} = \\vec{p},\n",
    "$$\n",
    "where $\\vec{\\tilde{v}}$ contains both the FF and the FB weights. Also, the matrix $\\mathbf{R}$  and the cross-correlation vector $\\vec{p}$  are computed from both received samples and prior symbols."
   ]
  },
  {
   "cell_type": "code",
   "execution_count": 16,
   "metadata": {
    "slideshow": {
     "slide_type": "subslide"
    }
   },
   "outputs": [],
   "source": [
    "## Compute autocorrlation mtrix R and cross-correlation p\n",
    "RR = np.zeros((5,5), dtype=complex)\n",
    "pr = np.zeros((5,1), dtype=complex)\n",
    "\n",
    "for n in range(len(syms)-2):\n",
    "    rtn = np.concatenate( (rr[2*(n+1) : 2*(n+1)+4], [syms[n]] )).reshape(5,1)\n",
    "\n",
    "    RR += rtn @ rtn.conj().T\n",
    "    pr += rtn * np.conj(syms[n+1])"
   ]
  },
  {
   "cell_type": "code",
   "execution_count": 17,
   "metadata": {
    "slideshow": {
     "slide_type": "subslide"
    }
   },
   "outputs": [],
   "source": [
    "## compute the combined weight vector\n",
    "wt = np.linalg.solve(RR, pr)\n",
    "\n",
    "# then, split into FF and FB parts\n",
    "wtf = np.squeeze(wt[:-1])\n",
    "wtr = wt[-1]\n",
    "\n",
    "# wt, wtf, wtr, vf, vb, (pr - RR @ wt).T, pr.T - RR @ np.concatenate((vf, [vb]))"
   ]
  },
  {
   "cell_type": "markdown",
   "metadata": {
    "slideshow": {
     "slide_type": "subslide"
    }
   },
   "source": [
    "Note that the MMSE solution and the ZF solution are **not** identical; they aren't even very similar. \n",
    "\n",
    "In fact, the matrix $\\mathbf{R}$ is rank-deficient so that there are infinitely many solutions. The ZF solution is also a solution to the above system of equattions.\n",
    "\n",
    "When noise is added to the received samples, then the matrix $\\mathbf{R}$ will be full-rank and the MMSE solution is unique. In that case the ZF solution will still be different as it optimizes a different objective functions.\n",
    "\n",
    "Let's verify that the MMSE solution also equalizes the noise-free signal perfectly."
   ]
  },
  {
   "cell_type": "code",
   "execution_count": 18,
   "metadata": {
    "slideshow": {
     "slide_type": "subslide"
    }
   },
   "outputs": [
    {
     "name": "stdout",
     "output_type": "stream",
     "text": [
      "All symbols have been successfully equalized\n"
     ]
    }
   ],
   "source": [
    "# check the MMSE equalizer\n",
    "s_hat = np.zeros(len(syms)-2, dtype=complex)\n",
    "\n",
    "for n in range(len(s_hat)):\n",
    "    rn = rr[2*(n+1) : 2*(n+1)+4]\n",
    "    s_hat[n] = np.sum(rn*wtf.conj()) + np.sum(syms[n]*wtr.conj())\n",
    "\n",
    "if np.allclose(s_hat, syms[1:-1]):\n",
    "    print(\"All symbols have been successfully equalized\")\n",
    "else:\n",
    "    print(\"That didn't work\")"
   ]
  },
  {
   "cell_type": "markdown",
   "metadata": {
    "slideshow": {
     "slide_type": "slide"
    }
   },
   "source": [
    "### LMS Adaptation\n",
    "\n",
    "The combined weight vector can be adapted as for the linear equalizer.\n",
    "\n",
    "**LMS Update:**\n",
    "$$\n",
    "      \\vec{v}_n = \\vec{v}_{n-1} + \\mu \\vec{r}_{\\text{DFE}}[nM] \\cdot e^*[n].\n",
    "$$\n",
    "where the error signal $e[n]$ is \n",
    "$$\n",
    "e[n] = s_n - \\vec{v}_{\\text{DFE}}^H \\cdot \\vec{r}_{\\text{DFE}}[mM].\n",
    "$$\n",
    "\n",
    "The class below implements the LMS algorithm. It maintains a vector of prior symbols (either training symbols or prior decisions). The symbol are passed to the equalizer as an argument of the `update` method. This method **must** be called once every symbol period - even if no further updates to the weight vector are desired (in that case, the argument `update_weights` can be set to `False`)."
   ]
  },
  {
   "cell_type": "code",
   "execution_count": 19,
   "metadata": {
    "slideshow": {
     "slide_type": "subslide"
    }
   },
   "outputs": [],
   "source": [
    "class LMS():\n",
    "    \"\"\"class that implements the LMS algorithm for a linear or DFE equalizer\n",
    "    \n",
    "    It has the following parameters:\n",
    "    - Kf: length of feedforward filter\n",
    "    - Kb: length of feedback filter, set to 0 for linear equalizer\n",
    "    - mu: scaling factor for gradient descent (default: 0.5)\n",
    "\n",
    "    The LMS class provides two methods:\n",
    "    - update: computes updated weights based on the difference between the eualizer output and the symbol decision\n",
    "    - equalize: computes the equalizer output\n",
    "    both methods are invoked once per symbol period.\n",
    "\n",
    "    The order of invocation must be: LMS.equalize -> decision -> LMS.update\n",
    "\n",
    "    The class maintains a vector that stores Kb prior decisions. Theis state\n",
    "    vector is updated in the `update` method. Therefore, the update method MUST be called for every symbol\n",
    "    even if the equalizer weights should not be updated (set `update_weights=False` when calling `update` to\n",
    "    prevent that weights are recomputed).\n",
    "    \"\"\"\n",
    "\n",
    "    def __init__(self, Kf:int, Kb:int, mu:float = 0.5) -> None:\n",
    "        self.Kf = Kf       # length of FF filter\n",
    "        self.Kb = Kb       # <-- lengh of FB filter\n",
    "        self.mu = mu       # forgetting factor\n",
    "\n",
    "        self.v = np.zeros(Kf+Kb, dtype=complex)\n",
    "        self.alpha = 0.1      # small positive constant\n",
    "\n",
    "        self.sr_sym = np.zeros(Kb, dtype=complex)  # <-- store recent decisions\n",
    "\n",
    "    def update(self, error:complex, sym:complex, vec_r:np.ndarray, update_weights:bool = True) -> None:\n",
    "        \"\"\"LMS update\n",
    "        \n",
    "        Inputs:\n",
    "        - error: difference between training/decision and equalizer output\n",
    "        - sym: new training symbol or decision\n",
    "        - vec_r: vector of received samples\n",
    "        - update_weights: flag indicating if equalizer weights are recomputed (default: True)\n",
    "\n",
    "        Returns:\n",
    "        nothing\n",
    "\n",
    "        Updates:\n",
    "        - the vectors containg recent training/decision symbols as well as recent recived samples are updated\n",
    "        - if `update_weights is True` then the weight vector is recomputed\n",
    "        \"\"\"\n",
    "        if update_weights:\n",
    "            # error\n",
    "            e = error   # sym - self.equalize(vec_r)\n",
    "\n",
    "            # update weight vector\n",
    "            scale = self.mu / (self.alpha + vec_r.conj() @ vec_r)\n",
    "            # scale = self.mu\n",
    "            self.v += np.concatenate( (vec_r, self.sr_sym) ) * e.conj() * scale \n",
    "\n",
    "        if self.Kb > 0:\n",
    "            # update state vector for a DFE\n",
    "            self.sr_sym[:] = np.concatenate((self.sr_sym[1:], [sym])) # <-- store new symbol\n",
    "\n",
    "\n",
    "    def equalize(self, vec_r: np.ndarray):\n",
    "        \"\"\"compute equalizer output\"\"\"\n",
    "        \n",
    "        tmp = np.concatenate( (vec_r, self.sr_sym) )  # <--- work BOTH filters\n",
    "        return self.v.conj() @ tmp"
   ]
  },
  {
   "cell_type": "markdown",
   "metadata": {
    "slideshow": {
     "slide_type": "slide"
    }
   },
   "source": [
    "### Simple Example\n",
    "\n",
    "To begin, verify that the equalizer can equalize the samples for our simple example. This example does not involve training, the equalizer is initialized with the weights computed above. It simply checks that the equalization works correctly."
   ]
  },
  {
   "cell_type": "code",
   "execution_count": 20,
   "metadata": {
    "slideshow": {
     "slide_type": "subslide"
    }
   },
   "outputs": [
    {
     "name": "stdout",
     "output_type": "stream",
     "text": [
      "All symbols have been successfully equalized\n"
     ]
    }
   ],
   "source": [
    "## let's check the simple example. \n",
    "# Set the equalizer weights as computed above and check that the outputs are right\n",
    "lms = LMS(4, 1, 0.2)\n",
    "lms.v = wt.reshape(1, -1) # tweak the dimensions to what the equalizer expects \n",
    "\n",
    "s_hat = np.zeros(len(syms)-2, dtype=complex)\n",
    "\n",
    "for n in range(len(s_hat)):\n",
    "    rn = rr[2*(n+1) : 2*(n+1)+4]\n",
    "    s_hat[n] = lms.equalize(rn)\n",
    "    lms.update(0, s_hat[n], rn, update_weights=False) # <-- update prior symbols but not the weights\n",
    "\n",
    "if np.allclose(s_hat, syms[1:-1]):\n",
    "    print(\"All symbols have been successfully equalized\")\n",
    "else:\n",
    "    print(\"That didn't work\")"
   ]
  },
  {
   "cell_type": "markdown",
   "metadata": {
    "slideshow": {
     "slide_type": "slide"
    }
   },
   "source": [
    "### QPSK Example\n",
    "\n",
    "To test the adaptation, we train the equalizer for $N_t$ symbol periods. After training, we measure the MSE at the equalizer output.\n",
    "\n",
    "The channel for this example has 12 taps. That corresponds to six symbol periods with $m=2$ oversampling.\n",
    "\n",
    "We choose the length $K_f$ of the FF filter slightly longer than the length of the channel. The length of the feedback filter is chosen to match the number of prior symbols that affect the current symbol $s_m$, i.e., $K_b=5$. "
   ]
  },
  {
   "cell_type": "code",
   "execution_count": 21,
   "metadata": {
    "slideshow": {
     "slide_type": "subslide"
    }
   },
   "outputs": [],
   "source": [
    "## generate a QPSK signal\n",
    "fsT = 2\n",
    "N = 1000\n",
    "A = np.exp(1j*np.pi/4*np.arange(1, 8, 2)) # QPSK alphabet\n",
    "\n",
    "symsa = random_symbols(A, N)\n",
    "\n",
    "## dispersive channel\n",
    "ca = np.array([0.1,  -0.3j, 0, 1,  0, 0.3j, 0, 0, 0.2-0.7j, 0, 0, 0.1j])\n",
    "sig = pulse_shape(symsa, ca, fsT)\n",
    "\n",
    "SNR_db = 20\n",
    "SNR = 10**(SNR_db/10)\n",
    "\n",
    "# received signal\n",
    "rra = sig + 1/(np.sqrt(2*SNR))*(np.random.randn(len(sig)) + 1j*np.random.randn(len(sig)))\n"
   ]
  },
  {
   "cell_type": "code",
   "execution_count": 22,
   "metadata": {
    "slideshow": {
     "slide_type": "subslide"
    }
   },
   "outputs": [],
   "source": [
    "## measure MSE for different training lengths Nt\n",
    "Kf = 16    # length of FF filter\n",
    "mu = 0.3\n",
    "Kb = 5     # length of FB filter\n",
    "\n",
    "Nt = np.arange(0, 200, 4)\n",
    "MSE_L = np.zeros_like(Nt, dtype=float)\n",
    "\n",
    "for n in range(len(Nt)):\n",
    "    this_Nt = Nt[n]\n",
    "\n",
    "    # instantiate RLS\n",
    "    lms = LMS(Kf, Kb, mu)\n",
    "    \n",
    "    Nm = 0\n",
    "    m = 0\n",
    "    while m*fsT + Kf < len(rra) and m < len(symsa):\n",
    "        vec_r = rra[m*fsT : m*fsT+Kf]\n",
    "\n",
    "        if m <= this_Nt:\n",
    "            # training\n",
    "            error = symsa[m] - lms.equalize(vec_r)\n",
    "            lms.update(error, symsa[m], vec_r, update_weights=True)\n",
    "        else:\n",
    "            # equalize\n",
    "            error = symsa[m] - lms.equalize(vec_r)\n",
    "            MSE_L[n] += np.abs(error)**2\n",
    "            lms.update(error, symsa[m], vec_r, update_weights=False)\n",
    "            Nm += 1\n",
    "\n",
    "        m += 1\n",
    "\n",
    "    MSE_L[n] = MSE_L[n]/Nm"
   ]
  },
  {
   "cell_type": "code",
   "execution_count": 23,
   "metadata": {
    "slideshow": {
     "slide_type": "subslide"
    }
   },
   "outputs": [
    {
     "data": {
      "image/png": "[encoded data removed]",
      "text/plain": [
       "<Figure size 432x288 with 1 Axes>"
      ]
     },
     "metadata": {
      "needs_background": "light"
     },
     "output_type": "display_data"
    }
   ],
   "source": [
    "plt.semilogy(Nt, MSE_L, label=\"LMS\")\n",
    "plt.grid()\n",
    "\n",
    "plt.xlabel('Number of Training Symbols $N_t$')\n",
    "plt.ylabel('MSE')\n",
    "plt.legend()\n",
    "\n",
    "plt.show()"
   ]
  },
  {
   "cell_type": "markdown",
   "metadata": {
    "slideshow": {
     "slide_type": "slide"
    }
   },
   "source": [
    "### RLS Update\n",
    "\n",
    "Similarly, the RLS updates are given by:\n",
    "\n",
    "$$\n",
    "      \\vec{v}_{\\text{DFE},n} = \\vec{v}_{\\text{DFE},n-1} +\n",
    "      \\frac{e^*[n] \\mathbf{R}_{n-1}^{-1} \\vec{r}_{\\text{DFE}}[nM]}\n",
    "      {\\lambda + \\vec{r}_{\\text{DFE}}^H[nM]\\mathbf{R}_{n-1}^{-1} \\vec{r}_{\\text{DFE}}[nM]},\n",
    "$$\n",
    "\n",
    "and\n",
    "\n",
    "$$\n",
    "       \\mathbf{R}_n^{-1} = \\frac{1}{\\lambda} \\mathbf{R}_{n-1}^{-1} +\n",
    "      \\frac{(\\frac{1}{\\lambda}\\mathbf{R}_{n-1}^{-1} \\vec{r}_{\\text{DFE}}[nM])\n",
    "        (\\frac{1}{\\lambda}\\mathbf{R}_{n-1}^{-1} \\vec{r}_{\\text{DFE}}[nM])^H}\n",
    "      {1 + \\vec{r}_{\\text{DFE}}[nM]^H(\\frac{1}{\\lambda}\\mathbf{R}_{n-1}^{-1} \\vec{r}_{\\text{DFE}}[nM])}.\n",
    "$$\n",
    "\n",
    "The class below implements the RLS algorithm. It also maintains a vector of prior symbols (either training symbols or prior decisions). The symbol are passed to the equalizer as an argument of the `update` method. This method **must** be called once every symbol period - even if no further updates to the weight vector are desired (in that case, the argument `update_weights` can be set to `False`)."
   ]
  },
  {
   "cell_type": "code",
   "execution_count": 24,
   "metadata": {
    "slideshow": {
     "slide_type": "subslide"
    }
   },
   "outputs": [],
   "source": [
    "class RLS():\n",
    "    \"\"\"class for carrying out the RLS algorithm\n",
    "    \n",
    "    This class implements the RLS algorithm for a linear or DFE equalizer.\n",
    "\n",
    "    It has the following parameters:\n",
    "    - Kf: length of feedforward filter\n",
    "    - Kb: length of feedback filter, set to 0 for linear equalizer\n",
    "    - fsT: oversampling factor for FF filter\n",
    "    - lam: forgetting factor (0 < lamda <= 1)\n",
    "\n",
    "    The RLS class provides two methods:\n",
    "    - update: computes updated weights based on the difference between the eualizer output and the symbol decision\n",
    "    - equalize: computes the equalizer output\n",
    "    both methods are invoked once per symbol period.\n",
    "\n",
    "    The order of invocation must be: RLS.equalize() -> decision() -> RLS.update()\n",
    "\n",
    "    The class maintains a vector that stores Kb prior decisions. Theis state\n",
    "    vector is updated in the `update` method. Therefore, the update method MUST be called for every symbol\n",
    "    even if the equalizer weights should not be updated (set `update_weights=False` when calling `update` to\n",
    "    prevent that weights are recomputed).\n",
    "    \"\"\"\n",
    "\n",
    "    def __init__(self, Kf: int, Kb: int, fsT: int, lam:float = 1.) -> None:\n",
    "        self.Kf = Kf       # length of FF filter\n",
    "        self.Kb = Kb       # length of FB filter\n",
    "        self.M = fsT       # oversampling factor for FF filter\n",
    "        self.lam = lam     # forgetting factor\n",
    "\n",
    "        self.R_inv = 1*np.eye(Kf+Kb, dtype=complex)  # inverse of auto-correlation matrix\n",
    "        self.v = np.zeros(Kf+Kb, dtype=complex)      # weight vector\n",
    "\n",
    "        ## shift register holds both recent samples and recent training symbols (or decsions)\n",
    "        # the received samples are stored in the first Kf positions, the symbols are stored in the \n",
    "        # final Kb positions\n",
    "        self.sr_sym = np.zeros(Kb, dtype=complex)\n",
    "\n",
    "\n",
    "    def update(self, error: complex, sym: complex, vec_rr: np.ndarray, update_weights:bool = True) -> None:\n",
    "        \"\"\"RLS recursion\n",
    "\n",
    "        Inputs:\n",
    "        - error - difference between training/decision and equalizer output\n",
    "        - sym - the most recent training symbol or decision\n",
    "        - vec_rr - vector of received samples\n",
    "        - update_weights: set to False to prevent updating of equalizer weights (default: True)\n",
    "\n",
    "        Returns:\n",
    "        nothing\n",
    "\n",
    "        Updates:\n",
    "        - if `update_weights is True` all state variables are updated with the RLS algorithm \n",
    "        - state vector holding prios training/decision symbols is always updated\n",
    "        \n",
    "        \"\"\"\n",
    "        if update_weights:\n",
    "            # error\n",
    "            e = error # sym - self.equalize(vec_rr)\n",
    "\n",
    "            # compute R_inv * vec_r\n",
    "            tmp = np.concatenate((vec_rr, self.sr_sym))\n",
    "            vec_g = self.R_inv @ np.expand_dims(tmp, 1)\n",
    "\n",
    "            # update R_inv\n",
    "            denom = (self.lam + tmp.conj() @ vec_g)\n",
    "            self.R_inv = 1/self.lam * (self.R_inv - \n",
    "                    vec_g @ vec_g.conj().T / denom)\n",
    "\n",
    "            # update weight vector\n",
    "            self.v += np.squeeze(vec_g) * e.conj()/denom\n",
    "\n",
    "        # update the shift register that holds decisions\n",
    "        if self.Kb > 0:\n",
    "            self.sr_sym[:] = np.concatenate((self.sr_sym[1:], [sym]))\n",
    "\n",
    "\n",
    "    def equalize(self, vec_rr):\n",
    "        \"\"\"compute equalizer output\n",
    "        \n",
    "        Inputs:\n",
    "        vec_rr - vector of samples\n",
    "\n",
    "        Returns:\n",
    "        - equalizer output\n",
    "\n",
    "        Updates:\n",
    "        the state of the equalizer is unchanged\n",
    "        \"\"\"\n",
    "        tmp = np.concatenate((vec_rr, self.sr_sym))\n",
    "        \n",
    "        return self.v.conj() @ tmp"
   ]
  },
  {
   "cell_type": "markdown",
   "metadata": {
    "slideshow": {
     "slide_type": "slide"
    }
   },
   "source": [
    "### QPSK Example\n",
    "\n",
    "We pass the same QPSK samples as for the LMS algorithm through the RLS equalizer. The length of the two filters also matches that used for the LMS agorithm."
   ]
  },
  {
   "cell_type": "code",
   "execution_count": 25,
   "metadata": {
    "slideshow": {
     "slide_type": "subslide"
    }
   },
   "outputs": [],
   "source": [
    "## Test RLS equalizer using QPSK samples\n",
    "Kf = 16\n",
    "Kb = 5\n",
    "lam = 0.99\n",
    "\n",
    "Nt = np.arange(0, 200, 4)\n",
    "MSE = np.zeros_like(Nt, dtype=float)\n",
    "\n",
    "for n in range(len(Nt)):\n",
    "    this_Nt = Nt[n]\n",
    "\n",
    "    # instantiate RLS\n",
    "    rls = RLS(Kf, Kb, fsT, lam)\n",
    "    \n",
    "    Nm = 0\n",
    "    m = 0\n",
    "    while  m*fsT+Kf < len(rra) and m < len(symsa):\n",
    "        # vec_r = rra[m*fsT : m*fsT+K]\n",
    "        vec_r = rra[m*fsT : m*fsT+Kf]\n",
    "\n",
    "        if m <= this_Nt:\n",
    "            # training\n",
    "            error = symsa[m] - rls.equalize(vec_r)\n",
    "            rls.update(error, symsa[m], vec_r, update_weights=True)\n",
    "        else:\n",
    "            # equalize\n",
    "            error = symsa[m] - rls.equalize(vec_r)\n",
    "            MSE[n] += np.abs(error)**2\n",
    "            rls.update(error, symsa[m], vec_r, update_weights=False)\n",
    "            Nm += 1\n",
    "\n",
    "        m += 1\n",
    "\n",
    "    MSE[n] = MSE[n]/Nm"
   ]
  },
  {
   "cell_type": "code",
   "execution_count": 26,
   "metadata": {
    "slideshow": {
     "slide_type": "subslide"
    }
   },
   "outputs": [
    {
     "data": {
      "image/png": "[encoded data removed]",
      "text/plain": [
       "<Figure size 432x288 with 1 Axes>"
      ]
     },
     "metadata": {
      "needs_background": "light"
     },
     "output_type": "display_data"
    }
   ],
   "source": [
    "## compare convergence of RLS and LMS\n",
    "plt.semilogy(Nt, MSE, label=\"RLS\")\n",
    "plt.semilogy(Nt, MSE_L, label=\"LMS\")\n",
    "plt.grid()\n",
    "\n",
    "plt.xlabel('Number of Training Symbols $N_t$')\n",
    "plt.ylabel('MSE')\n",
    "plt.legend()\n",
    "\n",
    "plt.show()"
   ]
  },
  {
   "cell_type": "markdown",
   "metadata": {
    "slideshow": {
     "slide_type": "slide"
    }
   },
   "source": [
    "##  Detection in Dispersive Channels\n",
    "\n",
    "When the channel is dispersive, the detection of the preamble is not obvious. The correlation between the received signal and the preamble sequence will have multiple peaks. The peaks are reflective of the impulse repsonse of the channel.\n",
    "\n",
    "Recall that we modeled the received signal as \n",
    "$$\n",
    "    \\vec{r}[k] = \\mathbf{S} \\vec{c} + \\vec{N}.\n",
    "$$\n",
    "\n",
    "We will use this model to detect the preamble. For that purpose:\n",
    "* $\\vec{r}[k]$ is the vector of received samples starting at sample index $k$; the length of this vector is equal to the length $NM$ of the preamble in sample periods.\n",
    "* $\\mathbf{S}$ is the Toeplitz matrix construted from the symbols of the preamble sequence. It has $NM$ rows and $LM$ columns, where $L$ is the delay spread of the channel in symbol periods.\n",
    "* $\\vec{c}$ is the unknown channel impulse response.\n",
    "\n",
    "The detection problem (if $\\vec{c}$ were known) is\n",
    "$$\n",
    "    \\hat{k} = \\arg \\min \\|\\vec{r}[k] - \\mathbf{S} \\vec{c}\\|^2.\n",
    "$$\n",
    "\n",
    "Since $\\vec{c}$ is not known, we replace it with its maximum likelihood estimate:\n",
    "$$\n",
    "    \\hat{c} = (\\mathbf{S}^H\\mathbf{S})^{-1}\\mathbf{S}^H\\vec{r}[k].\n",
    "$$\n",
    "\n",
    "Then, the detection criterion becomes\n",
    "$$\n",
    "\\hat{k} = \\arg \\min \\|\\vec{r}[k] - \\mathbf{S}(\\mathbf{S}^H\\mathbf{S})^{-1}\\mathbf{S}^H\\vec{r}[k]\\|^2.\n",
    "$$\n",
    "\n",
    "I.e., the criterion compares $\\vec{r}[k]$ and the projection of $\\vec{r}[k]$ into the suspace spanned by the preamble sequence.\n",
    "\n",
    "In practice, a detection occurs at time $k$ when\n",
    "$$\n",
    "    \\rho[k] = \\frac{\\| \\mathbf{S}(\\mathbf{S}^H\\mathbf{S})^{-1}\\mathbf{S}^H\\vec{r}[k] \\|^2}\n",
    "    {\\|\\vec{r}[k]\\|^2} > \\gamma\n",
    "$$\n",
    "where $0< \\gamma \\leq 1$ is a suitably chosen threshold.\n",
    "\n",
    "**Note:** The matrix $\\mathbf{S}$ contains many zeros. This can be exploited to reduce the computational complexity of teh expression above. Similarly, the matrix product $\\mathbf{S}^H\\mathbf{S}$ will be strongly diagonal for a good preamble sequence which can be further exploited. "
   ]
  },
  {
   "cell_type": "code",
   "execution_count": 27,
   "metadata": {
    "slideshow": {
     "slide_type": "subslide"
    }
   },
   "outputs": [],
   "source": [
    "## preamble signal\n",
    "Np = 31      # length of preamble\n",
    "fb = 5      # LFSR feedback\n",
    "\n",
    "Ap = np.array([1.0, -1.0], dtype=complex) # BPSK for preamble\n",
    "pn = Ap[lfsr(1, fb, Np, 5)]"
   ]
  },
  {
   "cell_type": "code",
   "execution_count": 28,
   "metadata": {
    "slideshow": {
     "slide_type": "subslide"
    }
   },
   "outputs": [],
   "source": [
    "## construct preamble followed by signal\n",
    "A = np.exp(1j*np.pi/4*np.arange(1, 8, 2)) # QPSK alphabet\n",
    "\n",
    "N = 100\n",
    "symsd = random_symbols(A, N)\n",
    "\n",
    "## dispersive channel\n",
    "fsT = 2\n",
    "ca = np.array([0.1,  -0.3j, 0, 1,  0, 0.3j, 0, 0, 0.2-0.7j, 0, 0, 0.1j])\n",
    "sig = pulse_shape(np.concatenate((pn,symsd)), ca, fsT)\n",
    "\n",
    "SNR_db = 20\n",
    "SNR = 10**(SNR_db/10)\n",
    "\n",
    "delay = 31\n",
    "sig = np.concatenate((np.zeros(delay, dtype=complex), sig))\n",
    "\n",
    "# frequency offset\n",
    "f_off = 0.002\n",
    "sig = sig * np.exp(2j*np.pi*f_off*np.arange(len(sig)))\n",
    "\n",
    "# received signal\n",
    "rrd = sig + 1/(np.sqrt(2*SNR))*(np.random.randn(len(sig)) + 1j*np.random.randn(len(sig)))\n"
   ]
  },
  {
   "cell_type": "markdown",
   "metadata": {
    "slideshow": {
     "slide_type": "subslide"
    }
   },
   "source": [
    "The matrix $\\mathbf{S}$ can be pre-computed from the preamble symbols."
   ]
  },
  {
   "cell_type": "code",
   "execution_count": 29,
   "metadata": {
    "slideshow": {
     "slide_type": "subslide"
    }
   },
   "outputs": [],
   "source": [
    "## construct the matrix SS\n",
    "sc = np.zeros(Np*fsT, dtype=complex)\n",
    "sc[::fsT] = pn\n",
    "\n",
    "sr = np.zeros_like(ca)\n",
    "sr[0] = pn[0]\n",
    "\n",
    "SS = toeplitz(sc, sr)\n",
    "\n",
    "## compute the projection matrix for SS\n",
    "SSp = SS @ np.linalg.pinv(SS)"
   ]
  },
  {
   "cell_type": "markdown",
   "metadata": {
    "slideshow": {
     "slide_type": "slide"
    }
   },
   "source": [
    "Now we can compute $\\rho[k]$ for sample indices $k$. Usually this would be done in a loop that terminates once the threshold $\\gamma$ is breached."
   ]
  },
  {
   "cell_type": "code",
   "execution_count": 30,
   "metadata": {
    "slideshow": {
     "slide_type": "subslide"
    }
   },
   "outputs": [
    {
     "name": "stdout",
     "output_type": "stream",
     "text": [
      "The maximum of rho occurs at k = 28 (true delay: 31)\n"
     ]
    }
   ],
   "source": [
    "rho = np.zeros(100)\n",
    "\n",
    "for m in range(100):\n",
    "    this_rr = np.expand_dims(rrd[m:m+62], 1)\n",
    "    rp = SSp @ this_rr\n",
    "\n",
    "    tmp = np.squeeze( (rp.conj().T @ rp) /  (this_rr.conj().T @ this_rr) )\n",
    "    rho[m] = np.real(tmp)\n",
    "\n",
    "print(\"The maximum of rho occurs at k = {:d} (true delay: {:d})\".format(np.argmax(rho), delay))"
   ]
  },
  {
   "cell_type": "code",
   "execution_count": 31,
   "metadata": {
    "slideshow": {
     "slide_type": "subslide"
    }
   },
   "outputs": [
    {
     "data": {
      "image/png": "[encoded data removed]",
      "text/plain": [
       "<Figure size 432x288 with 1 Axes>"
      ]
     },
     "metadata": {
      "needs_background": "light"
     },
     "output_type": "display_data"
    }
   ],
   "source": [
    "plt.plot(rho)\n",
    "plt.grid()\n",
    "plt.xlabel('$k$')\n",
    "plt.ylabel(r'$\\rho[k]$')\n",
    "plt.show()"
   ]
  },
  {
   "cell_type": "markdown",
   "metadata": {
    "slideshow": {
     "slide_type": "slide"
    }
   },
   "source": [
    "### Estimating the Frequency Offset\n",
    "\n",
    "We have been able to locate the start of the preamble at sample $k=31$. \n",
    "\n",
    "Since the preamble sequence contains 31 symbols sampled at 2 samples per symbol, the preamble contains 62 samples.\n",
    "\n",
    "The projection of $\\vec{r}$ into the subspace spanned by $\\mathbf{S}$ is  \n",
    "$$\n",
    "\\vec{\\hat{r}}[k] = \\mathbf{S}(\\mathbf{S}^H\\mathbf{S})^{-1}\\mathbf{S}^H\\vec{r}[k] = \\mathbf{S} \\vec{\\hat{c}}.\n",
    "$$\n",
    "\n",
    "Since $\\vec{\\hat{c}}$ is constant, it cannnot reflect the frequency offset in the received signal.\n",
    "\n",
    "This suggest that we can estimate the frequency offset from the phase difference between $\\vec{\\hat{r}}$ and $\\vec{r}$."
   ]
  },
  {
   "cell_type": "code",
   "execution_count": 32,
   "metadata": {
    "slideshow": {
     "slide_type": "subslide"
    }
   },
   "outputs": [],
   "source": [
    "## project the received preamble samples onto the space spanned by S\n",
    "d = np.argmax(rho) \n",
    "L = len(pn)*fsT\n",
    "\n",
    "# projection\n",
    "rrp = np.squeeze( SSp @ np.expand_dims(rrd[d:d+L], 1) )"
   ]
  },
  {
   "cell_type": "code",
   "execution_count": 33,
   "metadata": {
    "slideshow": {
     "slide_type": "subslide"
    }
   },
   "outputs": [
    {
     "data": {
      "image/png": "[encoded data removed]",
      "text/plain": [
       "<Figure size 432x288 with 1 Axes>"
      ]
     },
     "metadata": {
      "needs_background": "light"
     },
     "output_type": "display_data"
    }
   ],
   "source": [
    "## compute and plot the phase difference between projection and signal\n",
    "plt.plot(np.angle(rrp.conj() * rrd[d:d+L])/np.pi)\n",
    "plt.grid()\n",
    "\n",
    "plt.ylabel('phase difference (rad/$\\pi$)')\n",
    "plt.show()"
   ]
  },
  {
   "cell_type": "markdown",
   "metadata": {
    "slideshow": {
     "slide_type": "fragment"
    }
   },
   "source": [
    "The erratic behavior over the first few samples is due to the transient at the start of the preamble; over the first few samples the signal is still weak and the noise affects the phase strongly.\n",
    "\n",
    "To avoid large estimation errors, the samples at the start of the preamble will be skipped. Specifically, we will skip as many samples as there are taps in the impulse response."
   ]
  },
  {
   "cell_type": "code",
   "execution_count": 34,
   "metadata": {
    "slideshow": {
     "slide_type": "subslide"
    }
   },
   "outputs": [
    {
     "name": "stdout",
     "output_type": "stream",
     "text": [
      "Estimated frequency offset: 0.0011 (true: 0.0020)\n"
     ]
    }
   ],
   "source": [
    "## estimate the frequency error\n",
    "# since phase error is erratic at the start, we skip the first few samples\n",
    "skip = len(ca)\n",
    "\n",
    "pd = np.angle(rrp.conj() * rrd[d:d+L])\n",
    "f_est = (pd[-1] - pd[skip]) / (L-skip) / (2*np.pi)\n",
    "\n",
    "print(\"Estimated frequency offset: {:6.4f} (true: {:6.4f})\".format(f_est, f_off))\n"
   ]
  },
  {
   "cell_type": "markdown",
   "metadata": {
    "slideshow": {
     "slide_type": "slide"
    }
   },
   "source": [
    "## Putting it all together\n",
    "\n",
    "We have learned about all the elements that are needed to overcome slowly time-varying channels and frequency errors. We know how to detect the preamble and how to adapt the equalizer weights and to track the time-varying phase of the channel due to frequency error.\n",
    "\n",
    "To conclude our discussion, we will consider a comprehensive example that exercises all the tools in our toolbox. Specifically, the received signal is:\n",
    "* QPSK modulated with SRRC pulse shaping\n",
    "* a known preamble can be used to detect the start of the signal\n",
    "* the channel is dispersive and adds AWGN\n",
    "* there is a (possibly time-varying) frequency offset between transmitter and receiver\n",
    "\n",
    "The elements of the receiver will be discussed as we process the received signal. "
   ]
  },
  {
   "cell_type": "code",
   "execution_count": 35,
   "metadata": {
    "slideshow": {
     "slide_type": "subslide"
    }
   },
   "outputs": [],
   "source": [
    "## construct a suitable training signal followed by information symbols\n",
    "# Parameters\n",
    "fsT = 8     # tx oversampling; will be reduced to 2x ovesampling at rx\n",
    "Np = 31      # length of preamble\n",
    "fb = 5      # LFSR feedback\n",
    "\n",
    "Ap = np.array([1.0, -1.0], dtype=complex) # BPSK for preamble\n",
    "A = np.exp(1j*np.pi/4*np.arange(1, 8, 2)) # QPSK for info\n",
    "Ns = 1024     # number of information symbols\n",
    "\n",
    "hh = srrc_pulse(0.5, fsT)\n",
    "\n",
    "# make preamble symbols and info symbols, then concatenate\n",
    "pn = Ap[lfsr(1, fb, Np, 5)]\n",
    "syms = random_symbols(A, Ns)\n",
    "\n",
    "sig = pulse_shape(np.concatenate((pn, syms)), hh, fsT)"
   ]
  },
  {
   "cell_type": "code",
   "execution_count": 36,
   "metadata": {
    "slideshow": {
     "slide_type": "subslide"
    }
   },
   "outputs": [],
   "source": [
    "## channel parameters\n",
    "delay_samples = 125\n",
    "ds_factor = 4       # down-sample by 4\n",
    "\n",
    "df = 0.1/(fsT*(Np-1))  # frequency offset per symbol period, phase change is 0.1*2*pi over course of preamble\n",
    "\n",
    "# delay by pre-pending zeros\n",
    "rr = np.concatenate(( np.zeros(delay_samples), \n",
    "                      sig * np.exp(2j * np.pi * df * np.arange(len(sig))),\n",
    "                      np.zeros(100, dtype=complex) ))\n",
    "\n",
    "# dispersive channel, length 24, spans 3 symbol periods\n",
    "# the channel has two exponentially decaying segments - that's a common model for wireless multipath\n",
    "# channel taps have random phase\n",
    "L = 3\n",
    "c = np.zeros(L*fsT, dtype=complex)\n",
    "c[:len(c)//2] = np.exp(-0.25*np.arange(len(c)//2))\n",
    "c[len(c)//2:] = 0.5*np.exp(-0.3*np.arange(len(c)//2))\n",
    "c *= np.exp(2j*np.pi*np.random.rand(len(c)))\n",
    "c = c / np.linalg.norm(c)\n",
    "\n",
    "rr = np.convolve(c, rr)\n",
    "\n",
    "# down-sample\n",
    "rr = rr[::ds_factor]\n",
    "fsT_r = fsT // ds_factor\n",
    "\n",
    "SNR_dB = 20\n",
    "SNR = 10**(SNR_dB/10)\n",
    "noise_var = 1 / SNR \n",
    "\n",
    "# add noise \n",
    "rr = np.sqrt(ds_factor)*rr + np.sqrt(0.5 * noise_var) * (np.random.randn(len(rr)) + 1j*np.random.randn(len(rr))) "
   ]
  },
  {
   "cell_type": "markdown",
   "metadata": {
    "slideshow": {
     "slide_type": "slide"
    }
   },
   "source": [
    "## Receiver Processing\n",
    "\n",
    "The first receiver task is to locate the preamble. For that purpose, we construct a symbols matrix $\\mathbf{S}$ from the symbols of the preamble. \n",
    "\n",
    "We should not assume that we know the length of the impulse response, precisely. In fact, we don't have the exact impulse response here because the effective channel is composed of pulse shaping and multipath (as given by `c`). \n",
    "\n",
    "It is reasonable to assume some knowledge about the delay spread (here $L=3$ symbols). Combining that with the pulse shaping, we will assume that the channel is well described as having 12 (twice oversampled) taps.\n",
    "\n",
    "This gives us enough information to construct the matrix $\\mathbf{S}$."
   ]
  },
  {
   "cell_type": "code",
   "execution_count": 37,
   "metadata": {
    "slideshow": {
     "slide_type": "subslide"
    }
   },
   "outputs": [],
   "source": [
    "## construct the matrix SS\n",
    "Nc = Np*fsT_r\n",
    "sc = np.zeros(Nc, dtype=complex)\n",
    "sc[::fsT_r] = pn\n",
    "\n",
    "Nr = 12  # assumed length of channel\n",
    "sr = np.zeros(Nr, dtype=complex)\n",
    "sr[0] = pn[0]\n",
    "\n",
    "SS = toeplitz(sc, sr)\n",
    "\n",
    "## compute the projection matrix for SS\n",
    "SSp = SS @ np.linalg.pinv(SS)"
   ]
  },
  {
   "cell_type": "markdown",
   "metadata": {
    "slideshow": {
     "slide_type": "subslide"
    }
   },
   "source": [
    "Again, we cheat a little bit and perform a direct search for the location of the maximum correlation. In operation, this process would work on a window of samples that advances by one position each time."
   ]
  },
  {
   "cell_type": "code",
   "execution_count": 38,
   "metadata": {
    "slideshow": {
     "slide_type": "fragment"
    }
   },
   "outputs": [
    {
     "name": "stdout",
     "output_type": "stream",
     "text": [
      "The maximum of rho occurs at k = 38\n"
     ]
    }
   ],
   "source": [
    "rho = np.zeros(100)\n",
    "\n",
    "for m in range(100):\n",
    "    this_rr = np.expand_dims(rr[m:m+Nc], 1)\n",
    "    rp = SSp @ this_rr\n",
    "\n",
    "    tmp = np.squeeze( (rp.conj().T @ rp) /  (this_rr.conj().T @ this_rr) )\n",
    "    rho[m] = np.real(tmp)\n",
    "\n",
    "d = np.argmax(rho)\n",
    "\n",
    "print(\"The maximum of rho occurs at k = {:d}\".format(d))"
   ]
  },
  {
   "cell_type": "code",
   "execution_count": 39,
   "metadata": {
    "slideshow": {
     "slide_type": "subslide"
    }
   },
   "outputs": [
    {
     "data": {
      "image/png": "[encoded data removed]",
      "text/plain": [
       "<Figure size 432x288 with 1 Axes>"
      ]
     },
     "metadata": {
      "needs_background": "light"
     },
     "output_type": "display_data"
    }
   ],
   "source": [
    "plt.plot(rho)\n",
    "plt.plot(d, rho[d], 'ro')\n",
    "plt.grid()\n",
    "\n",
    "plt.xlabel('Lag (samples)')\n",
    "plt.ylabel('Normalized Correlation')\n",
    "plt.show()"
   ]
  },
  {
   "cell_type": "markdown",
   "metadata": {
    "slideshow": {
     "slide_type": "slide"
    }
   },
   "source": [
    "### Frequency Offset Estimation\n",
    "\n",
    "Now, that we know where the preamble is located, we can estimate the frequency error from the phase difference between the received samples and the projection of those samples into the space spanned by the coolumns of $\\mathbf{S}$."
   ]
  },
  {
   "cell_type": "code",
   "execution_count": 40,
   "metadata": {
    "slideshow": {
     "slide_type": "fragment"
    }
   },
   "outputs": [
    {
     "data": {
      "image/png": "[encoded data removed]",
      "text/plain": [
       "<Figure size 432x288 with 1 Axes>"
      ]
     },
     "metadata": {
      "needs_background": "light"
     },
     "output_type": "display_data"
    }
   ],
   "source": [
    "## project the received preamble samples onto the space spanned by S\n",
    "d = np.argmax(rho)\n",
    "\n",
    "# projection\n",
    "rrp = np.squeeze( SSp @ np.expand_dims(rr[d:d+Nc], 1) )\n",
    "\n",
    "## compute and plot the phase difference between projection and signal\n",
    "plt.plot(np.angle(rrp.conj() * rr[d:d+Nc])/np.pi)\n",
    "plt.grid()\n",
    "\n",
    "plt.ylabel('phase difference (rad/$\\pi$)')\n",
    "plt.show()"
   ]
  },
  {
   "cell_type": "code",
   "execution_count": 41,
   "metadata": {
    "slideshow": {
     "slide_type": "subslide"
    }
   },
   "outputs": [
    {
     "name": "stdout",
     "output_type": "stream",
     "text": [
      "Estimated frequency offset: -0.0005 (true: 0.0017)\n"
     ]
    }
   ],
   "source": [
    "## estimate the frequency error\n",
    "# since phase error is erratic at the start, we skip the first Nr samples\n",
    "skip = Nr\n",
    "\n",
    "pd = np.angle(rrp.conj() * rr[d:d+Nc])\n",
    "f_est = (pd[-1] - pd[skip]) / (Nc-skip) / (2*np.pi)\n",
    "\n",
    "print(\"Estimated frequency offset: {:6.4f} (true: {:6.4f})\".format(f_est, ds_factor*df))"
   ]
  },
  {
   "cell_type": "markdown",
   "metadata": {
    "slideshow": {
     "slide_type": "slide"
    }
   },
   "source": [
    "### Estimating the effective channel impulse response\n",
    "\n",
    "The other quantity that we should extract from the detected preamble is the channel impulse response. We will use it to initialize the equalizer.\n",
    "\n",
    "Recall that the maximum-likelihood estimate of the channel impulse response is \n",
    "$$\n",
    "    \\vec{c} = \\mathbf{S}^+ \\vec{r},\n",
    "$$\n",
    "where $\\vec{r}$ holds the samples of the preamble."
   ]
  },
  {
   "cell_type": "code",
   "execution_count": 42,
   "metadata": {
    "slideshow": {
     "slide_type": "subslide"
    }
   },
   "outputs": [
    {
     "data": {
      "image/png": "[encoded data removed]",
      "text/plain": [
       "<Figure size 432x288 with 1 Axes>"
      ]
     },
     "metadata": {
      "needs_background": "light"
     },
     "output_type": "display_data"
    }
   ],
   "source": [
    "## Estimate the effective impulse response of the channel\n",
    "c_hat = np.linalg.pinv(SS) @ rr[d:d+Nc]\n",
    "\n",
    "# and plot it\n",
    "plt.plot(np.abs(c_hat))\n",
    "plt.grid()\n",
    "plt.xlabel('Samples')\n",
    "plt.ylabel(r'$\\hat{c}$')\n",
    "\n",
    "plt.show()"
   ]
  },
  {
   "cell_type": "markdown",
   "metadata": {
    "slideshow": {
     "slide_type": "fragment"
    }
   },
   "source": [
    "In the estimated impulse response, we can still make out one of the two \"exponential peaks\". It has been smoothed by the pulse shaping.\n",
    "\n",
    "The fact that the second (smaller) peak is missing and the samll taps at the start suggest strongly that the delay estimate is not ideal. It may well be worthwhile to try another (slightly smaller) value for the delay estimate. That would shift the estimated impulse response to the left.\n",
    "\n",
    "**Note:** these observations change from run to run because of the random nature of the impulse response."
   ]
  },
  {
   "cell_type": "markdown",
   "metadata": {
    "slideshow": {
     "slide_type": "slide"
    }
   },
   "source": [
    "### Initializing the Equalizer\n",
    "\n",
    "We can now use the estimated channel impulse reponse to initialize the equalizer.\n",
    "\n",
    "Specifically, the estimated impulse response $\\vec{\\hat{c}}$ is used to construct channel matrices $\\mathbf{C}_f$ and $\\mathbf{C}_b$.\n"
   ]
  },
  {
   "cell_type": "code",
   "execution_count": 43,
   "metadata": {
    "slideshow": {
     "slide_type": "subslide"
    }
   },
   "outputs": [],
   "source": [
    "## Construct the matrix Cf\n",
    "# first we construct a full Toeplitz matrix and then downsample to fsT_r by deleting columns\n",
    "Kf = 24\n",
    "cc = np.concatenate((c_hat, np.zeros(Kf-len(c_hat))))\n",
    "cr = np.concatenate(([c_hat[0]], np.zeros(Kf-1)))\n",
    "\n",
    "Cf = toeplitz(cc, cr)[:, 0::fsT_r]\n",
    "\n",
    "# and then te matrix Cb\n",
    "Kb = 5\n",
    "Cb = np.zeros((Kf, Kb), dtype=complex)\n",
    "for n in range(Kb):\n",
    "    Cb[:2*(n+1), n] = c_hat[-2*(n+1):]"
   ]
  },
  {
   "cell_type": "markdown",
   "metadata": {
    "slideshow": {
     "slide_type": "subslide"
    }
   },
   "source": [
    "The matrix $\\mathbf{C}_f$ is then used to determine the weights of the feedforward equalizer\n",
    "$$\n",
    "\\vec{\\hat{v}}_f = (\\mathbf{C}_f^+)^H \\cdot \\vec{e}_0\n",
    "$$"
   ]
  },
  {
   "cell_type": "code",
   "execution_count": 44,
   "metadata": {
    "slideshow": {
     "slide_type": "fragment"
    }
   },
   "outputs": [],
   "source": [
    "## Compute weights for the FF filter from matrix Cf\n",
    "e0 = np.zeros(Cf.shape[1])\n",
    "e0[0] = 1\n",
    "\n",
    "vf = np.linalg.pinv(Cf).conj().T @e0"
   ]
  },
  {
   "cell_type": "markdown",
   "metadata": {
    "slideshow": {
     "slide_type": "subslide"
    }
   },
   "source": [
    "The weights of the FB filter are given by\n",
    "$$\n",
    "\\vec{v}_b = -\\vec{v}_f^H \\mathbf{C}_b.\n",
    "$$"
   ]
  },
  {
   "cell_type": "code",
   "execution_count": 45,
   "metadata": {
    "slideshow": {
     "slide_type": "fragment"
    }
   },
   "outputs": [],
   "source": [
    "## Compute weights for the feedback filter\n",
    "vb = -vf.conj().T @ Cb"
   ]
  },
  {
   "cell_type": "markdown",
   "metadata": {
    "slideshow": {
     "slide_type": "slide"
    }
   },
   "source": [
    "### Complete Receiver\n",
    "\n",
    "We have initial estimates for the frequency offset and the equalizer weights.\n",
    "We still have to figure out how to compbine the adaptations in the PLL and the adaptive equalizer.\n",
    "\n",
    "A concern is that the two feedabck loops interfere with each other. The fundamental problem is that both tracking loops seek to minimimze the same objective function - the mean-squared error between the input and output to the decision device.\n",
    "\n",
    "To avoid this we will seek to decouple the loops. The equalizer comes first, followed by the PLL closest to the decision device.\n",
    "\n",
    "Consequently, the output of the equalizer may have a phase error that the PLL will correct.\n",
    "\n",
    "Denote the outputput from the equaizer as $y[m]$ and the input to the decision device by $\\hat{s}_m$. As the PLL corrects the phase of $y[m]$ to produce $\\hat{s}_m$, we have\n",
    "$$\n",
    "    \\hat{s}_m = y[m] \\cdot e^{-j \\phi[m]},\n",
    "$$\n",
    "where $\\phi[m]$ is the current phase estimate.\n",
    "\n",
    "The error $e[m]$ that drives the PLL is\n",
    "$$\n",
    "    e[m] = \\bar{s}_m - \\hat{s}_m.\n",
    "$$\n",
    "\n",
    "For the equalizer, the error signal should reflect the fact that a phase correction will still be applied:\n",
    "$$\n",
    "e_Q[m] = \\bar{s}_m \\cdot e^{j \\phi[m]} - y[m] = \\bar{s}_m \\cdot e^{j \\phi[m]} - \\hat{s}_m \\cdot e^{j \\phi[m]} = e[m] \\cdot e^{j \\phi[m]}.\n",
    "$$\n",
    "The equalizer updates should be driven by the error signal $e[m]$ rotated by the current phase estimate."
   ]
  },
  {
   "cell_type": "code",
   "execution_count": 46,
   "metadata": {
    "slideshow": {
     "slide_type": "subslide"
    }
   },
   "outputs": [],
   "source": [
    "## initialize the PLL\n",
    "alpha1 = 0.1    # gains for PLL\n",
    "alpha2 = 0.004\n",
    "\n",
    "HP = Second_Order_Filter(alpha1, alpha2)\n",
    "SP = Integrator()\n",
    "SP.state = 0                # the equalizer does amplitude and phase correction, set initial phase to 0\n",
    "HP.state = 2*np.pi*f_est    # and frequency estimate\n",
    "\n",
    "## and the DFE\n",
    "eq = LMS(Kf, Kb, 0.5)\n",
    "#eq = RLS(Kf, Kb, fsT_r, 0.95)\n",
    "eq.v = np.concatenate((vf, vb))  # set equalizer weights reshape(1, -1)\n",
    "#eq.sr_sym = pn[-Kb:]             # set last Kb training symbols\n",
    "\n",
    "#start = d + Nc  # index of first payload symbol\n"
   ]
  },
  {
   "cell_type": "markdown",
   "metadata": {
    "slideshow": {
     "slide_type": "subslide"
    }
   },
   "source": [
    "Even though, we have initialized the equalizer weights and the PLL from the estimated impulse response, it is safer to use the preamble to adapt the equalizer and the PLL so that both are stable once we begin to process the payload.\n",
    "\n",
    "The various processing steps are explained in conjunction with the payload processing below."
   ]
  },
  {
   "cell_type": "code",
   "execution_count": 47,
   "metadata": {
    "slideshow": {
     "slide_type": "subslide"
    }
   },
   "outputs": [],
   "source": [
    "## use the preamble to warm up the equalizer and the PLL\n",
    "start = d\n",
    "eq.sr_sym[:] = 0\n",
    "\n",
    "for m in range(Np):\n",
    "    # equalize and phase correct\n",
    "    vec_rr = rr[start:start+Kf]\n",
    "    y = eq.equalize(vec_rr)\n",
    "    phi = SP.state\n",
    "    ss = y * np.exp(-1j*phi)\n",
    "    \n",
    "    error = pn[m] - ss  # true error, using training symbols\n",
    "\n",
    "    # uodate PLL and equalizer\n",
    "    dphi = np.angle(ss / pn[m])\n",
    "    tmp = HP(dphi)\n",
    "    SP(tmp)\n",
    "    eq.update(error * np.exp(1j*phi), pn[m], vec_rr)\n",
    "\n",
    "    start += fsT_r"
   ]
  },
  {
   "cell_type": "markdown",
   "metadata": {
    "slideshow": {
     "slide_type": "subslide"
    }
   },
   "source": [
    "Now, we can demodulate the payload. The order of steps is:\n",
    "\n",
    "1. equalize\n",
    "2. correct phase\n",
    "3. decision\n",
    "4. update PLL with phase error\n",
    "5. update equalizer (with phase rotated error)"
   ]
  },
  {
   "cell_type": "code",
   "execution_count": 48,
   "metadata": {
    "slideshow": {
     "slide_type": "subslide"
    }
   },
   "outputs": [
    {
     "name": "stdout",
     "output_type": "stream",
     "text": [
      "Number of errors in 1024 symbols: 0\n"
     ]
    }
   ],
   "source": [
    "## demodulate the payload with the help of a PLL and LMS equalizer\n",
    "\n",
    "s_hat = np.zeros_like(syms)\n",
    "ss_vec = np.zeros_like(syms)\n",
    "yy_vec = np.zeros_like(syms)\n",
    "\n",
    "for m in range(Ns):\n",
    "    # get vector of received samples\n",
    "    vec_rr = rr[start:start+Kf]\n",
    "\n",
    "    # apply equalizer\n",
    "    y = eq.equalize(vec_rr)\n",
    "    yy_vec[m] = y\n",
    "\n",
    "    # phase correction\n",
    "    phi = SP.state\n",
    "    ss = y * np.exp(-1j*phi)\n",
    "    ss_vec[m] = ss\n",
    "\n",
    "    # decision\n",
    "    s_hat[m] = MPE_decision_rule([ss], A)\n",
    "\n",
    "    # decision feedback\n",
    "    error = s_hat[m] - ss\n",
    "\n",
    "    # update PLL\n",
    "    dphi = np.angle(ss / s_hat[m])\n",
    "    tmp = HP(dphi)\n",
    "    SP(tmp)\n",
    "\n",
    "    # update EQ - rotate error by phi\n",
    "    eq.update(error * np.exp(1j*phi), s_hat[m], vec_rr)\n",
    "\n",
    "\n",
    "    start += fsT_r\n",
    "\n",
    "print(\"Number of errors in {:d} symbols: {:d}\".format(Ns, np.sum(syms != s_hat)))\n"
   ]
  },
  {
   "cell_type": "code",
   "execution_count": 49,
   "metadata": {
    "slideshow": {
     "slide_type": "subslide"
    }
   },
   "outputs": [
    {
     "data": {
      "image/png": "[encoded data removed]",
      "text/plain": [
       "<Figure size 432x288 with 1 Axes>"
      ]
     },
     "metadata": {
      "needs_background": "light"
     },
     "output_type": "display_data"
    }
   ],
   "source": [
    "## plot the constellation\n",
    "plt.plot(yy_vec.real, yy_vec.imag, '.', label=\"Equalizer\")\n",
    "plt.plot(ss_vec.real, ss_vec.imag, '.', label=\"PLL\")\n",
    "plt.grid()\n",
    "plt.axis('equal')\n",
    "plt.legend()\n",
    "plt.xlabel('In-phase')\n",
    "plt.ylabel('Quadrature')\n",
    "plt.show()"
   ]
  },
  {
   "cell_type": "markdown",
   "metadata": {
    "slideshow": {
     "slide_type": "slide"
    }
   },
   "source": [
    "## Summary\n",
    "\n",
    "We have shown a complete receiver that is able to overcome channel dispersion and frequency error. This includes detection of the signal by means of a known preamble signal and adaptive demodulation of the payload.\n",
    "\n",
    "Also, we have see how the results from the initial acqiuisition can be used to initialize both the PLL and the equalizer."
   ]
  },
  {
   "cell_type": "markdown",
   "metadata": {},
   "source": []
  }
 ],
 "metadata": {
  "celltoolbar": "Slideshow",
  "kernelspec": {
   "display_name": "Python 3 (ipykernel)",
   "language": "python",
   "name": "python3"
  },
  "language_info": {
   "codemirror_mode": {
    "name": "ipython",
    "version": 3
   },
   "file_extension": ".py",
   "mimetype": "text/x-python",
   "name": "python",
   "nbconvert_exporter": "python",
   "pygments_lexer": "ipython3",
   "version": "3.9.15"
  },
  "vscode": {
   "interpreter": {
    "hash": "5984c07bd85a09704efeebc43c280456997f3d9e1810f10980d19f89f173e200"
   }
  }
 },
 "nbformat": 4,
 "nbformat_minor": 2
}
