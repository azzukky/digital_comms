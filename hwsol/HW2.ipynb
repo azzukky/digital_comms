{
 "cells": [
  {
   "cell_type": "markdown",
   "metadata": {},
   "source": [
    "# Solution for Homework 2"
   ]
  },
  {
   "cell_type": "code",
   "execution_count": 2,
   "metadata": {},
   "outputs": [],
   "source": [
    "## Boilerplate instructions for importing NumPy and Matplotlib\n",
    "# Import NumPy\n",
    "import numpy as np\n",
    "\n",
    "# To plot pretty figures, use matplotlib\n",
    "%matplotlib inline\n",
    "import matplotlib as mpl\n",
    "import matplotlib.pyplot as plt\n",
    "mpl.rc('axes', labelsize=14)\n",
    "mpl.rc('xtick', labelsize=12)\n",
    "mpl.rc('ytick', labelsize=12)\n",
    "\n",
    "# Below are functions that we \"borrow\" from the notebook usd in class "
   ]
  },
  {
   "cell_type": "markdown",
   "metadata": {},
   "source": [
    "### Copy functions from Class Notebook"
   ]
  },
  {
   "cell_type": "code",
   "execution_count": 3,
   "metadata": {},
   "outputs": [],
   "source": [
    "from scipy import special\n",
    "\n",
    "def Q(x):\n",
    "    \"\"\"Gaussian error integral\"\"\"\n",
    "    return 0.5 - 0.5*special.erf(x/np.sqrt(2))"
   ]
  },
  {
   "cell_type": "code",
   "execution_count": 4,
   "metadata": {},
   "outputs": [],
   "source": [
    "def pulse_shape(symbols, pulse, fsT):\n",
    "    \"\"\"Generate a pulse-shaped QAM signal\n",
    "    \n",
    "    Inputs:\n",
    "    symbols - a sequence of information symbols; rate 1/T\n",
    "    pulse - sampled pulse shape; rate fsT/T\n",
    "    fsT - samples per symbol period\n",
    "\n",
    "    Returns:\n",
    "    Numpy array with fsT*(len(symbols) - 1) + len(pulse)  samples\n",
    "    \"\"\"\n",
    "    # step 1: upsample the symbol sequence\n",
    "    up_symbols = np.zeros(fsT * (len(symbols) - 1) + 1, dtype=symbols.dtype)\n",
    "    up_symbols[::fsT] = symbols\n",
    "\n",
    "    # step 2: filter\n",
    "    return np.convolve(up_symbols, pulse)"
   ]
  },
  {
   "cell_type": "code",
   "execution_count": 5,
   "metadata": {},
   "outputs": [],
   "source": [
    "def random_symbols(A, N):\n",
    "    \"\"\"generate random symbols from the constallation A\n",
    "    \n",
    "    Inputs:\n",
    "    A - np.ndarray of symbols in constellation, e.g., A = np.array([1, -1]) for BPSK\n",
    "    N - number of random symbols to produce\n",
    "\n",
    "    Returns:\n",
    "    Numpy array of length N\n",
    "    \"\"\"\n",
    "    return A[np.random.randint(len(A), size=N)]"
   ]
  },
  {
   "cell_type": "code",
   "execution_count": 6,
   "metadata": {},
   "outputs": [],
   "source": [
    "def MPE_decision_rule(Z, A):\n",
    "    \"\"\"Decide which symbol was most likely transmitted\n",
    "    \n",
    "    This function examines matched filter outputs (in vector Z) and for each element of Z selects the symbol \n",
    "    from constellation A that is closest.\n",
    "\n",
    "    Inputs:\n",
    "    Z - Vector of matched filter outputs\n",
    "    A - Constellation\n",
    "\n",
    "    Returns:\n",
    "    Numpy array of the same length as Z\n",
    "    \"\"\"\n",
    "    dec = np.empty_like(Z)\n",
    "\n",
    "    for n in range(len(Z)):\n",
    "        this_Z = Z[n]\n",
    "        ind = np.argmin(np.abs(A-this_Z))\n",
    "        dec[n] = A[ind]\n",
    "\n",
    "    return dec"
   ]
  },
  {
   "cell_type": "code",
   "execution_count": 7,
   "metadata": {},
   "outputs": [],
   "source": [
    "def half_sine_pulse(fsT):\n",
    "    \"\"\"Generate a pulse that is shaped like a half cycle of a sinusoid\n",
    "    \n",
    "    Inputs:\n",
    "    fsT - number of samples per symbol period\n",
    "\n",
    "    Returns:\n",
    "    Numpy array with fsT+1 samples (the sample at time t=T is included)\n",
    "    \"\"\"\n",
    "\n",
    "    tt = np.arange(fsT+1) / fsT\n",
    "    return np.sqrt(2/fsT) * np.sin(np.pi*tt)\n"
   ]
  },
  {
   "cell_type": "markdown",
   "metadata": {},
   "source": [
    "## Solution for Problem 2\n",
    "\n",
    "**Problem Statement:** The\n",
    "notebook from class 2 concluded with an example that showed how\n",
    "to perform a Monte Carlo Simulation to estimate the symbol error\n",
    "rate for a single SNR value. Since this is a symbol error\n",
    "simulation, define SNR to be the ratio of symbol energy $E_s$ to\n",
    "noise power spectral density $N_0$. \n",
    "\n",
    "1. Expand this simulation to cover the range of SNR values from 5dB to 15dB (in 1dB steps).\n",
    "2. Compute the exact symbol error probability for the QPSK signal set over this range of SNRs.\n",
    "3. Plot both the exact and the simulated error rate; use a logarithmic scale for the error probability and indicate 95% confidence intervals on the plot for the simulated error rate."
   ]
  },
  {
   "cell_type": "code",
   "execution_count": 19,
   "metadata": {},
   "outputs": [],
   "source": [
    "# Simulation Parameters\n",
    "fsT = 8\n",
    "pp = half_sine_pulse(fsT)   # this is normalized to unit energy\n",
    "SNR_dB = np.arange(5., 16.)   # range of dB values\n",
    "\n",
    "A = np.array([1+1j, 1-1j, -1+1j, -1-1j]) / np.sqrt(2) # define a normalized QPSK constellation\n",
    "N = 1024                    # number of symbols per burst\n",
    "\n",
    "# simulation parameters\n",
    "max_bursts = 1000\n",
    "max_errors = 400\n",
    "\n",
    "## storage for results\n",
    "num_errors = np.zeros_like(SNR_dB, dtype=int)\n",
    "num_symbols = np.zeros_like(num_errors)\n",
    "\n",
    "P_exact = np.zeros_like(SNR_dB)\n",
    "P_MC = np.zeros_like(SNR_dB)\n",
    "sc = np.zeros_like(P_MC)"
   ]
  },
  {
   "cell_type": "code",
   "execution_count": 28,
   "metadata": {},
   "outputs": [],
   "source": [
    "## the Monte Carlo loop; first over SNR\n",
    "for n in range(len(SNR_dB)):\n",
    "    N_bursts = 0\n",
    "    N_errors = 0\n",
    "    SNR = 10**(SNR_dB[n]/10)\n",
    "\n",
    "    # then repeat until we have enough errors\n",
    "    while N_bursts < max_bursts and N_errors < max_errors:\n",
    "        # Transmitter\n",
    "        sym = random_symbols(A, N)\n",
    "        ss = pulse_shape(sym, pp, fsT)\n",
    "    \n",
    "        # Channel\n",
    "        rr = ss + np.sqrt(0.5 * 1/SNR) * (np.random.randn(len(ss)) + 1j*np.random.randn(len(ss)))\n",
    "    \n",
    "        # receiver\n",
    "        mf_out = np.convolve(rr, np.flip(pp))\n",
    "        Z = mf_out[fsT:-fsT:fsT]\n",
    "        dec = MPE_decision_rule(Z, A)\n",
    "\n",
    "        # update simulation statistics\n",
    "        N_bursts += 1\n",
    "        N_errors += np.sum(np.not_equal(dec, sym))\n",
    "\n",
    "    # done with this SNR; store results for this SNR\n",
    "    num_errors[n] = N_errors\n",
    "    num_symbols[n] = N*N_bursts\n",
    "    P_MC[n] = num_errors[n]/num_symbols[n]\n",
    "    sc[n] = 1.96 * np.sqrt(P_MC[n] * (1 - P_MC[n]) / num_symbols[n])\n",
    "    P_exact[n] = 2*Q(np.sqrt(SNR)) - Q(np.sqrt(SNR))**2\n",
    "\n",
    "    # show results for this SNR\n",
    "    # print(\"SNR = {:4.1f} dB\".format(SNR_dB[n]))\n",
    "    # print(\"Found {:d} errors in {:d} symbols; estimated symbol error rate {:8.6f}\".format(num_errors[n], num_symbols[n], P_MC[n]))\n",
    "    # print(\"The exact value for the symbol error rate is: {:8.6f}\".format(P_exact[n]))"
   ]
  },
  {
   "cell_type": "code",
   "execution_count": 29,
   "metadata": {},
   "outputs": [
    {
     "data": {
      "image/png": "[encoded data removed]",
      "text/plain": [
       "<Figure size 432x288 with 1 Axes>"
      ]
     },
     "metadata": {
      "needs_background": "light"
     },
     "output_type": "display_data"
    }
   ],
   "source": [
    "plt.errorbar(SNR_dB, P_MC, yerr=sc, fmt='-o', label=\"Monte Carlo\")\n",
    "plt.plot(SNR_dB, P_exact, label='Exact')\n",
    "\n",
    "plt.grid()\n",
    "plt.xlabel('SNR (dB)')\n",
    "plt.ylabel('Symbol Error Probability')\n",
    "plt.yscale('log')\n",
    "plt.ylim([1e-6, 1e-1])\n",
    "\n",
    "plt.show()"
   ]
  },
  {
   "cell_type": "markdown",
   "metadata": {},
   "source": [
    "## Solution for Problem 3\n",
    "\n",
    "Look up the 16APSK constellation in the\n",
    "DVB-S2 standard (Figure 11 and Table 9 on page 27).\n",
    "    \n",
    "1. Consider $\\gamma=2.5$, find the nearest neighbor approximation for the (uncoded) symbol error\n",
    "rate. For what SNR (i.e., $E_s/N_0$) value $\\text{SNR}_0$ is the symbol error rate equal to\n",
    "$10^{-3}$?\n",
    "2. Simulate the symbol error rate, over a range of SNR values\n",
    "from $\\text{SNR}_0 - 5\\text{dB}$ to $\\text{SNR}_0 + 3\\text{dB}$. Plot the results with a lograrithmic\n",
    "y-axis and errorbars to indicate confidence intervals. Show the\n",
    "nearest neighbor approximation for comparison.\n",
    "3. Expand your simulation to measure *bit error rates*\n",
    "instead of symbol error rates. Use the bit mapping indicated in\n",
    "the standard and define SNR to be the ratio of bit energy $E_b$\n",
    "to noise power spectral density."
   ]
  },
  {
   "cell_type": "markdown",
   "metadata": {},
   "source": [
    "**Answer:** We begin by defining the 16APSK constellation. The ratio $\\gamma = \\frac{r_2}{r_1}$ is sspecified as 2.5. Additionally, we choose to normalize the constellation such that the average symbol energy $E_s=1$. This leads to the requirement that\n",
    "$$\n",
    "E_s = \\frac{1}{16} (4 r_1^2 + 12 r_2^2) = \\frac{r_1^2}{16}(4 + 12\\gamma^2) = 1.\n",
    "$$\n",
    "Thus, the two radii can be uniquely determined as shown below.\n",
    "\n",
    "To capture the mapping of 4-bit patterns to symbols, we define a dictionary with the 4-bit patterns as keys and the constellation pint as values. The 4-bit patterns are specified in binary form (e.g., `0b1001`) but they represent integers between 0 and 15. It is useful, to derive from the dictionary an array of constellation points sorted by the 4-bit patterns, i.e., the constellation point for `0b0000` comes first, then `0b0001`, and finally `0b1111`."
   ]
  },
  {
   "cell_type": "code",
   "execution_count": 52,
   "metadata": {},
   "outputs": [],
   "source": [
    "# figure out the parameters of the constellation\n",
    "gamma = 2.5\n",
    "r1 = np.sqrt(16/(4+12*gamma**2))\n",
    "r2 = gamma*r1\n",
    "\n",
    "# define the constellation as a dictionary\n",
    "APSK16 = {\n",
    "    # inner ring\n",
    "    0b1100: r1 * np.exp(1j*1*np.pi/4),\n",
    "    0b1110: r1 * np.exp(1j*3*np.pi/4),\n",
    "    0b1111: r1 * np.exp(1j*5*np.pi/4),\n",
    "    0b1101: r1 * np.exp(1j*7*np.pi/4),\n",
    "    # outer ring\n",
    "    0b0100: r2 * np.exp(1j*1*np.pi/12),\n",
    "    0b0000: r2 * np.exp(1j*3*np.pi/12),\n",
    "    0b1000: r2 * np.exp(1j*5*np.pi/12),\n",
    "    0b1010: r2 * np.exp(1j*7*np.pi/12),\n",
    "    0b0010: r2 * np.exp(1j*9*np.pi/12),\n",
    "    0b0110: r2 * np.exp(1j*11*np.pi/12),\n",
    "    0b0111: r2 * np.exp(1j*13*np.pi/12),\n",
    "    0b0011: r2 * np.exp(1j*15*np.pi/12),\n",
    "    0b1011: r2 * np.exp(1j*17*np.pi/12),\n",
    "    0b1001: r2 * np.exp(1j*19*np.pi/12),\n",
    "    0b0001: r2 * np.exp(1j*21*np.pi/12),\n",
    "    0b0101: r2 * np.exp(1j*23*np.pi/12),\n",
    "}\n",
    "\n",
    "# construct an array of constellation points sorted by the 4-bit patterns\n",
    "A_APSK16 = np.array([APSK16[n] for n in range(16)])"
   ]
  },
  {
   "cell_type": "markdown",
   "metadata": {},
   "source": [
    "We will also need a function for looking up the 4-bit pattern for a given constellation point. Here is a function to do that."
   ]
  },
  {
   "cell_type": "code",
   "execution_count": 69,
   "metadata": {},
   "outputs": [],
   "source": [
    "def get_bits(x, A):\n",
    "    \"\"\"look-up the bit pattern for the closest constellation point\n",
    "    \n",
    "    Inputs:\n",
    "    x - observed constellation point\n",
    "    A - constellation sorted by bit pattern\n",
    "\n",
    "    Returns\n",
    "    bit pattern represented as an integer\n",
    "    \"\"\" \n",
    "    return np.argmin(np.abs(A - x))"
   ]
  },
  {
   "cell_type": "markdown",
   "metadata": {},
   "source": [
    "Our first task is to obtain an estimate of the symbol error rate via the nearest neighbor approximation. For that approximation, we must find the minimum distance between any pair of constellation points.\n",
    "\n",
    "From the constellation diagram, it is readily apparent that there are three candidate pairs for the minimum distance:\n",
    "1. adjacent points on the inner circle, e.g., `0b1100` and `0b1101`: the distance between such points is $d_1=2r_1 \\sin(\\pi/4)=\\sqrt(2) \\cdot r_1$.\n",
    "2. adjacent points on the outer circle, e.g., `0b0100`and `0b01011: the distance between such points is \n",
    "$$\n",
    "d_2 = 2r_2 \\sin(\\pi/12)=\\frac{\\sqrt{6}-\\sqrt{2}}{2} \\cdot r_2 = \\frac{\\sqrt{6}-\\sqrt{2}}{2} \\gamma \\cdot r_1.\n",
    "$$\n",
    "3. points on inner and outer rings located on a diagonal, e.g., `0b1100` and `0b000`: the distance between such pairs is $d_3=r_2-r_1=(\\gamma-1)\\cdot r_1$\n",
    "\n",
    "For $gamma=2.5$, we have $d_2 < d_1 < d_3$ and $d_{min} = d_2$.\n",
    "\n",
    "We can now compute the energy efficiency $\\eta$ for this constellation,\n",
    "$$\n",
    "    \\eta = \\frac{d_{min}^2}{E_b} = \\frac{d_2^2}{E_s/4} = 4 d_2^2.\n",
    "$$\n",
    "\n",
    "Finally, we need the average number $N_{min}$ of neighbors at distance $d_{min}$. The twelve points on the outer ring each have two neighbors at distance $d_2$ and the four points on the inner ring have no neighbors at that distance. Hence,\n",
    "$$\n",
    "N_{min} = \\frac{1}{16}(12 \\cdot 2 + 4 \\cdot 0) = \\frac{3}{2}.\n",
    "$$\n",
    "\n",
    "The nearest neighbor approximatin to the symbol error probability is\n",
    "$$\n",
    "    P_e \\approx N_{min} \\cdot Q\\left( \\sqrt{\\frac{\\eta E_b}{2N_0}}\\right) = N_{min} \\cdot Q\\left( \\sqrt{\\frac{\\eta E_s/4}{2N_0}}\\right)\n",
    "$$\n",
    "\n",
    "Let's plot the nearest neighbor approximation so that we can determnine for what $E_s/N_0$ the symbol error rate is approximately $10^-3$."
   ]
  },
  {
   "cell_type": "code",
   "execution_count": 56,
   "metadata": {},
   "outputs": [
    {
     "data": {
      "image/png": "[encoded data removed]",
      "text/plain": [
       "<Figure size 432x288 with 1 Axes>"
      ]
     },
     "metadata": {
      "needs_background": "light"
     },
     "output_type": "display_data"
    }
   ],
   "source": [
    "# find d_min, eta, etc.\n",
    "d2 = 2*r2*np.sin(np.pi/12)\n",
    "eta = 4*d2**2\n",
    "N_min = 3/2\n",
    "\n",
    "# compute the nearest neighbor approximation\n",
    "SNR = np.logspace(0, 2, 100)\n",
    "Pe_NN = N_min * Q(np.sqrt(eta*SNR/4/2))\n",
    "\n",
    "# and plot it\n",
    "plt.semilogy(10*np.log10(SNR), Pe_NN)\n",
    "plt.grid()\n",
    "plt.xlabel('$E_s/N_0$ (dB)')\n",
    "plt.ylabel('Symbol Error Probability')\n",
    "\n",
    "plt.show()"
   ]
  },
  {
   "cell_type": "markdown",
   "metadata": {},
   "source": [
    "From the plot above, we can read off that $E_s/N_0$ must be approximately 17.5dB to yields a symbol error rate of $10^{-3}$.\n",
    "\n",
    "Before running the Monte Carlo simulation, we need one more tool. We need to be able to count the number of bit differences in one symbol. Specifically, we need a function that counts in how many bit positions two integers differ. The function below does that."
   ]
  },
  {
   "cell_type": "code",
   "execution_count": 58,
   "metadata": {},
   "outputs": [],
   "source": [
    "def d_hamming(x, y):\n",
    "    \"\"\"compute the hamming disatnce between bit vectors \n",
    "    \n",
    "    The bit vectors are represented by integers x and y\n",
    "\n",
    "    Inputs:\n",
    "    x - integer representing the first bit vector\n",
    "    y - integer representing the second bit vector\n",
    "\n",
    "    Returns:\n",
    "    Number of bit differences between x and y\n",
    "    \"\"\"\n",
    "    diff = x ^ y # bit-wise xor of x and y\n",
    "\n",
    "    n_diff = 0\n",
    "\n",
    "    while diff != 0:\n",
    "        n_diff += diff & 0b1\n",
    "        diff = diff >> 1\n",
    "\n",
    "    return n_diff"
   ]
  },
  {
   "cell_type": "code",
   "execution_count": 60,
   "metadata": {},
   "outputs": [],
   "source": [
    "# spot check that this is working correctly\n",
    "assert d_hamming(0b1010, 0b1000) == 1\n",
    "assert d_hamming(0b1010, 0b0000) == 2\n",
    "assert d_hamming(0b1010, 0b0101) == 4\n",
    "assert d_hamming(0b1010, 0b1010) == 0"
   ]
  },
  {
   "cell_type": "markdown",
   "metadata": {},
   "source": [
    "We now have all the required tool and information for the simulation.\n",
    "\n",
    "We define the simulation parameters and then run the simulation."
   ]
  },
  {
   "cell_type": "code",
   "execution_count": 76,
   "metadata": {},
   "outputs": [],
   "source": [
    "# Simulation Parameters\n",
    "fsT = 8\n",
    "pp = half_sine_pulse(fsT)   # this is normalized to unit energy\n",
    "SNR_dB = np.arange(17.5-5, 17.5+3.1, 0.5)   # range of dB values\n",
    "\n",
    "A = A_APSK16                # use the 16APSK constellation from above\n",
    "N = 1024                    # number of symbols per burst\n",
    "\n",
    "# simulation parameters\n",
    "max_bursts = 1000\n",
    "max_errors = 400\n",
    "\n",
    "## storage for results\n",
    "num_sym_errors = np.zeros_like(SNR_dB, dtype=int)\n",
    "num_bit_errors = np.zeros_like(SNR_dB, dtype=int)\n",
    "num_symbols = np.zeros_like(num_sym_errors)\n",
    "num_bits = np.zeros_like(num_bit_errors)\n",
    "\n",
    "P_NN = np.zeros_like(SNR_dB)\n",
    "P_MC_sym = np.zeros_like(SNR_dB)\n",
    "P_MC_bit = np.zeros_like(SNR_dB)\n",
    "sc_sym = np.zeros_like(SNR_dB)\n",
    "sc_bit = np.zeros_like(SNR_dB)"
   ]
  },
  {
   "cell_type": "code",
   "execution_count": 78,
   "metadata": {},
   "outputs": [],
   "source": [
    "## the Monte Carlo loop; first over SNR\n",
    "for n in range(len(SNR_dB)):\n",
    "    N_bursts = 0\n",
    "    N_sym_errors = 0\n",
    "    N_bit_errors = 0\n",
    "    SNR = 10**(SNR_dB[n]/10)\n",
    "\n",
    "    # then repeat until we have enough errors\n",
    "    while N_bursts < max_bursts and N_sym_errors < max_errors:\n",
    "        # Transmitter\n",
    "        sym = random_symbols(A, N)\n",
    "        ss = pulse_shape(sym, pp, fsT)\n",
    "    \n",
    "        # Channel\n",
    "        rr = ss + np.sqrt(0.5 * 1/SNR) * (np.random.randn(len(ss)) + 1j*np.random.randn(len(ss)))\n",
    "    \n",
    "        # receiver\n",
    "        mf_out = np.convolve(rr, np.flip(pp))\n",
    "        Z = mf_out[fsT:-fsT:fsT]\n",
    "        dec = MPE_decision_rule(Z, A)\n",
    "\n",
    "        # update simulation statistics\n",
    "        N_bursts += 1\n",
    "        N_sym_errors += np.sum(np.not_equal(dec, sym))\n",
    "        for m in range(N):\n",
    "            if dec[m] != sym[m]:\n",
    "                N_bit_errors += d_hamming(get_bits(sym[m], A), get_bits(dec[m], A))\n",
    "\n",
    "    # done with this SNR; store results for this SNR\n",
    "    num_sym_errors[n] = N_sym_errors\n",
    "    num_bit_errors[n] = N_bit_errors\n",
    "    num_symbols[n] = N*N_bursts\n",
    "    num_bits[n] = 4*N*N_bursts\n",
    "    P_MC_sym[n] = num_sym_errors[n]/num_symbols[n]\n",
    "    P_MC_bit[n] = num_bit_errors[n]/num_bits[n]\n",
    "    sc_sym[n] = 1.96 * np.sqrt(P_MC_sym[n] * (1 - P_MC_sym[n]) / num_symbols[n])\n",
    "    sc_bit[n] = 1.96 * np.sqrt(P_MC_bit[n] * (1 - P_MC_bit[n]) / num_bits[n])\n",
    "    P_NN[n] = N_min * Q(np.sqrt(eta*SNR/4/2))\n",
    "\n",
    "    # show results for this SNR\n",
    "    # print(\"SNR = {:4.1f} dB\".format(SNR_dB[n]))\n",
    "    # print(\"Found {:d} errors in {:d} symbols; estimated symbol error rate {:8.6f}\".format(num_sym_errors[n], num_symbols[n], P_MC_sym[n]))\n",
    "    # print(\"The approximate symbol error rate is: {:8.6f}\".format(P_NN[n]))"
   ]
  },
  {
   "cell_type": "code",
   "execution_count": 82,
   "metadata": {},
   "outputs": [
    {
     "data": {
      "image/png": "[encoded data removed]",
      "text/plain": [
       "<Figure size 432x288 with 1 Axes>"
      ]
     },
     "metadata": {
      "needs_background": "light"
     },
     "output_type": "display_data"
    }
   ],
   "source": [
    "plt.errorbar(SNR_dB, P_MC_sym, yerr=sc_sym, fmt='-o', label=\"Symbol Error Rate\")\n",
    "plt.plot(SNR_dB, P_NN, label='Nearest Neighbor')\n",
    "\n",
    "# for bit error rate, x-axis should be Eb/N0; divide Es/N0 by 4\n",
    "plt.errorbar(SNR_dB - 10*np.log10(4), P_MC_bit, yerr=sc_bit, fmt='-o', label=\"Bit Error Rate\")\n",
    "\n",
    "plt.grid()\n",
    "plt.xlabel('$E_s/N_0$ or $E_b/N_0$ (dB)')\n",
    "plt.ylabel('Error Probability')\n",
    "plt.yscale('log')\n",
    "plt.legend()\n",
    "#plt.ylim([1e-6, 1e-1])\n",
    "\n",
    "plt.show()"
   ]
  },
  {
   "cell_type": "code",
   "execution_count": null,
   "metadata": {},
   "outputs": [],
   "source": []
  }
 ],
 "metadata": {
  "kernelspec": {
   "display_name": "Python 3.9.14 64-bit",
   "language": "python",
   "name": "python3"
  },
  "language_info": {
   "codemirror_mode": {
    "name": "ipython",
    "version": 3
   },
   "file_extension": ".py",
   "mimetype": "text/x-python",
   "name": "python",
   "nbconvert_exporter": "python",
   "pygments_lexer": "ipython3",
   "version": "3.9.14"
  },
  "orig_nbformat": 4,
  "vscode": {
   "interpreter": {
    "hash": "5984c07bd85a09704efeebc43c280456997f3d9e1810f10980d19f89f173e200"
   }
  }
 },
 "nbformat": 4,
 "nbformat_minor": 2
}
