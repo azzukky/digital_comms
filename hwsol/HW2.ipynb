{
 "cells": [
  {
   "cell_type": "markdown",
   "metadata": {},
   "source": [
    "# Solution for Homework 2"
   ]
  },
  {
   "cell_type": "code",
   "execution_count": 2,
   "metadata": {},
   "outputs": [],
   "source": [
    "## Boilerplate instructions for importing NumPy and Matplotlib\n",
    "# Import NumPy\n",
    "import numpy as np\n",
    "\n",
    "# To plot pretty figures, use matplotlib\n",
    "%matplotlib inline\n",
    "import matplotlib as mpl\n",
    "import matplotlib.pyplot as plt\n",
    "mpl.rc('axes', labelsize=14)\n",
    "mpl.rc('xtick', labelsize=12)\n",
    "mpl.rc('ytick', labelsize=12)\n",
    "\n",
    "# Below are functions that we \"borrow\" from the notebook usd in class "
   ]
  },
  {
   "cell_type": "markdown",
   "metadata": {},
   "source": [
    "### Copy functions from Class Notebook"
   ]
  },
  {
   "cell_type": "code",
   "execution_count": 3,
   "metadata": {},
   "outputs": [],
   "source": [
    "from scipy import special\n",
    "\n",
    "def Q(x):\n",
    "    \"\"\"Gaussian error integral\"\"\"\n",
    "    return 0.5 - 0.5*special.erf(x/np.sqrt(2))"
   ]
  },
  {
   "cell_type": "code",
   "execution_count": 4,
   "metadata": {},
   "outputs": [],
   "source": [
    "def pulse_shape(symbols, pulse, fsT):\n",
    "    \"\"\"Generate a pulse-shaped QAM signal\n",
    "    \n",
    "    Inputs:\n",
    "    symbols - a sequence of information symbols; rate 1/T\n",
    "    pulse - sampled pulse shape; rate fsT/T\n",
    "    fsT - samples per symbol period\n",
    "\n",
    "    Returns:\n",
    "    Numpy array with fsT*(len(symbols) - 1) + len(pulse)  samples\n",
    "    \"\"\"\n",
    "    # step 1: upsample the symbol sequence\n",
    "    up_symbols = np.zeros(fsT * (len(symbols) - 1) + 1, dtype=symbols.dtype)\n",
    "    up_symbols[::fsT] = symbols\n",
    "\n",
    "    # step 2: filter\n",
    "    return np.convolve(up_symbols, pulse)"
   ]
  },
  {
   "cell_type": "code",
   "execution_count": 5,
   "metadata": {},
   "outputs": [],
   "source": [
    "def random_symbols(A, N):\n",
    "    \"\"\"generate random symbols from the constallation A\n",
    "    \n",
    "    Inputs:\n",
    "    A - np.ndarray of symbols in constellation, e.g., A = np.array([1, -1]) for BPSK\n",
    "    N - number of random symbols to produce\n",
    "\n",
    "    Returns:\n",
    "    Numpy array of length N\n",
    "    \"\"\"\n",
    "    return A[np.random.randint(len(A), size=N)]"
   ]
  },
  {
   "cell_type": "code",
   "execution_count": 6,
   "metadata": {},
   "outputs": [],
   "source": [
    "def MPE_decision_rule(Z, A):\n",
    "    \"\"\"Decide which symbol was most likely transmitted\n",
    "    \n",
    "    This function examines matched filter outputs (in vector Z) and for each element of Z selects the symbol \n",
    "    from constellation A that is closest.\n",
    "\n",
    "    Inputs:\n",
    "    Z - Vector of matched filter outputs\n",
    "    A - Constellation\n",
    "\n",
    "    Returns:\n",
    "    Numpy array of the same length as Z\n",
    "    \"\"\"\n",
    "    dec = np.empty_like(Z)\n",
    "\n",
    "    for n in range(len(Z)):\n",
    "        this_Z = Z[n]\n",
    "        ind = np.argmin(np.abs(A-this_Z))\n",
    "        dec[n] = A[ind]\n",
    "\n",
    "    return dec"
   ]
  },
  {
   "cell_type": "code",
   "execution_count": 7,
   "metadata": {},
   "outputs": [],
   "source": [
    "def half_sine_pulse(fsT):\n",
    "    \"\"\"Generate a pulse that is shaped like a half cycle of a sinusoid\n",
    "    \n",
    "    Inputs:\n",
    "    fsT - number of samples per symbol period\n",
    "\n",
    "    Returns:\n",
    "    Numpy array with fsT+1 samples (the sample at time t=T is included)\n",
    "    \"\"\"\n",
    "\n",
    "    tt = np.arange(fsT+1) / fsT\n",
    "    return np.sqrt(2/fsT) * np.sin(np.pi*tt)\n"
   ]
  },
  {
   "cell_type": "markdown",
   "metadata": {},
   "source": [
    "## Solution for Problem 2\n",
    "\n",
    "**Problem Statement:** The\n",
    "notebook from class 2 concluded with an example that showed how\n",
    "to perform a Monte Carlo Simulation to estimate the symbol error\n",
    "rate for a single SNR value. Since this is a symbol error\n",
    "simulation, define SNR to be the ratio of symbol energy $E_s$ to\n",
    "noise power spectral density $N_0$. \n",
    "\n",
    "1. Expand this simulation to cover the range of SNR values from 5dB to 15dB (in 1dB steps).\n",
    "2. Compute the exact symbol error probability for the QPSK signal set over this range of SNRs.\n",
    "3. Plot both the exact and the simulated error rate; use a logarithmic scale for the error probability and indicate 95% confidence intervals on the plot for the simulated error rate."
   ]
  },
  {
   "cell_type": "code",
   "execution_count": 19,
   "metadata": {},
   "outputs": [],
   "source": [
    "# Simulation Parameters\n",
    "fsT = 8\n",
    "pp = half_sine_pulse(fsT)   # this is normalized to unit energy\n",
    "SNR_dB = np.arange(5., 16.)   # range of dB values\n",
    "\n",
    "A = np.array([1+1j, 1-1j, -1+1j, -1-1j]) / np.sqrt(2) # define a normalized QPSK constellation\n",
    "N = 1024                    # number of symbols per burst\n",
    "\n",
    "# simulation parameters\n",
    "max_bursts = 1000\n",
    "max_errors = 400\n",
    "\n",
    "## storage for results\n",
    "num_errors = np.zeros_like(SNR_dB, dtype=int)\n",
    "num_symbols = np.zeros_like(num_errors)\n",
    "\n",
    "P_exact = np.zeros_like(SNR_dB)\n",
    "P_MC = np.zeros_like(SNR_dB)\n",
    "sc = np.zeros_like(P_MC)"
   ]
  },
  {
   "cell_type": "code",
   "execution_count": 28,
   "metadata": {},
   "outputs": [],
   "source": [
    "## the Monte Carlo loop; first over SNR\n",
    "for n in range(len(SNR_dB)):\n",
    "    N_bursts = 0\n",
    "    N_errors = 0\n",
    "    SNR = 10**(SNR_dB[n]/10)\n",
    "\n",
    "    # then repeat until we have enough errors\n",
    "    while N_bursts < max_bursts and N_errors < max_errors:\n",
    "        # Transmitter\n",
    "        sym = random_symbols(A, N)\n",
    "        ss = pulse_shape(sym, pp, fsT)\n",
    "    \n",
    "        # Channel\n",
    "        rr = ss + np.sqrt(0.5 * 1/SNR) * (np.random.randn(len(ss)) + 1j*np.random.randn(len(ss)))\n",
    "    \n",
    "        # receiver\n",
    "        mf_out = np.convolve(rr, np.flip(pp))\n",
    "        Z = mf_out[fsT:-fsT:fsT]\n",
    "        dec = MPE_decision_rule(Z, A)\n",
    "\n",
    "        # update simulation statistics\n",
    "        N_bursts += 1\n",
    "        N_errors += np.sum(np.not_equal(dec, sym))\n",
    "\n",
    "    # done with this SNR; store results for this SNR\n",
    "    num_errors[n] = N_errors\n",
    "    num_symbols[n] = N*N_bursts\n",
    "    P_MC[n] = num_errors[n]/num_symbols[n]\n",
    "    sc[n] = 1.96 * np.sqrt(P_MC[n] * (1 - P_MC[n]) / num_symbols[n])\n",
    "    P_exact[n] = 2*Q(np.sqrt(SNR)) - Q(np.sqrt(SNR))**2\n",
    "\n",
    "    # show results for this SNR\n",
    "    # print(\"SNR = {:4.1f} dB\".format(SNR_dB[n]))\n",
    "    # print(\"Found {:d} errors in {:d} symbols; estimated symbol error rate {:8.6f}\".format(num_errors[n], num_symbols[n], P_MC[n]))\n",
    "    # print(\"The exact value for the symbol error rate is: {:8.6f}\".format(P_exact[n]))"
   ]
  },
  {
   "cell_type": "code",
   "execution_count": 29,
   "metadata": {},
   "outputs": [
    {
     "data": {
      "image/png": "[encoded data removed]",
      "text/plain": [
       "<Figure size 432x288 with 1 Axes>"
      ]
     },
     "metadata": {
      "needs_background": "light"
     },
     "output_type": "display_data"
    }
   ],
   "source": [
    "plt.errorbar(SNR_dB, P_MC, yerr=sc, fmt='-o', label=\"Monte Carlo\")\n",
    "plt.plot(SNR_dB, P_exact, label='Exact')\n",
    "\n",
    "plt.grid()\n",
    "plt.xlabel('SNR (dB)')\n",
    "plt.ylabel('Symbol Error Probability')\n",
    "plt.yscale('log')\n",
    "plt.ylim([1e-6, 1e-1])\n",
    "\n",
    "plt.show()"
   ]
  },
  {
   "cell_type": "code",
   "execution_count": null,
   "metadata": {},
   "outputs": [],
   "source": []
  }
 ],
 "metadata": {
  "kernelspec": {
   "display_name": "Python 3.9.14 64-bit",
   "language": "python",
   "name": "python3"
  },
  "language_info": {
   "codemirror_mode": {
    "name": "ipython",
    "version": 3
   },
   "file_extension": ".py",
   "mimetype": "text/x-python",
   "name": "python",
   "nbconvert_exporter": "python",
   "pygments_lexer": "ipython3",
   "version": "3.9.14"
  },
  "orig_nbformat": 4,
  "vscode": {
   "interpreter": {
    "hash": "5984c07bd85a09704efeebc43c280456997f3d9e1810f10980d19f89f173e200"
   }
  }
 },
 "nbformat": 4,
 "nbformat_minor": 2
}
