{
 "cells": [
  {
   "cell_type": "markdown",
   "metadata": {},
   "source": [
    "# Solution for Homework 4"
   ]
  },
  {
   "cell_type": "code",
   "execution_count": 44,
   "metadata": {},
   "outputs": [],
   "source": [
    "## Boilerplate instructions for importing NumPy and Matplotlib\n",
    "# Import NumPy\n",
    "import numpy as np\n",
    "\n",
    "# To plot pretty figures, use matplotlib\n",
    "%matplotlib inline\n",
    "import matplotlib as mpl\n",
    "import matplotlib.pyplot as plt\n",
    "mpl.rc('axes', labelsize=14)\n",
    "mpl.rc('xtick', labelsize=12)\n",
    "mpl.rc('ytick', labelsize=12)"
   ]
  },
  {
   "cell_type": "markdown",
   "metadata": {},
   "source": [
    "### Copy functions from Class Notebook"
   ]
  },
  {
   "cell_type": "code",
   "execution_count": 45,
   "metadata": {},
   "outputs": [],
   "source": [
    "def random_symbols(A, N):\n",
    "    \"\"\"generate random symbols from the constallation A\n",
    "    \n",
    "    Inputs:\n",
    "    A - np.ndarray of symbols in constellation, e.g., A = np.array([1, -1]) for BPSK\n",
    "    N - number of random symbols to produce\n",
    "\n",
    "    Returns:\n",
    "    Numpy array of length N\n",
    "    \"\"\"\n",
    "    return A[np.random.randint(len(A), size=N)]"
   ]
  },
  {
   "cell_type": "code",
   "execution_count": 46,
   "metadata": {},
   "outputs": [],
   "source": [
    "def MPE_decision_rule(Z, A):\n",
    "    \"\"\"Decide which symbol was most likely transmitted\n",
    "    \n",
    "    This function examines matched filter outputs (in vector Z) and for each element of Z selects the symbol \n",
    "    from constellation A that is closest.\n",
    "\n",
    "    Inputs:\n",
    "    Z - Vector of matched filter outputs\n",
    "    A - Constellation\n",
    "\n",
    "    Returns:\n",
    "    Numpy array of the same length as Z\n",
    "    \"\"\"\n",
    "    dec = np.empty_like(Z)\n",
    "\n",
    "    for n in range(len(Z)):\n",
    "        this_Z = Z[n]\n",
    "        ind = np.argmin(np.abs(A-this_Z))\n",
    "        dec[n] = A[ind]\n",
    "\n",
    "    return dec\n"
   ]
  },
  {
   "cell_type": "code",
   "execution_count": 47,
   "metadata": {},
   "outputs": [],
   "source": [
    "from scipy import special\n",
    "\n",
    "def Q(x):\n",
    "    \"\"\"Gaussian error integral\"\"\"\n",
    "    return 0.5 - 0.5*special.erf(x/np.sqrt(2))"
   ]
  },
  {
   "cell_type": "code",
   "execution_count": 48,
   "metadata": {},
   "outputs": [],
   "source": [
    "def serial_to_parallel(syms, M):\n",
    "    \"\"\"Convert a vector of symbols to a matrix with trailing dimension M\n",
    "    \n",
    "    Inputs:\n",
    "    * syms - vector of information symbols\n",
    "    * M - block size\n",
    "\n",
    "    Returns:\n",
    "    matrix of dimensions (*,M)\n",
    "    \"\"\"\n",
    "    L = len(syms)\n",
    "    K = L % M      # L mod M\n",
    "\n",
    "    if K != 0:\n",
    "        syms = np.append(syms, np.zeros(M-K))  # zero-padding\n",
    "\n",
    "    return np.reshape(syms, (-1, M))           # -1 means: figure out first dimension"
   ]
  },
  {
   "cell_type": "code",
   "execution_count": 49,
   "metadata": {},
   "outputs": [],
   "source": [
    "def map_to_subcarriers(block_syms, active_sc):\n",
    "    \"\"\"Map a matrix of symbols to active subcarriers\n",
    "    \n",
    "    Inputs:\n",
    "    * block_syms - matrix of symbols, dimension (*,M)\n",
    "    * active_sc - length N vector that marks active subcarries with 1's \n",
    "\n",
    "    Returns:\n",
    "    matrix of dimension (*,N)\n",
    "    \"\"\"\n",
    "    # make an array to hold the result; figure out dimensions and data type\n",
    "    N = len(active_sc)\n",
    "    L = block_syms.shape[0]\n",
    "    res = np.zeros((L,N), dtype=block_syms.dtype)\n",
    "\n",
    "    res[:,np.equal(active_sc, 1)] = block_syms\n",
    "\n",
    "    return res"
   ]
  },
  {
   "cell_type": "code",
   "execution_count": 50,
   "metadata": {},
   "outputs": [],
   "source": [
    "def idft(block_sc):\n",
    "    \"\"\"inverse DFT of matrix of symbols\n",
    "    \n",
    "    Inputs:\n",
    "    block_sc - matrix of symbols (and empty subcarriers)\n",
    "\n",
    "    Returns:\n",
    "    matrix of the same size as the input\n",
    "    \"\"\"\n",
    "    N_FFT = block_sc.shape[1]\n",
    "    return np.fft.ifft(block_sc) * np.sqrt(N_FFT)"
   ]
  },
  {
   "cell_type": "code",
   "execution_count": 51,
   "metadata": {},
   "outputs": [],
   "source": [
    "def insert_cyclic_prefix(block_sig, N_CP):\n",
    "    \"\"\"Insert cyclic prefix\n",
    "    \n",
    "    Inputs:\n",
    "    block_sig - matrix of signal samples\n",
    "    N_CP - length of cyclic prefix in samples\n",
    "\n",
    "    Returns:\n",
    "    signal matrix with cyclic prefix inserted; second dimension increases by N_CP\n",
    "    \"\"\"\n",
    "    if N_CP > 0:\n",
    "        return np.append(block_sig[:,-N_CP:], block_sig, axis=1)\n",
    "    else:\n",
    "        return block_sig"
   ]
  },
  {
   "cell_type": "code",
   "execution_count": 52,
   "metadata": {},
   "outputs": [],
   "source": [
    "def parallel_to_serial(block_sig):\n",
    "    \"\"\"convert a matrix of signal samples into a vector\n",
    "    \n",
    "    Inputs:\n",
    "    block_sig - matrix of signal samples\n",
    "\n",
    "    Returns:\n",
    "    vector of signal samples\n",
    "    \"\"\"\n",
    "    return np.reshape(block_sig, -1)  # -1 means: figure out how many samples"
   ]
  },
  {
   "cell_type": "code",
   "execution_count": 53,
   "metadata": {},
   "outputs": [],
   "source": [
    "class OFDM_Transmitter():\n",
    "    \"\"\"OFDM transmitter class\n",
    "    \n",
    "    Parameters:\n",
    "    N_CP - length of cyclic prefix\n",
    "    active_sc - length N_FFT vector marking active subcarriers\n",
    "\n",
    "    Example:\n",
    "    # create a transmitter object\n",
    "    tx = OFDM_Transmitter(N_CP, active_sc) \n",
    "\n",
    "    # pass symbols to tx object to generate signal\n",
    "    sig = tx(syms)\n",
    "    \"\"\"\n",
    "    def __init__(self, N_CP, active):\n",
    "        self.N_CP = N_CP\n",
    "        self.active = active\n",
    "        self.N_FFT = len(active)\n",
    "\n",
    "        self.M = int(np.sum(active))  # number of active subcarriers\n",
    "\n",
    "    def __call__(self, syms):\n",
    "        block_syms = serial_to_parallel(syms, self.M)\n",
    "        block_sc = map_to_subcarriers(block_syms, self.active)\n",
    "        block_sig = idft(block_sc)\n",
    "        block_sig_cp = insert_cyclic_prefix(block_sig, self.N_CP)\n",
    "        return parallel_to_serial(block_sig_cp)"
   ]
  },
  {
   "cell_type": "code",
   "execution_count": 54,
   "metadata": {},
   "outputs": [],
   "source": [
    "def strip_cyclic_prefix(block_sig_cp, N_CP):\n",
    "    \"\"\"remove the leading N_CP samples from each signal block\n",
    "    \n",
    "    Inputs:\n",
    "    block_sig_cp - matrix of signal blocks with cyclic prefix\n",
    "    N_CP - length of cyclic prefix in samples\n",
    "\n",
    "    Returns:\n",
    "    matrix of signal blocks without cyclic prefix\n",
    "    \"\"\"\n",
    "    return block_sig_cp[:, N_CP:]"
   ]
  },
  {
   "cell_type": "code",
   "execution_count": 55,
   "metadata": {},
   "outputs": [],
   "source": [
    "def dft(block_sig):\n",
    "    \"\"\" DFT of matrix of signal blocks\n",
    "    \n",
    "    Inputs:\n",
    "    block_sig - matrix of signals\n",
    "\n",
    "    Returns:\n",
    "    matrix of the same size as the input\n",
    "    \"\"\"\n",
    "    N_FFT = block_sig.shape[1]\n",
    "    return np.fft.fft(block_sig) * 1/np.sqrt(N_FFT)"
   ]
  },
  {
   "cell_type": "code",
   "execution_count": 56,
   "metadata": {},
   "outputs": [],
   "source": [
    "def remove_inactive_subcarriers(block_sc, active_sc):\n",
    "    \"\"\"Extract symbols from active subcarriers\n",
    "    \n",
    "    Inputs:\n",
    "    block_sc - matrix of symbols and empty subcarriers\n",
    "    active_sc - length N vector that marks active subcarries with 1's \n",
    "\n",
    "    Returns:\n",
    "    Matrix of symbols without empty subcarriers\n",
    "    \"\"\"\n",
    "    return block_sc[:,np.equal(active_sc, 1)]"
   ]
  },
  {
   "cell_type": "code",
   "execution_count": 57,
   "metadata": {},
   "outputs": [],
   "source": [
    "class OFDM_Receiver():\n",
    "    \"\"\"OFDM receiver class\n",
    "    \n",
    "    Parameters:\n",
    "    N_CP - length of cyclic prefix\n",
    "    active_sc - length N_FFT vector marking active subcarriers\n",
    "\n",
    "    Example:\n",
    "    # create a receiver object\n",
    "    rx = OFDM_Receiver(N_CP, active_sc) \n",
    "\n",
    "    # pass signal to rx object to recover symbols; \n",
    "    # number of symbols to receive must be provided, unless there was no zero padding.\n",
    "    syms = rx(sig, N_syms)\n",
    "    \"\"\"\n",
    "    def __init__(self, N_CP, active):\n",
    "        self.N_CP = N_CP\n",
    "        self.active = active\n",
    "        self.N_FFT = len(active)\n",
    "\n",
    "        self.M = np.sum(active)  # number of active subcarriers\n",
    "\n",
    "    def __call__(self, sig, N_syms=None):\n",
    "        block_sig_cp = serial_to_parallel(sig, self.N_FFT + self.N_CP)\n",
    "        block_sig = strip_cyclic_prefix(block_sig_cp, self.N_CP)\n",
    "        block_sc = dft(block_sig)\n",
    "        block_syms = remove_inactive_subcarriers(block_sc, self.active)\n",
    "        syms = parallel_to_serial(block_syms)\n",
    "\n",
    "        if N_syms is None:\n",
    "            N_syms = len(syms)\n",
    "\n",
    "        return syms[:N_syms]"
   ]
  },
  {
   "cell_type": "markdown",
   "metadata": {},
   "source": [
    "## Problem 3\n",
    "\n",
    "Perform a Monte Carlo simulation for an OFDM system with frequency offset.\n",
    "1. Use the same parameters as in the notebook we used in class. Modify the channel to introduce a frequency offset by changing the channel from\n",
    "``` Python\n",
    "    # Channel\n",
    "    rr = ss + np.sqrt(0.5 * 1/SNR) * (\n",
    "              np.random.randn(len(ss)) +\n",
    "           1j*np.random.randn(len(ss)))\n",
    "```\n",
    "to\n",
    "``` Python\n",
    "    # Channel\n",
    "    rr = ss * np.exp(2j*np.pi * df/N_FFT *\n",
    "                     np.arange(len(ss)))\n",
    "    rr = rr + np.sqrt(0.5 * 1/SNR) * (\n",
    "              np.random.randn(len(ss)) +\n",
    "           1j*np.random.randn(len(ss)))\n",
    "```\n",
    "where `df` denotes the frequency error relative to the\n",
    "subcarrier spacing. Hence, appropriate values to experiment with\n",
    "are on the order of 0.01.\n",
    "\n",
    "2. Measure and plot the symbol error rate for frequency offsets between -0.02 and 0.02.\n",
    "3. Do your results change if you change the length of the cyclic prefix? \n",
    "3. Do your results change if you change the nuber of active subcarriers?\n",
    "4. Can you identify the mechanism that induces the increased error rate?"
   ]
  },
  {
   "cell_type": "markdown",
   "metadata": {},
   "source": [
    "**Note:** The problem is not as well posed as it should be. There are a few problems with the setup:\n",
    "1. When the signal is long, i.e., consists of many OFDM symbols, then the phase error builds up over the course of the symbols. This is not an interesting thing to measure. Remedy: transmit only a single OFDM symbol at a time.\n",
    "2. With the frequency error as given above, the phase will change from 0 to $2\\pi \\delta f$ over one symbol. Hence, we have both a frequency and a phase error. It would be better to remove the phase error by subtracting the \"average\" phase, i.e., $\\pi \\delta f$.\n",
    "3. With these improvements, the frequency offsets considered should be bigger than stated. \n",
    "\n",
    "These improvements are used below."
   ]
  },
  {
   "cell_type": "code",
   "execution_count": 88,
   "metadata": {},
   "outputs": [],
   "source": [
    "# parameters\n",
    "# 128 subcarriers with 96 of them occupied\n",
    "N_FFT = 1024                      # <-- longer FFT and N_active so that we need fewer bursts\n",
    "N_active = 960\n",
    "active = np.ones(N_active)\n",
    "active[N_active//2 : -N_active//2] = 0 # gap in the center (maps to band-edges)\n",
    "N_CP = 0                          # <-- cyclic prefix not needed when there is no distortion\n",
    "\n",
    "# channel (AWGN)\n",
    "SNR_dB = 10\n",
    "SNR = 10**(SNR_dB/10)\n",
    "\n",
    "A = np.array([1+1j, 1-1j, -1+1j, -1-1j]) / np.sqrt(2) # define a normalized QPSK constellation\n",
    "N = N_active * 1                    # <-- Only one symbol per burst\n",
    "\n",
    "# simulation parameters\n",
    "max_bursts = 1000\n",
    "max_errors = 400\n",
    "\n",
    "df_vec = np.arange(-0.25, 0.252, 0.025)\n",
    "\n",
    "# storage for results\n",
    "Pe = np.zeros_like(df_vec)\n",
    "sc = np.zeros_like(df_vec)\n",
    "\n",
    "# instantiate tx and rx\n",
    "tx = OFDM_Transmitter(N_CP, active)\n",
    "rx = OFDM_Receiver(N_CP, active)"
   ]
  },
  {
   "cell_type": "code",
   "execution_count": 89,
   "metadata": {},
   "outputs": [],
   "source": [
    "for n in range(len(df_vec)):\n",
    "    df = df_vec[n]\n",
    "    N_bursts = 0\n",
    "    N_errors = 0\n",
    "\n",
    "    # the Monte Carlo loop\n",
    "    while N_bursts < max_bursts and N_errors < max_errors:\n",
    "        # Transmitter\n",
    "        sym = random_symbols(A, N)\n",
    "        ss = tx(sym)\n",
    "        # make sure that the signal has unit energy per symbol\n",
    "        ss = ss * np.sqrt(N)/np.linalg.norm(ss)\n",
    "        # Channel\n",
    "        rr = (ss * np.exp(2j*np.pi * df/N_FFT * (np.arange(len(ss))-len(ss)/2)) + # <-- frequency offset with zero average phase\n",
    "              np.sqrt(0.5 * 1/SNR) * (np.random.randn(len(ss)) + 1j*np.random.randn(len(ss))))\n",
    "        # receiver\n",
    "        Z = rx(rr)\n",
    "        dec = MPE_decision_rule(Z, A) # Z[:N] trims extra samples from the filter transisent\n",
    "\n",
    "        # update simulation statistics\n",
    "        N_bursts += 1\n",
    "        N_errors += np.sum(np.not_equal(dec, sym))\n",
    "\n",
    "    Pe[n] = N_errors/(N*N_bursts)\n",
    "    sc[n] = 1.96 * np.sqrt(Pe[n]*(1-Pe[n])/N/N_bursts)\n",
    "    # print(\"df = {:4.2f}\".format(df))\n",
    "    # print(\"Found {:d} errors in {:d} symbols; estimated symbol error rate {:8.6f}\".format(N_errors, N_bursts*N, N_errors/(N*N_bursts)))\n",
    "    # print(\"The exact value for the symbol error rate is: {:8.6f}\".format(2*Q(np.sqrt(SNR)) - Q(np.sqrt(SNR))**2))"
   ]
  },
  {
   "cell_type": "code",
   "execution_count": 90,
   "metadata": {},
   "outputs": [
    {
     "data": {
      "image/png": "[encoded data removed]",
      "text/plain": [
       "<Figure size 432x288 with 1 Axes>"
      ]
     },
     "metadata": {
      "needs_background": "light"
     },
     "output_type": "display_data"
    }
   ],
   "source": [
    "plt.errorbar(df_vec, Pe, sc)\n",
    "plt.grid()\n",
    "\n",
    "plt.xlabel('Frequency Offset (1/SCS)')\n",
    "plt.ylabel('Symbol Error Rate')\n",
    "plt.yscale('log')\n",
    "\n",
    "plt.show()"
   ]
  },
  {
   "cell_type": "markdown",
   "metadata": {},
   "source": [
    "Clearly, a frequency offset has a dramatic impact on the error rate.\n",
    "\n",
    "Does that change when a cyclic prefix is added?"
   ]
  },
  {
   "cell_type": "code",
   "execution_count": 91,
   "metadata": {},
   "outputs": [],
   "source": [
    "N_CP = N_FFT // 4                          # <-- long cyclic prefix \n",
    "\n",
    "# storage for results\n",
    "Pe_CP = np.zeros_like(df_vec)\n",
    "sc_CP = np.zeros_like(df_vec)\n",
    "\n",
    "# instantiate tx and rx\n",
    "tx = OFDM_Transmitter(N_CP, active)\n",
    "rx = OFDM_Receiver(N_CP, active)"
   ]
  },
  {
   "cell_type": "code",
   "execution_count": 96,
   "metadata": {},
   "outputs": [],
   "source": [
    "for n in range(len(df_vec)):\n",
    "    df = df_vec[n]\n",
    "    N_bursts = 0\n",
    "    N_errors = 0\n",
    "\n",
    "    # the Monte Carlo loop\n",
    "    while N_bursts < max_bursts and N_errors < max_errors:\n",
    "        # Transmitter\n",
    "        sym = random_symbols(A, N)\n",
    "        ss = tx(sym)\n",
    "        # make sure that the signal has unit energy per symbol\n",
    "        # Note: The CP usualy incurs a penalty due to increased overhead; we remove that penalty\n",
    "        # here in order to focus on the effects of frequency error\n",
    "        ss = ss * np.sqrt(N)/np.linalg.norm(ss[N_CP:])\n",
    "        # Channel\n",
    "        rr = (ss * np.exp(2j*np.pi * df/N_FFT * (np.arange(len(ss))-len(ss)/2)) + # <-- frequency offset with zero average phase\n",
    "              np.sqrt(0.5 * 1/SNR) * (np.random.randn(len(ss)) + 1j*np.random.randn(len(ss))))\n",
    "        # receiver\n",
    "        Z = rx(rr)\n",
    "        dec = MPE_decision_rule(Z, A) # Z[:N] trims extra samples from the filter transisent\n",
    "\n",
    "        # update simulation statistics\n",
    "        N_bursts += 1\n",
    "        N_errors += np.sum(np.not_equal(dec, sym))\n",
    "\n",
    "    Pe_CP[n] = N_errors/(N*N_bursts)\n",
    "    sc_CP[n] = 1.96 * np.sqrt(Pe[n]*(1-Pe[n])/N/N_bursts)\n",
    "    # print(\"df = {:4.2f}\".format(df))\n",
    "    # print(\"Found {:d} errors in {:d} symbols; estimated symbol error rate {:8.6f}\".format(N_errors, N_bursts*N, N_errors/(N*N_bursts)))\n",
    "    # print(\"The exact value for the symbol error rate is: {:8.6f}\".format(2*Q(np.sqrt(SNR)) - Q(np.sqrt(SNR))**2))"
   ]
  },
  {
   "cell_type": "code",
   "execution_count": 95,
   "metadata": {},
   "outputs": [
    {
     "data": {
      "image/png": "[encoded data removed]",
      "text/plain": [
       "<Figure size 432x288 with 1 Axes>"
      ]
     },
     "metadata": {
      "needs_background": "light"
     },
     "output_type": "display_data"
    }
   ],
   "source": [
    "plt.errorbar(df_vec, Pe, sc, label=\"no CP\")\n",
    "plt.errorbar(df_vec, Pe_CP, sc_CP, label=\"with CP\")\n",
    "plt.grid()\n",
    "\n",
    "plt.xlabel('Frequency Offset (1/SCS)')\n",
    "plt.ylabel('Symbol Error Rate')\n",
    "plt.yscale('log')\n",
    "plt.legend()\n",
    "\n",
    "plt.show()"
   ]
  },
  {
   "cell_type": "markdown",
   "metadata": {},
   "source": [
    "The CP increase the detrimental effects of frequency error slightly. This is primarily a result of the fact that the longer OFDM symbol leads to a larger total phase change over the course of the cyclic prefix plus symbol.\n",
    "\n",
    "What happens if the number of active subcarriers is changed?"
   ]
  },
  {
   "cell_type": "code",
   "execution_count": 98,
   "metadata": {},
   "outputs": [],
   "source": [
    "N_CP = 0                          # <-- back to zero CP\n",
    "N_active = 960 // 2               # <-- fewer active subcarriers\n",
    "active = np.ones(N_active)\n",
    "active[N_active//2 : -N_active//2] = 0 # gap in the center (maps to band-edges)\n",
    "\n",
    "# storage for results\n",
    "Pe_A = np.zeros_like(df_vec)\n",
    "sc_A = np.zeros_like(df_vec)\n",
    "\n",
    "# instantiate tx and rx\n",
    "tx = OFDM_Transmitter(N_CP, active)\n",
    "rx = OFDM_Receiver(N_CP, active)"
   ]
  },
  {
   "cell_type": "code",
   "execution_count": 99,
   "metadata": {},
   "outputs": [],
   "source": [
    "for n in range(len(df_vec)):\n",
    "    df = df_vec[n]\n",
    "    N_bursts = 0\n",
    "    N_errors = 0\n",
    "\n",
    "    # the Monte Carlo loop\n",
    "    while N_bursts < max_bursts and N_errors < max_errors:\n",
    "        # Transmitter\n",
    "        sym = random_symbols(A, N)\n",
    "        ss = tx(sym)\n",
    "        # make sure that the signal has unit energy per symbol\n",
    "        # Note: The CP usualy incurs a penalty due to increased overhead; we remove that penalty\n",
    "        # here in order to focus on the effects of frequency error\n",
    "        ss = ss * np.sqrt(N)/np.linalg.norm(ss[N_CP:])\n",
    "        # Channel\n",
    "        rr = (ss * np.exp(2j*np.pi * df/N_FFT * (np.arange(len(ss))-len(ss)/2)) + # <-- frequency offset with zero average phase\n",
    "              np.sqrt(0.5 * 1/SNR) * (np.random.randn(len(ss)) + 1j*np.random.randn(len(ss))))\n",
    "        # receiver\n",
    "        Z = rx(rr)\n",
    "        dec = MPE_decision_rule(Z, A) # Z[:N] trims extra samples from the filter transisent\n",
    "\n",
    "        # update simulation statistics\n",
    "        N_bursts += 1\n",
    "        N_errors += np.sum(np.not_equal(dec, sym))\n",
    "\n",
    "    Pe_A[n] = N_errors/(N*N_bursts)\n",
    "    sc_A[n] = 1.96 * np.sqrt(Pe[n]*(1-Pe[n])/N/N_bursts)\n",
    "    # print(\"df = {:4.2f}\".format(df))\n",
    "    # print(\"Found {:d} errors in {:d} symbols; estimated symbol error rate {:8.6f}\".format(N_errors, N_bursts*N, N_errors/(N*N_bursts)))\n",
    "    # print(\"The exact value for the symbol error rate is: {:8.6f}\".format(2*Q(np.sqrt(SNR)) - Q(np.sqrt(SNR))**2))"
   ]
  },
  {
   "cell_type": "code",
   "execution_count": 100,
   "metadata": {},
   "outputs": [
    {
     "data": {
      "image/png": "[encoded data removed]",
      "text/plain": [
       "<Figure size 432x288 with 1 Axes>"
      ]
     },
     "metadata": {
      "needs_background": "light"
     },
     "output_type": "display_data"
    }
   ],
   "source": [
    "plt.errorbar(df_vec, Pe, sc, label=\"$N_a = 960$\")\n",
    "plt.errorbar(df_vec, Pe_A, sc_A, label=\"$N_a=480$\")\n",
    "plt.grid()\n",
    "\n",
    "plt.xlabel('Frequency Offset (1/SCS)')\n",
    "plt.ylabel('Symbol Error Rate')\n",
    "plt.yscale('log')\n",
    "plt.legend()\n",
    "\n",
    "plt.show()"
   ]
  },
  {
   "cell_type": "markdown",
   "metadata": {},
   "source": [
    "There is no difference between the two cases. The number of active sub-carriers does not change how susceptible an OFDM signal is to frequency offset.\n",
    "\n",
    "What is the mechanism that leads to increased errors in the presence of frequecny offset? With frequency offset, the subcarriers are no longer orthogonal and the subcarriers begin to interfere with each other this is called inter-carrier interference (ICI)."
   ]
  },
  {
   "cell_type": "code",
   "execution_count": null,
   "metadata": {},
   "outputs": [],
   "source": []
  }
 ],
 "metadata": {
  "kernelspec": {
   "display_name": "Python 3.9.14 64-bit",
   "language": "python",
   "name": "python3"
  },
  "language_info": {
   "codemirror_mode": {
    "name": "ipython",
    "version": 3
   },
   "file_extension": ".py",
   "mimetype": "text/x-python",
   "name": "python",
   "nbconvert_exporter": "python",
   "pygments_lexer": "ipython3",
   "version": "3.9.14"
  },
  "orig_nbformat": 4,
  "vscode": {
   "interpreter": {
    "hash": "5984c07bd85a09704efeebc43c280456997f3d9e1810f10980d19f89f173e200"
   }
  }
 },
 "nbformat": 4,
 "nbformat_minor": 2
}
