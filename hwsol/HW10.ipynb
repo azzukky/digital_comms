{
 "cells": [
  {
   "cell_type": "markdown",
   "metadata": {},
   "source": [
    "# Solution to Problem 3 in Homework 10\n",
    "\n",
    "(a) For the channel used in the notebook (see section entitled\n",
    "\"Estimating the channel impulse response\" in the notebook for\n",
    "the channel and the construction of the received signal) compute\n",
    "the mean-squared error of the equalizer outputs, i.e., the mean\n",
    "of the magnitude-squared difference between the equalizer output\n",
    "and the transmitted symbols. Compare the MSE to the noise\n",
    "variance.\n",
    "\n",
    "(b) Repeat your measurement for an equalizer that spans $K=20$\n",
    "sample periods (instead of $K=40$).\n",
    "\n",
    "(c) Repeat your measurement for an equalizer that spans $K=80$\n",
    "sample periods. You will likely need to increase the number of\n",
    "training symbols and also the total number of symbols.\n",
    "\n",
    "(d) For this channel, spanning five symbol periods, what is a\n",
    "good length of the equalizer?\n"
   ]
  },
  {
   "cell_type": "code",
   "execution_count": 5,
   "metadata": {},
   "outputs": [],
   "source": [
    "## Boilerplate instructions for importing NumPy and Matplotlib\n",
    "# Import NumPy\n",
    "import numpy as np\n",
    "from scipy.linalg import toeplitz\n",
    "\n",
    "from typing import Tuple\n",
    "\n",
    "# To plot pretty figures, use matplotlib\n",
    "%matplotlib inline\n",
    "import matplotlib as mpl\n",
    "import matplotlib.pyplot as plt\n",
    "mpl.rc('axes', labelsize=14)\n",
    "mpl.rc('xtick', labelsize=12)\n",
    "mpl.rc('ytick', labelsize=12)\n",
    "\n",
    "# the next cells, repeat code from earlier notebooks. It would be better to import these but\n",
    "# then the notebook is no longer self-contained"
   ]
  },
  {
   "cell_type": "markdown",
   "metadata": {},
   "source": [
    "## Copy Code from Notebook"
   ]
  },
  {
   "cell_type": "code",
   "execution_count": 2,
   "metadata": {},
   "outputs": [],
   "source": [
    "def random_symbols(A, N):\n",
    "    \"\"\"generate random symbols from the constallation A\n",
    "    \n",
    "    Inputs:\n",
    "    A - np.ndarray of symbols in constellation, e.g., A = np.array([1, -1]) for BPSK\n",
    "    N - number of random symbols to produce\n",
    "\n",
    "    Returns:\n",
    "    Numpy array of length N\n",
    "    \"\"\"\n",
    "    return A[np.random.randint(len(A), size=N)]"
   ]
  },
  {
   "cell_type": "code",
   "execution_count": 3,
   "metadata": {},
   "outputs": [],
   "source": [
    "def pulse_shape(symbols, pulse, fsT):\n",
    "    \"\"\"Generate a pulse-shaped QAM signal\n",
    "    \n",
    "    Inputs:\n",
    "    symbols - a sequence of information symbols; rate 1/T\n",
    "    pulse - sampled pulse shape; rate fsT/T\n",
    "    fsT - samples per symbol period\n",
    "\n",
    "    Returns:\n",
    "    Numpy array with fsT*(len(symbols) - 1) + len(pulse)  samples\n",
    "    \"\"\"\n",
    "    # step 1: upsample the symbol sequence\n",
    "    up_symbols = np.zeros(fsT * (len(symbols) - 1) + 1, dtype=symbols.dtype)\n",
    "    up_symbols[::fsT] = symbols\n",
    "\n",
    "    # step 2: filter\n",
    "    return np.convolve(up_symbols, pulse)"
   ]
  },
  {
   "cell_type": "markdown",
   "metadata": {},
   "source": [
    "## Simulations\n",
    "\n",
    "### Generate the Received Signal"
   ]
  },
  {
   "cell_type": "code",
   "execution_count": 4,
   "metadata": {},
   "outputs": [],
   "source": [
    "## generate a QPSK signal\n",
    "fsT = 4\n",
    "N = 1000\n",
    "A = np.exp(1j*np.pi/4*np.arange(1, 8, 2)) # QPSK alphabet\n",
    "\n",
    "syms = random_symbols(A, N)\n",
    "\n",
    "## dispersive channel\n",
    "cr = np.array([0.1, 0, -0.3j, 0, 0, 1, 0, 0, 0, 0.3j, 0, 0, 0, 0, 0.2-0.7j, 0, 0, 0, 0, 0, 0.1j])\n",
    "sig = pulse_shape(syms, cr, fsT)\n",
    "\n",
    "SNR_db = 20\n",
    "SNR = 10**(SNR_db/10)\n",
    "\n",
    "# received signal\n",
    "rrr = sig + 1/(np.sqrt(2*SNR))*(np.random.randn(len(sig)) + 1j*np.random.randn(len(sig)))"
   ]
  },
  {
   "cell_type": "markdown",
   "metadata": {},
   "source": [
    "### Estimate the channel impulse response"
   ]
  },
  {
   "cell_type": "code",
   "execution_count": 8,
   "metadata": {},
   "outputs": [],
   "source": [
    "## construct the matrix S via upsampling and use of scipy.linalg.toeplitz\n",
    "# the first columns of S is the upsampled symbols vector\n",
    "sc = np.zeros_like(rrr)\n",
    "sc[0:N*fsT:fsT] = syms\n",
    "\n",
    "# the first row is [syms[0], 0, ..., 0]\n",
    "sr = np.zeros_like(cr)\n",
    "sr[0] = syms[0]\n",
    "\n",
    "SSr = toeplitz(sc, sr)"
   ]
  },
  {
   "cell_type": "code",
   "execution_count": 9,
   "metadata": {},
   "outputs": [
    {
     "data": {
      "text/plain": [
       "0.011090263090908423"
      ]
     },
     "execution_count": 9,
     "metadata": {},
     "output_type": "execute_result"
    }
   ],
   "source": [
    "# using the received vector `rrr` and signal matrix `SSr` constructed earlier\n",
    "this_K = 48*4               # number of received samples to use\n",
    "this_rr = rrr[:this_K]    # trim rr\n",
    "this_SS = SSr[:this_K, :] # and SS\n",
    "\n",
    "c_hat = np.linalg.pinv(this_SS) @ this_rr\n",
    "\n",
    "np.mean(np.abs(rrr - SSr@c_hat)**2)"
   ]
  },
  {
   "cell_type": "markdown",
   "metadata": {},
   "source": [
    "## Zero-Forcing Equalizer\n",
    "\n",
    "For equalizer lengths of $K \\in \\{20, 40, 80\\}$ samples, design a zero-forcing equalizer and measure the MSE.\n",
    "\n",
    "This follows the notebook with two exceptions:\n",
    "1. The construction of the channel matrix $\\mathbf{C}$ has been corrected. The original version produces a matrix that is not tall enough for short equalizers (sall $K$).\n",
    "2. The sampling phase of the equalizer output depends on the equalizer length. The correct phase for the three lengths have been determined experimentally."
   ]
  },
  {
   "cell_type": "code",
   "execution_count": 91,
   "metadata": {},
   "outputs": [
    {
     "name": "stdout",
     "output_type": "stream",
     "text": [
      "K = 40: MSE = -21.54 dB\n",
      "K = 20: MSE = -21.26 dB\n",
      "K = 80: MSE = -21.55 dB\n"
     ]
    },
    {
     "data": {
      "image/png": "[encoded data removed]",
      "text/plain": [
       "<Figure size 432x288 with 1 Axes>"
      ]
     },
     "metadata": {
      "needs_background": "light"
     },
     "output_type": "display_data"
    }
   ],
   "source": [
    "## Construct and apply equalizer for three differnt equalizer length\n",
    "all_K = [40, 20, 80]\n",
    "phase = {20: -1, 40: 1, 80: 1}\n",
    "\n",
    "for K in all_K:\n",
    "    L = len(c_hat)\n",
    "    fsT = 4\n",
    "\n",
    "    # there is probably a better way to construct the channel matrix, but ...\n",
    "    # initially we construct the first 2K rows of C; we need N columns\n",
    "    N = (K+L-1) // fsT\n",
    "    C_tmp = np.zeros((N*fsT+L, N), dtype=complex)\n",
    "    for n in range(N):\n",
    "        C_tmp[n*fsT:n*fsT+L, n] = c_hat\n",
    "\n",
    "    # then, we select K rows that don't contain empty columns\n",
    "    C_hat = C_tmp[L-1:L-1+K, :]\n",
    "    \n",
    "    # set up the unit vector with a 1 in the d-th position\n",
    "    ed = np.zeros_like(C_hat[0,:])\n",
    "    ed[N//2] = 1\n",
    "\n",
    "    # find the weight vector\n",
    "    vr = (np.linalg.pinv(C_hat).T).conj() @ ed\n",
    "\n",
    "    # and the impulse response of the equalizer\n",
    "    wr = np.flip(vr.conj())\n",
    "\n",
    "    # equalize the signal\n",
    "    rr_eq = np.convolve(rrr, wr)\n",
    "\n",
    "    ## constellation plot\n",
    "    # exclude transients\n",
    "    ns = (len(cr) + len(wr)) // 2 + phase[K] # leading transient due to filter delays\n",
    "    ne = ns + len(syms) * fsT         # take len(syms) qualizer outputs\n",
    "\n",
    "    syms_eq = rr_eq[ns:ne:fsT]\n",
    "\n",
    "    plt.plot(rr_eq[ns:ne:fsT].real, rr_eq[ns:ne:fsT].imag, '.', label='K={:d}'.format(K))\n",
    "    plt.grid()\n",
    "    plt.axis('equal')\n",
    "    plt.xlabel('I')\n",
    "    plt.ylabel('Q')\n",
    "\n",
    "    print('K = {:d}: MSE = {:4.2f} dB'.format(K, 10*np.log10(np.linalg.norm(syms-syms_eq)**2/len(syms))))\n"
   ]
  },
  {
   "cell_type": "markdown",
   "metadata": {},
   "source": [
    "For all three equalizer lengths, the signal is successfully equalized. The measured MSE is nearly identical for all three cases and similar to the (negative of the) SNR (i.e., 20dB). We can conclude that for this channel, noise amplification is not a significant problem.\n",
    "\n",
    "The shortest effective equalizer should be selected to minimize the computational complexity."
   ]
  },
  {
   "cell_type": "markdown",
   "metadata": {},
   "source": []
  }
 ],
 "metadata": {
  "kernelspec": {
   "display_name": "Python 3.9.15 64-bit",
   "language": "python",
   "name": "python3"
  },
  "language_info": {
   "codemirror_mode": {
    "name": "ipython",
    "version": 3
   },
   "file_extension": ".py",
   "mimetype": "text/x-python",
   "name": "python",
   "nbconvert_exporter": "python",
   "pygments_lexer": "ipython3",
   "version": "3.9.15"
  },
  "orig_nbformat": 4,
  "vscode": {
   "interpreter": {
    "hash": "5984c07bd85a09704efeebc43c280456997f3d9e1810f10980d19f89f173e200"
   }
  }
 },
 "nbformat": 4,
 "nbformat_minor": 2
}
