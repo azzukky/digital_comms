{
 "cells": [
  {
   "cell_type": "markdown",
   "metadata": {},
   "source": [
    "# Solution for Homework 5"
   ]
  },
  {
   "cell_type": "code",
   "execution_count": 1,
   "metadata": {},
   "outputs": [],
   "source": [
    "# Boilerplate instructions for importing NumPy and Matplotlib\n",
    "# Import NumPy\n",
    "import numpy as np\n",
    "\n",
    "# To plot pretty figures, use matplotlib\n",
    "%matplotlib inline\n",
    "import matplotlib as mpl\n",
    "import matplotlib.pyplot as plt\n",
    "mpl.rc('axes', labelsize=14)\n",
    "mpl.rc('xtick', labelsize=12)\n",
    "mpl.rc('ytick', labelsize=12)\n"
   ]
  },
  {
   "cell_type": "markdown",
   "metadata": {},
   "source": [
    "### Import Code from Notebooks"
   ]
  },
  {
   "cell_type": "code",
   "execution_count": 2,
   "metadata": {},
   "outputs": [],
   "source": [
    "def random_symbols(A, N):\n",
    "    \"\"\"generate random symbols from the constallation A\n",
    "    \n",
    "    Inputs:\n",
    "    A - np.ndarray of symbols in constellation, e.g., A = np.array([1, -1]) for BPSK\n",
    "    N - number of random symbols to produce\n",
    "\n",
    "    Returns:\n",
    "    Numpy array of length N\n",
    "    \"\"\"\n",
    "    return A[np.random.randint(len(A), size=N)]"
   ]
  },
  {
   "cell_type": "code",
   "execution_count": 3,
   "metadata": {},
   "outputs": [],
   "source": [
    "def srrc_pulse(a, fsT, N=5):\n",
    "    \"\"\"Construct a raised cosine pulse\n",
    "    \n",
    "    Inputs:\n",
    "    a - roll-off factor\n",
    "    fsT - number of samples per symbol period\n",
    "    N - lenght of pulse in symbol periods; pulse ranges for -N \\leq t/T \\leq N (default: 5).\n",
    "\n",
    "    Returns:\n",
    "    Length 2*N*fsT+1 vector\n",
    "    \"\"\"\n",
    "    # time axis with spacing 1/(fs*T)\n",
    "    tt = np.linspace(-N, N, 2*N*fsT + 1)\n",
    "    \n",
    "    num = np.sin(np.pi*tt*(1-a)) + 4*a*tt*np.cos(np.pi*tt*(1+a))\n",
    "    den = np.pi*tt*(1-(4*a*tt)**2)\n",
    "    \n",
    "    # deal with divide-by-zeros: at zero location, place \"L'Hospital value\" in numerator\n",
    "    # and 1 in denominator.\n",
    "    # First divide-by-zero location is t=0; by L-Hospital, the value is (1 + a*(4/pi - 1))\n",
    "    ind_0 = np.where(np.abs(tt) < 1e-6)\n",
    "    num[ind_0] = (1 + a*(4/np.pi - 1))\n",
    "    den[ind_0] = 1\n",
    "    # Second divide-by-zero location is t=+/-1/(4*a); by L-Hospital, the value is as shown below\n",
    "    ind_0 = np.where(np.abs(np.abs(tt) - 1/(4*a)) < 1e-6)\n",
    "    num[ind_0] = a/np.sqrt(2) * ((1+2/np.pi)*np.sin(np.pi/(4*a)) + (1-2/np.pi)*np.cos(np.pi/(4*a)))\n",
    "    den[ind_0] = 1\n",
    "    \n",
    "    # scaling: we scale the pulse such that the convolution of two SRRC pulse yields\n",
    "    # a RC pulse with amplitude 1 in the center of the pulse. This implies that\n",
    "    # np.sum(hh**2) must equal 1. This replace the scaling by 1/T in the formula above.\n",
    "    hh = num/den\n",
    "    \n",
    "    return hh / np.sqrt(np.sum(hh*hh))"
   ]
  },
  {
   "cell_type": "code",
   "execution_count": 4,
   "metadata": {},
   "outputs": [],
   "source": [
    "def pulse_shape(symbols, pulse, fsT):\n",
    "    \"\"\"Generate a pulse-shaped QAM signal\n",
    "    \n",
    "    Inputs:\n",
    "    symbols - a sequence of information symbols; rate 1/T\n",
    "    pulse - sampled pulse shape; rate fsT/T\n",
    "    fsT - samples per symbol period\n",
    "\n",
    "    Returns:\n",
    "    Numpy array with fsT*(len(symbols) - 1) + len(pulse)  samples\n",
    "    \"\"\"\n",
    "    # step 1: upsample the symbol sequence\n",
    "    up_symbols = np.zeros(fsT * (len(symbols) - 1) + 1, dtype=symbols.dtype)\n",
    "    up_symbols[::fsT] = symbols\n",
    "\n",
    "    # step 2: filter\n",
    "    return np.convolve(up_symbols, pulse)"
   ]
  },
  {
   "cell_type": "code",
   "execution_count": 5,
   "metadata": {},
   "outputs": [],
   "source": [
    "def MPE_decision_rule(Z, A):\n",
    "    \"\"\"Decide which symbol was most likely transmitted\n",
    "    \n",
    "    This function examines matched filter outputs (in vector Z) and for each element of Z selects the symbol \n",
    "    from constellation A that is closest.\n",
    "\n",
    "    Inputs:\n",
    "    Z - Vector of matched filter outputs\n",
    "    A - Constellation\n",
    "\n",
    "    Returns:\n",
    "    Numpy array of the same length as Z\n",
    "    \"\"\"\n",
    "    dec = np.empty_like(Z)\n",
    "\n",
    "    for n in range(len(Z)):\n",
    "        this_Z = Z[n]\n",
    "        ind = np.argmin(np.abs(A-this_Z))\n",
    "        dec[n] = A[ind]\n",
    "\n",
    "    return dec"
   ]
  },
  {
   "cell_type": "code",
   "execution_count": 6,
   "metadata": {},
   "outputs": [],
   "source": [
    "from scipy import special\n",
    "\n",
    "def Q(x):\n",
    "    \"\"\"Gaussian error integral\"\"\"\n",
    "    return 0.5 - 0.5*special.erf(x/np.sqrt(2))"
   ]
  },
  {
   "cell_type": "code",
   "execution_count": 10,
   "metadata": {},
   "outputs": [],
   "source": [
    "def estimate_phasor_mf(Zk, pk):\n",
    "    \"\"\"Estimate phasor from matched filter outputs\n",
    "    \n",
    "    Inputs:\n",
    "    Zk - matched filter outputs\n",
    "    pk - training symbols\n",
    "\n",
    "    Returns:\n",
    "    complex scalar - estimated phasor\n",
    "    \"\"\"\n",
    "    return np.sum(Zk * pk.conj())/np.sum(pk*pk.conj())"
   ]
  },
  {
   "cell_type": "markdown",
   "metadata": {},
   "source": [
    "## Problem 3\n",
    "\n",
    "Modify the Monte Carlo simulation from class that estimates the symbol\n",
    "error rate when the complex amplitude of the received signals is\n",
    "unknown;\n",
    "specifically, change the signal constellation to BPSK (from\n",
    "16-QAM) and reduce the number of symbols per burst to 128\n",
    "(from 1024).\n",
    "1. When the length of the training sequence is $N_p=16$\n",
    "symbols, vary the SNR between 0dB and 8dB. Plot the simulated error rate (using a logarithmic\n",
    "y-axis) versus SNR and compare to the error rate with perfectly\n",
    "known amplitude ($Q(\\sqrt{2\\text{SNR}})$.\n",
    "2. Repeat the measurement when the number of training symbols is reduced to $N_p=8$.\n",
    "3. Repeat the measurement when the number of training symbols is increased to $N_p=32$.\n",
    "4. For which range of SNR would you choose each of the three preamble lengths $N_p$. Your answer should consists of three\n",
    "sentences of the form \"The preamble length $Z$ works well from $x$ dB to $y$ dB.\""
   ]
  },
  {
   "cell_type": "markdown",
   "metadata": {},
   "source": [
    "**Answer:** We will run the simulations for the three preamble length at the same time. The code below contains nested loops over SNR and the preamble length $N_p$."
   ]
  },
  {
   "cell_type": "code",
   "execution_count": 59,
   "metadata": {},
   "outputs": [],
   "source": [
    "## Simulation parameters\n",
    "# parameters\n",
    "fsT = 16\n",
    "N = 5\n",
    "a = 0.5\n",
    "\n",
    "pp = srrc_pulse(a, fsT, N)    # Recall that SRRC pulse is normalized to unit energy\n",
    "d_samples = len(pp) - 1       # filter delay\n",
    "\n",
    "SNR_dB = np.arange(0, 9)\n",
    "A = 0.25\n",
    "phi = np.pi/4\n",
    "X = A*np.exp(1j*phi)\n",
    "\n",
    "# Alphabet remains 16-QAM\n",
    "Ns = 128                      # number of symbols per burst\n",
    "Np_vec = np.array([16, 8, 32], dtype=int)\n",
    "Alphabet = np.array([1., -1.])  # BPSK\n",
    "\n",
    "# simulation parameters\n",
    "max_bursts = 10000\n",
    "min_bursts = 100\n",
    "max_errors = 400\n",
    "\n",
    "Pe = np.zeros((len(Np_vec), len(SNR_dB)), dtype=float)\n",
    "X_hat_mse = np.zeros((len(Np_vec), len(SNR_dB)), dtype=float)"
   ]
  },
  {
   "cell_type": "code",
   "execution_count": 60,
   "metadata": {},
   "outputs": [],
   "source": [
    "## Nested loops\n",
    "for m in range(len(Np_vec)):\n",
    "    Np = Np_vec[m]\n",
    "    pn = random_symbols(Alphabet, Np)\n",
    "\n",
    "    for n in range(len(SNR_dB)):\n",
    "        SNR = 10**(SNR_dB[n]/10)\n",
    "\n",
    "        N_bursts = 0\n",
    "        N_errors = 0\n",
    "        sum_X_sqe = 0 \n",
    "\n",
    "        # the Monte Carlo loop\n",
    "        while N_bursts < max_bursts and N_errors < max_errors or N_bursts < min_bursts:\n",
    "            # Transmitter\n",
    "            sym = random_symbols(Alphabet, Ns)\n",
    "            ss = pulse_shape(np.concatenate((pn,sym)), pp, fsT)\n",
    "            # Channel\n",
    "            rr = X*ss + np.sqrt(0.5 * A**2/SNR) * (np.random.randn(len(ss)) + 1j*np.random.randn(len(ss)))\n",
    "            # receiver\n",
    "            mf_out = np.convolve(rr, np.flip(pp))\n",
    "            Z = mf_out[d_samples::fsT][:Np+Ns]        # down-sample, starting at filter delay\n",
    "            X_hat = estimate_phasor_mf(Z[:Np], pn)    # estimation\n",
    "            dec = MPE_decision_rule(Z[Np:]*1/X_hat, Alphabet) # decisions on corrected symbols\n",
    "\n",
    "            # update simulation statistics\n",
    "            N_bursts += 1\n",
    "            N_errors += np.sum(np.not_equal(dec, sym))\n",
    "            sum_X_sqe += np.abs(X_hat - X)**2\n",
    "\n",
    "        # store results\n",
    "        Pe[m,n] = N_errors/(Ns*N_bursts)\n",
    "        X_hat_mse[m,n] = sum_X_sqe/N_bursts\n",
    "        # print(\"Found {:d} errors in {:d} symbols; estimated symbol error rate {:8.6f}\".format(N_errors, N_bursts*Ns, N_errors/(Ns*N_bursts)))\n",
    "        # print(\"The exact value for the symbol error rate is: {:8.6f}\".format(Q(np.sqrt(2*SNR)) ))"
   ]
  },
  {
   "cell_type": "code",
   "execution_count": 62,
   "metadata": {},
   "outputs": [
    {
     "data": {
      "image/png": "[encoded data removed]",
      "text/plain": [
       "<Figure size 432x288 with 1 Axes>"
      ]
     },
     "metadata": {
      "needs_background": "light"
     },
     "output_type": "display_data"
    }
   ],
   "source": [
    "# plot Pe results\n",
    "for m in range(len(Np_vec)):\n",
    "    Np = Np_vec[m]\n",
    "    plt.semilogy(SNR_dB, Pe[m,:], '-o', label=\"$Np={:2d}$\".format(Np))\n",
    "\n",
    "plt.semilogy(SNR_dB, Q(np.sqrt(2*10**(SNR_dB/10))), label='Ideal $P_e$')\n",
    "\n",
    "plt.grid()\n",
    "plt.xlabel('SNR (dB)')\n",
    "plt.ylabel('Error probability')\n",
    "plt.legend()\n",
    "\n",
    "plt.show()"
   ]
  },
  {
   "cell_type": "markdown",
   "metadata": {},
   "source": [
    "There is very little difference between the three preamble lengths in terms of the resulting error rates. \n",
    "\n",
    "Let's dig a little deeper and look at the mean-squared estimation error (MSE), i.e., the average squared difference between the true complex amplitude $X$ and its estimate $\\hat{X}$."
   ]
  },
  {
   "cell_type": "code",
   "execution_count": 63,
   "metadata": {},
   "outputs": [
    {
     "data": {
      "image/png": "[encoded data removed]",
      "text/plain": [
       "<Figure size 432x288 with 1 Axes>"
      ]
     },
     "metadata": {
      "needs_background": "light"
     },
     "output_type": "display_data"
    }
   ],
   "source": [
    "# plot MSE\n",
    "for m in range(len(Np_vec)):\n",
    "    Np = Np_vec[m]\n",
    "    plt.semilogy(SNR_dB, X_hat_mse[m,:], '-o', label=\"$Np={:2d}$\".format(Np))\n",
    "\n",
    "\n",
    "plt.grid()\n",
    "plt.xlabel('SNR (dB)')\n",
    "plt.ylabel('MSE')\n",
    "plt.legend()\n",
    "\n",
    "plt.show()"
   ]
  },
  {
   "cell_type": "markdown",
   "metadata": {},
   "source": [
    "The MSE plot revelas that there are differences between the preamble lengths. Doubling the preamble length reduces the MSE by a factor of 2 for the same SNR. So, why don't these differences translate into different error rates.\n",
    "\n",
    "At very low SNR, the noise is so large that it dwarfs the relatively small estimation errors. At high SNR, the estimates are quite good even for the short preambles. \n",
    "\n",
    "Moreover, the BPSK modulation used in this example is very robust. It is likely that a higher-order modulation is more sensitive to estimations error."
   ]
  },
  {
   "cell_type": "code",
   "execution_count": null,
   "metadata": {},
   "outputs": [],
   "source": []
  }
 ],
 "metadata": {
  "kernelspec": {
   "display_name": "Python 3.9.14 64-bit",
   "language": "python",
   "name": "python3"
  },
  "language_info": {
   "codemirror_mode": {
    "name": "ipython",
    "version": 3
   },
   "file_extension": ".py",
   "mimetype": "text/x-python",
   "name": "python",
   "nbconvert_exporter": "python",
   "pygments_lexer": "ipython3",
   "version": "3.9.14"
  },
  "orig_nbformat": 4,
  "vscode": {
   "interpreter": {
    "hash": "5984c07bd85a09704efeebc43c280456997f3d9e1810f10980d19f89f173e200"
   }
  }
 },
 "nbformat": 4,
 "nbformat_minor": 2
}
