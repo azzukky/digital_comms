{
 "cells": [
  {
   "cell_type": "markdown",
   "metadata": {},
   "source": [
    "# Homework 6"
   ]
  },
  {
   "cell_type": "code",
   "execution_count": 72,
   "metadata": {},
   "outputs": [],
   "source": [
    "## Boilerplate instructions for importing NumPy and Matplotlib\n",
    "# Import NumPy\n",
    "import numpy as np\n",
    "\n",
    "from typing import Tuple\n",
    "\n",
    "# To plot pretty figures, use matplotlib\n",
    "%matplotlib inline\n",
    "import matplotlib as mpl\n",
    "import matplotlib.pyplot as plt\n",
    "mpl.rc('axes', labelsize=14)\n",
    "mpl.rc('xtick', labelsize=12)\n",
    "mpl.rc('ytick', labelsize=12)\n",
    "\n",
    "# the next cells, repeat code from earlier notebooks. It would be better to import these but\n",
    "# then the notebook is no longer self-contained"
   ]
  },
  {
   "cell_type": "markdown",
   "metadata": {},
   "source": [
    "### Copy of code from notebook"
   ]
  },
  {
   "cell_type": "code",
   "execution_count": 73,
   "metadata": {},
   "outputs": [],
   "source": [
    "def pop_count32(x: np.uint32) -> np.uint8:\n",
    "    \"\"\"count the number of 1s in 32-bit integer x using Wegner's method\n",
    "    \n",
    "    Inputs:\n",
    "    x - a 32 bit integer\n",
    "\n",
    "    Returns:\n",
    "    an integer between 0 and 32 indicating the number of 1s in x\n",
    "    \"\"\"\n",
    "    \n",
    "    count: np.uint8 = 0\n",
    "    \n",
    "    while (x > 0):\n",
    "        x = x & (x-1)\n",
    "        count += 1\n",
    "        \n",
    "    return count"
   ]
  },
  {
   "cell_type": "code",
   "execution_count": 74,
   "metadata": {},
   "outputs": [],
   "source": [
    "def lfsr_step(state: np.uint32, fb: np.uint32, N: int = 31) -> Tuple[np.uint8, np.uint32]:\n",
    "    \"\"\"Single update step of LFSR with feedback connections fb\n",
    "    \n",
    "    Inputs:\n",
    "    * state (uint32): initial state of the feedback shift register\n",
    "    * fb (uint32): bit map indicating feedback connections; the LSB corresponds to bit 0 in the LFSR\n",
    "    * N (int) order if the LFSR; must be less than 32 (default: 31)\n",
    "    \n",
    "    Returns:\n",
    "    * elem - next element of the LFSR sequence\n",
    "    * state - updated state\n",
    "    \n",
    "    Example: Generate the first 10 elements of a LFSR sequence with fb=0b1001 and initial state=0b1111\n",
    "    >>> state = 0b1111\n",
    "    >>> seq = np.empty(10, dtype=np.uint8)\n",
    "    >>> for n in range(10):\n",
    "    >>>     seq[n], state = lfsr31_step(state, 0b1001)\n",
    "    >>> seq\n",
    "    \n",
    "    array([1, 1, 1, 1, 0, 0, 0, 0, 0, 0], dtype=uint8)\n",
    "    \"\"\"\n",
    "    \n",
    "    # save the LSB before updating state; it will be returned\n",
    "    elem: np.uint8 = state & 0b1\n",
    "        \n",
    "    # update state\n",
    "    fb_vec: np.uint32 = state & fb\n",
    "    fb_bit: np.uint8 = (pop_count32(fb_vec) & 0b1)\n",
    "    \n",
    "    # insert feedback bit at position N, then shift\n",
    "    state = (state | fb_bit << N) >> 1\n",
    "    \n",
    "    return elem, state"
   ]
  },
  {
   "cell_type": "code",
   "execution_count": 75,
   "metadata": {},
   "outputs": [],
   "source": [
    "def lfsr(init: np.uint32, fb: np.uint32, M: int, N: int = 31, Nc:int = 0):\n",
    "    \"\"\"Compute M samples of a LFSR sequence\n",
    "    \n",
    "    Inputs:\n",
    "    init - initial state of the LFSR\n",
    "    fb - feedback connection for the LFSR\n",
    "    M - number of samples to generate\n",
    "    N - order of the LFSR (default: 31)\n",
    "    Nc - statrting sample (default 0)\n",
    "\n",
    "    Returns:\n",
    "    length-M vector of bits (stored as np.uint8)\n",
    "    \"\"\"\n",
    "    seq = np.empty(M, dtype=np.uint8)\n",
    "\n",
    "    state = init\n",
    "\n",
    "    for n in range(Nc):\n",
    "        _, state = lfsr_step(state, fb, N)          # discard the first Nc\n",
    "\n",
    "    for n in range(M):  \n",
    "        seq[n], state = lfsr_step(state, fb, N)     # keep the next Mc\n",
    "\n",
    "    return seq"
   ]
  },
  {
   "cell_type": "code",
   "execution_count": 76,
   "metadata": {},
   "outputs": [],
   "source": [
    "def random_symbols(A, N):\n",
    "    \"\"\"generate random symbols from the constallation A\n",
    "    \n",
    "    Inputs:\n",
    "    A - np.ndarray of symbols in constellation, e.g., A = np.array([1, -1]) for BPSK\n",
    "    N - number of random symbols to produce\n",
    "\n",
    "    Returns:\n",
    "    Numpy array of length N\n",
    "    \"\"\"\n",
    "    return A[np.random.randint(len(A), size=N)]"
   ]
  },
  {
   "cell_type": "code",
   "execution_count": 77,
   "metadata": {},
   "outputs": [],
   "source": [
    "def srrc_pulse(a, fsT, N=5):\n",
    "    \"\"\"Construct a raised cosine pulse\n",
    "    \n",
    "    Inputs:\n",
    "    a - roll-off factor\n",
    "    fsT - number of samples per symbol period\n",
    "    N - lenght of pulse in symbol periods; pulse ranges for -N \\leq t/T \\leq N (default: 5).\n",
    "\n",
    "    Returns:\n",
    "    Length 2*N*fsT+1 vector\n",
    "    \"\"\"\n",
    "    # time axis with spacing 1/(fs*T)\n",
    "    tt = np.linspace(-N, N, 2*N*fsT + 1)\n",
    "    \n",
    "    num = np.sin(np.pi*tt*(1-a)) + 4*a*tt*np.cos(np.pi*tt*(1+a))\n",
    "    den = np.pi*tt*(1-(4*a*tt)**2)\n",
    "    \n",
    "    # deal with divide-by-zeros: at zero location, place \"L'Hospital value\" in numerator\n",
    "    # and 1 in denominator.\n",
    "    # First divide-by-zero location is t=0; by L-Hospital, the value is (1 + a*(4/pi - 1))\n",
    "    ind_0 = np.where(np.abs(tt) < 1e-6)\n",
    "    num[ind_0] = (1 + a*(4/np.pi - 1))\n",
    "    den[ind_0] = 1\n",
    "    # Second divide-by-zero location is t=+/-1/(4*a); by L-Hospital, the value is as shown below\n",
    "    ind_0 = np.where(np.abs(np.abs(tt) - 1/(4*a)) < 1e-6)\n",
    "    num[ind_0] = a/np.sqrt(2) * ((1+2/np.pi)*np.sin(np.pi/(4*a)) + (1-2/np.pi)*np.cos(np.pi/(4*a)))\n",
    "    den[ind_0] = 1\n",
    "    \n",
    "    # scaling: we scale the pulse such that the convolution of two SRRC pulse yields\n",
    "    # a RC pulse with amplitude 1 in the center of the pulse. This implies that\n",
    "    # np.sum(hh**2) must equal 1. This replace the scaling by 1/T in the formula above.\n",
    "    hh = num/den\n",
    "    \n",
    "    return hh / np.sqrt(np.sum(hh*hh))"
   ]
  },
  {
   "cell_type": "code",
   "execution_count": 78,
   "metadata": {},
   "outputs": [],
   "source": [
    "def pulse_shape(symbols, pulse, fsT):\n",
    "    \"\"\"Generate a pulse-shaped QAM signal\n",
    "    \n",
    "    Inputs:\n",
    "    symbols - a sequence of information symbols; rate 1/T\n",
    "    pulse - sampled pulse shape; rate fsT/T\n",
    "    fsT - samples per symbol period\n",
    "\n",
    "    Returns:\n",
    "    Numpy array with fsT*(len(symbols) - 1) + len(pulse)  samples\n",
    "    \"\"\"\n",
    "    # step 1: upsample the symbol sequence\n",
    "    up_symbols = np.zeros(fsT * (len(symbols) - 1) + 1, dtype=symbols.dtype)\n",
    "    up_symbols[::fsT] = symbols\n",
    "\n",
    "    # step 2: filter\n",
    "    return np.convolve(up_symbols, pulse)"
   ]
  },
  {
   "cell_type": "code",
   "execution_count": 79,
   "metadata": {},
   "outputs": [],
   "source": [
    "def MPE_decision_rule(Z, A):\n",
    "    \"\"\"Decide which symbol was most likely transmitted\n",
    "    \n",
    "    This function examines matched filter outputs (in vector Z) and for each element of Z selects the symbol \n",
    "    from constellation A that is closest.\n",
    "\n",
    "    Inputs:\n",
    "    Z - Vector of matched filter outputs\n",
    "    A - Constellation\n",
    "\n",
    "    Returns:\n",
    "    Numpy array of the same length as Z\n",
    "    \"\"\"\n",
    "    dec = np.empty_like(Z)\n",
    "\n",
    "    for n in range(len(Z)):\n",
    "        this_Z = Z[n]\n",
    "        ind = np.argmin(np.abs(A-this_Z))\n",
    "        dec[n] = A[ind]\n",
    "\n",
    "    return dec"
   ]
  },
  {
   "cell_type": "code",
   "execution_count": 80,
   "metadata": {},
   "outputs": [],
   "source": [
    "def est_freq(Z, pn, L=None):\n",
    "    \"\"\"Estimate frequency estimate from preamble samples\n",
    "\n",
    "    Inputs:\n",
    "    Z - matched filter outputs for preamble (taken at symbol period)\n",
    "    pn - preamble sequence (same length as Z)\n",
    "    L - spacing between samples to measure phase difference (default 2/3*K)\n",
    "\n",
    "    Returns:\n",
    "    float - frequency ofsset per symbol period\n",
    "    \"\"\"\n",
    "    K = len(pn)\n",
    "\n",
    "    if L is None:\n",
    "        L = (2*K) // 3\n",
    "\n",
    "    # make an array of all L-spaced phase differences\n",
    "    dp = np.array( [ (pn[n+L]*Z[n+L]) * np.conj(pn[n]*Z[n]) for n in range(K-L) ] )\n",
    "\n",
    "    return np.angle(np.mean(dp))/(2*L*np.pi)"
   ]
  },
  {
   "cell_type": "markdown",
   "metadata": {},
   "source": [
    "## Problem 2\n",
    "\n",
    "The code below generates a length-15 shift register sequence and computes the partial correlations $\\frac{R^{(D)}}{X}$."
   ]
  },
  {
   "cell_type": "code",
   "execution_count": 81,
   "metadata": {},
   "outputs": [
    {
     "data": {
      "image/png": "[encoded data removed]",
      "text/plain": [
       "<Figure size 432x288 with 1 Axes>"
      ]
     },
     "metadata": {
      "needs_background": "light"
     },
     "output_type": "display_data"
    }
   ],
   "source": [
    "# make a shift register sequence, then turn it into BPSK symbols\n",
    "pp = lfsr(init=1, fb=3, M=15, N=4)\n",
    "A = np.array([1., -1.])\n",
    "xx = A[pp]\n",
    "\n",
    "# compute the partial correlations\n",
    "r = np.zeros(15)\n",
    "for n in range(15):\n",
    "    r[n] = np.sum(xx[:15-n]*xx[n:])\n",
    "\n",
    "# and plot them\n",
    "plt.plot(r, '-o')\n",
    "plt.grid()\n",
    "plt.xlabel('Lag $D$')\n",
    "plt.ylabel('$R^{(D)}/X$')\n",
    "\n",
    "plt.show()"
   ]
  },
  {
   "cell_type": "code",
   "execution_count": 83,
   "metadata": {},
   "outputs": [
    {
     "data": {
      "text/plain": [
       "array([-1.,  1.,  1.,  1., -1.,  1.,  1., -1., -1.,  1., -1.,  1., -1.,\n",
       "       -1., -1.])"
      ]
     },
     "execution_count": 83,
     "metadata": {},
     "output_type": "execute_result"
    }
   ],
   "source": [
    "xx"
   ]
  },
  {
   "cell_type": "markdown",
   "metadata": {},
   "source": [
    "Besides the large desired peak at lag $D=0$, there is a partial correlation with amplitude $-4$ at $D=11$."
   ]
  },
  {
   "cell_type": "markdown",
   "metadata": {},
   "source": [
    "## Problem 3:\n",
    "\n",
    "In class, we discussed timing acquisition when all matched\n",
    "filter outputs are available. In practice, acquisition must often\n",
    "be performed sequentially. For each received sample, we must\n",
    "compute (one sampling phase of $i$) one matched filter\n",
    "output $Z_{n,i}$. Then, based on the matched filter output\n",
    "$Z_{n,i}$, we should decide if we have found the end of the\n",
    "preamble or not.\n",
    "\n",
    "Modify the procedures discussed in class to implement a\n",
    "sequential acquisition algorithm. Your algorithm should run\n",
    "inside a `for` or `while` loop over the received\n",
    "samoles that terminates\n",
    "once the acquisition is complete.\n",
    "    \n",
    "For your algorithm, identify clearly\n",
    "* What information must be stored by your algorithm?\n",
    "* What are the steps to compute the matched filter outputs?\n",
    "* What is your rule for deciding that you have found the\n",
    "      preamble?\n",
    "* Once you found the preamble, how do you estimate the\n",
    "      frequency offset?\n",
    "* How do you estimate the complex amplitude?\n",
    "\n",
    "Demonstrate that your algorithm works by running it over the same\n",
    "samples as the example in class."
   ]
  },
  {
   "cell_type": "markdown",
   "metadata": {},
   "source": [
    "**Answer:**\n",
    "\n",
    "We begin copying the code that is needed to generate the received samples. The sequential receiver will pick up after that.\n",
    "\n",
    "### Generate received signal"
   ]
  },
  {
   "cell_type": "code",
   "execution_count": 17,
   "metadata": {},
   "outputs": [],
   "source": [
    "## construct a suitable training signal followed by information symbols\n",
    "# Parameters\n",
    "fsT = 32    # tx oversampling\n",
    "K = 31      # length of preamble\n",
    "fb = 5      # LFSR feedback\n",
    "\n",
    "A = np.array([1.0, -1.0], dtype=complex)\n",
    "Ns = 32     # number of information symbols\n",
    "\n",
    "hh = srrc_pulse(0.5, fsT)\n",
    "\n",
    "# make preamble symbols and info symbols, then concatenate\n",
    "pn = A[lfsr(1, fb, K, 5)]\n",
    "syms = random_symbols(A, Ns)\n",
    "\n",
    "sig = pulse_shape(np.concatenate((pn, syms)), hh, fsT)"
   ]
  },
  {
   "cell_type": "code",
   "execution_count": 61,
   "metadata": {},
   "outputs": [],
   "source": [
    "## channel parameters\n",
    "delay_samples = 102\n",
    "ds_factor = 4       # down-sample by 4\n",
    "\n",
    "df = 0.1/(fsT*(K-1))  # frequency offset per symbol period, phase change is 0.1*2*pi over course of preamble\n",
    "X = 0.5*np.exp(1j*np.pi/4) # amplitude and phase\n",
    "\n",
    "# delay by pre-pending zeros\n",
    "rr = np.concatenate(( np.zeros(delay_samples), \n",
    "                      X * sig * np.exp(2j * np.pi * df * np.arange(len(sig))),\n",
    "                      np.zeros(delay_samples)))\n",
    "\n",
    "# down-sample\n",
    "rr = rr[::ds_factor]\n",
    "fsT_r = fsT // ds_factor\n",
    "\n",
    "SNR_dB = 20\n",
    "SNR = 10**(SNR_dB/10)\n",
    "noise_var = abs(X)**2 / SNR \n",
    "\n",
    "# the down-sampled signal should have higher amplitude  \n",
    "rr = np.sqrt(ds_factor)*rr + np.sqrt(0.5 * noise_var) * (np.random.randn(len(rr)) + 1j*np.random.randn(len(rr))) "
   ]
  },
  {
   "cell_type": "code",
   "execution_count": 62,
   "metadata": {},
   "outputs": [
    {
     "data": {
      "text/plain": [
       "[<matplotlib.lines.Line2D at 0x10ef6c550>]"
      ]
     },
     "execution_count": 62,
     "metadata": {},
     "output_type": "execute_result"
    },
    {
     "data": {
      "image/png": "[encoded data removed]",
      "text/plain": [
       "<Figure size 432x288 with 1 Axes>"
      ]
     },
     "metadata": {
      "needs_background": "light"
     },
     "output_type": "display_data"
    }
   ],
   "source": [
    "plt.plot(np.abs(rr))"
   ]
  },
  {
   "cell_type": "markdown",
   "metadata": {},
   "source": [
    "### Receiver Processing\n",
    "\n",
    "As the receiver has to maintain quite a bit of state information, we implement a class that encapsulates that state information. \n",
    "\n",
    "The receiver will process one sample at a time. Samples are matched filtered"
   ]
  },
  {
   "cell_type": "code",
   "execution_count": 69,
   "metadata": {},
   "outputs": [],
   "source": [
    "SEARCH = 1\n",
    "DEMOD = 2\n",
    "\n",
    "class Receiver():\n",
    "    \"\"\"class representing a receiver\n",
    "    \n",
    "    Parameters:\n",
    "    fsT - oversmapling factor\n",
    "    hh - pulse shaping sequence\n",
    "    pn - preamble sequence\n",
    "    A - symbols alphabet\n",
    "\n",
    "    State variables:\n",
    "    state - either \"SEARCH\" or \"DEMOD\"A\n",
    "    sr_samples - shift register to hold the past len(hh) samples\n",
    "    sr_mf_out - shift registers for holding len(pn) MF outputs; one per sampling phase\n",
    "    curr_phase - current sampling phase\n",
    "    opt_phase - optimal sampling phase\n",
    "    est_df - estimated frequency offset (per T)\n",
    "    est_X - estimated complex amplitude at start of info symbols\n",
    "\n",
    "    N_sym - number of symbols to demodulate; this variable keeps track of the number of symbols to decode\n",
    "        it must be set before demod starts. If multiple bursts are\n",
    "        processed, then it must be set new before each burst\n",
    "    \"\"\"\n",
    "\n",
    "    def __init__(self, fsT, hh, pn, A):\n",
    "        # store parameters\n",
    "        self.fsT = fsT\n",
    "        self.hh = np.flip(np.conj(hh))\n",
    "        self.pn = pn\n",
    "        self.A = A\n",
    "\n",
    "        # initialize state\n",
    "        self.N_h = len(hh)   # length of pulse shaping filter\n",
    "        self.N_p = len(pn)        # length of preamble sequence\n",
    "        self.state = SEARCH\n",
    "        self.sr_samples = np.zeros(self.N_h, dtype=complex)\n",
    "        self.sr_mf_out = np.zeros((fsT, self.N_p), dtype=complex)\n",
    "        self.curr_phase = -1\n",
    "        self.opt_phase = -1\n",
    "        self.est_df = 0\n",
    "        self.est_X = 0j\n",
    "\n",
    "        self.N_sym = 0\n",
    "\n",
    "        self._detected = False\n",
    "        self._corr_max = 0\n",
    "        self._threshold = 0.75\n",
    "        self._n_demod = 0\n",
    "\n",
    "        self._DEBUG = True\n",
    "\n",
    "    def __call__(self, sample):\n",
    "        \"\"\"Process a new sample\n",
    "\n",
    "        This is the main entry point. Each new sample is matched filtered. Then it is processed according to \n",
    "        the current state. \n",
    "\n",
    "        If we're still looking for the preamble, then the new sample is combined with other recent samples (stored \n",
    "        in self.sr_mf_out) to compute the correlation with the preamble sequence. Once the preamble is found, the state \n",
    "        changes to DEMOD.\n",
    "\n",
    "        In the DEMOD state we only process samples from the correct phase. Phase corrections are applied and the\n",
    "        MPE decision rule is used to recover symbols.\n",
    "        \n",
    "        Input:\n",
    "        sample - a single baseband sample\n",
    "\n",
    "        Returns:\n",
    "        sym - if a new information symbol can be output, otherwise None\n",
    "        \"\"\"\n",
    "        res = None # default return value\n",
    "\n",
    "        # matched filter the new sample and update the sampling phase\n",
    "        mf_out = self.mf(sample)\n",
    "        self.curr_phase = (self.curr_phase + 1) % self.fsT\n",
    "\n",
    "        if self.state == SEARCH:\n",
    "            ## still looking for the preamble\n",
    "            corr = self.corr_preamble(mf_out, self.curr_phase)\n",
    "\n",
    "            # examine the correlation value; \n",
    "            if self.found_corr_peak(corr, self.curr_phase):\n",
    "                # found the correlation peak, perform estimation and update state\n",
    "                self.state = DEMOD\n",
    "                # estimate frequency offset\n",
    "                self.est_df = est_freq(self.sr_mf_out[self.opt_phase, :], self.pn)\n",
    "\n",
    "                # and phasor\n",
    "                Z_corr = self.sr_mf_out[self.opt_phase, :] * np.exp(-2j * np.pi * self.est_df * np.arange(self.N_p))\n",
    "                ZZ_corr_pn = Z_corr * self.pn.conj()\n",
    "                X_hat = np.sum(ZZ_corr_pn) / np.sum(np.abs(self.pn)**2)\n",
    "\n",
    "                if self._DEBUG:\n",
    "                    print(\"Found preamble on phase {:d}, correlation {:5.3f}\".format(self.opt_phase, self._corr_max))\n",
    "                    print('Estimated frequency offset: {:6.5f} (per T)'.format(self.est_df))\n",
    "                    print(\"Estimated amplitude: {:4.3f}\\nEstimated phase: {:4.3f} * pi\".format(np.abs(X_hat), \n",
    "                                                                           np.angle(X_hat)/np.pi))\n",
    "\n",
    "                # nearly done: set estimated phasor at beginning of SYMBOLS (this is where we should initialize a PLL)\n",
    "                self.est_X = X_hat * np.exp(2j*np.pi * self.est_df * self.N_p)\n",
    "                # and reset detector variables for next burst\n",
    "                self._detected = False\n",
    "                self._corr_max = 0\n",
    "                self.sr_mf_out[:,:] = 0 # don't forget to clear the shift register!\n",
    "                \n",
    "            \n",
    "        elif self.state == DEMOD:\n",
    "            # looking to demod - if we're in the right sampling phase\n",
    "            if self.curr_phase == self.opt_phase:\n",
    "                # Compute phase correction - this should really be a PLL\n",
    "                X_hat = self.est_X * np.exp(2j*np.pi * self.est_df * self._n_demod)\n",
    "\n",
    "                # MPE_decision_rule doesn't take scalars; don't forget to apply correction\n",
    "                dec = self.A[ np.argmin( np.abs( self.A - mf_out/X_hat ) )]\n",
    "                \n",
    "                # we have a symbol to return, set res - it will be returned at the end\n",
    "                res = dec\n",
    "\n",
    "                # update state\n",
    "                self._n_demod += 1\n",
    "                if self.N_sym == self._n_demod:\n",
    "                    # got all symbols, back to search\n",
    "                    self.state = SEARCH\n",
    "                    if self._DEBUG:\n",
    "                        print(\"demodulated {:d} symbols\".format(self._n_demod))\n",
    "                    self._n_demod = 0\n",
    "        else:\n",
    "            raise ValueError(\"Invalid State\")\n",
    "\n",
    "\n",
    "        return res\n",
    "\n",
    "    def mf(self, sample):\n",
    "        \"\"\"produce a nw matched filter output\"\"\"\n",
    "\n",
    "        # insert the new sample in the shift register for samples\n",
    "        self.sr_samples[:self.N_h-1] = self.sr_samples[1:] # lose the oldest sample\n",
    "        self.sr_samples[-1] = sample                       # insert new sample at end\n",
    "\n",
    "        # filter (inner product)\n",
    "        return np.sum(self.hh * self.sr_samples)\n",
    "\n",
    "    \n",
    "    def corr_preamble(self, mf_out, phase):\n",
    "        \"\"\"Compute correlation agains the preamble sequnece\"\"\"\n",
    "\n",
    "        # insert mf_out in the shift register for this sampling phase\n",
    "        self.sr_mf_out[phase, :self.N_p-1] = self.sr_mf_out[phase, 1:]\n",
    "        self.sr_mf_out[phase, -1] = mf_out\n",
    "\n",
    "        # compute correlation; we use the normalized correlation that produces values between 0 and 1\n",
    "        Num = np.abs( np.sum(self.sr_mf_out[phase, :] * self.pn) )**2\n",
    "        D1 = np.real( np.sum(self.sr_mf_out[phase, :] * np.conj(self.sr_mf_out[phase, :])) )\n",
    "        D2 = np.real( np.sum(self.pn * np.conj(self.pn)) )\n",
    "\n",
    "        return Num / (D1 * D2)\n",
    "\n",
    "    def found_corr_peak(self, corr, phase):\n",
    "        \"\"\"Examine the correlation and update state as needed\"\"\"\n",
    "        found_peak = False\n",
    "\n",
    "        if corr > self._threshold and not self._detected:\n",
    "            # this is the first time over the threshold, take note\n",
    "            self._detected = True\n",
    "            self._corr_max = corr\n",
    "            self.opt_phase = self.curr_phase\n",
    "        elif self._detected:\n",
    "            # we have been above the threshold recently\n",
    "            # is this sample bigger than what we had before?\n",
    "            if corr > self._corr_max:\n",
    "                self._corr_max = corr\n",
    "                self.opt_phase = phase\n",
    "            else:\n",
    "                # no improvement, let's assume we have seen the correlation peak\n",
    "                # the opt_phase is whatever was found - no update\n",
    "                found_peak = True\n",
    "\n",
    "        return found_peak\n"
   ]
  },
  {
   "cell_type": "markdown",
   "metadata": {},
   "source": [
    "The receiver object encapsulates all the processing. Hence, the actual processing of received samples is easy."
   ]
  },
  {
   "cell_type": "code",
   "execution_count": 71,
   "metadata": {},
   "outputs": [
    {
     "name": "stdout",
     "output_type": "stream",
     "text": [
      "Found preamble on phase 1, correlation 0.952\n",
      "Estimated frequency offset: 0.00331 (per T)\n",
      "Estimated amplitude: 0.499\n",
      "Estimated phase: 0.279 * pi\n",
      "demodulated 32 symbols\n",
      "Found 0 errors\n"
     ]
    }
   ],
   "source": [
    "## parameters for the receiver\n",
    "fsT_r = fsT // ds_factor\n",
    "hh_r = srrc_pulse(0.5, fsT_r)  # filter for reduced sampling rate\n",
    "\n",
    "# instantiate the Receiver object\n",
    "rx = Receiver(fsT_r, hh_r, pn, A)\n",
    "\n",
    "# tell the receiver, how many symbols to expect\n",
    "rx.N_sym = len(syms) # let the rx know how many symbols we need\n",
    "\n",
    "# set up storage for received symbols\n",
    "rx_syms = np.zeros_like(syms)\n",
    "m = 0\n",
    "\n",
    "# invoke the receiver one sample at a time\n",
    "for n in range(len(rr)):\n",
    "    sym = rx(rr[n])\n",
    "    if sym is not None:\n",
    "        # most of the time, the receiver returns `None`, except when we have a symbol\n",
    "        rx_syms[m] = sym\n",
    "        m += 1\n",
    "\n",
    "print(\"Found {:d} errors\".format(np.sum(np.not_equal(rx_syms, syms))))\n"
   ]
  }
 ],
 "metadata": {
  "kernelspec": {
   "display_name": "Python 3.9.14 64-bit",
   "language": "python",
   "name": "python3"
  },
  "language_info": {
   "codemirror_mode": {
    "name": "ipython",
    "version": 3
   },
   "file_extension": ".py",
   "mimetype": "text/x-python",
   "name": "python",
   "nbconvert_exporter": "python",
   "pygments_lexer": "ipython3",
   "version": "3.9.14"
  },
  "orig_nbformat": 4,
  "vscode": {
   "interpreter": {
    "hash": "5984c07bd85a09704efeebc43c280456997f3d9e1810f10980d19f89f173e200"
   }
  }
 },
 "nbformat": 4,
 "nbformat_minor": 2
}
